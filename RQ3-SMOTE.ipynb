{
 "cells": [
  {
   "cell_type": "markdown",
   "metadata": {
    "papermill": {
     "duration": 0.013601,
     "end_time": "2022-10-12T18:43:55.53102",
     "exception": false,
     "start_time": "2022-10-12T18:43:55.517419",
     "status": "completed"
    },
    "tags": []
   },
   "source": [
    "# Age Estimation using SMOTE"
   ]
  },
  {
   "cell_type": "code",
   "execution_count": 2,
   "metadata": {
    "id": "Ow9CX6i9bF7s",
    "papermill": {
     "duration": 6.262315,
     "end_time": "2022-10-12T18:44:01.805562",
     "exception": false,
     "start_time": "2022-10-12T18:43:55.543247",
     "status": "completed"
    },
    "tags": []
   },
   "outputs": [],
   "source": [
    "import numpy as np\n",
    "import matplotlib.pyplot as plt\n",
    "from glob import glob\n",
    "\n",
    "import math\n",
    "import torch\n",
    "import torch.nn as nn\n",
    "import torch.nn.functional as F\n",
    "import torchvision\n",
    "from torchvision import transforms, datasets\n",
    "from torch.utils.tensorboard import SummaryWriter\n",
    "from torch.utils.data import Dataset, DataLoader, random_split\n",
    "from collections import Counter\n",
    "\n",
    "import warnings\n",
    "warnings.filterwarnings(\"ignore\", category=FutureWarning)\n",
    "\n",
    "import pandas as pd\n",
    "import os\n",
    "import matplotlib.pyplot as plt\n",
    "%matplotlib inline\n",
    "\n",
    "from PIL import Image\n",
    "import shutil\n",
    "\n",
    "import copy\n",
    "\n",
    "from pathlib import Path\n",
    "from datetime import datetime\n",
    "\n",
    "from torch.utils.tensorboard import SummaryWriter\n",
    "from imblearn.over_sampling import SMOTE\n",
    "from sklearn.preprocessing import StandardScaler\n",
    "from torchvision import transforms\n",
    "import matplotlib.pyplot as plt"
   ]
  },
  {
   "cell_type": "markdown",
   "metadata": {
    "papermill": {
     "duration": 0.008384,
     "end_time": "2022-10-12T18:44:01.822491",
     "exception": false,
     "start_time": "2022-10-12T18:44:01.814107",
     "status": "completed"
    },
    "tags": []
   },
   "source": [
    "## Age estimation in age groups"
   ]
  },
  {
   "cell_type": "markdown",
   "metadata": {
    "papermill": {
     "duration": 0.007726,
     "end_time": "2022-10-12T18:44:01.838198",
     "exception": false,
     "start_time": "2022-10-12T18:44:01.830472",
     "status": "completed"
    },
    "tags": []
   },
   "source": [
    "### Set image size and variables "
   ]
  },
  {
   "cell_type": "code",
   "execution_count": 3,
   "metadata": {
    "id": "Cq39lS9tcKIC",
    "papermill": {
     "duration": 0.015277,
     "end_time": "2022-10-12T18:44:01.862109",
     "exception": false,
     "start_time": "2022-10-12T18:44:01.846832",
     "status": "completed"
    },
    "tags": []
   },
   "outputs": [],
   "source": [
    "IMAGE_SIZE = [200,200] \n",
    "BASE_DIR = './UTKFace/'\n",
    "NR_EPOCHS = 80\n",
    "BATCH_SIZE = 30\n",
    "NUM_CLASSES = 116 "
   ]
  },
  {
   "cell_type": "markdown",
   "metadata": {},
   "source": [
    "### Split Dataset into validation and test set  "
   ]
  },
  {
   "cell_type": "code",
   "execution_count": 4,
   "metadata": {
    "papermill": {
     "duration": 0.0293,
     "end_time": "2022-10-12T18:44:02.624072",
     "exception": false,
     "start_time": "2022-10-12T18:44:02.594772",
     "status": "completed"
    },
    "tags": []
   },
   "outputs": [],
   "source": [
    "class UTKFaceDataset( ):\n",
    "    def __init__(self, root_dir, transform=None):\n",
    "        self.root_dir = root_dir\n",
    "        self.transform = transform\n",
    "        self.images = [file for file in os.listdir(root_dir) if file.endswith('.jpg') or file.endswith('.png')]\n",
    "\n",
    "    def __len__(self):\n",
    "        return len(self.images)\n",
    "\n",
    "    def __getitem__(self, idx):\n",
    "        img_name = os.path.join(self.root_dir, self.images[idx])\n",
    "        image = Image.open(img_name)\n",
    "        \n",
    "        age = int(self.images[idx].split('_')[0])\n",
    "        \n",
    "        if self.transform:\n",
    "            image = self.transform(image)\n",
    "        \n",
    "        return image, age\n",
    "\n",
    "# transform\n",
    "transform = transforms.Compose([\n",
    "    transforms.Resize(IMAGE_SIZE),\n",
    "    transforms.ToTensor(),\n",
    "    transforms.Normalize(mean=[0.485, 0.456, 0.406], std=[0.229, 0.224, 0.225])\n",
    "])\n",
    "\n",
    "# laod dataset\n",
    "full_dataset = UTKFaceDataset(root_dir=BASE_DIR, transform=transform)\n",
    "\n",
    "# split dataset accordingly \n",
    "total_size = len(full_dataset)\n",
    "train_size = int(0.7 * total_size)\n",
    "val_size = int(0.15 * total_size)\n",
    "test_size = total_size - train_size - val_size\n",
    "\n",
    "# fixed seed for same split across models\n",
    "generator = torch.Generator().manual_seed(116)\n",
    "\n",
    "train_dataset, val_dataset, test_dataset = random_split(\n",
    "    full_dataset, [train_size, val_size, test_size], generator=generator\n",
    ")"
   ]
  },
  {
   "cell_type": "code",
   "execution_count": 5,
   "metadata": {
    "papermill": {
     "duration": 44.536659,
     "end_time": "2022-10-12T18:44:47.169938",
     "exception": false,
     "start_time": "2022-10-12T18:44:02.633279",
     "status": "completed"
    },
    "tags": []
   },
   "outputs": [
    {
     "name": "stdout",
     "output_type": "stream",
     "text": [
      "Total dataset size: 23708\n",
      "Train set size: 16595\n",
      "Validation set size: 3556\n",
      "Test set size: 3557\n"
     ]
    }
   ],
   "source": [
    "# create DataLoaders\n",
    "train_loader = DataLoader(train_dataset, batch_size=BATCH_SIZE, shuffle=True)\n",
    "val_loader = DataLoader(val_dataset, batch_size=BATCH_SIZE, shuffle=False)\n",
    "test_loader = DataLoader(test_dataset, batch_size=BATCH_SIZE, shuffle=False)\n",
    "\n",
    "# print size information\n",
    "print(f\"Total dataset size: {total_size}\")\n",
    "print(f\"Train set size: {len(train_dataset)}\")\n",
    "print(f\"Validation set size: {len(val_dataset)}\")\n",
    "print(f\"Test set size: {len(test_dataset)}\")"
   ]
  },
  {
   "cell_type": "markdown",
   "metadata": {},
   "source": [
    "### Set cuda if aviable"
   ]
  },
  {
   "cell_type": "code",
   "execution_count": 6,
   "metadata": {},
   "outputs": [
    {
     "name": "stdout",
     "output_type": "stream",
     "text": [
      "Using device: cuda\n"
     ]
    }
   ],
   "source": [
    "# check CUDA availability and set device\n",
    "device = torch.device('cuda' if torch.cuda.is_available() else 'cpu')\n",
    "print(f\"Using device: {device}\")"
   ]
  },
  {
   "cell_type": "markdown",
   "metadata": {},
   "source": [
    "## Base Model"
   ]
  },
  {
   "cell_type": "markdown",
   "metadata": {},
   "source": [
    "### Create Model"
   ]
  },
  {
   "cell_type": "code",
   "execution_count": 7,
   "metadata": {},
   "outputs": [],
   "source": [
    "class CNNNet(nn.Module):\n",
    "    def __init__(self, NUM_CLASSES=117):\n",
    "        super(CNNNet, self).__init__()\n",
    "        self.features = nn.Sequential(\n",
    "            nn.Conv2d(3, 96, kernel_size=7, padding=2),\n",
    "            nn.ReLU(),\n",
    "            nn.MaxPool2d(kernel_size=2, stride=2),\n",
    "            nn.BatchNorm2d(96),\n",
    "\n",
    "            nn.Conv2d(96, 256, kernel_size=5, padding=2),\n",
    "            nn.ReLU(),\n",
    "            nn.MaxPool2d(kernel_size=2, stride=2),\n",
    "            nn.BatchNorm2d(256),\n",
    "\n",
    "            nn.Conv2d(256, 384, kernel_size=3, padding=1),\n",
    "            nn.ReLU(),\n",
    "            nn.MaxPool2d(kernel_size=2, stride=2),\n",
    "            nn.BatchNorm2d(384),\n",
    "        )\n",
    "        self.avgpool = nn.AdaptiveAvgPool2d((1,1))\n",
    "        self.classifier = nn.Sequential(\n",
    "            nn.Linear(384, 512),\n",
    "            nn.ReLU(),\n",
    "            nn.Dropout(0.25),\n",
    "            nn.Linear(512, 512),\n",
    "            nn.ReLU(),\n",
    "            nn.Dropout(0.25),\n",
    "            nn.Linear(512, NUM_CLASSES)\n",
    "        )\n",
    "    def forward(self, x):\n",
    "        x = self.features(x)\n",
    "        x = self.avgpool(x)\n",
    "        x = torch.flatten(x, 1)\n",
    "        x = self.classifier(x)\n",
    "        return x"
   ]
  },
  {
   "cell_type": "markdown",
   "metadata": {},
   "source": [
    "### SMOTE "
   ]
  },
  {
   "cell_type": "code",
   "execution_count": 8,
   "metadata": {},
   "outputs": [
    {
     "name": "stdout",
     "output_type": "stream",
     "text": [
      "\n",
      "Valid classes (> 5 samples): [26, 63, 4, 30, 15, 29, 31, 24, 54, 14, 25, 28, 10, 32, 27, 3, 22, 36, 38, 7, 58, 70, 75, 62, 1, 85, 2, 74, 64, 33, 41, 37, 66, 21, 56, 5, 73, 23, 6, 20, 61, 39, 44, 40, 60, 48, 45, 51, 18, 42, 35, 72, 16, 82, 50, 8, 17, 69, 47, 80, 9, 89, 65, 71, 43, 34, 52, 53, 68, 67, 55, 13, 49, 90, 12, 11, 57, 59, 46, 86, 88, 78, 87, 19, 84, 77, 76, 83, 100, 79, 92, 81, 96]\n",
      "\n",
      "Invalid classes (<= 5 samples): [115, 105, 99, 95, 116, 93, 101, 110, 91, 103, 111]\n",
      "\n",
      "Original class distribution: Counter({26: 1519, 1: 800, 28: 644, 35: 626, 24: 586, 25: 511, 30: 506, 32: 460, 27: 426, 29: 398, 40: 366, 36: 335, 2: 324, 45: 307, 23: 298, 34: 284, 22: 269, 50: 266, 54: 247, 31: 246, 21: 244, 38: 228, 3: 220, 60: 216, 4: 207, 37: 203, 20: 198, 39: 192, 8: 189, 42: 188, 58: 187, 18: 184, 16: 182, 55: 178, 65: 176, 53: 167, 56: 163, 52: 150, 5: 141, 9: 124, 75: 123, 15: 117, 49: 117, 43: 116, 47: 114, 14: 112, 17: 111, 61: 110, 48: 109, 85: 105, 33: 103, 10: 102, 7: 102, 70: 102, 46: 102, 51: 98, 6: 93, 80: 93, 62: 91, 12: 89, 41: 86, 72: 73, 68: 69, 67: 69, 63: 68, 44: 68, 19: 65, 57: 61, 59: 61, 90: 59, 13: 58, 66: 54, 78: 52, 76: 45, 73: 41, 11: 40, 69: 39, 64: 29, 74: 27, 82: 26, 86: 26, 88: 26, 89: 23, 71: 22, 77: 20, 84: 18, 79: 16, 83: 12, 81: 11, 96: 10, 87: 8, 92: 8, 100: 7, 95: 5, 110: 5, 105: 4, 99: 4, 116: 4, 93: 4, 115: 2, 101: 2, 91: 2, 103: 1, 111: 1})\n",
      "\n",
      "New class distribution: Counter({26: 1519, 63: 1519, 4: 1519, 30: 1519, 15: 1519, 29: 1519, 31: 1519, 24: 1519, 54: 1519, 14: 1519, 25: 1519, 28: 1519, 10: 1519, 32: 1519, 27: 1519, 3: 1519, 22: 1519, 36: 1519, 38: 1519, 7: 1519, 58: 1519, 70: 1519, 75: 1519, 62: 1519, 1: 1519, 85: 1519, 2: 1519, 74: 1519, 64: 1519, 33: 1519, 41: 1519, 37: 1519, 66: 1519, 21: 1519, 56: 1519, 5: 1519, 73: 1519, 23: 1519, 6: 1519, 20: 1519, 61: 1519, 39: 1519, 44: 1519, 40: 1519, 60: 1519, 48: 1519, 45: 1519, 51: 1519, 18: 1519, 42: 1519, 35: 1519, 72: 1519, 16: 1519, 82: 1519, 50: 1519, 8: 1519, 17: 1519, 69: 1519, 47: 1519, 80: 1519, 9: 1519, 89: 1519, 65: 1519, 71: 1519, 43: 1519, 34: 1519, 52: 1519, 53: 1519, 68: 1519, 67: 1519, 55: 1519, 13: 1519, 49: 1519, 90: 1519, 12: 1519, 11: 1519, 57: 1519, 59: 1519, 46: 1519, 86: 1519, 88: 1519, 78: 1519, 87: 1519, 19: 1519, 84: 1519, 77: 1519, 76: 1519, 83: 1519, 100: 1519, 79: 1519, 92: 1519, 81: 1519, 96: 1519, 95: 5, 110: 5, 105: 4, 99: 4, 116: 4, 93: 4, 115: 2, 101: 2, 91: 2, 103: 1, 111: 1})\n"
     ]
    }
   ],
   "source": [
    "# load model for feature extraction\n",
    "model = CNNNet(NUM_CLASSES).to(device)\n",
    "model.load_state_dict(torch.load('./Project/classes/normal/normal_model'))\n",
    "\n",
    "# remove classifier for feature extraction\n",
    "model.classifier = torch.nn.Identity() \n",
    "model.eval() \n",
    "\n",
    "def extract_features(dataloader): \n",
    "    features = []\n",
    "    labels = []\n",
    "    for images, batch_labels in dataloader:\n",
    "        with torch.no_grad():\n",
    "            images = images.to(device)\n",
    "            model_features = model(images)\n",
    "            # move to cpu for numpy conversion\n",
    "            features.append(model_features.to('cpu'))\n",
    "            labels.append(batch_labels)\n",
    "    features = torch.cat(features).numpy()\n",
    "    labels = torch.cat(labels).numpy()\n",
    "\n",
    "    return features, labels\n",
    "\n",
    "features_train, labels_train = extract_features(train_loader)\n",
    "features_val, labels_val = extract_features(val_loader)\n",
    "features_test, labels_test = extract_features(test_loader)\n",
    "\n",
    "class_counts = Counter(labels_train)\n",
    "\n",
    "valid_classes = [classes for classes, count in class_counts.items() if count > 5]\n",
    "invalid_classes = [classes for classes, count in class_counts.items() if count <= 5]\n",
    "print(\"\\nValid classes (> 5 samples):\", valid_classes)\n",
    "print(\"\\nInvalid classes (<= 5 samples):\", invalid_classes)\n",
    "invalid_indices = np.isin(labels_train, invalid_classes)\n",
    "valid_indices = np.isin(labels_train, valid_classes)\n",
    "\n",
    "filtered_features = features_train[valid_indices]\n",
    "filtered_labels = labels_train[valid_indices]\n",
    "\n",
    "invalid_features = features_train[invalid_indices]\n",
    "invalid_labels = labels_train[invalid_indices]\n",
    "\n",
    "# use SMOTE only on valid classes\n",
    "smote = SMOTE(random_state=42)\n",
    "features_resampled, labels_resampled = smote.fit_resample(filtered_features, filtered_labels)\n",
    "\n",
    "\n",
    "class FeatureDataset(Dataset):\n",
    "    def __init__(self, features, labels):\n",
    "        self.features = torch.FloatTensor(features)\n",
    "        self.labels = torch.LongTensor(labels)\n",
    "        \n",
    "    def __len__(self):\n",
    "        return len(self.labels)\n",
    "    \n",
    "    def __getitem__(self, idx):\n",
    "        return self.features[idx], self.labels[idx]\n",
    "\n",
    "\n",
    "final_features = np.concatenate([features_resampled, invalid_features], axis=0)\n",
    "final_labels = np.concatenate([labels_resampled, invalid_labels], axis=0)\n",
    "\n",
    "print('\\nOriginal class distribution:', class_counts)\n",
    "print()\n",
    "print('New class distribution:', Counter(final_labels))\n",
    "\n",
    "train_dataset_balanced = FeatureDataset(final_features, final_labels)\n",
    "train_loader_balanced = DataLoader(train_dataset_balanced, batch_size=BATCH_SIZE, shuffle=True)\n",
    "\n",
    "val_dataset = FeatureDataset(features_val, labels_val)\n",
    "val_loader = DataLoader(val_dataset, batch_size=BATCH_SIZE, shuffle=False)\n",
    "\n",
    "test_dataset = FeatureDataset(features_test, labels_test)\n",
    "test_loader = DataLoader(test_dataset, batch_size=BATCH_SIZE, shuffle=False)\n",
    "\n",
    "model.classifier = nn.Sequential(\n",
    "    nn.Linear(384, 512),\n",
    "    nn.ReLU(),\n",
    "    nn.Dropout(0.25),\n",
    "    nn.Linear(512, 512),\n",
    "    nn.ReLU(),\n",
    "    nn.Dropout(0.25),\n",
    "    nn.Linear(512, NUM_CLASSES)\n",
    ").to(device)\n"
   ]
  },
  {
   "cell_type": "code",
   "execution_count": 9,
   "metadata": {},
   "outputs": [],
   "source": [
    "# since features are extractet use classifier only for training\n",
    "class ClassifierNet(nn.Module):\n",
    "    def __init__(self, num_classes):\n",
    "        super(ClassifierNet, self).__init__()\n",
    "        self.classifier = nn.Sequential(\n",
    "            nn.Linear(384, 512),\n",
    "            nn.ReLU(),\n",
    "            nn.Dropout(0.25),\n",
    "            nn.Linear(512, 512),\n",
    "            nn.ReLU(),\n",
    "            nn.Dropout(0.25),\n",
    "            nn.Linear(512, num_classes)\n",
    "        )\n",
    "    \n",
    "    def forward(self, x):\n",
    "        return self.classifier(x)\n",
    "\n",
    "model = ClassifierNet(NUM_CLASSES).to(device)"
   ]
  },
  {
   "cell_type": "code",
   "execution_count": 10,
   "metadata": {},
   "outputs": [],
   "source": [
    "writer = SummaryWriter('./Project/class_imbalance/runs/smote', comment='Smote_Class_Model')"
   ]
  },
  {
   "cell_type": "code",
   "execution_count": 11,
   "metadata": {},
   "outputs": [],
   "source": [
    "optimizer = torch.optim.SGD(model.parameters(), lr=0.0001)\n",
    "loss_fn = torch.nn.CrossEntropyLoss()\n",
    "loss_fn = loss_fn.to(device)\n",
    "\n",
    "# define age_classes tensor\n",
    "age_classes = torch.tensor([i for i in range(0, NUM_CLASSES)]).to(device)"
   ]
  },
  {
   "cell_type": "markdown",
   "metadata": {},
   "source": [
    "### Train model"
   ]
  },
  {
   "cell_type": "code",
   "execution_count": 12,
   "metadata": {},
   "outputs": [],
   "source": [
    "def train(model, optimizer, loss_fn, train_loader, val_loader, epochs, summary_writer, device, save_path):\n",
    "    \n",
    "    # create history for graphs\n",
    "    history = {\n",
    "        'loss': [],\n",
    "        'val_loss': [],\n",
    "        'accuracy': [],\n",
    "        'val_accuracy': [],\n",
    "        'mae': [],\n",
    "        'val_mae': []\n",
    "    }\n",
    "    # create cuda events for timetracking\n",
    "    start = torch.cuda.Event(enable_timing=True)\n",
    "    end = torch.cuda.Event(enable_timing=True)\n",
    "    \n",
    "    # init variables for saving\n",
    "    best_val_mae = float('Inf') \n",
    "    best_model_wts = copy.deepcopy(model.state_dict()) \n",
    "    \n",
    "    start.record()\n",
    "    for epoch in range(epochs):\n",
    "        training_loss = 0.0\n",
    "        valid_loss = 0.0\n",
    "        num_train = 0\n",
    "        num_train_correct = 0\n",
    "        total_train_mae = 0.0\n",
    "        total_val_mae = 0.0\n",
    "        \n",
    "        model.train()\n",
    "        for batch in train_loader:\n",
    "            optimizer.zero_grad()\n",
    "            inputs, targets = batch\n",
    "            # shift labels from 1-116 to 0-115 for loss\n",
    "            targets_model = targets - 1\n",
    "            inputs, targets_model = inputs.to(device), targets_model.to(device)\n",
    "            targets = targets.to(device)\n",
    "            outputs = model(inputs)\n",
    "            \n",
    "            loss = loss_fn(outputs, targets_model)\n",
    "            loss.backward()\n",
    "            optimizer.step()\n",
    "            training_loss += loss.item()\n",
    "            _, predicted = outputs.max(1)\n",
    "            predicted = predicted + 1\n",
    "            num_train += targets.size(0)\n",
    "            num_train_correct += predicted.eq(targets).sum().item()\n",
    "\n",
    "            probabilities = F.softmax(outputs, dim=1)\n",
    "            expected_age = torch.sum(probabilities * age_classes, dim=1) + 1\n",
    "            total_train_mae += torch.abs(expected_age - targets.float()).sum().item()\n",
    "                  \n",
    "        training_loss /= len(train_loader)\n",
    "        train_accuracy = num_train_correct / num_train\n",
    "        train_mae = total_train_mae / num_train\n",
    "\n",
    "        if epoch+1 == NR_EPOCHS:\n",
    "            end.record()\n",
    "            torch.cuda.synchronize()\n",
    "        \n",
    "        model.eval()\n",
    "        num_val = 0\n",
    "        num_val_correct = 0\n",
    "        with torch.no_grad():\n",
    "            for batch in val_loader:\n",
    "                inputs, targets = batch\n",
    "                # shift labels from 1-116 to 0-115 for loss\n",
    "                targets_model = targets - 1\n",
    "                inputs, targets_model = inputs.to(device), targets_model.to(device)\n",
    "                targets = targets.to(device)\n",
    "                outputs = model(inputs)\n",
    "                \n",
    "                loss = loss_fn(outputs, targets_model)\n",
    "                valid_loss += loss.item()\n",
    "                _, predicted = outputs.max(1)\n",
    "                predicted = predicted + 1\n",
    "                num_val += targets.size(0)\n",
    "                num_val_correct += predicted.eq(targets).sum().item() \n",
    "\n",
    "                probabilities = F.softmax(outputs, dim=1)\n",
    "                expected_age = torch.sum(probabilities * age_classes, dim=1) + 1\n",
    "                total_val_mae += torch.abs(expected_age - targets.float()).sum().item()\n",
    "        \n",
    "        valid_loss /= len(val_loader)\n",
    "        val_accuracy = num_val_correct / num_val\n",
    "        val_mae = total_val_mae / num_val\n",
    "\n",
    "        summary_writer.add_scalar('Train Loss', training_loss, epoch+1)\n",
    "        summary_writer.add_scalar('Val Loss', valid_loss, epoch+1)\n",
    "        summary_writer.add_scalar('Accuracy', train_accuracy, epoch+1)\n",
    "        summary_writer.add_scalar('Validation Accuracy', val_accuracy, epoch+1)\n",
    "        summary_writer.add_scalar('Train MAE', train_mae, epoch+1)\n",
    "        summary_writer.add_scalar('Val MAE', val_mae, epoch+1)\n",
    "    \n",
    "        history['loss'].append(training_loss)\n",
    "        history['val_loss'].append(valid_loss)\n",
    "        history['accuracy'].append(train_accuracy)\n",
    "        history['val_accuracy'].append(val_accuracy)\n",
    "        history['mae'].append(train_mae)\n",
    "        history['val_mae'].append(val_mae)\n",
    "\n",
    "        print(f'Epoch [{epoch+1}/{NR_EPOCHS}], Training Loss: {training_loss:.2f}, Validation Loss: {valid_loss:.2f}, '\n",
    "              f'Training Accuracy: {train_accuracy:.2f}, Validation Accuracy: {val_accuracy:.2f}, Training MAE: {train_mae:.2f}, Validation MAE: {val_mae:.2f}')\n",
    "        \n",
    "        if val_mae < best_val_mae:\n",
    "            best_val_mae = val_mae\n",
    "            best_model_wts = copy.deepcopy(model.state_dict())\n",
    "            torch.save(best_model_wts, save_path)\n",
    "            print(f\"Best model saved at epoch {epoch+1} with validation MAE: {best_val_mae:.2f}\")\n",
    "\n",
    "    print(f'Training time:  {round(start.elapsed_time(end), 1) / 60000} minutes')    \n",
    "    return history"
   ]
  },
  {
   "cell_type": "code",
   "execution_count": 13,
   "metadata": {},
   "outputs": [
    {
     "name": "stdout",
     "output_type": "stream",
     "text": [
      "Epoch [1/80], Training Loss: 4.75, Validation Loss: 4.75, Training Accuracy: 0.01, Validation Accuracy: 0.01, Training MAE: 24.80, Validation MAE: 27.99\n",
      "Best model saved at epoch 1 with validation MAE: 27.99\n",
      "Epoch [2/80], Training Loss: 4.75, Validation Loss: 4.75, Training Accuracy: 0.01, Validation Accuracy: 0.01, Training MAE: 24.76, Validation MAE: 27.89\n",
      "Best model saved at epoch 2 with validation MAE: 27.89\n",
      "Epoch [3/80], Training Loss: 4.74, Validation Loss: 4.74, Training Accuracy: 0.01, Validation Accuracy: 0.01, Training MAE: 24.72, Validation MAE: 27.79\n",
      "Best model saved at epoch 3 with validation MAE: 27.79\n",
      "Epoch [4/80], Training Loss: 4.74, Validation Loss: 4.74, Training Accuracy: 0.02, Validation Accuracy: 0.01, Training MAE: 24.67, Validation MAE: 27.69\n",
      "Best model saved at epoch 4 with validation MAE: 27.69\n",
      "Epoch [5/80], Training Loss: 4.73, Validation Loss: 4.73, Training Accuracy: 0.02, Validation Accuracy: 0.01, Training MAE: 24.63, Validation MAE: 27.58\n",
      "Best model saved at epoch 5 with validation MAE: 27.58\n",
      "Epoch [6/80], Training Loss: 4.72, Validation Loss: 4.73, Training Accuracy: 0.02, Validation Accuracy: 0.01, Training MAE: 24.58, Validation MAE: 27.48\n",
      "Best model saved at epoch 6 with validation MAE: 27.48\n",
      "Epoch [7/80], Training Loss: 4.72, Validation Loss: 4.72, Training Accuracy: 0.02, Validation Accuracy: 0.01, Training MAE: 24.54, Validation MAE: 27.38\n",
      "Best model saved at epoch 7 with validation MAE: 27.38\n",
      "Epoch [8/80], Training Loss: 4.71, Validation Loss: 4.72, Training Accuracy: 0.03, Validation Accuracy: 0.02, Training MAE: 24.49, Validation MAE: 27.27\n",
      "Best model saved at epoch 8 with validation MAE: 27.27\n",
      "Epoch [9/80], Training Loss: 4.70, Validation Loss: 4.71, Training Accuracy: 0.03, Validation Accuracy: 0.02, Training MAE: 24.44, Validation MAE: 27.16\n",
      "Best model saved at epoch 9 with validation MAE: 27.16\n",
      "Epoch [10/80], Training Loss: 4.69, Validation Loss: 4.71, Training Accuracy: 0.03, Validation Accuracy: 0.02, Training MAE: 24.38, Validation MAE: 27.05\n",
      "Best model saved at epoch 10 with validation MAE: 27.05\n",
      "Epoch [11/80], Training Loss: 4.69, Validation Loss: 4.70, Training Accuracy: 0.03, Validation Accuracy: 0.03, Training MAE: 24.32, Validation MAE: 26.94\n",
      "Best model saved at epoch 11 with validation MAE: 26.94\n",
      "Epoch [12/80], Training Loss: 4.68, Validation Loss: 4.70, Training Accuracy: 0.03, Validation Accuracy: 0.03, Training MAE: 24.25, Validation MAE: 26.82\n",
      "Best model saved at epoch 12 with validation MAE: 26.82\n",
      "Epoch [13/80], Training Loss: 4.66, Validation Loss: 4.69, Training Accuracy: 0.03, Validation Accuracy: 0.04, Training MAE: 24.17, Validation MAE: 26.70\n",
      "Best model saved at epoch 13 with validation MAE: 26.70\n",
      "Epoch [14/80], Training Loss: 4.65, Validation Loss: 4.68, Training Accuracy: 0.03, Validation Accuracy: 0.04, Training MAE: 24.08, Validation MAE: 26.57\n",
      "Best model saved at epoch 14 with validation MAE: 26.57\n",
      "Epoch [15/80], Training Loss: 4.64, Validation Loss: 4.68, Training Accuracy: 0.03, Validation Accuracy: 0.04, Training MAE: 23.96, Validation MAE: 26.44\n",
      "Best model saved at epoch 15 with validation MAE: 26.44\n",
      "Epoch [16/80], Training Loss: 4.62, Validation Loss: 4.67, Training Accuracy: 0.03, Validation Accuracy: 0.04, Training MAE: 23.82, Validation MAE: 26.30\n",
      "Best model saved at epoch 16 with validation MAE: 26.30\n",
      "Epoch [17/80], Training Loss: 4.60, Validation Loss: 4.66, Training Accuracy: 0.03, Validation Accuracy: 0.04, Training MAE: 23.64, Validation MAE: 26.15\n",
      "Best model saved at epoch 17 with validation MAE: 26.15\n",
      "Epoch [18/80], Training Loss: 4.58, Validation Loss: 4.65, Training Accuracy: 0.03, Validation Accuracy: 0.05, Training MAE: 23.43, Validation MAE: 25.99\n",
      "Best model saved at epoch 18 with validation MAE: 25.99\n",
      "Epoch [19/80], Training Loss: 4.56, Validation Loss: 4.65, Training Accuracy: 0.03, Validation Accuracy: 0.05, Training MAE: 23.18, Validation MAE: 25.83\n",
      "Best model saved at epoch 19 with validation MAE: 25.83\n",
      "Epoch [20/80], Training Loss: 4.54, Validation Loss: 4.64, Training Accuracy: 0.03, Validation Accuracy: 0.05, Training MAE: 22.89, Validation MAE: 25.64\n",
      "Best model saved at epoch 20 with validation MAE: 25.64\n",
      "Epoch [21/80], Training Loss: 4.52, Validation Loss: 4.63, Training Accuracy: 0.03, Validation Accuracy: 0.05, Training MAE: 22.58, Validation MAE: 25.44\n",
      "Best model saved at epoch 21 with validation MAE: 25.44\n",
      "Epoch [22/80], Training Loss: 4.50, Validation Loss: 4.62, Training Accuracy: 0.03, Validation Accuracy: 0.05, Training MAE: 22.27, Validation MAE: 25.22\n",
      "Best model saved at epoch 22 with validation MAE: 25.22\n",
      "Epoch [23/80], Training Loss: 4.48, Validation Loss: 4.60, Training Accuracy: 0.03, Validation Accuracy: 0.05, Training MAE: 21.97, Validation MAE: 24.98\n",
      "Best model saved at epoch 23 with validation MAE: 24.98\n",
      "Epoch [24/80], Training Loss: 4.46, Validation Loss: 4.59, Training Accuracy: 0.03, Validation Accuracy: 0.05, Training MAE: 21.67, Validation MAE: 24.70\n",
      "Best model saved at epoch 24 with validation MAE: 24.70\n",
      "Epoch [25/80], Training Loss: 4.44, Validation Loss: 4.58, Training Accuracy: 0.04, Validation Accuracy: 0.05, Training MAE: 21.38, Validation MAE: 24.39\n",
      "Best model saved at epoch 25 with validation MAE: 24.39\n",
      "Epoch [26/80], Training Loss: 4.42, Validation Loss: 4.56, Training Accuracy: 0.04, Validation Accuracy: 0.05, Training MAE: 21.09, Validation MAE: 24.04\n",
      "Best model saved at epoch 26 with validation MAE: 24.04\n",
      "Epoch [27/80], Training Loss: 4.40, Validation Loss: 4.54, Training Accuracy: 0.04, Validation Accuracy: 0.05, Training MAE: 20.80, Validation MAE: 23.64\n",
      "Best model saved at epoch 27 with validation MAE: 23.64\n",
      "Epoch [28/80], Training Loss: 4.38, Validation Loss: 4.52, Training Accuracy: 0.04, Validation Accuracy: 0.05, Training MAE: 20.49, Validation MAE: 23.20\n",
      "Best model saved at epoch 28 with validation MAE: 23.20\n",
      "Epoch [29/80], Training Loss: 4.36, Validation Loss: 4.49, Training Accuracy: 0.04, Validation Accuracy: 0.05, Training MAE: 20.16, Validation MAE: 22.70\n",
      "Best model saved at epoch 29 with validation MAE: 22.70\n",
      "Epoch [30/80], Training Loss: 4.34, Validation Loss: 4.47, Training Accuracy: 0.04, Validation Accuracy: 0.05, Training MAE: 19.83, Validation MAE: 22.15\n",
      "Best model saved at epoch 30 with validation MAE: 22.15\n",
      "Epoch [31/80], Training Loss: 4.32, Validation Loss: 4.44, Training Accuracy: 0.04, Validation Accuracy: 0.05, Training MAE: 19.46, Validation MAE: 21.55\n",
      "Best model saved at epoch 31 with validation MAE: 21.55\n",
      "Epoch [32/80], Training Loss: 4.30, Validation Loss: 4.41, Training Accuracy: 0.04, Validation Accuracy: 0.05, Training MAE: 19.07, Validation MAE: 20.91\n",
      "Best model saved at epoch 32 with validation MAE: 20.91\n",
      "Epoch [33/80], Training Loss: 4.28, Validation Loss: 4.38, Training Accuracy: 0.04, Validation Accuracy: 0.05, Training MAE: 18.66, Validation MAE: 20.22\n",
      "Best model saved at epoch 33 with validation MAE: 20.22\n",
      "Epoch [34/80], Training Loss: 4.26, Validation Loss: 4.35, Training Accuracy: 0.04, Validation Accuracy: 0.05, Training MAE: 18.24, Validation MAE: 19.50\n",
      "Best model saved at epoch 34 with validation MAE: 19.50\n",
      "Epoch [35/80], Training Loss: 4.24, Validation Loss: 4.32, Training Accuracy: 0.04, Validation Accuracy: 0.06, Training MAE: 17.80, Validation MAE: 18.76\n",
      "Best model saved at epoch 35 with validation MAE: 18.76\n",
      "Epoch [36/80], Training Loss: 4.21, Validation Loss: 4.29, Training Accuracy: 0.05, Validation Accuracy: 0.06, Training MAE: 17.37, Validation MAE: 18.03\n",
      "Best model saved at epoch 36 with validation MAE: 18.03\n",
      "Epoch [37/80], Training Loss: 4.19, Validation Loss: 4.26, Training Accuracy: 0.05, Validation Accuracy: 0.06, Training MAE: 16.93, Validation MAE: 17.33\n",
      "Best model saved at epoch 37 with validation MAE: 17.33\n",
      "Epoch [38/80], Training Loss: 4.17, Validation Loss: 4.24, Training Accuracy: 0.05, Validation Accuracy: 0.06, Training MAE: 16.52, Validation MAE: 16.65\n",
      "Best model saved at epoch 38 with validation MAE: 16.65\n",
      "Epoch [39/80], Training Loss: 4.15, Validation Loss: 4.21, Training Accuracy: 0.05, Validation Accuracy: 0.06, Training MAE: 16.13, Validation MAE: 16.02\n",
      "Best model saved at epoch 39 with validation MAE: 16.02\n",
      "Epoch [40/80], Training Loss: 4.13, Validation Loss: 4.18, Training Accuracy: 0.05, Validation Accuracy: 0.06, Training MAE: 15.75, Validation MAE: 15.45\n",
      "Best model saved at epoch 40 with validation MAE: 15.45\n",
      "Epoch [41/80], Training Loss: 4.11, Validation Loss: 4.16, Training Accuracy: 0.05, Validation Accuracy: 0.07, Training MAE: 15.40, Validation MAE: 14.93\n",
      "Best model saved at epoch 41 with validation MAE: 14.93\n",
      "Epoch [42/80], Training Loss: 4.09, Validation Loss: 4.14, Training Accuracy: 0.05, Validation Accuracy: 0.07, Training MAE: 15.08, Validation MAE: 14.45\n",
      "Best model saved at epoch 42 with validation MAE: 14.45\n",
      "Epoch [43/80], Training Loss: 4.07, Validation Loss: 4.11, Training Accuracy: 0.05, Validation Accuracy: 0.07, Training MAE: 14.78, Validation MAE: 14.03\n",
      "Best model saved at epoch 43 with validation MAE: 14.03\n",
      "Epoch [44/80], Training Loss: 4.05, Validation Loss: 4.09, Training Accuracy: 0.06, Validation Accuracy: 0.07, Training MAE: 14.51, Validation MAE: 13.65\n",
      "Best model saved at epoch 44 with validation MAE: 13.65\n",
      "Epoch [45/80], Training Loss: 4.04, Validation Loss: 4.07, Training Accuracy: 0.06, Validation Accuracy: 0.07, Training MAE: 14.25, Validation MAE: 13.32\n",
      "Best model saved at epoch 45 with validation MAE: 13.32\n",
      "Epoch [46/80], Training Loss: 4.02, Validation Loss: 4.05, Training Accuracy: 0.06, Validation Accuracy: 0.07, Training MAE: 14.01, Validation MAE: 13.02\n",
      "Best model saved at epoch 46 with validation MAE: 13.02\n",
      "Epoch [47/80], Training Loss: 4.00, Validation Loss: 4.04, Training Accuracy: 0.06, Validation Accuracy: 0.07, Training MAE: 13.81, Validation MAE: 12.76\n",
      "Best model saved at epoch 47 with validation MAE: 12.76\n",
      "Epoch [48/80], Training Loss: 3.99, Validation Loss: 4.02, Training Accuracy: 0.06, Validation Accuracy: 0.07, Training MAE: 13.61, Validation MAE: 12.53\n",
      "Best model saved at epoch 48 with validation MAE: 12.53\n",
      "Epoch [49/80], Training Loss: 3.97, Validation Loss: 4.00, Training Accuracy: 0.06, Validation Accuracy: 0.07, Training MAE: 13.43, Validation MAE: 12.32\n",
      "Best model saved at epoch 49 with validation MAE: 12.32\n",
      "Epoch [50/80], Training Loss: 3.96, Validation Loss: 3.99, Training Accuracy: 0.06, Validation Accuracy: 0.07, Training MAE: 13.26, Validation MAE: 12.14\n",
      "Best model saved at epoch 50 with validation MAE: 12.14\n",
      "Epoch [51/80], Training Loss: 3.95, Validation Loss: 3.98, Training Accuracy: 0.06, Validation Accuracy: 0.07, Training MAE: 13.11, Validation MAE: 11.98\n",
      "Best model saved at epoch 51 with validation MAE: 11.98\n",
      "Epoch [52/80], Training Loss: 3.94, Validation Loss: 3.96, Training Accuracy: 0.06, Validation Accuracy: 0.07, Training MAE: 12.97, Validation MAE: 11.84\n",
      "Best model saved at epoch 52 with validation MAE: 11.84\n",
      "Epoch [53/80], Training Loss: 3.92, Validation Loss: 3.95, Training Accuracy: 0.06, Validation Accuracy: 0.07, Training MAE: 12.84, Validation MAE: 11.72\n",
      "Best model saved at epoch 53 with validation MAE: 11.72\n",
      "Epoch [54/80], Training Loss: 3.91, Validation Loss: 3.94, Training Accuracy: 0.06, Validation Accuracy: 0.07, Training MAE: 12.73, Validation MAE: 11.60\n",
      "Best model saved at epoch 54 with validation MAE: 11.60\n",
      "Epoch [55/80], Training Loss: 3.90, Validation Loss: 3.93, Training Accuracy: 0.06, Validation Accuracy: 0.07, Training MAE: 12.61, Validation MAE: 11.51\n",
      "Best model saved at epoch 55 with validation MAE: 11.51\n",
      "Epoch [56/80], Training Loss: 3.89, Validation Loss: 3.92, Training Accuracy: 0.06, Validation Accuracy: 0.07, Training MAE: 12.52, Validation MAE: 11.42\n",
      "Best model saved at epoch 56 with validation MAE: 11.42\n",
      "Epoch [57/80], Training Loss: 3.88, Validation Loss: 3.92, Training Accuracy: 0.06, Validation Accuracy: 0.07, Training MAE: 12.41, Validation MAE: 11.34\n",
      "Best model saved at epoch 57 with validation MAE: 11.34\n",
      "Epoch [58/80], Training Loss: 3.87, Validation Loss: 3.91, Training Accuracy: 0.07, Validation Accuracy: 0.07, Training MAE: 12.32, Validation MAE: 11.26\n",
      "Best model saved at epoch 58 with validation MAE: 11.26\n",
      "Epoch [59/80], Training Loss: 3.86, Validation Loss: 3.90, Training Accuracy: 0.07, Validation Accuracy: 0.07, Training MAE: 12.25, Validation MAE: 11.19\n",
      "Best model saved at epoch 59 with validation MAE: 11.19\n",
      "Epoch [60/80], Training Loss: 3.85, Validation Loss: 3.89, Training Accuracy: 0.07, Validation Accuracy: 0.07, Training MAE: 12.16, Validation MAE: 11.13\n",
      "Best model saved at epoch 60 with validation MAE: 11.13\n",
      "Epoch [61/80], Training Loss: 3.85, Validation Loss: 3.89, Training Accuracy: 0.07, Validation Accuracy: 0.07, Training MAE: 12.09, Validation MAE: 11.07\n",
      "Best model saved at epoch 61 with validation MAE: 11.07\n",
      "Epoch [62/80], Training Loss: 3.84, Validation Loss: 3.88, Training Accuracy: 0.07, Validation Accuracy: 0.08, Training MAE: 12.01, Validation MAE: 11.01\n",
      "Best model saved at epoch 62 with validation MAE: 11.01\n",
      "Epoch [63/80], Training Loss: 3.83, Validation Loss: 3.87, Training Accuracy: 0.07, Validation Accuracy: 0.07, Training MAE: 11.95, Validation MAE: 10.96\n",
      "Best model saved at epoch 63 with validation MAE: 10.96\n",
      "Epoch [64/80], Training Loss: 3.82, Validation Loss: 3.87, Training Accuracy: 0.07, Validation Accuracy: 0.07, Training MAE: 11.88, Validation MAE: 10.91\n",
      "Best model saved at epoch 64 with validation MAE: 10.91\n",
      "Epoch [65/80], Training Loss: 3.82, Validation Loss: 3.86, Training Accuracy: 0.07, Validation Accuracy: 0.07, Training MAE: 11.82, Validation MAE: 10.87\n",
      "Best model saved at epoch 65 with validation MAE: 10.87\n",
      "Epoch [66/80], Training Loss: 3.81, Validation Loss: 3.86, Training Accuracy: 0.07, Validation Accuracy: 0.07, Training MAE: 11.77, Validation MAE: 10.82\n",
      "Best model saved at epoch 66 with validation MAE: 10.82\n",
      "Epoch [67/80], Training Loss: 3.80, Validation Loss: 3.85, Training Accuracy: 0.07, Validation Accuracy: 0.08, Training MAE: 11.71, Validation MAE: 10.78\n",
      "Best model saved at epoch 67 with validation MAE: 10.78\n",
      "Epoch [68/80], Training Loss: 3.80, Validation Loss: 3.85, Training Accuracy: 0.07, Validation Accuracy: 0.07, Training MAE: 11.65, Validation MAE: 10.74\n",
      "Best model saved at epoch 68 with validation MAE: 10.74\n",
      "Epoch [69/80], Training Loss: 3.79, Validation Loss: 3.84, Training Accuracy: 0.07, Validation Accuracy: 0.07, Training MAE: 11.61, Validation MAE: 10.70\n",
      "Best model saved at epoch 69 with validation MAE: 10.70\n",
      "Epoch [70/80], Training Loss: 3.79, Validation Loss: 3.84, Training Accuracy: 0.07, Validation Accuracy: 0.07, Training MAE: 11.57, Validation MAE: 10.67\n",
      "Best model saved at epoch 70 with validation MAE: 10.67\n",
      "Epoch [71/80], Training Loss: 3.78, Validation Loss: 3.84, Training Accuracy: 0.07, Validation Accuracy: 0.08, Training MAE: 11.51, Validation MAE: 10.64\n",
      "Best model saved at epoch 71 with validation MAE: 10.64\n",
      "Epoch [72/80], Training Loss: 3.77, Validation Loss: 3.83, Training Accuracy: 0.07, Validation Accuracy: 0.08, Training MAE: 11.46, Validation MAE: 10.61\n",
      "Best model saved at epoch 72 with validation MAE: 10.61\n",
      "Epoch [73/80], Training Loss: 3.77, Validation Loss: 3.83, Training Accuracy: 0.08, Validation Accuracy: 0.08, Training MAE: 11.42, Validation MAE: 10.58\n",
      "Best model saved at epoch 73 with validation MAE: 10.58\n",
      "Epoch [74/80], Training Loss: 3.76, Validation Loss: 3.83, Training Accuracy: 0.07, Validation Accuracy: 0.08, Training MAE: 11.39, Validation MAE: 10.55\n",
      "Best model saved at epoch 74 with validation MAE: 10.55\n",
      "Epoch [75/80], Training Loss: 3.76, Validation Loss: 3.82, Training Accuracy: 0.08, Validation Accuracy: 0.08, Training MAE: 11.35, Validation MAE: 10.53\n",
      "Best model saved at epoch 75 with validation MAE: 10.53\n",
      "Epoch [76/80], Training Loss: 3.75, Validation Loss: 3.82, Training Accuracy: 0.08, Validation Accuracy: 0.08, Training MAE: 11.32, Validation MAE: 10.50\n",
      "Best model saved at epoch 76 with validation MAE: 10.50\n",
      "Epoch [77/80], Training Loss: 3.75, Validation Loss: 3.82, Training Accuracy: 0.08, Validation Accuracy: 0.08, Training MAE: 11.28, Validation MAE: 10.48\n",
      "Best model saved at epoch 77 with validation MAE: 10.48\n",
      "Epoch [78/80], Training Loss: 3.74, Validation Loss: 3.82, Training Accuracy: 0.08, Validation Accuracy: 0.08, Training MAE: 11.24, Validation MAE: 10.46\n",
      "Best model saved at epoch 78 with validation MAE: 10.46\n",
      "Epoch [79/80], Training Loss: 3.74, Validation Loss: 3.81, Training Accuracy: 0.08, Validation Accuracy: 0.08, Training MAE: 11.21, Validation MAE: 10.44\n",
      "Best model saved at epoch 79 with validation MAE: 10.44\n",
      "Epoch [80/80], Training Loss: 3.74, Validation Loss: 3.81, Training Accuracy: 0.08, Validation Accuracy: 0.08, Training MAE: 11.18, Validation MAE: 10.42\n",
      "Best model saved at epoch 80 with validation MAE: 10.42\n",
      "Training time:  8.194306666666668 minutes\n"
     ]
    }
   ],
   "source": [
    "history = train(model, optimizer, loss_fn, train_loader_balanced, val_loader, NR_EPOCHS, writer, device, './Project/class_imbalance/smote/smote_model')\n",
    "writer.close()"
   ]
  },
  {
   "cell_type": "markdown",
   "metadata": {},
   "source": [
    "## Training Histories"
   ]
  },
  {
   "cell_type": "code",
   "execution_count": 14,
   "metadata": {},
   "outputs": [],
   "source": [
    "def plot_history(history, path_name):\n",
    "    # loss\n",
    "    loss_train = history['loss']\n",
    "    loss_val = history['val_loss']\n",
    "    epochs = range(NR_EPOCHS)\n",
    "    plt.plot(epochs, loss_train, 'g', label='Training loss')\n",
    "    plt.plot(epochs, loss_val, 'b', label='Validation loss')\n",
    "    plt.title('Training and validation loss')\n",
    "    plt.xlabel('Epochs')\n",
    "    plt.ylabel('Loss')\n",
    "    plt.legend()\n",
    "    plt.show()\n",
    "    plt.savefig(path_name + '_loss.png', bbox_inches='tight')\n",
    "\n",
    "    # accuracy\n",
    "    accuracy_train = history['accuracy']\n",
    "    accuracy_val = history['val_accuracy']\n",
    "    epochs = range(NR_EPOCHS)\n",
    "    plt.plot(epochs, accuracy_train, 'g', label='Training accuracy')\n",
    "    plt.plot(epochs, accuracy_val, 'b', label='Validation accuracy')\n",
    "    plt.title('Training and validation accuracy')\n",
    "    plt.xlabel('Epochs')\n",
    "    plt.ylabel('Accuracy')\n",
    "    plt.legend()\n",
    "    plt.savefig(path_name + '_accuracy.png', bbox_inches='tight')\n",
    "    plt.show()\n",
    "\n",
    "     # MAE\n",
    "    accuracy_train = history['mae']\n",
    "    accuracy_val = history['val_mae']\n",
    "    epochs = range(NR_EPOCHS)\n",
    "    plt.plot(epochs, accuracy_train, 'g', label='Training MAE')\n",
    "    plt.plot(epochs, accuracy_val, 'b', label='Validation MAE')\n",
    "    plt.title('Training and validation MAE')\n",
    "    plt.xlabel('Epochs')\n",
    "    plt.ylabel('Accuracy')\n",
    "    plt.legend()\n",
    "    plt.savefig(path_name + '_mae.png', bbox_inches='tight')\n",
    "    plt.show()\n",
    "    "
   ]
  },
  {
   "cell_type": "markdown",
   "metadata": {},
   "source": [
    "### History of normal model"
   ]
  },
  {
   "cell_type": "code",
   "execution_count": 15,
   "metadata": {},
   "outputs": [
    {
     "data": {
      "image/png": "[encoded data removed]",
      "text/plain": [
       "<Figure size 640x480 with 1 Axes>"
      ]
     },
     "metadata": {},
     "output_type": "display_data"
    },
    {
     "data": {
      "image/png": "[encoded data removed]",
      "text/plain": [
       "<Figure size 640x480 with 1 Axes>"
      ]
     },
     "metadata": {},
     "output_type": "display_data"
    },
    {
     "data": {
      "image/png": "[encoded data removed]",
      "text/plain": [
       "<Figure size 640x480 with 1 Axes>"
      ]
     },
     "metadata": {},
     "output_type": "display_data"
    }
   ],
   "source": [
    "plot_history(history, './Project/class_imbalance/smote/smote')"
   ]
  },
  {
   "cell_type": "markdown",
   "metadata": {},
   "source": [
    "## Test models"
   ]
  },
  {
   "cell_type": "code",
   "execution_count": 16,
   "metadata": {},
   "outputs": [],
   "source": [
    "def test(model, test_loader, loss_fn, name):\n",
    "    test_loss = 0\n",
    "    test_correct = 0\n",
    "    test_total = 0\n",
    "    total_test_mae = 0\n",
    "    \n",
    "    # create cuda events for timetracking\n",
    "    start = torch.cuda.Event(enable_timing=True)\n",
    "    end = torch.cuda.Event(enable_timing=True)\n",
    "\n",
    "    start.record()\n",
    "    with torch.no_grad():\n",
    "        for inputs, labels in test_loader:\n",
    "            # shift labels from 1-116 to 0-115 for loss\n",
    "            labels_model = labels - 1\n",
    "            inputs, labels_model = inputs.to(device), labels_model.to(device)\n",
    "            labels = labels.to(device)\n",
    "            outputs = model(inputs)\n",
    "            loss = loss_fn(outputs, labels_model)\n",
    "\n",
    "            test_loss += loss.item()\n",
    "            _, predicted = outputs.max(1)\n",
    "            predicted = predicted + 1\n",
    "            test_total += labels.size(0)\n",
    "            test_correct += predicted.eq(labels).sum().item()\n",
    "\n",
    "            probabilities = F.softmax(outputs, dim=1)\n",
    "            expected_age = torch.sum(probabilities * age_classes, dim=1) + 1\n",
    "            total_test_mae += torch.abs(expected_age - labels.float()).sum().item()   \n",
    "\n",
    "    end.record()\n",
    "    torch.cuda.synchronize()\n",
    "    test_loss = test_loss / len(test_loader)\n",
    "    test_accuracy = test_correct / test_total\n",
    "    test_mae = total_test_mae / test_total\n",
    "\n",
    "    print(f'Model: {name},  Test Loss: {test_loss:.2f}, Test Accuracy: {test_accuracy:.2f}, Test MAE: {test_mae:.2f}')\n",
    "    print(f'Time:  {round(start.elapsed_time(end), 1) / 1000} seconds')"
   ]
  },
  {
   "cell_type": "code",
   "execution_count": 17,
   "metadata": {},
   "outputs": [],
   "source": [
    "### Benchmarks"
   ]
  },
  {
   "cell_type": "code",
   "execution_count": 18,
   "metadata": {},
   "outputs": [
    {
     "name": "stdout",
     "output_type": "stream",
     "text": [
      "-----------------------------------------------------------------------\n",
      "Model: Normal SMOTE Features CNN,  Test Loss: 3.88, Test Accuracy: 0.06, Test MAE: 10.82\n",
      "Time:  0.10690000000000001 seconds\n"
     ]
    }
   ],
   "source": [
    "# load models\n",
    "model_test = ClassifierNet(NUM_CLASSES).to(device)\n",
    "model_test.load_state_dict(torch.load('./Project/class_imbalance/smote/smote_model'))\n",
    "print(\"-----------------------------------------------------------------------\")\n",
    "\n",
    "test(model_test, test_loader, loss_fn, 'Normal SMOTE Features CNN')"
   ]
  }
 ],
 "metadata": {
  "kaggle": {
   "accelerator": "gpu",
   "dataSources": [
    {
     "datasetId": 44109,
     "sourceId": 78156,
     "sourceType": "datasetVersion"
    }
   ],
   "dockerImageVersionId": 30302,
   "isGpuEnabled": true,
   "isInternetEnabled": true,
   "language": "python",
   "sourceType": "notebook"
  },
  "kernelspec": {
   "display_name": "Python 3 (ipykernel)",
   "language": "python",
   "name": "python3"
  },
  "language_info": {
   "codemirror_mode": {
    "name": "ipython",
    "version": 3
   },
   "file_extension": ".py",
   "mimetype": "text/x-python",
   "name": "python",
   "nbconvert_exporter": "python",
   "pygments_lexer": "ipython3",
   "version": "3.12.6"
  }
 },
 "nbformat": 4,
 "nbformat_minor": 4
}
