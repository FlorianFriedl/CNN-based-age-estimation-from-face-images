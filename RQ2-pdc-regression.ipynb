{
 "cells": [
  {
   "cell_type": "markdown",
   "id": "977680d6",
   "metadata": {
    "papermill": {
     "duration": 0.007892,
     "end_time": "2024-10-06T09:21:21.206404",
     "exception": false,
     "start_time": "2024-10-06T09:21:21.198512",
     "status": "completed"
    },
    "tags": []
   },
   "source": [
    "# Age Estimation using Pixel Difference in Convolution Regression"
   ]
  },
  {
   "cell_type": "markdown",
   "id": "61dffbb7-ec5c-407d-ac4e-0b88ae32b775",
   "metadata": {},
   "source": [
    "### Imports"
   ]
  },
  {
   "cell_type": "code",
   "execution_count": 1,
   "id": "52c91a0d",
   "metadata": {
    "id": "Ow9CX6i9bF7s",
    "papermill": {
     "duration": 20.4897,
     "end_time": "2024-10-06T09:21:41.702754",
     "exception": false,
     "start_time": "2024-10-06T09:21:21.213054",
     "status": "completed"
    },
    "tags": []
   },
   "outputs": [],
   "source": [
    "import numpy as np\n",
    "import matplotlib.pyplot as plt\n",
    "from glob import glob\n",
    "\n",
    "import math\n",
    "import torch\n",
    "import torch.nn as nn\n",
    "import torch.nn.functional as F\n",
    "import torchvision\n",
    "from torchsummary import summary\n",
    "from torchvision import transforms, datasets\n",
    "from torch.utils.tensorboard import SummaryWriter\n",
    "from torch.utils.data import Dataset, DataLoader, random_split\n",
    "from collections import Counter\n",
    "\n",
    "import warnings\n",
    "warnings.filterwarnings(\"ignore\", category=FutureWarning)\n",
    "\n",
    "import pandas as pd\n",
    "import os\n",
    "import matplotlib.pyplot as plt\n",
    "%matplotlib inline\n",
    "\n",
    "from PIL import Image\n",
    "import shutil\n",
    "\n",
    "import copy\n",
    "\n",
    "from pathlib import Path\n",
    "from datetime import datetime\n",
    "\n",
    "from torch.utils.tensorboard import SummaryWriter"
   ]
  },
  {
   "cell_type": "markdown",
   "id": "5a00a1aa",
   "metadata": {
    "papermill": {
     "duration": 0.006707,
     "end_time": "2024-10-06T09:21:41.716772",
     "exception": false,
     "start_time": "2024-10-06T09:21:41.710065",
     "status": "completed"
    },
    "tags": []
   },
   "source": [
    "## Age estimation in age groups"
   ]
  },
  {
   "cell_type": "markdown",
   "id": "275c54bf",
   "metadata": {
    "papermill": {
     "duration": 0.00655,
     "end_time": "2024-10-06T09:21:41.730473",
     "exception": false,
     "start_time": "2024-10-06T09:21:41.723923",
     "status": "completed"
    },
    "tags": []
   },
   "source": [
    "### Set image size and variables "
   ]
  },
  {
   "cell_type": "code",
   "execution_count": 2,
   "id": "3f796b8f",
   "metadata": {
    "id": "Cq39lS9tcKIC",
    "papermill": {
     "duration": 0.015721,
     "end_time": "2024-10-06T09:21:41.753038",
     "exception": false,
     "start_time": "2024-10-06T09:21:41.737317",
     "status": "completed"
    },
    "tags": []
   },
   "outputs": [],
   "source": [
    "IMAGE_SIZE = [200,200]\n",
    "BASE_DIR = './UTKFace/'\n",
    "NR_EPOCHS = 80\n",
    "BATCH_SIZE = 30"
   ]
  },
  {
   "cell_type": "markdown",
   "id": "b35929b1",
   "metadata": {
    "papermill": {
     "duration": 0.006623,
     "end_time": "2024-10-06T09:21:41.820818",
     "exception": false,
     "start_time": "2024-10-06T09:21:41.814195",
     "status": "completed"
    },
    "tags": []
   },
   "source": [
    "### Read input dataset and split into training, validation and test set  "
   ]
  },
  {
   "cell_type": "code",
   "execution_count": 3,
   "id": "85663886",
   "metadata": {
    "papermill": {
     "duration": 1.082405,
     "end_time": "2024-10-06T09:21:42.910061",
     "exception": false,
     "start_time": "2024-10-06T09:21:41.827656",
     "status": "completed"
    },
    "tags": []
   },
   "outputs": [],
   "source": [
    "class UTKFaceDataset(Dataset):\n",
    "    def __init__(self, root_dir, transform=None):\n",
    "        self.root_dir = root_dir\n",
    "        self.transform = transform\n",
    "        self.images = [file for file in os.listdir(root_dir) if file.endswith('.jpg') or file.endswith('.png')]\n",
    "\n",
    "    def __len__(self):\n",
    "        return len(self.images)\n",
    "\n",
    "    def __getitem__(self, idx):\n",
    "        img_name = os.path.join(self.root_dir, self.images[idx])\n",
    "        image = Image.open(img_name)\n",
    "        \n",
    "        age = int(self.images[idx].split('_')[0])\n",
    "        \n",
    "        if self.transform:\n",
    "            image = self.transform(image)\n",
    "        \n",
    "        return image, age\n",
    "\n",
    "# transform\n",
    "transform = transforms.Compose([\n",
    "    transforms.Resize(IMAGE_SIZE),\n",
    "    transforms.ToTensor(),\n",
    "    transforms.Normalize(mean=[0.485, 0.456, 0.406], std=[0.229, 0.224, 0.225])\n",
    "])\n",
    "\n",
    "# laod dataset\n",
    "full_dataset = UTKFaceDataset(root_dir=BASE_DIR, transform=transform)\n",
    "\n",
    "# split dataset accordingly \n",
    "total_size = len(full_dataset)\n",
    "train_size = int(0.7 * total_size)\n",
    "val_size = int(0.15 * total_size)\n",
    "test_size = total_size - train_size - val_size\n",
    "\n",
    "# fixed seed for same split across models\n",
    "generator = torch.Generator().manual_seed(116)\n",
    "\n",
    "train_dataset, val_dataset, test_dataset = random_split(\n",
    "    full_dataset, [train_size, val_size, test_size], generator=generator\n",
    ")"
   ]
  },
  {
   "cell_type": "code",
   "execution_count": 4,
   "id": "6ebd703b",
   "metadata": {
    "papermill": {
     "duration": 0.01886,
     "end_time": "2024-10-06T09:21:42.936049",
     "exception": false,
     "start_time": "2024-10-06T09:21:42.917189",
     "status": "completed"
    },
    "tags": []
   },
   "outputs": [
    {
     "name": "stdout",
     "output_type": "stream",
     "text": [
      "Total dataset size: 23708\n",
      "Train set size: 16595\n",
      "Validation set size: 3556\n",
      "Test set size: 3557\n"
     ]
    }
   ],
   "source": [
    "# Create DataLoaders\n",
    "train_loader = DataLoader(train_dataset, batch_size=BATCH_SIZE, shuffle=True)\n",
    "val_loader = DataLoader(val_dataset, batch_size=BATCH_SIZE, shuffle=False)\n",
    "test_loader = DataLoader(test_dataset, batch_size=BATCH_SIZE, shuffle=False)\n",
    "\n",
    "# Print some information\n",
    "print(f\"Total dataset size: {total_size}\")\n",
    "print(f\"Train set size: {len(train_dataset)}\")\n",
    "print(f\"Validation set size: {len(val_dataset)}\")\n",
    "print(f\"Test set size: {len(test_dataset)}\")"
   ]
  },
  {
   "cell_type": "markdown",
   "id": "c7f554b1",
   "metadata": {
    "papermill": {
     "duration": 0.006638,
     "end_time": "2024-10-06T09:21:42.949547",
     "exception": false,
     "start_time": "2024-10-06T09:21:42.942909",
     "status": "completed"
    },
    "tags": []
   },
   "source": [
    "## Normal Model"
   ]
  },
  {
   "cell_type": "code",
   "execution_count": 5,
   "id": "89bec763",
   "metadata": {
    "papermill": {
     "duration": 0.074138,
     "end_time": "2024-10-06T09:21:43.030443",
     "exception": false,
     "start_time": "2024-10-06T09:21:42.956305",
     "status": "completed"
    },
    "tags": []
   },
   "outputs": [
    {
     "name": "stdout",
     "output_type": "stream",
     "text": [
      "Using device: cuda\n"
     ]
    }
   ],
   "source": [
    "# Set CUDA_LAUNCH_BLOCKING for synchronous CUDA operations\n",
    "# os.environ['CUDA_LAUNCH_BLOCKING'] = '1'\n",
    "\n",
    "# Check CUDA availability and set device\n",
    "device = torch.device('cuda' if torch.cuda.is_available() else 'cpu')\n",
    "print(f\"Using device: {device}\")"
   ]
  },
  {
   "cell_type": "markdown",
   "id": "dbfd8cf5",
   "metadata": {
    "papermill": {
     "duration": 0.006685,
     "end_time": "2024-10-06T09:21:43.044323",
     "exception": false,
     "start_time": "2024-10-06T09:21:43.037638",
     "status": "completed"
    },
    "tags": []
   },
   "source": [
    "### Create Model"
   ]
  },
  {
   "cell_type": "code",
   "execution_count": 6,
   "id": "a43c9c89",
   "metadata": {
    "papermill": {
     "duration": 11.155262,
     "end_time": "2024-10-06T09:21:54.206352",
     "exception": false,
     "start_time": "2024-10-06T09:21:43.051090",
     "status": "completed"
    },
    "tags": []
   },
   "outputs": [
    {
     "name": "stdout",
     "output_type": "stream",
     "text": [
      "PDCModel(\n",
      "  (features): Sequential(\n",
      "    (0): PDCBlock(\n",
      "      (pool): MaxPool2d(kernel_size=2, stride=2, padding=0, dilation=1, ceil_mode=False)\n",
      "      (shortcut): Conv2d(3, 96, kernel_size=(1, 1), stride=(1, 1))\n",
      "      (conv1): Conv2d()\n",
      "      (relu2): ReLU()\n",
      "      (conv2): Conv2d(3, 96, kernel_size=(1, 1), stride=(1, 1), bias=False)\n",
      "    )\n",
      "    (1): BatchNorm2d(96, eps=1e-05, momentum=0.1, affine=True, track_running_stats=True)\n",
      "    (2): ReLU()\n",
      "    (3): PDCBlock(\n",
      "      (pool): MaxPool2d(kernel_size=2, stride=2, padding=0, dilation=1, ceil_mode=False)\n",
      "      (shortcut): Conv2d(96, 256, kernel_size=(1, 1), stride=(1, 1))\n",
      "      (conv1): Conv2d()\n",
      "      (relu2): ReLU()\n",
      "      (conv2): Conv2d(96, 256, kernel_size=(1, 1), stride=(1, 1), bias=False)\n",
      "    )\n",
      "    (4): BatchNorm2d(256, eps=1e-05, momentum=0.1, affine=True, track_running_stats=True)\n",
      "    (5): ReLU()\n",
      "    (6): PDCBlock(\n",
      "      (pool): MaxPool2d(kernel_size=2, stride=2, padding=0, dilation=1, ceil_mode=False)\n",
      "      (shortcut): Conv2d(256, 384, kernel_size=(1, 1), stride=(1, 1))\n",
      "      (conv1): Conv2d()\n",
      "      (relu2): ReLU()\n",
      "      (conv2): Conv2d(256, 384, kernel_size=(1, 1), stride=(1, 1), bias=False)\n",
      "    )\n",
      "    (7): BatchNorm2d(384, eps=1e-05, momentum=0.1, affine=True, track_running_stats=True)\n",
      "    (8): ReLU()\n",
      "    (9): PDCBlock(\n",
      "      (conv1): Conv2d()\n",
      "      (relu2): ReLU()\n",
      "      (conv2): Conv2d(384, 384, kernel_size=(1, 1), stride=(1, 1), bias=False)\n",
      "    )\n",
      "    (10): BatchNorm2d(384, eps=1e-05, momentum=0.1, affine=True, track_running_stats=True)\n",
      "    (11): ReLU()\n",
      "    (12): AdaptiveAvgPool2d(output_size=(1, 1))\n",
      "  )\n",
      "  (regressor): Sequential(\n",
      "    (0): Flatten(start_dim=1, end_dim=-1)\n",
      "    (1): Linear(in_features=384, out_features=512, bias=True)\n",
      "    (2): ReLU()\n",
      "    (3): Dropout(p=0.25, inplace=False)\n",
      "    (4): Linear(in_features=512, out_features=512, bias=True)\n",
      "    (5): ReLU()\n",
      "    (6): Dropout(p=0.25, inplace=False)\n",
      "    (7): Linear(in_features=512, out_features=1, bias=True)\n",
      "  )\n",
      ")\n",
      "----------------------------------------------------------------\n",
      "        Layer (type)               Output Shape         Param #\n",
      "================================================================\n",
      "         MaxPool2d-1          [-1, 3, 100, 100]               0\n",
      "            Conv2d-2          [-1, 3, 100, 100]              27\n",
      "              ReLU-3          [-1, 3, 100, 100]               0\n",
      "            Conv2d-4         [-1, 96, 100, 100]             288\n",
      "            Conv2d-5         [-1, 96, 100, 100]             384\n",
      "          PDCBlock-6         [-1, 96, 100, 100]               0\n",
      "       BatchNorm2d-7         [-1, 96, 100, 100]             192\n",
      "              ReLU-8         [-1, 96, 100, 100]               0\n",
      "         MaxPool2d-9           [-1, 96, 50, 50]               0\n",
      "           Conv2d-10           [-1, 96, 50, 50]             864\n",
      "             ReLU-11           [-1, 96, 50, 50]               0\n",
      "           Conv2d-12          [-1, 256, 50, 50]          24,576\n",
      "           Conv2d-13          [-1, 256, 50, 50]          24,832\n",
      "         PDCBlock-14          [-1, 256, 50, 50]               0\n",
      "      BatchNorm2d-15          [-1, 256, 50, 50]             512\n",
      "             ReLU-16          [-1, 256, 50, 50]               0\n",
      "        MaxPool2d-17          [-1, 256, 25, 25]               0\n",
      "           Conv2d-18          [-1, 256, 25, 25]           2,304\n",
      "             ReLU-19          [-1, 256, 25, 25]               0\n",
      "           Conv2d-20          [-1, 384, 25, 25]          98,304\n",
      "           Conv2d-21          [-1, 384, 25, 25]          98,688\n",
      "         PDCBlock-22          [-1, 384, 25, 25]               0\n",
      "      BatchNorm2d-23          [-1, 384, 25, 25]             768\n",
      "             ReLU-24          [-1, 384, 25, 25]               0\n",
      "           Conv2d-25          [-1, 384, 25, 25]           3,456\n",
      "             ReLU-26          [-1, 384, 25, 25]               0\n",
      "           Conv2d-27          [-1, 384, 25, 25]         147,456\n",
      "         PDCBlock-28          [-1, 384, 25, 25]               0\n",
      "      BatchNorm2d-29          [-1, 384, 25, 25]             768\n",
      "             ReLU-30          [-1, 384, 25, 25]               0\n",
      "AdaptiveAvgPool2d-31            [-1, 384, 1, 1]               0\n",
      "          Flatten-32                  [-1, 384]               0\n",
      "           Linear-33                  [-1, 512]         197,120\n",
      "             ReLU-34                  [-1, 512]               0\n",
      "          Dropout-35                  [-1, 512]               0\n",
      "           Linear-36                  [-1, 512]         262,656\n",
      "             ReLU-37                  [-1, 512]               0\n",
      "          Dropout-38                  [-1, 512]               0\n",
      "           Linear-39                    [-1, 1]             513\n",
      "================================================================\n",
      "Total params: 863,708\n",
      "Trainable params: 863,708\n",
      "Non-trainable params: 0\n",
      "----------------------------------------------------------------\n",
      "Input size (MB): 0.46\n",
      "Forward/backward pass size (MB): 91.05\n",
      "Params size (MB): 3.29\n",
      "Estimated Total Size (MB): 94.80\n",
      "----------------------------------------------------------------\n",
      "Output shape: torch.Size([1])\n"
     ]
    },
    {
     "name": "stderr",
     "output_type": "stream",
     "text": [
      "/tmp/ipykernel_4696/1469704417.py:72: UserWarning: The torch.cuda.*DtypeTensor constructors are no longer recommended. It's best to use methods such as torch.tensor(data, dtype=*, device='cuda') to create tensors. (Triggered internally at ../torch/csrc/tensor/python_tensor.cpp:78.)\n",
      "  buffer = torch.cuda.FloatTensor(shape[0], shape[1], 5 * 5).fill_(0)\n"
     ]
    }
   ],
   "source": [
    "## https://github.com/hellozhuo/pidinet/blob/master/models/ops.py\n",
    "\n",
    "class Conv2d(nn.Module):\n",
    "    def __init__(self, pdc, in_channels, out_channels, kernel_size, stride=1, padding=0, dilation=1, groups=1, bias=False):\n",
    "        super(Conv2d, self).__init__()\n",
    "        if in_channels % groups != 0:\n",
    "            raise ValueError('in_channels must be divisible by groups')\n",
    "        if out_channels % groups != 0:\n",
    "            raise ValueError('out_channels must be divisible by groups')\n",
    "        self.in_channels = in_channels\n",
    "        self.out_channels = out_channels\n",
    "        self.kernel_size = kernel_size\n",
    "        self.stride = stride\n",
    "        self.padding = padding\n",
    "        self.dilation = dilation\n",
    "        self.groups = groups\n",
    "        self.weight = nn.Parameter(torch.Tensor(out_channels, in_channels // groups, kernel_size, kernel_size))\n",
    "        if bias:\n",
    "            self.bias = nn.Parameter(torch.Tensor(out_channels))\n",
    "        else:\n",
    "            self.register_parameter('bias', None)\n",
    "        self.reset_parameters()\n",
    "        self.pdc = self.create_conv_func(pdc)\n",
    "\n",
    "    def reset_parameters(self):\n",
    "        nn.init.kaiming_uniform_(self.weight, a=math.sqrt(5))\n",
    "        if self.bias is not None:\n",
    "            fan_in, _ = nn.init._calculate_fan_in_and_fan_out(self.weight)\n",
    "            bound = 1 / math.sqrt(fan_in)\n",
    "            nn.init.uniform_(self.bias, -bound, bound)\n",
    "\n",
    "    def create_conv_func(self, op_type):\n",
    "        if op_type == 'cv':\n",
    "            return F.conv2d\n",
    "        elif op_type == 'cd':\n",
    "            return self.cd_conv\n",
    "        elif op_type == 'ad':\n",
    "            return self.ad_conv\n",
    "        elif op_type == 'rd':\n",
    "            return self.rd_conv\n",
    "        else:\n",
    "            raise ValueError(f\"Unknown op type: {op_type}\")\n",
    "\n",
    "    def cd_conv(self, x, weights, bias=None, stride=1, padding=0, dilation=1, groups=1):\n",
    "        assert dilation in [1, 2], 'dilation for cd_conv should be in 1 or 2'\n",
    "        assert weights.size(2) == 3 and weights.size(3) == 3, 'kernel size for cd_conv should be 3x3'\n",
    "        assert padding == dilation, 'padding for cd_conv set wrong'\n",
    "        \n",
    "        weights_c = weights.sum(dim=[2, 3], keepdim=True)\n",
    "        yc = F.conv2d(x, weights_c, stride=stride, padding=0, groups=groups)\n",
    "        y = F.conv2d(x, weights, bias, stride=stride, padding=padding, dilation=dilation, groups=groups)\n",
    "        return y - yc\n",
    "\n",
    "    def ad_conv(self, x, weights, bias=None, stride=1, padding=0, dilation=1, groups=1): \n",
    "        assert dilation in [1, 2], 'dilation for ad_conv should be in 1 or 2'\n",
    "        assert weights.size(2) == 3 and weights.size(3) == 3, 'kernel size for ad_conv should be 3x3'\n",
    "        assert padding == dilation, 'padding for ad_conv set wrong'\n",
    "        \n",
    "        shape = weights.shape\n",
    "        weights = weights.view(shape[0], shape[1], -1)\n",
    "        weights_conv = (weights - weights[:, :, [3, 0, 1, 6, 4, 2, 7, 8, 5]]).view(shape)\n",
    "        y = F.conv2d(x, weights_conv, bias, stride=stride, padding=padding, dilation=dilation, groups=groups)\n",
    "        return y\n",
    "\n",
    "    def rd_conv(self, x, weights, bias=None, stride=1, padding=0, dilation=1, groups=1):\n",
    "        assert dilation in [1, 2], 'dilation for rd_conv should be in 1 or 2'\n",
    "        assert weights.size(2) == 3 and weights.size(3) == 3, 'kernel size for rd_conv should be 3x3'\n",
    "        \n",
    "        padding = 2 * dilation\n",
    "        shape = weights.shape\n",
    "        if weights.is_cuda:\n",
    "            buffer = torch.cuda.FloatTensor(shape[0], shape[1], 5 * 5).fill_(0)\n",
    "        else:\n",
    "            buffer = torch.zeros(shape[0], shape[1], 5 * 5)\n",
    "        weights = weights.view(shape[0], shape[1], -1)\n",
    "        buffer[:, :, [0, 2, 4, 10, 14, 20, 22, 24]] = weights[:, :, 1:]\n",
    "        buffer[:, :, [6, 7, 8, 11, 13, 16, 17, 18]] = -weights[:, :, 1:]\n",
    "        buffer[:, :, 12] = 0\n",
    "        buffer = buffer.view(shape[0], shape[1], 5, 5)\n",
    "        y = F.conv2d(x, buffer, bias, stride=stride, padding=padding, dilation=dilation, groups=groups)\n",
    "        return y\n",
    "\n",
    "    def forward(self, input):\n",
    "        input = input.to(self.weight.device)\n",
    "        return self.pdc(input, self.weight, self.bias, self.stride, self.padding, self.dilation, self.groups)\n",
    "\n",
    "class PDCBlock(nn.Module):\n",
    "    def __init__(self, pdc, inplane, outplane, stride=1):\n",
    "        super(PDCBlock, self).__init__()\n",
    "        self.stride = stride\n",
    "        \n",
    "        if self.stride > 1:\n",
    "            self.pool = nn.MaxPool2d(kernel_size=2, stride=2)\n",
    "            self.shortcut = nn.Conv2d(inplane, outplane, kernel_size=1, padding=0)\n",
    "        \n",
    "        self.conv1 = Conv2d(pdc, inplane, inplane, kernel_size=3, padding=1, groups=inplane, bias=False)\n",
    "        self.relu2 = nn.ReLU()\n",
    "        self.conv2 = nn.Conv2d(inplane, outplane, kernel_size=1, padding=0, bias=False)\n",
    "\n",
    "    def forward(self, x):\n",
    "        if self.stride > 1:\n",
    "            x = self.pool(x)\n",
    "        y = self.conv1(x)\n",
    "        y = self.relu2(y)\n",
    "        y = self.conv2(y)\n",
    "        if self.stride > 1:\n",
    "            x = self.shortcut(x)\n",
    "        y = y + x\n",
    "        return y\n",
    "\n",
    "class PDCModel(nn.Module):\n",
    "    def __init__(self):\n",
    "        super(PDCModel, self).__init__()\n",
    "        ##  using short version of 'carv4' cd, ad, rd, cv\n",
    "        self.features = nn.Sequential(\n",
    "            PDCBlock('cd', 3, 96, stride=2), \n",
    "            nn.BatchNorm2d(96),\n",
    "            nn.ReLU(),\n",
    "            \n",
    "            PDCBlock('ad', 96, 256, stride=2), \n",
    "            nn.BatchNorm2d(256),\n",
    "            nn.ReLU(),\n",
    "            \n",
    "            PDCBlock('rd', 256, 384, stride=2), \n",
    "            nn.BatchNorm2d(384),\n",
    "            nn.ReLU(),\n",
    "            \n",
    "            PDCBlock('cv', 384, 384, stride=1),  \n",
    "            nn.BatchNorm2d(384),\n",
    "            nn.ReLU(),\n",
    "            \n",
    "            nn.AdaptiveAvgPool2d((1, 1)) \n",
    "        )\n",
    "        \n",
    "        self.regressor = nn.Sequential(\n",
    "            nn.Flatten(),\n",
    "            nn.Linear(384, 512),\n",
    "            nn.ReLU(),\n",
    "            nn.Dropout(0.25),\n",
    "            nn.Linear(512, 512),\n",
    "            nn.ReLU(),\n",
    "            nn.Dropout(0.25),\n",
    "            nn.Linear(512, 1)\n",
    "        )\n",
    "        \n",
    "    def forward(self, x):\n",
    "        x = self.features(x)\n",
    "        x = self.regressor(x)\n",
    "        return x.squeeze(dim=1)\n",
    "\n",
    "# Instantiate the model\n",
    "model = PDCModel().to(device)\n",
    "\n",
    "# Print model summary\n",
    "print(model)\n",
    "\n",
    "summary(model,(3,200,200))\n",
    "# Test the model with a sample input\n",
    "sample_input = torch.randn(1, 3, 200, 200).to(device)\n",
    "output = model(sample_input)\n",
    "print(f\"Output shape: {output.shape}\")"
   ]
  },
  {
   "cell_type": "code",
   "execution_count": 7,
   "id": "7c3cda36-961e-4c64-804b-ea2e9956cada",
   "metadata": {},
   "outputs": [
    {
     "name": "stderr",
     "output_type": "stream",
     "text": [
      "/tmp/ipykernel_4696/1469704417.py:46: TracerWarning: Converting a tensor to a Python boolean might cause the trace to be incorrect. We can't record the data flow of Python values, so this value will be treated as a constant in the future. This means that the trace might not generalize to other inputs!\n",
      "  assert weights.size(2) == 3 and weights.size(3) == 3, 'kernel size for cd_conv should be 3x3'\n",
      "/tmp/ipykernel_4696/1469704417.py:56: TracerWarning: Converting a tensor to a Python boolean might cause the trace to be incorrect. We can't record the data flow of Python values, so this value will be treated as a constant in the future. This means that the trace might not generalize to other inputs!\n",
      "  assert weights.size(2) == 3 and weights.size(3) == 3, 'kernel size for ad_conv should be 3x3'\n",
      "/tmp/ipykernel_4696/1469704417.py:67: TracerWarning: Converting a tensor to a Python boolean might cause the trace to be incorrect. We can't record the data flow of Python values, so this value will be treated as a constant in the future. This means that the trace might not generalize to other inputs!\n",
      "  assert weights.size(2) == 3 and weights.size(3) == 3, 'kernel size for rd_conv should be 3x3'\n"
     ]
    }
   ],
   "source": [
    "writer = SummaryWriter('./Project/classes/runs/pdc-regression', comment='PDC_Regression_Model')\n",
    "writer.add_graph(model, sample_input)"
   ]
  },
  {
   "cell_type": "code",
   "execution_count": 8,
   "id": "663b8f9f",
   "metadata": {
    "papermill": {
     "duration": 0.016248,
     "end_time": "2024-10-06T09:21:54.229951",
     "exception": false,
     "start_time": "2024-10-06T09:21:54.213703",
     "status": "completed"
    },
    "tags": []
   },
   "outputs": [],
   "source": [
    "# here use a lower learning rate since it turns to NaN\n",
    "optimizer = torch.optim.SGD(model.parameters(), lr=0.0001, momentum=0.9)\n",
    "loss_fn = torch.nn.MSELoss(reduction='mean')\n",
    "loss_fn = loss_fn.to(device)"
   ]
  },
  {
   "cell_type": "markdown",
   "id": "8c232efb-6274-41d4-834a-186108cd62be",
   "metadata": {},
   "source": [
    "### Train model"
   ]
  },
  {
   "cell_type": "code",
   "execution_count": 9,
   "id": "810e59e2",
   "metadata": {
    "papermill": {
     "duration": 0.026402,
     "end_time": "2024-10-06T09:21:54.263486",
     "exception": false,
     "start_time": "2024-10-06T09:21:54.237084",
     "status": "completed"
    },
    "tags": []
   },
   "outputs": [],
   "source": [
    "def train(model, optimizer, loss_fn, train_loader, val_loader, epochs, summary_writer, device, save_path):\n",
    "    \n",
    "    # create history for graphs\n",
    "    history = {\n",
    "        'train_mae': [],\n",
    "        'val_mae': [],\n",
    "        'train_loss': [],\n",
    "        'val_loss': []\n",
    "    }\n",
    "\n",
    "    # create cuda events for timetracking\n",
    "    start = torch.cuda.Event(enable_timing=True)\n",
    "    end = torch.cuda.Event(enable_timing=True)\n",
    "    \n",
    "    # init variables for saving\n",
    "    best_val_mae = float('Inf')\n",
    "    best_model_wts = copy.deepcopy(model.state_dict()) \n",
    "\n",
    "    start.record()\n",
    "    for epoch in range(epochs):\n",
    "        train_loss = 0.0\n",
    "        val_loss = 0.0\n",
    "        num_train = 0\n",
    "        train_mae_sum = 0.0\n",
    "           \n",
    "        model.train()\n",
    "        for batch in train_loader:\n",
    "            optimizer.zero_grad()\n",
    "            inputs, targets = batch\n",
    "            inputs, targets = inputs.to(device), targets.to(device)\n",
    "            targets = targets.float().view(-1)\n",
    "\n",
    "            inputs = torch.nan_to_num(inputs)\n",
    "            outputs = model(inputs)\n",
    "            \n",
    "            loss = loss_fn(outputs, targets)\n",
    "            loss.backward()\n",
    "            optimizer.step()\n",
    "            \n",
    "            train_loss += loss.item() * inputs.size(0)\n",
    "            num_train += targets.size(0)\n",
    "            abs_error_train = torch.abs(outputs - targets)\n",
    "            train_mae_sum += abs_error_train.sum().item()\n",
    "\n",
    "                \n",
    "        train_loss /= num_train\n",
    "        train_mae = train_mae_sum / num_train\n",
    "\n",
    "        if epoch+1 == NR_EPOCHS:\n",
    "            end.record()\n",
    "            torch.cuda.synchronize()\n",
    "        \n",
    "        model.eval()\n",
    "        num_val = 0\n",
    "        val_mae_sum = 0.0\n",
    "        \n",
    "        with torch.no_grad():\n",
    "            for batch in val_loader:\n",
    "                inputs, targets = batch\n",
    "                inputs, targets = inputs.to(device), targets.to(device)\n",
    "                targets = targets.float().view(-1)\n",
    "                outputs = model(inputs)\n",
    "                \n",
    "                loss = loss_fn(outputs, targets)\n",
    "                val_loss += loss.item() * inputs.size(0)\n",
    "                num_val += targets.size(0)\n",
    "                \n",
    "                abs_error_val = torch.abs(outputs - targets)\n",
    "                val_mae_sum += abs_error_val.sum().item()\n",
    "        \n",
    "        val_loss /= num_val\n",
    "        val_mae = val_mae_sum / num_val\n",
    "\n",
    "        summary_writer.add_scalar('Train Loss', train_loss, epoch+1)\n",
    "        summary_writer.add_scalar('Val Loss', val_loss, epoch+1)\n",
    "        summary_writer.add_scalar('Train MAE', train_mae, epoch+1)\n",
    "        summary_writer.add_scalar('Val MAE', val_mae, epoch+1)\n",
    "        \n",
    "        history['train_loss'].append(train_loss)\n",
    "        history['val_loss'].append(val_loss)\n",
    "        history['train_mae'].append(train_mae)\n",
    "        history['val_mae'].append(val_mae)\n",
    "        \n",
    "        print(f'Epoch: [{epoch+1}/{NR_EPOCHS}], Training Loss: {train_loss:.2f}, Validation Loss: {val_loss:.2f}, '\n",
    "              f'Training MAE: {train_mae:.2f}, Validation MAE: {val_mae:.2f}')\n",
    "        \n",
    "        # save best model if MAE improves\n",
    "        if val_mae < best_val_mae:\n",
    "            best_val_mae = val_mae\n",
    "            best_model_wts = copy.deepcopy(model.state_dict())\n",
    "            torch.save(best_model_wts, save_path)\n",
    "            print(f\"Best model saved at epoch {epoch+1} with validation MAE: {best_val_mae:.2f}\")\n",
    "            \n",
    "    print(f'Training time:  {round(start.elapsed_time(end) / 60000, 1)} minutes')\n",
    "    return history\n"
   ]
  },
  {
   "cell_type": "code",
   "execution_count": 10,
   "id": "ee7cfdb3",
   "metadata": {
    "papermill": {
     "duration": 7760.439938,
     "end_time": "2024-10-06T11:31:14.710472",
     "exception": false,
     "start_time": "2024-10-06T09:21:54.270534",
     "status": "completed"
    },
    "tags": []
   },
   "outputs": [
    {
     "name": "stdout",
     "output_type": "stream",
     "text": [
      "Epoch: [1/80], Training Loss: 351.72, Validation Loss: 220.40, Training MAE: 14.29, Validation MAE: 11.29\n",
      "Best model saved at epoch 1 with validation MAE: 11.29\n",
      "Epoch: [2/80], Training Loss: 249.60, Validation Loss: 204.30, Training MAE: 12.11, Validation MAE: 10.91\n",
      "Best model saved at epoch 2 with validation MAE: 10.91\n",
      "Epoch: [3/80], Training Loss: 224.93, Validation Loss: 217.64, Training MAE: 11.41, Validation MAE: 11.52\n",
      "Epoch: [4/80], Training Loss: 208.20, Validation Loss: 175.89, Training MAE: 10.89, Validation MAE: 9.92\n",
      "Best model saved at epoch 4 with validation MAE: 9.92\n",
      "Epoch: [5/80], Training Loss: 195.71, Validation Loss: 189.88, Training MAE: 10.50, Validation MAE: 10.98\n",
      "Epoch: [6/80], Training Loss: 188.09, Validation Loss: 158.01, Training MAE: 10.25, Validation MAE: 9.35\n",
      "Best model saved at epoch 6 with validation MAE: 9.35\n",
      "Epoch: [7/80], Training Loss: 176.38, Validation Loss: 149.43, Training MAE: 9.88, Validation MAE: 8.98\n",
      "Best model saved at epoch 7 with validation MAE: 8.98\n",
      "Epoch: [8/80], Training Loss: 165.58, Validation Loss: 140.58, Training MAE: 9.53, Validation MAE: 8.80\n",
      "Best model saved at epoch 8 with validation MAE: 8.80\n",
      "Epoch: [9/80], Training Loss: 158.21, Validation Loss: 144.73, Training MAE: 9.28, Validation MAE: 8.89\n",
      "Epoch: [10/80], Training Loss: 149.41, Validation Loss: 131.62, Training MAE: 8.97, Validation MAE: 8.59\n",
      "Best model saved at epoch 10 with validation MAE: 8.59\n",
      "Epoch: [11/80], Training Loss: 140.00, Validation Loss: 143.86, Training MAE: 8.68, Validation MAE: 8.64\n",
      "Epoch: [12/80], Training Loss: 136.75, Validation Loss: 124.37, Training MAE: 8.55, Validation MAE: 8.15\n",
      "Best model saved at epoch 12 with validation MAE: 8.15\n",
      "Epoch: [13/80], Training Loss: 130.48, Validation Loss: 207.58, Training MAE: 8.36, Validation MAE: 10.15\n",
      "Epoch: [14/80], Training Loss: 125.78, Validation Loss: 135.78, Training MAE: 8.20, Validation MAE: 8.27\n",
      "Epoch: [15/80], Training Loss: 122.18, Validation Loss: 111.75, Training MAE: 8.07, Validation MAE: 7.60\n",
      "Best model saved at epoch 15 with validation MAE: 7.60\n",
      "Epoch: [16/80], Training Loss: 114.70, Validation Loss: 134.63, Training MAE: 7.84, Validation MAE: 8.46\n",
      "Epoch: [17/80], Training Loss: 111.04, Validation Loss: 103.46, Training MAE: 7.67, Validation MAE: 7.46\n",
      "Best model saved at epoch 17 with validation MAE: 7.46\n",
      "Epoch: [18/80], Training Loss: 107.38, Validation Loss: 113.32, Training MAE: 7.57, Validation MAE: 7.77\n",
      "Epoch: [19/80], Training Loss: 106.92, Validation Loss: 112.60, Training MAE: 7.54, Validation MAE: 7.49\n",
      "Epoch: [20/80], Training Loss: 100.70, Validation Loss: 126.39, Training MAE: 7.34, Validation MAE: 8.16\n",
      "Epoch: [21/80], Training Loss: 97.32, Validation Loss: 100.09, Training MAE: 7.20, Validation MAE: 7.21\n",
      "Best model saved at epoch 21 with validation MAE: 7.21\n",
      "Epoch: [22/80], Training Loss: 92.44, Validation Loss: 111.46, Training MAE: 7.01, Validation MAE: 7.90\n",
      "Epoch: [23/80], Training Loss: 91.48, Validation Loss: 122.89, Training MAE: 6.96, Validation MAE: 8.37\n",
      "Epoch: [24/80], Training Loss: 87.62, Validation Loss: 96.56, Training MAE: 6.85, Validation MAE: 7.06\n",
      "Best model saved at epoch 24 with validation MAE: 7.06\n",
      "Epoch: [25/80], Training Loss: 84.38, Validation Loss: 101.88, Training MAE: 6.72, Validation MAE: 7.24\n",
      "Epoch: [26/80], Training Loss: 82.22, Validation Loss: 113.27, Training MAE: 6.64, Validation MAE: 7.71\n",
      "Epoch: [27/80], Training Loss: 78.85, Validation Loss: 157.25, Training MAE: 6.51, Validation MAE: 8.96\n",
      "Epoch: [28/80], Training Loss: 75.23, Validation Loss: 97.56, Training MAE: 6.34, Validation MAE: 7.14\n",
      "Epoch: [29/80], Training Loss: 79.78, Validation Loss: 97.64, Training MAE: 6.51, Validation MAE: 6.96\n",
      "Best model saved at epoch 29 with validation MAE: 6.96\n",
      "Epoch: [30/80], Training Loss: 70.16, Validation Loss: 125.69, Training MAE: 6.17, Validation MAE: 8.35\n",
      "Epoch: [31/80], Training Loss: 70.48, Validation Loss: 131.55, Training MAE: 6.17, Validation MAE: 8.40\n",
      "Epoch: [32/80], Training Loss: 69.32, Validation Loss: 95.73, Training MAE: 6.13, Validation MAE: 6.99\n",
      "Epoch: [33/80], Training Loss: 62.86, Validation Loss: 101.92, Training MAE: 5.85, Validation MAE: 7.11\n",
      "Epoch: [34/80], Training Loss: 60.62, Validation Loss: 90.72, Training MAE: 5.74, Validation MAE: 6.95\n",
      "Best model saved at epoch 34 with validation MAE: 6.95\n",
      "Epoch: [35/80], Training Loss: 60.05, Validation Loss: 87.69, Training MAE: 5.72, Validation MAE: 6.71\n",
      "Best model saved at epoch 35 with validation MAE: 6.71\n",
      "Epoch: [36/80], Training Loss: 58.21, Validation Loss: 86.01, Training MAE: 5.63, Validation MAE: 6.68\n",
      "Best model saved at epoch 36 with validation MAE: 6.68\n",
      "Epoch: [37/80], Training Loss: 54.73, Validation Loss: 103.29, Training MAE: 5.45, Validation MAE: 7.33\n",
      "Epoch: [38/80], Training Loss: 54.99, Validation Loss: 119.99, Training MAE: 5.48, Validation MAE: 8.15\n",
      "Epoch: [39/80], Training Loss: 49.99, Validation Loss: 270.38, Training MAE: 5.23, Validation MAE: 12.61\n",
      "Epoch: [40/80], Training Loss: 50.43, Validation Loss: 90.27, Training MAE: 5.25, Validation MAE: 6.97\n",
      "Epoch: [41/80], Training Loss: 47.83, Validation Loss: 112.35, Training MAE: 5.11, Validation MAE: 7.27\n",
      "Epoch: [42/80], Training Loss: 48.60, Validation Loss: 99.31, Training MAE: 5.17, Validation MAE: 7.29\n",
      "Epoch: [43/80], Training Loss: 46.78, Validation Loss: 84.60, Training MAE: 5.08, Validation MAE: 6.65\n",
      "Best model saved at epoch 43 with validation MAE: 6.65\n",
      "Epoch: [44/80], Training Loss: 43.32, Validation Loss: 140.19, Training MAE: 4.89, Validation MAE: 8.17\n",
      "Epoch: [45/80], Training Loss: 43.04, Validation Loss: 122.40, Training MAE: 4.88, Validation MAE: 7.57\n",
      "Epoch: [46/80], Training Loss: 39.23, Validation Loss: 97.40, Training MAE: 4.71, Validation MAE: 6.91\n",
      "Epoch: [47/80], Training Loss: 38.17, Validation Loss: 108.83, Training MAE: 4.61, Validation MAE: 7.58\n",
      "Epoch: [48/80], Training Loss: 38.46, Validation Loss: 105.94, Training MAE: 4.61, Validation MAE: 7.12\n",
      "Epoch: [49/80], Training Loss: 35.56, Validation Loss: 97.01, Training MAE: 4.49, Validation MAE: 7.16\n",
      "Epoch: [50/80], Training Loss: 35.51, Validation Loss: 89.03, Training MAE: 4.44, Validation MAE: 6.68\n",
      "Epoch: [51/80], Training Loss: 36.35, Validation Loss: 103.91, Training MAE: 4.48, Validation MAE: 7.02\n",
      "Epoch: [52/80], Training Loss: 34.50, Validation Loss: 94.82, Training MAE: 4.39, Validation MAE: 6.97\n",
      "Epoch: [53/80], Training Loss: 33.92, Validation Loss: 88.45, Training MAE: 4.35, Validation MAE: 6.76\n",
      "Epoch: [54/80], Training Loss: 30.83, Validation Loss: 99.45, Training MAE: 4.17, Validation MAE: 7.30\n",
      "Epoch: [55/80], Training Loss: 31.72, Validation Loss: 94.48, Training MAE: 4.21, Validation MAE: 6.88\n",
      "Epoch: [56/80], Training Loss: 31.26, Validation Loss: 102.18, Training MAE: 4.18, Validation MAE: 7.34\n",
      "Epoch: [57/80], Training Loss: 29.11, Validation Loss: 91.39, Training MAE: 4.07, Validation MAE: 6.66\n",
      "Epoch: [58/80], Training Loss: 27.44, Validation Loss: 112.01, Training MAE: 3.94, Validation MAE: 7.28\n",
      "Epoch: [59/80], Training Loss: 26.77, Validation Loss: 128.61, Training MAE: 3.88, Validation MAE: 8.47\n",
      "Epoch: [60/80], Training Loss: 27.19, Validation Loss: 85.84, Training MAE: 3.90, Validation MAE: 6.70\n",
      "Epoch: [61/80], Training Loss: 27.35, Validation Loss: 98.46, Training MAE: 3.91, Validation MAE: 6.81\n",
      "Epoch: [62/80], Training Loss: 24.15, Validation Loss: 96.40, Training MAE: 3.71, Validation MAE: 7.09\n",
      "Epoch: [63/80], Training Loss: 23.55, Validation Loss: 91.23, Training MAE: 3.66, Validation MAE: 6.68\n",
      "Epoch: [64/80], Training Loss: 23.41, Validation Loss: 96.42, Training MAE: 3.63, Validation MAE: 7.06\n",
      "Epoch: [65/80], Training Loss: 23.22, Validation Loss: 90.95, Training MAE: 3.63, Validation MAE: 6.64\n",
      "Best model saved at epoch 65 with validation MAE: 6.64\n",
      "Epoch: [66/80], Training Loss: 22.44, Validation Loss: 113.64, Training MAE: 3.56, Validation MAE: 7.75\n",
      "Epoch: [67/80], Training Loss: 22.95, Validation Loss: 85.74, Training MAE: 3.60, Validation MAE: 6.53\n",
      "Best model saved at epoch 67 with validation MAE: 6.53\n",
      "Epoch: [68/80], Training Loss: 21.14, Validation Loss: 89.72, Training MAE: 3.47, Validation MAE: 6.66\n",
      "Epoch: [69/80], Training Loss: 22.16, Validation Loss: 123.27, Training MAE: 3.56, Validation MAE: 7.81\n",
      "Epoch: [70/80], Training Loss: 20.38, Validation Loss: 115.18, Training MAE: 3.40, Validation MAE: 7.78\n",
      "Epoch: [71/80], Training Loss: 20.23, Validation Loss: 87.74, Training MAE: 3.39, Validation MAE: 6.69\n",
      "Epoch: [72/80], Training Loss: 19.16, Validation Loss: 117.46, Training MAE: 3.30, Validation MAE: 7.93\n",
      "Epoch: [73/80], Training Loss: 18.68, Validation Loss: 94.58, Training MAE: 3.27, Validation MAE: 6.98\n",
      "Epoch: [74/80], Training Loss: 19.81, Validation Loss: 107.06, Training MAE: 3.35, Validation MAE: 7.62\n",
      "Epoch: [75/80], Training Loss: 19.39, Validation Loss: 136.80, Training MAE: 3.31, Validation MAE: 8.08\n",
      "Epoch: [76/80], Training Loss: 19.28, Validation Loss: 96.10, Training MAE: 3.30, Validation MAE: 7.15\n",
      "Epoch: [77/80], Training Loss: 17.15, Validation Loss: 89.59, Training MAE: 3.14, Validation MAE: 6.81\n",
      "Epoch: [78/80], Training Loss: 18.43, Validation Loss: 123.72, Training MAE: 3.24, Validation MAE: 8.26\n",
      "Epoch: [79/80], Training Loss: 17.26, Validation Loss: 144.32, Training MAE: 3.14, Validation MAE: 8.33\n",
      "Epoch: [80/80], Training Loss: 16.40, Validation Loss: 98.63, Training MAE: 3.05, Validation MAE: 7.18\n",
      "Training time:  38.4 minutes\n"
     ]
    }
   ],
   "source": [
    "# train model \n",
    "history = train(model, optimizer, loss_fn, train_loader, val_loader, NR_EPOCHS, writer, device, './Project/regression/pdc/pdc_regression_model')\n",
    "writer.close()"
   ]
  },
  {
   "cell_type": "markdown",
   "id": "380ba488",
   "metadata": {
    "papermill": {
     "duration": 0.012896,
     "end_time": "2024-10-06T11:31:14.736434",
     "exception": false,
     "start_time": "2024-10-06T11:31:14.723538",
     "status": "completed"
    },
    "tags": []
   },
   "source": [
    "### Training History"
   ]
  },
  {
   "cell_type": "code",
   "execution_count": 11,
   "id": "53730a8a",
   "metadata": {
    "papermill": {
     "duration": 0.266721,
     "end_time": "2024-10-06T11:31:15.016095",
     "exception": false,
     "start_time": "2024-10-06T11:31:14.749374",
     "status": "completed"
    },
    "tags": []
   },
   "outputs": [],
   "source": [
    "def plot_history(history, path_name):\n",
    "    # loss\n",
    "    loss_train = history['train_loss']\n",
    "    loss_val = history['val_loss']\n",
    "    epochs = range(NR_EPOCHS)\n",
    "    plt.plot(epochs, loss_train, 'g', label='Training loss')\n",
    "    plt.plot(epochs, loss_val, 'b', label='Validation loss')\n",
    "    plt.title('Training and validation loss')\n",
    "    plt.xlabel('Epochs')\n",
    "    plt.ylabel('Loss')\n",
    "    plt.legend()\n",
    "    plt.savefig(path_name + '_loss.png', bbox_inches='tight')\n",
    "    plt.show()\n",
    "\n",
    "    # accuracy\n",
    "    mae_train = history['train_mae']\n",
    "    mae_val = history['val_mae']\n",
    "    epochs = range(NR_EPOCHS)\n",
    "    plt.plot(epochs, mae_train, 'g', label='Training MAE')\n",
    "    plt.plot(epochs, mae_val, 'b', label='Validation MAE')\n",
    "    plt.title('Training and validation mean absolute error')\n",
    "    plt.xlabel('Epochs')\n",
    "    plt.ylabel('MAE')\n",
    "    plt.legend()\n",
    "    plt.savefig(path_name + '_mae.png', bbox_inches='tight')\n",
    "    plt.show()\n"
   ]
  },
  {
   "cell_type": "code",
   "execution_count": 12,
   "id": "f7cc617e",
   "metadata": {
    "papermill": {
     "duration": 0.258626,
     "end_time": "2024-10-06T11:31:15.288366",
     "exception": false,
     "start_time": "2024-10-06T11:31:15.029740",
     "status": "completed"
    },
    "tags": []
   },
   "outputs": [
    {
     "data": {
      "image/png": "[encoded data removed]",
      "text/plain": [
       "<Figure size 640x480 with 1 Axes>"
      ]
     },
     "metadata": {},
     "output_type": "display_data"
    },
    {
     "data": {
      "image/png": "[encoded data removed]",
      "text/plain": [
       "<Figure size 640x480 with 1 Axes>"
      ]
     },
     "metadata": {},
     "output_type": "display_data"
    }
   ],
   "source": [
    "plot_history(history,'./Project/regression/pdc/pdc_regression_model')"
   ]
  },
  {
   "cell_type": "markdown",
   "id": "1eafcab6",
   "metadata": {
    "papermill": {
     "duration": 0.014011,
     "end_time": "2024-10-06T11:31:15.316856",
     "exception": false,
     "start_time": "2024-10-06T11:31:15.302845",
     "status": "completed"
    },
    "tags": []
   },
   "source": [
    "### Test Model"
   ]
  },
  {
   "cell_type": "code",
   "execution_count": 13,
   "id": "7b885c85",
   "metadata": {
    "papermill": {
     "duration": 0.028349,
     "end_time": "2024-10-06T11:31:15.359067",
     "exception": false,
     "start_time": "2024-10-06T11:31:15.330718",
     "status": "completed"
    },
    "tags": []
   },
   "outputs": [],
   "source": [
    "def test(model, test_loader, loss_fn ,name):\n",
    "    test_loss = 0\n",
    "    test_mae_sum = 0\n",
    "    test_total = 0\n",
    "    total_absolute_test_errors = torch.zeros(3)\n",
    "\n",
    "    # create cuda events for timetracking\n",
    "    start = torch.cuda.Event(enable_timing=True)\n",
    "    end = torch.cuda.Event(enable_timing=True)\n",
    "\n",
    "    start.record()\n",
    "    with torch.no_grad():\n",
    "        for inputs, labels in test_loader:\n",
    "            inputs, labels = inputs.to(device), labels.to(device)\n",
    "            labels = labels.float().view(-1)\n",
    "            outputs = model(inputs)\n",
    "            loss = loss_fn(outputs, labels)\n",
    "\n",
    "            test_loss += loss.item() * inputs.size(0)\n",
    "            test_total += labels.size(0)\n",
    "            abs_error_test = torch.abs(outputs - labels)\n",
    "            test_mae_sum += abs_error_test.sum().item()\n",
    "\n",
    "            total_absolute_test_errors[0] += (abs_error_test <= 1).sum().item()\n",
    "            total_absolute_test_errors[1] += (abs_error_test <= 5).sum().item()\n",
    "            total_absolute_test_errors[2] += (abs_error_test <= 10).sum().item()\n",
    "\n",
    "    end.record()\n",
    "    torch.cuda.synchronize()\n",
    "    test_loss /= test_total\n",
    "    test_mae = test_mae_sum / test_total\n",
    "    within_years = total_absolute_test_errors / test_total\n",
    "\n",
    "    print(f'Model: {name},  Test Loss: {test_loss:.2f}, Test MAE: {test_mae:.2f}')\n",
    "    print(f'Within 1 year: {within_years[0]:.2%}')\n",
    "    print(f'Within 5 years: {within_years[1]:.2%}')\n",
    "    print(f'Within 10 years: {within_years[2]:.2%}')\n",
    "    print(f'Time:  {round(start.elapsed_time(end), 1) / 1000} seconds')"
   ]
  },
  {
   "cell_type": "code",
   "execution_count": 15,
   "id": "9f719a3f",
   "metadata": {
    "papermill": {
     "duration": 39.917463,
     "end_time": "2024-10-06T11:31:55.290456",
     "exception": false,
     "start_time": "2024-10-06T11:31:15.372993",
     "status": "completed"
    },
    "tags": []
   },
   "outputs": [
    {
     "name": "stdout",
     "output_type": "stream",
     "text": [
      "Model: PDCNet,  Test Loss: 98.51, Test MAE: 6.98\n",
      "Within 1 year: 13.64%\n",
      "Within 5 years: 51.34%\n",
      "Within 10 years: 75.60%\n",
      "Time:  3.2209 seconds\n"
     ]
    }
   ],
   "source": [
    "# load models\n",
    "pdc_regression_model = PDCModel().to(device)\n",
    "pdc_regression_model.load_state_dict(torch.load('./Project/regression/pdc/pdc_regression_model'))\n",
    "\n",
    "test(pdc_regression_model.to(device), test_loader, loss_fn, 'PDCNet')"
   ]
  }
 ],
 "metadata": {
  "kaggle": {
   "accelerator": "gpu",
   "dataSources": [
    {
     "datasetId": 44109,
     "sourceId": 78156,
     "sourceType": "datasetVersion"
    }
   ],
   "dockerImageVersionId": 30302,
   "isGpuEnabled": true,
   "isInternetEnabled": true,
   "language": "python",
   "sourceType": "notebook"
  },
  "kernelspec": {
   "display_name": "Python 3 (ipykernel)",
   "language": "python",
   "name": "python3"
  },
  "language_info": {
   "codemirror_mode": {
    "name": "ipython",
    "version": 3
   },
   "file_extension": ".py",
   "mimetype": "text/x-python",
   "name": "python",
   "nbconvert_exporter": "python",
   "pygments_lexer": "ipython3",
   "version": "3.12.6"
  },
  "papermill": {
   "default_parameters": {},
   "duration": 7847.006969,
   "end_time": "2024-10-06T11:31:58.682425",
   "environment_variables": {},
   "exception": null,
   "input_path": "__notebook__.ipynb",
   "output_path": "__notebook__.ipynb",
   "parameters": {},
   "start_time": "2024-10-06T09:21:11.675456",
   "version": "2.3.4"
  }
 },
 "nbformat": 4,
 "nbformat_minor": 5
}
