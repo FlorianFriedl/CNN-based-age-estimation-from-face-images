{
 "cells": [
  {
   "cell_type": "markdown",
   "id": "977680d6",
   "metadata": {
    "papermill": {
     "duration": 0.007892,
     "end_time": "2024-10-06T09:21:21.206404",
     "exception": false,
     "start_time": "2024-10-06T09:21:21.198512",
     "status": "completed"
    },
    "tags": []
   },
   "source": [
    "# Age Estimation using Pixel Difference Convolution"
   ]
  },
  {
   "cell_type": "markdown",
   "id": "61dffbb7-ec5c-407d-ac4e-0b88ae32b775",
   "metadata": {},
   "source": [
    "### Imports"
   ]
  },
  {
   "cell_type": "code",
   "execution_count": 1,
   "id": "52c91a0d",
   "metadata": {
    "id": "Ow9CX6i9bF7s",
    "papermill": {
     "duration": 20.4897,
     "end_time": "2024-10-06T09:21:41.702754",
     "exception": false,
     "start_time": "2024-10-06T09:21:21.213054",
     "status": "completed"
    },
    "tags": []
   },
   "outputs": [],
   "source": [
    "import numpy as np\n",
    "import matplotlib.pyplot as plt\n",
    "from glob import glob\n",
    "\n",
    "import math\n",
    "import torch\n",
    "import torch.nn as nn\n",
    "import torch.nn.functional as F\n",
    "import torchvision\n",
    "from torchsummary import summary\n",
    "from torchvision import transforms, datasets\n",
    "from torch.utils.tensorboard import SummaryWriter\n",
    "from torch.utils.data import Dataset, DataLoader, random_split\n",
    "from collections import Counter\n",
    "\n",
    "import warnings\n",
    "warnings.filterwarnings(\"ignore\", category=FutureWarning)\n",
    "\n",
    "import pandas as pd\n",
    "import os\n",
    "import matplotlib.pyplot as plt\n",
    "%matplotlib inline\n",
    "\n",
    "from PIL import Image\n",
    "import shutil\n",
    "\n",
    "import copy\n",
    "\n",
    "from pathlib import Path\n",
    "from datetime import datetime\n",
    "from sklearn.metrics import mean_absolute_error\n",
    "\n",
    "from torch.utils.tensorboard import SummaryWriter"
   ]
  },
  {
   "cell_type": "markdown",
   "id": "5a00a1aa",
   "metadata": {
    "papermill": {
     "duration": 0.006707,
     "end_time": "2024-10-06T09:21:41.716772",
     "exception": false,
     "start_time": "2024-10-06T09:21:41.710065",
     "status": "completed"
    },
    "tags": []
   },
   "source": [
    "## Age estimation in age groups"
   ]
  },
  {
   "cell_type": "markdown",
   "id": "275c54bf",
   "metadata": {
    "papermill": {
     "duration": 0.00655,
     "end_time": "2024-10-06T09:21:41.730473",
     "exception": false,
     "start_time": "2024-10-06T09:21:41.723923",
     "status": "completed"
    },
    "tags": []
   },
   "source": [
    "### Set image size and variables "
   ]
  },
  {
   "cell_type": "code",
   "execution_count": 2,
   "id": "3f796b8f",
   "metadata": {
    "id": "Cq39lS9tcKIC",
    "papermill": {
     "duration": 0.015721,
     "end_time": "2024-10-06T09:21:41.753038",
     "exception": false,
     "start_time": "2024-10-06T09:21:41.737317",
     "status": "completed"
    },
    "tags": []
   },
   "outputs": [],
   "source": [
    "IMAGE_SIZE = [200,200]\n",
    "BASE_DIR = './UTKFace/'\n",
    "NR_EPOCHS = 80\n",
    "BATCH_SIZE = 30\n",
    "NUM_CLASSES = 116"
   ]
  },
  {
   "cell_type": "markdown",
   "id": "b35929b1",
   "metadata": {
    "papermill": {
     "duration": 0.006623,
     "end_time": "2024-10-06T09:21:41.820818",
     "exception": false,
     "start_time": "2024-10-06T09:21:41.814195",
     "status": "completed"
    },
    "tags": []
   },
   "source": [
    "### Read input dataset and split into training, validation and test set  "
   ]
  },
  {
   "cell_type": "code",
   "execution_count": 3,
   "id": "85663886",
   "metadata": {
    "papermill": {
     "duration": 1.082405,
     "end_time": "2024-10-06T09:21:42.910061",
     "exception": false,
     "start_time": "2024-10-06T09:21:41.827656",
     "status": "completed"
    },
    "tags": []
   },
   "outputs": [],
   "source": [
    "class UTKFaceDataset(Dataset):\n",
    "    def __init__(self, root_dir, transform=None):\n",
    "        self.root_dir = root_dir\n",
    "        self.transform = transform\n",
    "        self.images = [file for file in os.listdir(root_dir) if file.endswith('.jpg') or file.endswith('.png')]\n",
    "\n",
    "    def __len__(self):\n",
    "        return len(self.images)\n",
    "\n",
    "    def __getitem__(self, idx):\n",
    "        img_name = os.path.join(self.root_dir, self.images[idx])\n",
    "        image = Image.open(img_name)\n",
    "        \n",
    "        age = int(self.images[idx].split('_')[0])\n",
    "        \n",
    "        if self.transform:\n",
    "            image = self.transform(image)\n",
    "        \n",
    "        return image, age\n",
    "\n",
    "# transform\n",
    "transform = transforms.Compose([\n",
    "    transforms.Resize(IMAGE_SIZE),\n",
    "    transforms.ToTensor(),\n",
    "    transforms.Normalize(mean=[0.485, 0.456, 0.406], std=[0.229, 0.224, 0.225])\n",
    "])\n",
    "\n",
    "# laod dataset\n",
    "full_dataset = UTKFaceDataset(root_dir=BASE_DIR, transform=transform)\n",
    "\n",
    "# split dataset accordingly \n",
    "total_size = len(full_dataset)\n",
    "train_size = int(0.7 * total_size)\n",
    "val_size = int(0.15 * total_size)\n",
    "test_size = total_size - train_size - val_size\n",
    "\n",
    "# fixed seed for same split across models\n",
    "generator = torch.Generator().manual_seed(116)\n",
    "\n",
    "train_dataset, val_dataset, test_dataset = random_split(\n",
    "    full_dataset, [train_size, val_size, test_size], generator=generator\n",
    ")"
   ]
  },
  {
   "cell_type": "code",
   "execution_count": 4,
   "id": "6ebd703b",
   "metadata": {
    "papermill": {
     "duration": 0.01886,
     "end_time": "2024-10-06T09:21:42.936049",
     "exception": false,
     "start_time": "2024-10-06T09:21:42.917189",
     "status": "completed"
    },
    "tags": []
   },
   "outputs": [
    {
     "name": "stdout",
     "output_type": "stream",
     "text": [
      "Total dataset size: 23708\n",
      "Train set size: 16595\n",
      "Validation set size: 3556\n",
      "Test set size: 3557\n"
     ]
    }
   ],
   "source": [
    "# create DataLoaders\n",
    "train_loader = DataLoader(train_dataset, batch_size=BATCH_SIZE, shuffle=True)\n",
    "val_loader = DataLoader(val_dataset, batch_size=BATCH_SIZE, shuffle=False)\n",
    "test_loader = DataLoader(test_dataset, batch_size=BATCH_SIZE, shuffle=False)\n",
    "\n",
    "print(f\"Total dataset size: {total_size}\")\n",
    "print(f\"Train set size: {len(train_dataset)}\")\n",
    "print(f\"Validation set size: {len(val_dataset)}\")\n",
    "print(f\"Test set size: {len(test_dataset)}\")"
   ]
  },
  {
   "cell_type": "markdown",
   "id": "c7f554b1",
   "metadata": {
    "papermill": {
     "duration": 0.006638,
     "end_time": "2024-10-06T09:21:42.949547",
     "exception": false,
     "start_time": "2024-10-06T09:21:42.942909",
     "status": "completed"
    },
    "tags": []
   },
   "source": [
    "## Normal Model"
   ]
  },
  {
   "cell_type": "code",
   "execution_count": 5,
   "id": "89bec763",
   "metadata": {
    "papermill": {
     "duration": 0.074138,
     "end_time": "2024-10-06T09:21:43.030443",
     "exception": false,
     "start_time": "2024-10-06T09:21:42.956305",
     "status": "completed"
    },
    "tags": []
   },
   "outputs": [
    {
     "name": "stdout",
     "output_type": "stream",
     "text": [
      "Using device: cuda\n"
     ]
    }
   ],
   "source": [
    "# check CUDA availability\n",
    "device = torch.device('cuda' if torch.cuda.is_available() else 'cpu')\n",
    "print(f\"Using device: {device}\")"
   ]
  },
  {
   "cell_type": "markdown",
   "id": "dbfd8cf5",
   "metadata": {
    "papermill": {
     "duration": 0.006685,
     "end_time": "2024-10-06T09:21:43.044323",
     "exception": false,
     "start_time": "2024-10-06T09:21:43.037638",
     "status": "completed"
    },
    "tags": []
   },
   "source": [
    "### Create Model"
   ]
  },
  {
   "cell_type": "code",
   "execution_count": 6,
   "id": "a43c9c89",
   "metadata": {
    "papermill": {
     "duration": 11.155262,
     "end_time": "2024-10-06T09:21:54.206352",
     "exception": false,
     "start_time": "2024-10-06T09:21:43.051090",
     "status": "completed"
    },
    "tags": []
   },
   "outputs": [
    {
     "name": "stdout",
     "output_type": "stream",
     "text": [
      "PDCModel(\n",
      "  (features): Sequential(\n",
      "    (0): PDCBlock(\n",
      "      (pool): MaxPool2d(kernel_size=2, stride=2, padding=0, dilation=1, ceil_mode=False)\n",
      "      (shortcut): Conv2d(3, 96, kernel_size=(1, 1), stride=(1, 1))\n",
      "      (conv1): Conv2d()\n",
      "      (relu2): ReLU()\n",
      "      (conv2): Conv2d(3, 96, kernel_size=(1, 1), stride=(1, 1), bias=False)\n",
      "    )\n",
      "    (1): BatchNorm2d(96, eps=1e-05, momentum=0.1, affine=True, track_running_stats=True)\n",
      "    (2): ReLU()\n",
      "    (3): PDCBlock(\n",
      "      (pool): MaxPool2d(kernel_size=2, stride=2, padding=0, dilation=1, ceil_mode=False)\n",
      "      (shortcut): Conv2d(96, 256, kernel_size=(1, 1), stride=(1, 1))\n",
      "      (conv1): Conv2d()\n",
      "      (relu2): ReLU()\n",
      "      (conv2): Conv2d(96, 256, kernel_size=(1, 1), stride=(1, 1), bias=False)\n",
      "    )\n",
      "    (4): BatchNorm2d(256, eps=1e-05, momentum=0.1, affine=True, track_running_stats=True)\n",
      "    (5): ReLU()\n",
      "    (6): PDCBlock(\n",
      "      (pool): MaxPool2d(kernel_size=2, stride=2, padding=0, dilation=1, ceil_mode=False)\n",
      "      (shortcut): Conv2d(256, 384, kernel_size=(1, 1), stride=(1, 1))\n",
      "      (conv1): Conv2d()\n",
      "      (relu2): ReLU()\n",
      "      (conv2): Conv2d(256, 384, kernel_size=(1, 1), stride=(1, 1), bias=False)\n",
      "    )\n",
      "    (7): BatchNorm2d(384, eps=1e-05, momentum=0.1, affine=True, track_running_stats=True)\n",
      "    (8): ReLU()\n",
      "    (9): PDCBlock(\n",
      "      (conv1): Conv2d()\n",
      "      (relu2): ReLU()\n",
      "      (conv2): Conv2d(384, 384, kernel_size=(1, 1), stride=(1, 1), bias=False)\n",
      "    )\n",
      "    (10): BatchNorm2d(384, eps=1e-05, momentum=0.1, affine=True, track_running_stats=True)\n",
      "    (11): ReLU()\n",
      "    (12): AdaptiveAvgPool2d(output_size=(1, 1))\n",
      "  )\n",
      "  (classifier): Sequential(\n",
      "    (0): Flatten(start_dim=1, end_dim=-1)\n",
      "    (1): Linear(in_features=384, out_features=512, bias=True)\n",
      "    (2): ReLU()\n",
      "    (3): Dropout(p=0.25, inplace=False)\n",
      "    (4): Linear(in_features=512, out_features=512, bias=True)\n",
      "    (5): ReLU()\n",
      "    (6): Dropout(p=0.25, inplace=False)\n",
      "    (7): Linear(in_features=512, out_features=116, bias=True)\n",
      "  )\n",
      ")\n",
      "----------------------------------------------------------------\n",
      "        Layer (type)               Output Shape         Param #\n",
      "================================================================\n",
      "         MaxPool2d-1          [-1, 3, 100, 100]               0\n",
      "            Conv2d-2          [-1, 3, 100, 100]              27\n",
      "              ReLU-3          [-1, 3, 100, 100]               0\n",
      "            Conv2d-4         [-1, 96, 100, 100]             288\n",
      "            Conv2d-5         [-1, 96, 100, 100]             384\n",
      "          PDCBlock-6         [-1, 96, 100, 100]               0\n",
      "       BatchNorm2d-7         [-1, 96, 100, 100]             192\n",
      "              ReLU-8         [-1, 96, 100, 100]               0\n",
      "         MaxPool2d-9           [-1, 96, 50, 50]               0\n",
      "           Conv2d-10           [-1, 96, 50, 50]             864\n",
      "             ReLU-11           [-1, 96, 50, 50]               0\n",
      "           Conv2d-12          [-1, 256, 50, 50]          24,576\n",
      "           Conv2d-13          [-1, 256, 50, 50]          24,832\n",
      "         PDCBlock-14          [-1, 256, 50, 50]               0\n",
      "      BatchNorm2d-15          [-1, 256, 50, 50]             512\n",
      "             ReLU-16          [-1, 256, 50, 50]               0\n",
      "        MaxPool2d-17          [-1, 256, 25, 25]               0\n",
      "           Conv2d-18          [-1, 256, 25, 25]           2,304\n",
      "             ReLU-19          [-1, 256, 25, 25]               0\n",
      "           Conv2d-20          [-1, 384, 25, 25]          98,304\n",
      "           Conv2d-21          [-1, 384, 25, 25]          98,688\n",
      "         PDCBlock-22          [-1, 384, 25, 25]               0\n",
      "      BatchNorm2d-23          [-1, 384, 25, 25]             768\n",
      "             ReLU-24          [-1, 384, 25, 25]               0\n",
      "           Conv2d-25          [-1, 384, 25, 25]           3,456\n",
      "             ReLU-26          [-1, 384, 25, 25]               0\n",
      "           Conv2d-27          [-1, 384, 25, 25]         147,456\n",
      "         PDCBlock-28          [-1, 384, 25, 25]               0\n",
      "      BatchNorm2d-29          [-1, 384, 25, 25]             768\n",
      "             ReLU-30          [-1, 384, 25, 25]               0\n",
      "AdaptiveAvgPool2d-31            [-1, 384, 1, 1]               0\n",
      "          Flatten-32                  [-1, 384]               0\n",
      "           Linear-33                  [-1, 512]         197,120\n",
      "             ReLU-34                  [-1, 512]               0\n",
      "          Dropout-35                  [-1, 512]               0\n",
      "           Linear-36                  [-1, 512]         262,656\n",
      "             ReLU-37                  [-1, 512]               0\n",
      "          Dropout-38                  [-1, 512]               0\n",
      "           Linear-39                  [-1, 116]          59,508\n",
      "================================================================\n",
      "Total params: 922,703\n",
      "Trainable params: 922,703\n",
      "Non-trainable params: 0\n",
      "----------------------------------------------------------------\n",
      "Input size (MB): 0.46\n",
      "Forward/backward pass size (MB): 91.05\n",
      "Params size (MB): 3.52\n",
      "Estimated Total Size (MB): 95.03\n",
      "----------------------------------------------------------------\n",
      "Output shape: torch.Size([1, 116])\n"
     ]
    },
    {
     "name": "stderr",
     "output_type": "stream",
     "text": [
      "/tmp/ipykernel_7235/4109229146.py:72: UserWarning: The torch.cuda.*DtypeTensor constructors are no longer recommended. It's best to use methods such as torch.tensor(data, dtype=*, device='cuda') to create tensors. (Triggered internally at ../torch/csrc/tensor/python_tensor.cpp:78.)\n",
      "  buffer = torch.cuda.FloatTensor(shape[0], shape[1], 5 * 5).fill_(0)\n"
     ]
    }
   ],
   "source": [
    "class Conv2d(nn.Module):\n",
    "    def __init__(self, pdc, in_channels, out_channels, kernel_size, stride=1, padding=0, dilation=1, groups=1, bias=False):\n",
    "        super(Conv2d, self).__init__()\n",
    "        if in_channels % groups != 0:\n",
    "            raise ValueError('in_channels must be divisible by groups')\n",
    "        if out_channels % groups != 0:\n",
    "            raise ValueError('out_channels must be divisible by groups')\n",
    "        self.in_channels = in_channels\n",
    "        self.out_channels = out_channels\n",
    "        self.kernel_size = kernel_size\n",
    "        self.stride = stride\n",
    "        self.padding = padding\n",
    "        self.dilation = dilation\n",
    "        self.groups = groups\n",
    "        self.weight = nn.Parameter(torch.Tensor(out_channels, in_channels // groups, kernel_size, kernel_size))\n",
    "        if bias:\n",
    "            self.bias = nn.Parameter(torch.Tensor(out_channels))\n",
    "        else:\n",
    "            self.register_parameter('bias', None)\n",
    "        self.reset_parameters()\n",
    "        self.pdc = self.create_conv_func(pdc)\n",
    "\n",
    "    def reset_parameters(self):\n",
    "        nn.init.kaiming_uniform_(self.weight, a=math.sqrt(5))\n",
    "        if self.bias is not None:\n",
    "            fan_in, _ = nn.init._calculate_fan_in_and_fan_out(self.weight)\n",
    "            bound = 1 / math.sqrt(fan_in)\n",
    "            nn.init.uniform_(self.bias, -bound, bound)\n",
    "\n",
    "    def create_conv_func(self, op_type):\n",
    "        if op_type == 'cv':\n",
    "            return F.conv2d\n",
    "        elif op_type == 'cd':\n",
    "            return self.cd_conv\n",
    "        elif op_type == 'ad':\n",
    "            return self.ad_conv\n",
    "        elif op_type == 'rd':\n",
    "            return self.rd_conv\n",
    "        else:\n",
    "            raise ValueError(f\"Unknown op type: {op_type}\")\n",
    "\n",
    "    def cd_conv(self, x, weights, bias=None, stride=1, padding=0, dilation=1, groups=1):\n",
    "        assert dilation in [1, 2], 'dilation for cd_conv should be in 1 or 2'\n",
    "        assert weights.size(2) == 3 and weights.size(3) == 3, 'kernel size for cd_conv should be 3x3'\n",
    "        assert padding == dilation, 'padding for cd_conv set wrong'\n",
    "        \n",
    "        weights_c = weights.sum(dim=[2, 3], keepdim=True)\n",
    "        yc = F.conv2d(x, weights_c, stride=stride, padding=0, groups=groups)\n",
    "        y = F.conv2d(x, weights, bias, stride=stride, padding=padding, dilation=dilation, groups=groups)\n",
    "        return y - yc\n",
    "\n",
    "    def ad_conv(self, x, weights, bias=None, stride=1, padding=0, dilation=1, groups=1): \n",
    "        assert dilation in [1, 2], 'dilation for ad_conv should be in 1 or 2'\n",
    "        assert weights.size(2) == 3 and weights.size(3) == 3, 'kernel size for ad_conv should be 3x3'\n",
    "        assert padding == dilation, 'padding for ad_conv set wrong'\n",
    "        \n",
    "        shape = weights.shape\n",
    "        weights = weights.view(shape[0], shape[1], -1)\n",
    "        weights_conv = (weights - weights[:, :, [3, 0, 1, 6, 4, 2, 7, 8, 5]]).view(shape)\n",
    "        y = F.conv2d(x, weights_conv, bias, stride=stride, padding=padding, dilation=dilation, groups=groups)\n",
    "        return y\n",
    "\n",
    "    def rd_conv(self, x, weights, bias=None, stride=1, padding=0, dilation=1, groups=1):\n",
    "        assert dilation in [1, 2], 'dilation for rd_conv should be in 1 or 2'\n",
    "        assert weights.size(2) == 3 and weights.size(3) == 3, 'kernel size for rd_conv should be 3x3'\n",
    "        \n",
    "        padding = 2 * dilation\n",
    "        shape = weights.shape\n",
    "        if weights.is_cuda:\n",
    "            buffer = torch.cuda.FloatTensor(shape[0], shape[1], 5 * 5).fill_(0)\n",
    "        else:\n",
    "            buffer = torch.zeros(shape[0], shape[1], 5 * 5)\n",
    "        weights = weights.view(shape[0], shape[1], -1)\n",
    "        buffer[:, :, [0, 2, 4, 10, 14, 20, 22, 24]] = weights[:, :, 1:]\n",
    "        buffer[:, :, [6, 7, 8, 11, 13, 16, 17, 18]] = -weights[:, :, 1:]\n",
    "        buffer[:, :, 12] = 0\n",
    "        buffer = buffer.view(shape[0], shape[1], 5, 5)\n",
    "        y = F.conv2d(x, buffer, bias, stride=stride, padding=padding, dilation=dilation, groups=groups)\n",
    "        return y\n",
    "\n",
    "    def forward(self, input):\n",
    "        input = input.to(self.weight.device)\n",
    "        return self.pdc(input, self.weight, self.bias, self.stride, self.padding, self.dilation, self.groups)\n",
    "\n",
    "class PDCBlock(nn.Module):\n",
    "    def __init__(self, pdc, inplane, outplane, stride=1):\n",
    "        super(PDCBlock, self).__init__()\n",
    "        self.stride = stride\n",
    "        \n",
    "        if self.stride > 1:\n",
    "            self.pool = nn.MaxPool2d(kernel_size=2, stride=2)\n",
    "            self.shortcut = nn.Conv2d(inplane, outplane, kernel_size=1, padding=0)\n",
    "        \n",
    "        self.conv1 = Conv2d(pdc, inplane, inplane, kernel_size=3, padding=1, groups=inplane, bias=False)\n",
    "        self.relu2 = nn.ReLU()\n",
    "        self.conv2 = nn.Conv2d(inplane, outplane, kernel_size=1, padding=0, bias=False)\n",
    "\n",
    "    def forward(self, x):\n",
    "        if self.stride > 1:\n",
    "            x = self.pool(x)\n",
    "        y = self.conv1(x)\n",
    "        y = self.relu2(y)\n",
    "        y = self.conv2(y)\n",
    "        if self.stride > 1:\n",
    "            x = self.shortcut(x)\n",
    "        y = y + x\n",
    "        return y\n",
    "\n",
    "class PDCModel(nn.Module):\n",
    "    def __init__(self, num_classes=NUM_CLASSES):\n",
    "        super(PDCModel, self).__init__()\n",
    "        ##  using short version of 'carv4' cd, ad, rd, cv\n",
    "        self.features = nn.Sequential(\n",
    "            PDCBlock('cd', 3, 96, stride=2), \n",
    "            nn.BatchNorm2d(96),\n",
    "            nn.ReLU(),\n",
    "            \n",
    "            PDCBlock('ad', 96, 256, stride=2), \n",
    "            nn.BatchNorm2d(256),\n",
    "            nn.ReLU(),\n",
    "            \n",
    "            PDCBlock('rd', 256, 384, stride=2), \n",
    "            nn.BatchNorm2d(384),\n",
    "            nn.ReLU(),\n",
    "            \n",
    "            PDCBlock('cv', 384, 384, stride=1),  \n",
    "            nn.BatchNorm2d(384),\n",
    "            nn.ReLU(),\n",
    "            \n",
    "            nn.AdaptiveAvgPool2d((1, 1)) \n",
    "        )\n",
    "        \n",
    "        self.classifier = nn.Sequential(\n",
    "            nn.Flatten(),\n",
    "            nn.Linear(384, 512),\n",
    "            nn.ReLU(),\n",
    "            nn.Dropout(0.25),\n",
    "            nn.Linear(512, 512),\n",
    "            nn.ReLU(),\n",
    "            nn.Dropout(0.25),\n",
    "            nn.Linear(512, num_classes)\n",
    "        )\n",
    "        \n",
    "    def forward(self, x):\n",
    "        x = self.features(x)\n",
    "        x = self.classifier(x)\n",
    "        return x\n",
    "\n",
    "# instantiate model\n",
    "model = PDCModel(NUM_CLASSES).to(device)\n",
    "\n",
    "# model summary\n",
    "print(model)\n",
    "\n",
    "summary(model,(3,200,200))\n",
    "# sample input\n",
    "sample_input = torch.randn(1, 3, 200, 200).to(device)\n",
    "output = model(sample_input)\n",
    "print(f\"Output shape: {output.shape}\")"
   ]
  },
  {
   "cell_type": "code",
   "execution_count": 7,
   "id": "7c3cda36-961e-4c64-804b-ea2e9956cada",
   "metadata": {},
   "outputs": [],
   "source": [
    "writer = SummaryWriter('./Project/classes/runs/pdc_new', comment='PDC_Classes_Model')\n",
    "#writer.add_graph(model, sample_input)"
   ]
  },
  {
   "cell_type": "code",
   "execution_count": 8,
   "id": "663b8f9f",
   "metadata": {
    "papermill": {
     "duration": 0.016248,
     "end_time": "2024-10-06T09:21:54.229951",
     "exception": false,
     "start_time": "2024-10-06T09:21:54.213703",
     "status": "completed"
    },
    "tags": []
   },
   "outputs": [],
   "source": [
    "optimizer = torch.optim.SGD(model.parameters(), lr=0.0001, momentum=0.9)\n",
    "loss_fn = torch.nn.CrossEntropyLoss()\n",
    "loss_fn = loss_fn.to(device)\n",
    "\n",
    "# define age_classes tensor\n",
    "age_classes = torch.tensor([i for i in range(1, NUM_CLASSES+1)]).to(device)"
   ]
  },
  {
   "cell_type": "markdown",
   "id": "8c232efb-6274-41d4-834a-186108cd62be",
   "metadata": {},
   "source": [
    "### Train model"
   ]
  },
  {
   "cell_type": "code",
   "execution_count": 9,
   "id": "810e59e2",
   "metadata": {
    "papermill": {
     "duration": 0.026402,
     "end_time": "2024-10-06T09:21:54.263486",
     "exception": false,
     "start_time": "2024-10-06T09:21:54.237084",
     "status": "completed"
    },
    "tags": []
   },
   "outputs": [],
   "source": [
    "def train(model, optimizer, loss_fn, train_loader, val_loader, epochs, summary_writer, device, save_path):\n",
    "    \n",
    "    # create history for graphs\n",
    "    history = {\n",
    "        'loss': [],\n",
    "        'val_loss': [],\n",
    "        'accuracy': [],\n",
    "        'val_accuracy': [],\n",
    "        'mae': [],\n",
    "        'val_mae': []\n",
    "    }\n",
    "    # create cuda events for timetracking\n",
    "    start = torch.cuda.Event(enable_timing=True)\n",
    "    end = torch.cuda.Event(enable_timing=True)\n",
    "    \n",
    "    # init variables for saving\n",
    "    best_val_mae = float('Inf') \n",
    "    best_model_wts = copy.deepcopy(model.state_dict()) \n",
    "    \n",
    "    start.record()\n",
    "    for epoch in range(epochs):\n",
    "        training_loss = 0.0\n",
    "        valid_loss = 0.0\n",
    "        num_train = 0\n",
    "        num_train_correct = 0\n",
    "        total_train_mae = 0.0\n",
    "        total_val_mae = 0.0\n",
    "        \n",
    "        model.train()\n",
    "        for batch in train_loader:\n",
    "            optimizer.zero_grad()\n",
    "            inputs, targets = batch\n",
    "            # shift labels from 1-116 to 0-115 for loss\n",
    "            targets_model = targets - 1\n",
    "            inputs, targets_model = inputs.to(device), targets_model.to(device)\n",
    "            targets = targets.to(device)\n",
    "            outputs = model(inputs)\n",
    "            \n",
    "            loss = loss_fn(outputs, targets_model)\n",
    "            loss.backward()\n",
    "            optimizer.step()\n",
    "            training_loss += loss.item()\n",
    "            _, predicted = outputs.max(1)\n",
    "            predicted = predicted + 1\n",
    "            num_train += targets.size(0)\n",
    "            num_train_correct += predicted.eq(targets).sum().item()\n",
    "\n",
    "            probabilities = F.softmax(outputs, dim=1)\n",
    "            expected_age = torch.sum(probabilities * age_classes, dim=1) + 1\n",
    "            total_train_mae += torch.abs(expected_age - targets.float()).sum().item()\n",
    "                  \n",
    "        training_loss /= len(train_loader)\n",
    "        train_accuracy = num_train_correct / num_train\n",
    "        train_mae = total_train_mae / num_train\n",
    "\n",
    "        if epoch+1 == NR_EPOCHS:\n",
    "            end.record()\n",
    "            torch.cuda.synchronize()\n",
    "        \n",
    "        model.eval()\n",
    "        num_val = 0\n",
    "        num_val_correct = 0\n",
    "        with torch.no_grad():\n",
    "            for batch in val_loader:\n",
    "                inputs, targets = batch\n",
    "                # shift labels from 1-116 to 0-115 for loss\n",
    "                targets_model = targets - 1\n",
    "                inputs, targets_model = inputs.to(device), targets_model.to(device)\n",
    "                targets = targets.to(device)\n",
    "                outputs = model(inputs)\n",
    "                \n",
    "                loss = loss_fn(outputs, targets_model)\n",
    "                valid_loss += loss.item()\n",
    "                _, predicted = outputs.max(1)\n",
    "                predicted = predicted + 1\n",
    "                num_val += targets.size(0)\n",
    "                num_val_correct += predicted.eq(targets).sum().item() \n",
    "\n",
    "                probabilities = F.softmax(outputs, dim=1)\n",
    "                expected_age = torch.sum(probabilities * age_classes, dim=1) + 1\n",
    "                total_val_mae += torch.abs(expected_age - targets.float()).sum().item()\n",
    "        \n",
    "        valid_loss /= len(val_loader)\n",
    "        val_accuracy = num_val_correct / num_val\n",
    "        val_mae = total_val_mae / num_val\n",
    "\n",
    "        summary_writer.add_scalar('Train Loss', training_loss, epoch+1)\n",
    "        summary_writer.add_scalar('Val Loss', valid_loss, epoch+1)\n",
    "        summary_writer.add_scalar('Accuracy', train_accuracy, epoch+1)\n",
    "        summary_writer.add_scalar('Validation Accuracy', val_accuracy, epoch+1)\n",
    "        summary_writer.add_scalar('Train MAE', train_mae, epoch+1)\n",
    "        summary_writer.add_scalar('Val MAE', val_mae, epoch+1)\n",
    "    \n",
    "        history['loss'].append(training_loss)\n",
    "        history['val_loss'].append(valid_loss)\n",
    "        history['accuracy'].append(train_accuracy)\n",
    "        history['val_accuracy'].append(val_accuracy)\n",
    "        history['mae'].append(train_mae)\n",
    "        history['val_mae'].append(val_mae)\n",
    "\n",
    "        print(f'Epoch [{epoch+1}/{NR_EPOCHS}], Training Loss: {training_loss:.2f}, Validation Loss: {valid_loss:.2f}, '\n",
    "              f'Training Accuracy: {train_accuracy:.2f}, Validation Accuracy: {val_accuracy:.2f}, Training MAE: {train_mae:.2f}, Validation MAE: {val_mae:.2f}')\n",
    "        \n",
    "        if val_mae < best_val_mae:\n",
    "            best_val_mae = val_mae\n",
    "            best_model_wts = copy.deepcopy(model.state_dict())\n",
    "            torch.save(best_model_wts, save_path)\n",
    "            print(f\"Best model saved at epoch {epoch+1} with validation accuracy: {best_val_mae:.2f}\")\n",
    "\n",
    "    print(f'Training time:  {round(start.elapsed_time(end), 1) / 60000} minutes')    \n",
    "    return history"
   ]
  },
  {
   "cell_type": "code",
   "execution_count": 10,
   "id": "ee7cfdb3",
   "metadata": {
    "papermill": {
     "duration": 7760.439938,
     "end_time": "2024-10-06T11:31:14.710472",
     "exception": false,
     "start_time": "2024-10-06T09:21:54.270534",
     "status": "completed"
    },
    "tags": []
   },
   "outputs": [
    {
     "name": "stdout",
     "output_type": "stream",
     "text": [
      "Epoch [1/80], Training Loss: 4.72, Validation Loss: 4.68, Training Accuracy: 0.08, Validation Accuracy: 0.09, Training MAE: 28.80, Validation MAE: 28.17\n",
      "Best model saved at epoch 1 with validation accuracy: 28.17\n",
      "Epoch [2/80], Training Loss: 4.62, Validation Loss: 4.55, Training Accuracy: 0.09, Validation Accuracy: 0.09, Training MAE: 27.75, Validation MAE: 26.64\n",
      "Best model saved at epoch 2 with validation accuracy: 26.64\n",
      "Epoch [3/80], Training Loss: 4.46, Validation Loss: 4.37, Training Accuracy: 0.09, Validation Accuracy: 0.09, Training MAE: 25.31, Validation MAE: 23.12\n",
      "Best model saved at epoch 3 with validation accuracy: 23.12\n",
      "Epoch [4/80], Training Loss: 4.30, Validation Loss: 4.24, Training Accuracy: 0.09, Validation Accuracy: 0.09, Training MAE: 21.58, Validation MAE: 19.70\n",
      "Best model saved at epoch 4 with validation accuracy: 19.70\n",
      "Epoch [5/80], Training Loss: 4.20, Validation Loss: 4.16, Training Accuracy: 0.09, Validation Accuracy: 0.09, Training MAE: 18.79, Validation MAE: 17.57\n",
      "Best model saved at epoch 5 with validation accuracy: 17.57\n",
      "Epoch [6/80], Training Loss: 4.15, Validation Loss: 4.12, Training Accuracy: 0.10, Validation Accuracy: 0.10, Training MAE: 17.33, Validation MAE: 16.48\n",
      "Best model saved at epoch 6 with validation accuracy: 16.48\n",
      "Epoch [7/80], Training Loss: 4.12, Validation Loss: 4.09, Training Accuracy: 0.10, Validation Accuracy: 0.10, Training MAE: 16.60, Validation MAE: 15.87\n",
      "Best model saved at epoch 7 with validation accuracy: 15.87\n",
      "Epoch [8/80], Training Loss: 4.10, Validation Loss: 4.07, Training Accuracy: 0.11, Validation Accuracy: 0.11, Training MAE: 16.15, Validation MAE: 15.53\n",
      "Best model saved at epoch 8 with validation accuracy: 15.53\n",
      "Epoch [9/80], Training Loss: 4.08, Validation Loss: 4.06, Training Accuracy: 0.11, Validation Accuracy: 0.11, Training MAE: 15.92, Validation MAE: 15.34\n",
      "Best model saved at epoch 9 with validation accuracy: 15.34\n",
      "Epoch [10/80], Training Loss: 4.07, Validation Loss: 4.05, Training Accuracy: 0.11, Validation Accuracy: 0.11, Training MAE: 15.73, Validation MAE: 15.15\n",
      "Best model saved at epoch 10 with validation accuracy: 15.15\n",
      "Epoch [11/80], Training Loss: 4.06, Validation Loss: 4.04, Training Accuracy: 0.11, Validation Accuracy: 0.11, Training MAE: 15.59, Validation MAE: 15.07\n",
      "Best model saved at epoch 11 with validation accuracy: 15.07\n",
      "Epoch [12/80], Training Loss: 4.05, Validation Loss: 4.03, Training Accuracy: 0.11, Validation Accuracy: 0.11, Training MAE: 15.46, Validation MAE: 15.00\n",
      "Best model saved at epoch 12 with validation accuracy: 15.00\n",
      "Epoch [13/80], Training Loss: 4.04, Validation Loss: 4.02, Training Accuracy: 0.11, Validation Accuracy: 0.11, Training MAE: 15.42, Validation MAE: 14.91\n",
      "Best model saved at epoch 13 with validation accuracy: 14.91\n",
      "Epoch [14/80], Training Loss: 4.04, Validation Loss: 4.01, Training Accuracy: 0.11, Validation Accuracy: 0.11, Training MAE: 15.36, Validation MAE: 14.83\n",
      "Best model saved at epoch 14 with validation accuracy: 14.83\n",
      "Epoch [15/80], Training Loss: 4.03, Validation Loss: 4.01, Training Accuracy: 0.11, Validation Accuracy: 0.11, Training MAE: 15.29, Validation MAE: 14.85\n",
      "Epoch [16/80], Training Loss: 4.02, Validation Loss: 4.00, Training Accuracy: 0.11, Validation Accuracy: 0.11, Training MAE: 15.25, Validation MAE: 14.83\n",
      "Epoch [17/80], Training Loss: 4.02, Validation Loss: 3.99, Training Accuracy: 0.11, Validation Accuracy: 0.11, Training MAE: 15.22, Validation MAE: 14.72\n",
      "Best model saved at epoch 17 with validation accuracy: 14.72\n",
      "Epoch [18/80], Training Loss: 4.02, Validation Loss: 3.99, Training Accuracy: 0.11, Validation Accuracy: 0.11, Training MAE: 15.20, Validation MAE: 14.73\n",
      "Epoch [19/80], Training Loss: 4.01, Validation Loss: 3.98, Training Accuracy: 0.11, Validation Accuracy: 0.11, Training MAE: 15.17, Validation MAE: 14.67\n",
      "Best model saved at epoch 19 with validation accuracy: 14.67\n",
      "Epoch [20/80], Training Loss: 4.00, Validation Loss: 3.98, Training Accuracy: 0.11, Validation Accuracy: 0.11, Training MAE: 15.16, Validation MAE: 14.74\n",
      "Epoch [21/80], Training Loss: 4.00, Validation Loss: 3.97, Training Accuracy: 0.11, Validation Accuracy: 0.11, Training MAE: 15.11, Validation MAE: 14.64\n",
      "Best model saved at epoch 21 with validation accuracy: 14.64\n",
      "Epoch [22/80], Training Loss: 4.00, Validation Loss: 3.97, Training Accuracy: 0.11, Validation Accuracy: 0.11, Training MAE: 15.10, Validation MAE: 14.73\n",
      "Epoch [23/80], Training Loss: 3.99, Validation Loss: 3.97, Training Accuracy: 0.12, Validation Accuracy: 0.11, Training MAE: 15.09, Validation MAE: 14.63\n",
      "Best model saved at epoch 23 with validation accuracy: 14.63\n",
      "Epoch [24/80], Training Loss: 3.99, Validation Loss: 3.96, Training Accuracy: 0.12, Validation Accuracy: 0.11, Training MAE: 15.04, Validation MAE: 14.66\n",
      "Epoch [25/80], Training Loss: 3.98, Validation Loss: 3.96, Training Accuracy: 0.12, Validation Accuracy: 0.11, Training MAE: 15.02, Validation MAE: 14.62\n",
      "Best model saved at epoch 25 with validation accuracy: 14.62\n",
      "Epoch [26/80], Training Loss: 3.98, Validation Loss: 3.95, Training Accuracy: 0.12, Validation Accuracy: 0.11, Training MAE: 15.01, Validation MAE: 14.60\n",
      "Best model saved at epoch 26 with validation accuracy: 14.60\n",
      "Epoch [27/80], Training Loss: 3.97, Validation Loss: 3.95, Training Accuracy: 0.12, Validation Accuracy: 0.11, Training MAE: 15.00, Validation MAE: 14.52\n",
      "Best model saved at epoch 27 with validation accuracy: 14.52\n",
      "Epoch [28/80], Training Loss: 3.97, Validation Loss: 3.95, Training Accuracy: 0.12, Validation Accuracy: 0.11, Training MAE: 14.96, Validation MAE: 14.45\n",
      "Best model saved at epoch 28 with validation accuracy: 14.45\n",
      "Epoch [29/80], Training Loss: 3.97, Validation Loss: 3.94, Training Accuracy: 0.12, Validation Accuracy: 0.11, Training MAE: 14.93, Validation MAE: 14.49\n",
      "Epoch [30/80], Training Loss: 3.96, Validation Loss: 3.94, Training Accuracy: 0.12, Validation Accuracy: 0.11, Training MAE: 14.90, Validation MAE: 14.53\n",
      "Epoch [31/80], Training Loss: 3.96, Validation Loss: 3.93, Training Accuracy: 0.12, Validation Accuracy: 0.11, Training MAE: 14.89, Validation MAE: 14.34\n",
      "Best model saved at epoch 31 with validation accuracy: 14.34\n",
      "Epoch [32/80], Training Loss: 3.96, Validation Loss: 3.93, Training Accuracy: 0.12, Validation Accuracy: 0.11, Training MAE: 14.85, Validation MAE: 14.35\n",
      "Epoch [33/80], Training Loss: 3.95, Validation Loss: 3.93, Training Accuracy: 0.12, Validation Accuracy: 0.11, Training MAE: 14.82, Validation MAE: 14.32\n",
      "Best model saved at epoch 33 with validation accuracy: 14.32\n",
      "Epoch [34/80], Training Loss: 3.95, Validation Loss: 3.92, Training Accuracy: 0.12, Validation Accuracy: 0.11, Training MAE: 14.79, Validation MAE: 14.34\n",
      "Epoch [35/80], Training Loss: 3.94, Validation Loss: 3.92, Training Accuracy: 0.12, Validation Accuracy: 0.11, Training MAE: 14.76, Validation MAE: 14.32\n",
      "Epoch [36/80], Training Loss: 3.94, Validation Loss: 3.92, Training Accuracy: 0.12, Validation Accuracy: 0.11, Training MAE: 14.73, Validation MAE: 14.31\n",
      "Best model saved at epoch 36 with validation accuracy: 14.31\n",
      "Epoch [37/80], Training Loss: 3.94, Validation Loss: 3.91, Training Accuracy: 0.12, Validation Accuracy: 0.11, Training MAE: 14.67, Validation MAE: 14.29\n",
      "Best model saved at epoch 37 with validation accuracy: 14.29\n",
      "Epoch [38/80], Training Loss: 3.93, Validation Loss: 3.91, Training Accuracy: 0.12, Validation Accuracy: 0.11, Training MAE: 14.68, Validation MAE: 14.33\n",
      "Epoch [39/80], Training Loss: 3.93, Validation Loss: 3.91, Training Accuracy: 0.12, Validation Accuracy: 0.11, Training MAE: 14.63, Validation MAE: 14.23\n",
      "Best model saved at epoch 39 with validation accuracy: 14.23\n",
      "Epoch [40/80], Training Loss: 3.92, Validation Loss: 3.91, Training Accuracy: 0.12, Validation Accuracy: 0.11, Training MAE: 14.61, Validation MAE: 14.25\n",
      "Epoch [41/80], Training Loss: 3.92, Validation Loss: 3.90, Training Accuracy: 0.12, Validation Accuracy: 0.11, Training MAE: 14.51, Validation MAE: 14.15\n",
      "Best model saved at epoch 41 with validation accuracy: 14.15\n",
      "Epoch [42/80], Training Loss: 3.92, Validation Loss: 3.90, Training Accuracy: 0.12, Validation Accuracy: 0.11, Training MAE: 14.52, Validation MAE: 14.01\n",
      "Best model saved at epoch 42 with validation accuracy: 14.01\n",
      "Epoch [43/80], Training Loss: 3.91, Validation Loss: 3.89, Training Accuracy: 0.12, Validation Accuracy: 0.11, Training MAE: 14.48, Validation MAE: 14.09\n",
      "Epoch [44/80], Training Loss: 3.91, Validation Loss: 3.89, Training Accuracy: 0.12, Validation Accuracy: 0.12, Training MAE: 14.45, Validation MAE: 14.00\n",
      "Best model saved at epoch 44 with validation accuracy: 14.00\n",
      "Epoch [45/80], Training Loss: 3.91, Validation Loss: 3.89, Training Accuracy: 0.12, Validation Accuracy: 0.12, Training MAE: 14.43, Validation MAE: 14.02\n",
      "Epoch [46/80], Training Loss: 3.90, Validation Loss: 3.88, Training Accuracy: 0.12, Validation Accuracy: 0.12, Training MAE: 14.40, Validation MAE: 13.98\n",
      "Best model saved at epoch 46 with validation accuracy: 13.98\n",
      "Epoch [47/80], Training Loss: 3.90, Validation Loss: 3.88, Training Accuracy: 0.12, Validation Accuracy: 0.11, Training MAE: 14.33, Validation MAE: 13.93\n",
      "Best model saved at epoch 47 with validation accuracy: 13.93\n",
      "Epoch [48/80], Training Loss: 3.89, Validation Loss: 3.88, Training Accuracy: 0.12, Validation Accuracy: 0.12, Training MAE: 14.31, Validation MAE: 13.85\n",
      "Best model saved at epoch 48 with validation accuracy: 13.85\n",
      "Epoch [49/80], Training Loss: 3.89, Validation Loss: 3.87, Training Accuracy: 0.12, Validation Accuracy: 0.12, Training MAE: 14.24, Validation MAE: 13.85\n",
      "Epoch [50/80], Training Loss: 3.89, Validation Loss: 3.87, Training Accuracy: 0.12, Validation Accuracy: 0.12, Training MAE: 14.23, Validation MAE: 13.79\n",
      "Best model saved at epoch 50 with validation accuracy: 13.79\n",
      "Epoch [51/80], Training Loss: 3.89, Validation Loss: 3.87, Training Accuracy: 0.12, Validation Accuracy: 0.12, Training MAE: 14.22, Validation MAE: 13.68\n",
      "Best model saved at epoch 51 with validation accuracy: 13.68\n",
      "Epoch [52/80], Training Loss: 3.88, Validation Loss: 3.86, Training Accuracy: 0.12, Validation Accuracy: 0.12, Training MAE: 14.17, Validation MAE: 13.64\n",
      "Best model saved at epoch 52 with validation accuracy: 13.64\n",
      "Epoch [53/80], Training Loss: 3.88, Validation Loss: 3.86, Training Accuracy: 0.12, Validation Accuracy: 0.12, Training MAE: 14.08, Validation MAE: 13.74\n",
      "Epoch [54/80], Training Loss: 3.87, Validation Loss: 3.85, Training Accuracy: 0.12, Validation Accuracy: 0.12, Training MAE: 14.08, Validation MAE: 13.62\n",
      "Best model saved at epoch 54 with validation accuracy: 13.62\n",
      "Epoch [55/80], Training Loss: 3.87, Validation Loss: 3.85, Training Accuracy: 0.12, Validation Accuracy: 0.12, Training MAE: 14.08, Validation MAE: 13.62\n",
      "Best model saved at epoch 55 with validation accuracy: 13.62\n",
      "Epoch [56/80], Training Loss: 3.87, Validation Loss: 3.85, Training Accuracy: 0.12, Validation Accuracy: 0.12, Training MAE: 14.00, Validation MAE: 13.77\n",
      "Epoch [57/80], Training Loss: 3.86, Validation Loss: 3.85, Training Accuracy: 0.12, Validation Accuracy: 0.12, Training MAE: 13.94, Validation MAE: 13.65\n",
      "Epoch [58/80], Training Loss: 3.86, Validation Loss: 3.84, Training Accuracy: 0.12, Validation Accuracy: 0.12, Training MAE: 13.93, Validation MAE: 13.37\n",
      "Best model saved at epoch 58 with validation accuracy: 13.37\n",
      "Epoch [59/80], Training Loss: 3.86, Validation Loss: 3.84, Training Accuracy: 0.12, Validation Accuracy: 0.12, Training MAE: 13.90, Validation MAE: 13.31\n",
      "Best model saved at epoch 59 with validation accuracy: 13.31\n",
      "Epoch [60/80], Training Loss: 3.85, Validation Loss: 3.84, Training Accuracy: 0.12, Validation Accuracy: 0.12, Training MAE: 13.84, Validation MAE: 13.67\n",
      "Epoch [61/80], Training Loss: 3.84, Validation Loss: 3.83, Training Accuracy: 0.12, Validation Accuracy: 0.12, Training MAE: 13.81, Validation MAE: 13.42\n",
      "Epoch [62/80], Training Loss: 3.84, Validation Loss: 3.83, Training Accuracy: 0.12, Validation Accuracy: 0.12, Training MAE: 13.76, Validation MAE: 13.42\n",
      "Epoch [63/80], Training Loss: 3.84, Validation Loss: 3.83, Training Accuracy: 0.12, Validation Accuracy: 0.12, Training MAE: 13.72, Validation MAE: 13.41\n",
      "Epoch [64/80], Training Loss: 3.83, Validation Loss: 3.82, Training Accuracy: 0.13, Validation Accuracy: 0.12, Training MAE: 13.70, Validation MAE: 13.36\n",
      "Epoch [65/80], Training Loss: 3.83, Validation Loss: 3.82, Training Accuracy: 0.12, Validation Accuracy: 0.12, Training MAE: 13.64, Validation MAE: 13.12\n",
      "Best model saved at epoch 65 with validation accuracy: 13.12\n",
      "Epoch [66/80], Training Loss: 3.83, Validation Loss: 3.82, Training Accuracy: 0.12, Validation Accuracy: 0.12, Training MAE: 13.58, Validation MAE: 13.60\n",
      "Epoch [67/80], Training Loss: 3.83, Validation Loss: 3.81, Training Accuracy: 0.12, Validation Accuracy: 0.12, Training MAE: 13.55, Validation MAE: 13.06\n",
      "Best model saved at epoch 67 with validation accuracy: 13.06\n",
      "Epoch [68/80], Training Loss: 3.82, Validation Loss: 3.81, Training Accuracy: 0.12, Validation Accuracy: 0.12, Training MAE: 13.51, Validation MAE: 12.97\n",
      "Best model saved at epoch 68 with validation accuracy: 12.97\n",
      "Epoch [69/80], Training Loss: 3.82, Validation Loss: 3.80, Training Accuracy: 0.12, Validation Accuracy: 0.12, Training MAE: 13.45, Validation MAE: 13.12\n",
      "Epoch [70/80], Training Loss: 3.82, Validation Loss: 3.80, Training Accuracy: 0.13, Validation Accuracy: 0.12, Training MAE: 13.42, Validation MAE: 13.06\n",
      "Epoch [71/80], Training Loss: 3.81, Validation Loss: 3.80, Training Accuracy: 0.13, Validation Accuracy: 0.12, Training MAE: 13.39, Validation MAE: 13.10\n",
      "Epoch [72/80], Training Loss: 3.80, Validation Loss: 3.79, Training Accuracy: 0.13, Validation Accuracy: 0.12, Training MAE: 13.29, Validation MAE: 12.78\n",
      "Best model saved at epoch 72 with validation accuracy: 12.78\n",
      "Epoch [73/80], Training Loss: 3.80, Validation Loss: 3.79, Training Accuracy: 0.13, Validation Accuracy: 0.12, Training MAE: 13.26, Validation MAE: 12.89\n",
      "Epoch [74/80], Training Loss: 3.80, Validation Loss: 3.80, Training Accuracy: 0.13, Validation Accuracy: 0.12, Training MAE: 13.22, Validation MAE: 13.56\n",
      "Epoch [75/80], Training Loss: 3.79, Validation Loss: 3.78, Training Accuracy: 0.13, Validation Accuracy: 0.12, Training MAE: 13.16, Validation MAE: 12.77\n",
      "Best model saved at epoch 75 with validation accuracy: 12.77\n",
      "Epoch [76/80], Training Loss: 3.79, Validation Loss: 3.78, Training Accuracy: 0.13, Validation Accuracy: 0.12, Training MAE: 13.13, Validation MAE: 12.65\n",
      "Best model saved at epoch 76 with validation accuracy: 12.65\n",
      "Epoch [77/80], Training Loss: 3.78, Validation Loss: 3.78, Training Accuracy: 0.13, Validation Accuracy: 0.12, Training MAE: 13.09, Validation MAE: 12.49\n",
      "Best model saved at epoch 77 with validation accuracy: 12.49\n",
      "Epoch [78/80], Training Loss: 3.78, Validation Loss: 3.77, Training Accuracy: 0.13, Validation Accuracy: 0.12, Training MAE: 12.97, Validation MAE: 12.32\n",
      "Best model saved at epoch 78 with validation accuracy: 12.32\n",
      "Epoch [79/80], Training Loss: 3.78, Validation Loss: 3.77, Training Accuracy: 0.13, Validation Accuracy: 0.12, Training MAE: 12.94, Validation MAE: 12.47\n",
      "Epoch [80/80], Training Loss: 3.77, Validation Loss: 3.76, Training Accuracy: 0.13, Validation Accuracy: 0.12, Training MAE: 12.89, Validation MAE: 12.29\n",
      "Best model saved at epoch 80 with validation accuracy: 12.29\n",
      "Training time:  40.91549166666667 minutes\n"
     ]
    }
   ],
   "source": [
    "# train model \n",
    "history = train(model, optimizer, loss_fn, train_loader, val_loader, NR_EPOCHS, writer, device, './Project/classes/pdc/pdc_model')\n",
    "writer.close()"
   ]
  },
  {
   "cell_type": "markdown",
   "id": "380ba488",
   "metadata": {
    "papermill": {
     "duration": 0.012896,
     "end_time": "2024-10-06T11:31:14.736434",
     "exception": false,
     "start_time": "2024-10-06T11:31:14.723538",
     "status": "completed"
    },
    "tags": []
   },
   "source": [
    "### Training History"
   ]
  },
  {
   "cell_type": "code",
   "execution_count": 11,
   "id": "53730a8a",
   "metadata": {
    "papermill": {
     "duration": 0.266721,
     "end_time": "2024-10-06T11:31:15.016095",
     "exception": false,
     "start_time": "2024-10-06T11:31:14.749374",
     "status": "completed"
    },
    "tags": []
   },
   "outputs": [],
   "source": [
    "def plot_history(history, path_name):\n",
    "    # loss\n",
    "    loss_train = history['loss']\n",
    "    loss_val = history['val_loss']\n",
    "    epochs = range(NR_EPOCHS)\n",
    "    plt.plot(epochs, loss_train, 'g', label='Training loss')\n",
    "    plt.plot(epochs, loss_val, 'b', label='Validation loss')\n",
    "    plt.title('Training and validation loss')\n",
    "    plt.xlabel('Epochs')\n",
    "    plt.ylabel('Loss')\n",
    "    plt.legend()\n",
    "    plt.savefig(path_name + '_loss.png', bbox_inches='tight')\n",
    "    plt.show()\n",
    "\n",
    "\n",
    "     # MAE\n",
    "    accuracy_train = history['mae']\n",
    "    accuracy_val = history['val_mae']\n",
    "    epochs = range(NR_EPOCHS)\n",
    "    plt.plot(epochs, accuracy_train, 'g', label='Training MAE')\n",
    "    plt.plot(epochs, accuracy_val, 'b', label='Validation MAE')\n",
    "    plt.title('Training and validation MAE')\n",
    "    plt.xlabel('Epochs')\n",
    "    plt.ylabel('MAE')\n",
    "    plt.legend()\n",
    "    plt.savefig(path_name + '_mae.png', bbox_inches='tight')\n",
    "    plt.show()\n",
    "    "
   ]
  },
  {
   "cell_type": "code",
   "execution_count": 12,
   "id": "f7cc617e",
   "metadata": {
    "papermill": {
     "duration": 0.258626,
     "end_time": "2024-10-06T11:31:15.288366",
     "exception": false,
     "start_time": "2024-10-06T11:31:15.029740",
     "status": "completed"
    },
    "tags": []
   },
   "outputs": [
    {
     "data": {
      "image/png": "[encoded data removed]",
      "text/plain": [
       "<Figure size 640x480 with 1 Axes>"
      ]
     },
     "metadata": {},
     "output_type": "display_data"
    },
    {
     "data": {
      "image/png": "[encoded data removed]",
      "text/plain": [
       "<Figure size 640x480 with 1 Axes>"
      ]
     },
     "metadata": {},
     "output_type": "display_data"
    }
   ],
   "source": [
    "plot_history(history,'./Project/classes/pdc/pdc_model')"
   ]
  },
  {
   "cell_type": "markdown",
   "id": "1eafcab6",
   "metadata": {
    "papermill": {
     "duration": 0.014011,
     "end_time": "2024-10-06T11:31:15.316856",
     "exception": false,
     "start_time": "2024-10-06T11:31:15.302845",
     "status": "completed"
    },
    "tags": []
   },
   "source": [
    "### Test Model"
   ]
  },
  {
   "cell_type": "code",
   "execution_count": 13,
   "id": "7b885c85",
   "metadata": {
    "papermill": {
     "duration": 0.028349,
     "end_time": "2024-10-06T11:31:15.359067",
     "exception": false,
     "start_time": "2024-10-06T11:31:15.330718",
     "status": "completed"
    },
    "tags": []
   },
   "outputs": [],
   "source": [
    "def test(model, test_loader, loss_fn ,name):\n",
    "    test_loss = 0\n",
    "    test_correct = 0\n",
    "    test_total = 0\n",
    "    total_test_mae = 0\n",
    "    \n",
    "    # create cuda events for timetracking\n",
    "    start = torch.cuda.Event(enable_timing=True)\n",
    "    end = torch.cuda.Event(enable_timing=True)\n",
    "\n",
    "    start.record()\n",
    "    with torch.no_grad():\n",
    "        for inputs, labels in test_loader:\n",
    "            # shift labels from 1-116 to 0-115 for loss\n",
    "            labels_model = labels - 1\n",
    "            inputs, labels_model = inputs.to(device), labels_model.to(device)\n",
    "            labels = labels.to(device)\n",
    "            outputs = model(inputs)\n",
    "            loss = loss_fn(outputs, labels_model)\n",
    "\n",
    "            test_loss += loss.item()\n",
    "            _, predicted = outputs.max(1)\n",
    "            predicted = predicted + 1\n",
    "            test_total += labels.size(0)\n",
    "            test_correct += predicted.eq(labels).sum().item()\n",
    "\n",
    "            probabilities = F.softmax(outputs, dim=1)\n",
    "            expected_age = torch.sum(probabilities * age_classes, dim=1) + 1\n",
    "            total_test_mae += torch.abs(expected_age - labels.float()).sum().item()   \n",
    "\n",
    "    end.record()\n",
    "    torch.cuda.synchronize()\n",
    "    test_loss = test_loss / len(test_loader)\n",
    "    test_accuracy = test_correct / test_total\n",
    "    test_mae = total_test_mae / test_total\n",
    "\n",
    "    print(f'Model: {name},  Test Loss: {test_loss:.2f}, Test Accuracy: {test_accuracy:.2f}, Test MAE: {test_mae:.2f}')\n",
    "    print(f'Time:  {round(start.elapsed_time(end), 1) / 1000} seconds')"
   ]
  },
  {
   "cell_type": "code",
   "execution_count": 14,
   "id": "9f719a3f",
   "metadata": {
    "papermill": {
     "duration": 39.917463,
     "end_time": "2024-10-06T11:31:55.290456",
     "exception": false,
     "start_time": "2024-10-06T11:31:15.372993",
     "status": "completed"
    },
    "tags": []
   },
   "outputs": [
    {
     "name": "stdout",
     "output_type": "stream",
     "text": [
      "Model: PDCNet,  Test Loss: 3.77, Test Accuracy: 0.14, Test MAE: 12.68\n",
      "Time:  3.5896 seconds\n"
     ]
    }
   ],
   "source": [
    "# load models\n",
    "pdc_model = PDCModel(NUM_CLASSES).to(device)\n",
    "pdc_model.load_state_dict(torch.load('./Project/classes/pdc/pdc_model'))\n",
    "\n",
    "test(pdc_model, test_loader, loss_fn, 'PDCNet')"
   ]
  }
 ],
 "metadata": {
  "kaggle": {
   "accelerator": "gpu",
   "dataSources": [
    {
     "datasetId": 44109,
     "sourceId": 78156,
     "sourceType": "datasetVersion"
    }
   ],
   "dockerImageVersionId": 30302,
   "isGpuEnabled": true,
   "isInternetEnabled": true,
   "language": "python",
   "sourceType": "notebook"
  },
  "kernelspec": {
   "display_name": "Python 3 (ipykernel)",
   "language": "python",
   "name": "python3"
  },
  "language_info": {
   "codemirror_mode": {
    "name": "ipython",
    "version": 3
   },
   "file_extension": ".py",
   "mimetype": "text/x-python",
   "name": "python",
   "nbconvert_exporter": "python",
   "pygments_lexer": "ipython3",
   "version": "3.12.6"
  },
  "papermill": {
   "default_parameters": {},
   "duration": 7847.006969,
   "end_time": "2024-10-06T11:31:58.682425",
   "environment_variables": {},
   "exception": null,
   "input_path": "__notebook__.ipynb",
   "output_path": "__notebook__.ipynb",
   "parameters": {},
   "start_time": "2024-10-06T09:21:11.675456",
   "version": "2.3.4"
  }
 },
 "nbformat": 4,
 "nbformat_minor": 5
}
