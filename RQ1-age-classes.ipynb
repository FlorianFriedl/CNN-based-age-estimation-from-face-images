{
 "cells": [
  {
   "cell_type": "markdown",
   "metadata": {
    "papermill": {
     "duration": 0.013601,
     "end_time": "2022-10-12T18:43:55.53102",
     "exception": false,
     "start_time": "2022-10-12T18:43:55.517419",
     "status": "completed"
    },
    "tags": []
   },
   "source": [
    "# CNN based Age Estimation"
   ]
  },
  {
   "cell_type": "code",
   "execution_count": 1,
   "metadata": {
    "id": "Ow9CX6i9bF7s",
    "papermill": {
     "duration": 6.262315,
     "end_time": "2022-10-12T18:44:01.805562",
     "exception": false,
     "start_time": "2022-10-12T18:43:55.543247",
     "status": "completed"
    },
    "tags": []
   },
   "outputs": [],
   "source": [
    "import numpy as np\n",
    "import matplotlib.pyplot as plt\n",
    "from glob import glob\n",
    "\n",
    "import math\n",
    "import torch\n",
    "import torch.nn as nn\n",
    "import torch.nn.functional as F\n",
    "import torchvision\n",
    "from torchvision import transforms, datasets\n",
    "from torch.utils.tensorboard import SummaryWriter\n",
    "from torch.utils.data import Dataset, DataLoader, random_split\n",
    "from collections import Counter\n",
    "\n",
    "import warnings\n",
    "warnings.filterwarnings(\"ignore\", category=FutureWarning)\n",
    "\n",
    "import pandas as pd\n",
    "import os\n",
    "import matplotlib.pyplot as plt\n",
    "%matplotlib inline\n",
    "\n",
    "from PIL import Image\n",
    "import shutil\n",
    "\n",
    "import copy\n",
    "\n",
    "from pathlib import Path\n",
    "from datetime import datetime\n",
    "\n",
    "from torch.utils.tensorboard import SummaryWriter"
   ]
  },
  {
   "cell_type": "markdown",
   "metadata": {
    "papermill": {
     "duration": 0.008384,
     "end_time": "2022-10-12T18:44:01.822491",
     "exception": false,
     "start_time": "2022-10-12T18:44:01.814107",
     "status": "completed"
    },
    "tags": []
   },
   "source": [
    "## Age estimation in age groups"
   ]
  },
  {
   "cell_type": "markdown",
   "metadata": {
    "papermill": {
     "duration": 0.007726,
     "end_time": "2022-10-12T18:44:01.838198",
     "exception": false,
     "start_time": "2022-10-12T18:44:01.830472",
     "status": "completed"
    },
    "tags": []
   },
   "source": [
    "### Set image size and variables "
   ]
  },
  {
   "cell_type": "code",
   "execution_count": 2,
   "metadata": {
    "id": "Cq39lS9tcKIC",
    "papermill": {
     "duration": 0.015277,
     "end_time": "2022-10-12T18:44:01.862109",
     "exception": false,
     "start_time": "2022-10-12T18:44:01.846832",
     "status": "completed"
    },
    "tags": []
   },
   "outputs": [],
   "source": [
    "IMAGE_SIZE = [200,200] \n",
    "BASE_DIR = './UTKFace/'\n",
    "NR_EPOCHS = 80\n",
    "BATCH_SIZE = 30\n",
    "NUM_CLASSES = 116"
   ]
  },
  {
   "cell_type": "markdown",
   "metadata": {},
   "source": [
    "### Split Dataset into validation and test set  "
   ]
  },
  {
   "cell_type": "code",
   "execution_count": 3,
   "metadata": {
    "papermill": {
     "duration": 0.0293,
     "end_time": "2022-10-12T18:44:02.624072",
     "exception": false,
     "start_time": "2022-10-12T18:44:02.594772",
     "status": "completed"
    },
    "tags": []
   },
   "outputs": [],
   "source": [
    "class UTKFaceDataset(Dataset):\n",
    "    def __init__(self, root_dir, transform=None):\n",
    "        self.root_dir = root_dir\n",
    "        self.transform = transform\n",
    "        self.images = [file for file in os.listdir(root_dir) if file.endswith('.jpg') or file.endswith('.png')]\n",
    "\n",
    "    def __len__(self):\n",
    "        return len(self.images)\n",
    "\n",
    "    def __getitem__(self, idx):\n",
    "        img_name = os.path.join(self.root_dir, self.images[idx])\n",
    "        image = Image.open(img_name)\n",
    "        \n",
    "        age = int(self.images[idx].split('_')[0])\n",
    "        \n",
    "        if self.transform:\n",
    "            image = self.transform(image)\n",
    "        \n",
    "        return image, age\n",
    "\n",
    "# transform\n",
    "transform = transforms.Compose([\n",
    "    transforms.Resize(IMAGE_SIZE),\n",
    "    transforms.ToTensor(),\n",
    "    transforms.Normalize(mean=[0.485, 0.456, 0.406], std=[0.229, 0.224, 0.225])\n",
    "])\n",
    "\n",
    "# laod dataset\n",
    "full_dataset = UTKFaceDataset(root_dir=BASE_DIR, transform=transform)\n",
    "\n",
    "# split dataset accordingly \n",
    "total_size = len(full_dataset)\n",
    "train_size = int(0.7 * total_size)\n",
    "val_size = int(0.15 * total_size)\n",
    "test_size = total_size - train_size - val_size\n",
    "\n",
    "# fixed seed for same split across models\n",
    "generator = torch.Generator().manual_seed(116)\n",
    "\n",
    "train_dataset, val_dataset, test_dataset = random_split(\n",
    "    full_dataset, [train_size, val_size, test_size], generator=generator\n",
    ")"
   ]
  },
  {
   "cell_type": "code",
   "execution_count": 4,
   "metadata": {
    "papermill": {
     "duration": 44.536659,
     "end_time": "2022-10-12T18:44:47.169938",
     "exception": false,
     "start_time": "2022-10-12T18:44:02.633279",
     "status": "completed"
    },
    "tags": []
   },
   "outputs": [
    {
     "name": "stdout",
     "output_type": "stream",
     "text": [
      "Total dataset size: 23708\n",
      "Train set size: 16595\n",
      "Validation set size: 3556\n",
      "Test set size: 3557\n"
     ]
    }
   ],
   "source": [
    "# create DataLoaders\n",
    "train_loader = DataLoader(train_dataset, batch_size=BATCH_SIZE, shuffle=True)\n",
    "val_loader = DataLoader(val_dataset, batch_size=BATCH_SIZE, shuffle=False)\n",
    "test_loader = DataLoader(test_dataset, batch_size=BATCH_SIZE, shuffle=False)\n",
    "\n",
    "print(f\"Total dataset size: {total_size}\")\n",
    "print(f\"Train set size: {len(train_dataset)}\")\n",
    "print(f\"Validation set size: {len(val_dataset)}\")\n",
    "print(f\"Test set size: {len(test_dataset)}\")"
   ]
  },
  {
   "cell_type": "markdown",
   "metadata": {},
   "source": [
    "### Set cuda if aviable"
   ]
  },
  {
   "cell_type": "code",
   "execution_count": 5,
   "metadata": {},
   "outputs": [
    {
     "name": "stdout",
     "output_type": "stream",
     "text": [
      "Using device: cuda\n"
     ]
    }
   ],
   "source": [
    "# check CUDA availability \n",
    "device = torch.device('cuda' if torch.cuda.is_available() else 'cpu')\n",
    "print(f\"Using device: {device}\")"
   ]
  },
  {
   "cell_type": "markdown",
   "metadata": {},
   "source": [
    "## Base Model"
   ]
  },
  {
   "cell_type": "markdown",
   "metadata": {},
   "source": [
    "### Create Model"
   ]
  },
  {
   "cell_type": "code",
   "execution_count": 6,
   "metadata": {},
   "outputs": [],
   "source": [
    "class CNNNet(nn.Module):\n",
    "    def __init__(self, num_classes=116):\n",
    "        super(CNNNet, self).__init__()\n",
    "        self.features = nn.Sequential(\n",
    "            nn.Conv2d(3, 96, kernel_size=7, padding=2),\n",
    "            nn.ReLU(),\n",
    "            nn.MaxPool2d(kernel_size=2, stride=2),\n",
    "            nn.BatchNorm2d(96),\n",
    "\n",
    "            nn.Conv2d(96, 256, kernel_size=5, padding=2),\n",
    "            nn.ReLU(),\n",
    "            nn.MaxPool2d(kernel_size=2, stride=2),\n",
    "            nn.BatchNorm2d(256),\n",
    "\n",
    "            nn.Conv2d(256, 384, kernel_size=3, padding=1),\n",
    "            nn.ReLU(),\n",
    "            nn.MaxPool2d(kernel_size=2, stride=2),\n",
    "            nn.BatchNorm2d(384),\n",
    "        )\n",
    "        self.avgpool = nn.AdaptiveAvgPool2d((1,1))\n",
    "        self.classifier = nn.Sequential(\n",
    "            nn.Linear(384, 512),\n",
    "            nn.ReLU(),\n",
    "            nn.Dropout(0.25),\n",
    "            nn.Linear(512, 512),\n",
    "            nn.ReLU(),\n",
    "            nn.Dropout(0.25),\n",
    "            nn.Linear(512, num_classes)\n",
    "        )\n",
    "    def forward(self, x):\n",
    "        x = self.features(x)\n",
    "        x = self.avgpool(x)\n",
    "        x = torch.flatten(x, 1)\n",
    "        x = self.classifier(x)\n",
    "        return x"
   ]
  },
  {
   "cell_type": "code",
   "execution_count": 7,
   "metadata": {},
   "outputs": [
    {
     "name": "stdout",
     "output_type": "stream",
     "text": [
      "CNNNet(\n",
      "  (features): Sequential(\n",
      "    (0): Conv2d(3, 96, kernel_size=(7, 7), stride=(1, 1), padding=(2, 2))\n",
      "    (1): ReLU()\n",
      "    (2): MaxPool2d(kernel_size=2, stride=2, padding=0, dilation=1, ceil_mode=False)\n",
      "    (3): BatchNorm2d(96, eps=1e-05, momentum=0.1, affine=True, track_running_stats=True)\n",
      "    (4): Conv2d(96, 256, kernel_size=(5, 5), stride=(1, 1), padding=(2, 2))\n",
      "    (5): ReLU()\n",
      "    (6): MaxPool2d(kernel_size=2, stride=2, padding=0, dilation=1, ceil_mode=False)\n",
      "    (7): BatchNorm2d(256, eps=1e-05, momentum=0.1, affine=True, track_running_stats=True)\n",
      "    (8): Conv2d(256, 384, kernel_size=(3, 3), stride=(1, 1), padding=(1, 1))\n",
      "    (9): ReLU()\n",
      "    (10): MaxPool2d(kernel_size=2, stride=2, padding=0, dilation=1, ceil_mode=False)\n",
      "    (11): BatchNorm2d(384, eps=1e-05, momentum=0.1, affine=True, track_running_stats=True)\n",
      "  )\n",
      "  (avgpool): AdaptiveAvgPool2d(output_size=(1, 1))\n",
      "  (classifier): Sequential(\n",
      "    (0): Linear(in_features=384, out_features=512, bias=True)\n",
      "    (1): ReLU()\n",
      "    (2): Dropout(p=0.25, inplace=False)\n",
      "    (3): Linear(in_features=512, out_features=512, bias=True)\n",
      "    (4): ReLU()\n",
      "    (5): Dropout(p=0.25, inplace=False)\n",
      "    (6): Linear(in_features=512, out_features=116, bias=True)\n",
      "  )\n",
      ")\n",
      "----------------------------------------------------------------\n",
      "        Layer (type)               Output Shape         Param #\n",
      "================================================================\n",
      "            Conv2d-1         [-1, 96, 198, 198]          14,208\n",
      "              ReLU-2         [-1, 96, 198, 198]               0\n",
      "         MaxPool2d-3           [-1, 96, 99, 99]               0\n",
      "       BatchNorm2d-4           [-1, 96, 99, 99]             192\n",
      "            Conv2d-5          [-1, 256, 99, 99]         614,656\n",
      "              ReLU-6          [-1, 256, 99, 99]               0\n",
      "         MaxPool2d-7          [-1, 256, 49, 49]               0\n",
      "       BatchNorm2d-8          [-1, 256, 49, 49]             512\n",
      "            Conv2d-9          [-1, 384, 49, 49]         885,120\n",
      "             ReLU-10          [-1, 384, 49, 49]               0\n",
      "        MaxPool2d-11          [-1, 384, 24, 24]               0\n",
      "      BatchNorm2d-12          [-1, 384, 24, 24]             768\n",
      "AdaptiveAvgPool2d-13            [-1, 384, 1, 1]               0\n",
      "           Linear-14                  [-1, 512]         197,120\n",
      "             ReLU-15                  [-1, 512]               0\n",
      "          Dropout-16                  [-1, 512]               0\n",
      "           Linear-17                  [-1, 512]         262,656\n",
      "             ReLU-18                  [-1, 512]               0\n",
      "          Dropout-19                  [-1, 512]               0\n",
      "           Linear-20                  [-1, 116]          59,508\n",
      "================================================================\n",
      "Total params: 2,034,740\n",
      "Trainable params: 2,034,740\n",
      "Non-trainable params: 0\n",
      "----------------------------------------------------------------\n",
      "Input size (MB): 0.46\n",
      "Forward/backward pass size (MB): 136.92\n",
      "Params size (MB): 7.76\n",
      "Estimated Total Size (MB): 145.14\n",
      "----------------------------------------------------------------\n",
      "Output shape: torch.Size([1, 116])\n"
     ]
    }
   ],
   "source": [
    "# instantiate model\n",
    "model = CNNNet(NUM_CLASSES).to(device)\n",
    "\n",
    "# model summary\n",
    "print(model)\n",
    "\n",
    "from torchsummary import summary\n",
    "summary(model.to(device),(3,200,200))\n",
    "# sample input\n",
    "sample_input = torch.randn(1, 3, 200, 200).to(device)\n",
    "output = model(sample_input)\n",
    "print(f\"Output shape: {output.shape}\")"
   ]
  },
  {
   "cell_type": "code",
   "execution_count": 8,
   "metadata": {},
   "outputs": [],
   "source": [
    "writer = SummaryWriter('./Project/normal/runs/normal', comment='Normal_Class_Model')\n",
    "writer.add_graph(model, sample_input)"
   ]
  },
  {
   "cell_type": "code",
   "execution_count": 9,
   "metadata": {},
   "outputs": [],
   "source": [
    "optimizer = torch.optim.SGD(model.parameters(), lr=0.0001, momentum=0.9)\n",
    "loss_fn = torch.nn.CrossEntropyLoss()\n",
    "loss_fn = loss_fn.to(device)\n",
    "\n",
    "# age_classes tensor\n",
    "age_classes = torch.tensor([i for i in range(1, NUM_CLASSES + 1)]).to(device)"
   ]
  },
  {
   "cell_type": "markdown",
   "metadata": {},
   "source": [
    "### Train model"
   ]
  },
  {
   "cell_type": "code",
   "execution_count": 10,
   "metadata": {},
   "outputs": [],
   "source": [
    "def train(model, optimizer, loss_fn, train_loader, val_loader, epochs, summary_writer, device, save_path):\n",
    "    \n",
    "    # create history for graphs\n",
    "    history = {\n",
    "        'loss': [],\n",
    "        'val_loss': [],\n",
    "        'accuracy': [],\n",
    "        'val_accuracy': [],\n",
    "        'mae': [],\n",
    "        'val_mae': []\n",
    "    }\n",
    "    # create cuda events for timetracking\n",
    "    start = torch.cuda.Event(enable_timing=True)\n",
    "    end = torch.cuda.Event(enable_timing=True)\n",
    "    \n",
    "    # init variables for saving\n",
    "    best_val_mae = float('Inf') \n",
    "    best_model_wts = copy.deepcopy(model.state_dict()) \n",
    "    \n",
    "    start.record()\n",
    "    for epoch in range(epochs):\n",
    "        training_loss = 0.0\n",
    "        valid_loss = 0.0\n",
    "        num_train = 0\n",
    "        num_train_correct = 0\n",
    "        total_train_mae = 0.0\n",
    "        total_val_mae = 0.0\n",
    "        \n",
    "        model.train()\n",
    "        for batch in train_loader:\n",
    "            optimizer.zero_grad()\n",
    "            inputs, targets = batch\n",
    "            # shift labels from 1-116 to 0-115 for loss\n",
    "            targets_model = targets - 1\n",
    "            inputs, targets_model = inputs.to(device), targets_model.to(device)\n",
    "            targets = targets.to(device)\n",
    "            outputs = model(inputs)\n",
    "            \n",
    "            loss = loss_fn(outputs, targets_model)\n",
    "            loss.backward()\n",
    "            optimizer.step()\n",
    "            training_loss += loss.item()\n",
    "            _, predicted = outputs.max(1)\n",
    "            predicted = predicted + 1\n",
    "            num_train += targets.size(0)\n",
    "            num_train_correct += predicted.eq(targets).sum().item()\n",
    "\n",
    "            probabilities = F.softmax(outputs, dim=1)\n",
    "            expected_age = torch.sum(probabilities * age_classes, dim=1) + 1\n",
    "            total_train_mae += torch.abs(expected_age - targets.float()).sum().item()\n",
    "                  \n",
    "        training_loss /= len(train_loader)\n",
    "        train_accuracy = num_train_correct / num_train\n",
    "        train_mae = total_train_mae / num_train\n",
    "\n",
    "        if epoch+1 == NR_EPOCHS:\n",
    "            end.record()\n",
    "            torch.cuda.synchronize()\n",
    "        \n",
    "        model.eval()\n",
    "        num_val = 0\n",
    "        num_val_correct = 0\n",
    "        with torch.no_grad():\n",
    "            for batch in val_loader:\n",
    "                inputs, targets = batch\n",
    "                # shift labels from 1-116 to 0-115 for loss\n",
    "                targets_model = targets - 1\n",
    "                inputs, targets_model = inputs.to(device), targets_model.to(device)\n",
    "                targets = targets.to(device)\n",
    "                outputs = model(inputs)\n",
    "                \n",
    "                loss = loss_fn(outputs, targets_model)\n",
    "                valid_loss += loss.item()\n",
    "                _, predicted = outputs.max(1)\n",
    "                predicted = predicted + 1\n",
    "                num_val += targets.size(0)\n",
    "                num_val_correct += predicted.eq(targets).sum().item() \n",
    "\n",
    "                probabilities = F.softmax(outputs, dim=1)\n",
    "                expected_age = torch.sum(probabilities * age_classes, dim=1) + 1\n",
    "                total_val_mae += torch.abs(expected_age - targets.float()).sum().item()\n",
    "        \n",
    "        valid_loss /= len(val_loader)\n",
    "        val_accuracy = num_val_correct / num_val\n",
    "        val_mae = total_val_mae / num_val\n",
    "\n",
    "        summary_writer.add_scalar('Train Loss', training_loss, epoch+1)\n",
    "        summary_writer.add_scalar('Val Loss', valid_loss, epoch+1)\n",
    "        summary_writer.add_scalar('Accuracy', train_accuracy, epoch+1)\n",
    "        summary_writer.add_scalar('Validation Accuracy', val_accuracy, epoch+1)\n",
    "        summary_writer.add_scalar('Train MAE', train_mae, epoch+1)\n",
    "        summary_writer.add_scalar('Val MAE', val_mae, epoch+1)\n",
    "    \n",
    "        history['loss'].append(training_loss)\n",
    "        history['val_loss'].append(valid_loss)\n",
    "        history['accuracy'].append(train_accuracy)\n",
    "        history['val_accuracy'].append(val_accuracy)\n",
    "        history['mae'].append(train_mae)\n",
    "        history['val_mae'].append(val_mae)\n",
    "\n",
    "        print(f'Epoch [{epoch+1}/{NR_EPOCHS}], Training Loss: {training_loss:.2f}, Validation Loss: {valid_loss:.2f}, '\n",
    "              f'Training Accuracy: {train_accuracy:.2f}, Validation Accuracy: {val_accuracy:.2f}, Training MAE: {train_mae:.2f}, Validation MAE: {val_mae:.2f}')\n",
    "        \n",
    "        if val_mae < best_val_mae:\n",
    "            best_val_mae = val_mae\n",
    "            best_model_wts = copy.deepcopy(model.state_dict())\n",
    "            torch.save(best_model_wts, save_path)\n",
    "            print(f\"Best model saved at epoch {epoch+1} with validation accuracy: {best_val_mae:.2f}\")\n",
    "\n",
    "    print(f'Training time:  {round(start.elapsed_time(end), 1) / 60000} minutes')    \n",
    "    return history"
   ]
  },
  {
   "cell_type": "code",
   "execution_count": 11,
   "metadata": {},
   "outputs": [
    {
     "name": "stdout",
     "output_type": "stream",
     "text": [
      "Epoch [1/80], Training Loss: 4.73, Validation Loss: 4.70, Training Accuracy: 0.05, Validation Accuracy: 0.10, Training MAE: 28.90, Validation MAE: 28.46\n",
      "Best model saved at epoch 1 with validation accuracy: 28.46\n",
      "Epoch [2/80], Training Loss: 4.66, Validation Loss: 4.62, Training Accuracy: 0.10, Validation Accuracy: 0.10, Training MAE: 28.32, Validation MAE: 27.69\n",
      "Best model saved at epoch 2 with validation accuracy: 27.69\n",
      "Epoch [3/80], Training Loss: 4.57, Validation Loss: 4.52, Training Accuracy: 0.11, Validation Accuracy: 0.10, Training MAE: 27.32, Validation MAE: 26.35\n",
      "Best model saved at epoch 3 with validation accuracy: 26.35\n",
      "Epoch [4/80], Training Loss: 4.46, Validation Loss: 4.41, Training Accuracy: 0.11, Validation Accuracy: 0.11, Training MAE: 25.55, Validation MAE: 24.26\n",
      "Best model saved at epoch 4 with validation accuracy: 24.26\n",
      "Epoch [5/80], Training Loss: 4.36, Validation Loss: 4.33, Training Accuracy: 0.11, Validation Accuracy: 0.10, Training MAE: 23.33, Validation MAE: 22.15\n",
      "Best model saved at epoch 5 with validation accuracy: 22.15\n",
      "Epoch [6/80], Training Loss: 4.29, Validation Loss: 4.26, Training Accuracy: 0.11, Validation Accuracy: 0.10, Training MAE: 21.47, Validation MAE: 20.53\n",
      "Best model saved at epoch 6 with validation accuracy: 20.53\n",
      "Epoch [7/80], Training Loss: 4.23, Validation Loss: 4.21, Training Accuracy: 0.11, Validation Accuracy: 0.10, Training MAE: 20.16, Validation MAE: 19.36\n",
      "Best model saved at epoch 7 with validation accuracy: 19.36\n",
      "Epoch [8/80], Training Loss: 4.19, Validation Loss: 4.17, Training Accuracy: 0.11, Validation Accuracy: 0.11, Training MAE: 19.13, Validation MAE: 18.37\n",
      "Best model saved at epoch 8 with validation accuracy: 18.37\n",
      "Epoch [9/80], Training Loss: 4.15, Validation Loss: 4.14, Training Accuracy: 0.11, Validation Accuracy: 0.11, Training MAE: 18.35, Validation MAE: 17.73\n",
      "Best model saved at epoch 9 with validation accuracy: 17.73\n",
      "Epoch [10/80], Training Loss: 4.12, Validation Loss: 4.10, Training Accuracy: 0.11, Validation Accuracy: 0.11, Training MAE: 17.65, Validation MAE: 16.97\n",
      "Best model saved at epoch 10 with validation accuracy: 16.97\n",
      "Epoch [11/80], Training Loss: 4.09, Validation Loss: 4.09, Training Accuracy: 0.11, Validation Accuracy: 0.11, Training MAE: 17.17, Validation MAE: 16.60\n",
      "Best model saved at epoch 11 with validation accuracy: 16.60\n",
      "Epoch [12/80], Training Loss: 4.07, Validation Loss: 4.05, Training Accuracy: 0.11, Validation Accuracy: 0.11, Training MAE: 16.74, Validation MAE: 16.18\n",
      "Best model saved at epoch 12 with validation accuracy: 16.18\n",
      "Epoch [13/80], Training Loss: 4.05, Validation Loss: 4.03, Training Accuracy: 0.11, Validation Accuracy: 0.11, Training MAE: 16.38, Validation MAE: 15.70\n",
      "Best model saved at epoch 13 with validation accuracy: 15.70\n",
      "Epoch [14/80], Training Loss: 4.03, Validation Loss: 4.03, Training Accuracy: 0.11, Validation Accuracy: 0.11, Training MAE: 16.08, Validation MAE: 15.77\n",
      "Epoch [15/80], Training Loss: 4.01, Validation Loss: 4.00, Training Accuracy: 0.12, Validation Accuracy: 0.11, Training MAE: 15.83, Validation MAE: 15.50\n",
      "Best model saved at epoch 15 with validation accuracy: 15.50\n",
      "Epoch [16/80], Training Loss: 3.99, Validation Loss: 3.99, Training Accuracy: 0.12, Validation Accuracy: 0.11, Training MAE: 15.56, Validation MAE: 15.29\n",
      "Best model saved at epoch 16 with validation accuracy: 15.29\n",
      "Epoch [17/80], Training Loss: 3.98, Validation Loss: 3.99, Training Accuracy: 0.12, Validation Accuracy: 0.11, Training MAE: 15.39, Validation MAE: 15.47\n",
      "Epoch [18/80], Training Loss: 3.96, Validation Loss: 3.96, Training Accuracy: 0.12, Validation Accuracy: 0.11, Training MAE: 15.22, Validation MAE: 14.38\n",
      "Best model saved at epoch 18 with validation accuracy: 14.38\n",
      "Epoch [19/80], Training Loss: 3.95, Validation Loss: 3.94, Training Accuracy: 0.12, Validation Accuracy: 0.11, Training MAE: 15.08, Validation MAE: 14.39\n",
      "Epoch [20/80], Training Loss: 3.94, Validation Loss: 3.95, Training Accuracy: 0.12, Validation Accuracy: 0.11, Training MAE: 14.93, Validation MAE: 15.01\n",
      "Epoch [21/80], Training Loss: 3.93, Validation Loss: 3.94, Training Accuracy: 0.12, Validation Accuracy: 0.11, Training MAE: 14.81, Validation MAE: 13.65\n",
      "Best model saved at epoch 21 with validation accuracy: 13.65\n",
      "Epoch [22/80], Training Loss: 3.92, Validation Loss: 3.94, Training Accuracy: 0.12, Validation Accuracy: 0.12, Training MAE: 14.67, Validation MAE: 15.15\n",
      "Epoch [23/80], Training Loss: 3.91, Validation Loss: 3.91, Training Accuracy: 0.12, Validation Accuracy: 0.12, Training MAE: 14.62, Validation MAE: 14.73\n",
      "Epoch [24/80], Training Loss: 3.90, Validation Loss: 3.91, Training Accuracy: 0.12, Validation Accuracy: 0.12, Training MAE: 14.44, Validation MAE: 14.76\n",
      "Epoch [25/80], Training Loss: 3.89, Validation Loss: 3.90, Training Accuracy: 0.12, Validation Accuracy: 0.12, Training MAE: 14.37, Validation MAE: 14.09\n",
      "Epoch [26/80], Training Loss: 3.88, Validation Loss: 3.88, Training Accuracy: 0.12, Validation Accuracy: 0.12, Training MAE: 14.27, Validation MAE: 14.01\n",
      "Epoch [27/80], Training Loss: 3.87, Validation Loss: 3.87, Training Accuracy: 0.13, Validation Accuracy: 0.12, Training MAE: 14.11, Validation MAE: 13.39\n",
      "Best model saved at epoch 27 with validation accuracy: 13.39\n",
      "Epoch [28/80], Training Loss: 3.86, Validation Loss: 3.87, Training Accuracy: 0.13, Validation Accuracy: 0.12, Training MAE: 14.05, Validation MAE: 13.63\n",
      "Epoch [29/80], Training Loss: 3.86, Validation Loss: 3.91, Training Accuracy: 0.13, Validation Accuracy: 0.12, Training MAE: 13.97, Validation MAE: 15.08\n",
      "Epoch [30/80], Training Loss: 3.85, Validation Loss: 3.88, Training Accuracy: 0.13, Validation Accuracy: 0.12, Training MAE: 13.85, Validation MAE: 12.89\n",
      "Best model saved at epoch 30 with validation accuracy: 12.89\n",
      "Epoch [31/80], Training Loss: 3.84, Validation Loss: 3.85, Training Accuracy: 0.13, Validation Accuracy: 0.12, Training MAE: 13.74, Validation MAE: 14.01\n",
      "Epoch [32/80], Training Loss: 3.83, Validation Loss: 3.83, Training Accuracy: 0.13, Validation Accuracy: 0.12, Training MAE: 13.68, Validation MAE: 13.57\n",
      "Epoch [33/80], Training Loss: 3.82, Validation Loss: 3.86, Training Accuracy: 0.13, Validation Accuracy: 0.11, Training MAE: 13.54, Validation MAE: 13.57\n",
      "Epoch [34/80], Training Loss: 3.82, Validation Loss: 3.83, Training Accuracy: 0.13, Validation Accuracy: 0.12, Training MAE: 13.51, Validation MAE: 13.26\n",
      "Epoch [35/80], Training Loss: 3.81, Validation Loss: 3.80, Training Accuracy: 0.13, Validation Accuracy: 0.12, Training MAE: 13.45, Validation MAE: 12.86\n",
      "Best model saved at epoch 35 with validation accuracy: 12.86\n",
      "Epoch [36/80], Training Loss: 3.80, Validation Loss: 3.80, Training Accuracy: 0.13, Validation Accuracy: 0.13, Training MAE: 13.32, Validation MAE: 12.96\n",
      "Epoch [37/80], Training Loss: 3.80, Validation Loss: 3.79, Training Accuracy: 0.13, Validation Accuracy: 0.13, Training MAE: 13.22, Validation MAE: 12.92\n",
      "Epoch [38/80], Training Loss: 3.79, Validation Loss: 3.79, Training Accuracy: 0.13, Validation Accuracy: 0.13, Training MAE: 13.20, Validation MAE: 13.03\n",
      "Epoch [39/80], Training Loss: 3.78, Validation Loss: 3.89, Training Accuracy: 0.13, Validation Accuracy: 0.13, Training MAE: 13.11, Validation MAE: 15.43\n",
      "Epoch [40/80], Training Loss: 3.77, Validation Loss: 3.76, Training Accuracy: 0.13, Validation Accuracy: 0.13, Training MAE: 13.05, Validation MAE: 12.58\n",
      "Best model saved at epoch 40 with validation accuracy: 12.58\n",
      "Epoch [41/80], Training Loss: 3.76, Validation Loss: 3.79, Training Accuracy: 0.13, Validation Accuracy: 0.12, Training MAE: 12.93, Validation MAE: 11.95\n",
      "Best model saved at epoch 41 with validation accuracy: 11.95\n",
      "Epoch [42/80], Training Loss: 3.76, Validation Loss: 3.75, Training Accuracy: 0.13, Validation Accuracy: 0.13, Training MAE: 12.93, Validation MAE: 12.85\n",
      "Epoch [43/80], Training Loss: 3.76, Validation Loss: 3.75, Training Accuracy: 0.13, Validation Accuracy: 0.13, Training MAE: 12.87, Validation MAE: 12.37\n",
      "Epoch [44/80], Training Loss: 3.75, Validation Loss: 3.78, Training Accuracy: 0.13, Validation Accuracy: 0.13, Training MAE: 12.83, Validation MAE: 13.39\n",
      "Epoch [45/80], Training Loss: 3.74, Validation Loss: 3.75, Training Accuracy: 0.13, Validation Accuracy: 0.13, Training MAE: 12.70, Validation MAE: 12.28\n",
      "Epoch [46/80], Training Loss: 3.73, Validation Loss: 3.74, Training Accuracy: 0.13, Validation Accuracy: 0.13, Training MAE: 12.65, Validation MAE: 12.43\n",
      "Epoch [47/80], Training Loss: 3.73, Validation Loss: 3.76, Training Accuracy: 0.13, Validation Accuracy: 0.13, Training MAE: 12.54, Validation MAE: 13.26\n",
      "Epoch [48/80], Training Loss: 3.72, Validation Loss: 3.74, Training Accuracy: 0.14, Validation Accuracy: 0.13, Training MAE: 12.53, Validation MAE: 12.85\n",
      "Epoch [49/80], Training Loss: 3.72, Validation Loss: 3.71, Training Accuracy: 0.13, Validation Accuracy: 0.13, Training MAE: 12.47, Validation MAE: 11.93\n",
      "Best model saved at epoch 49 with validation accuracy: 11.93\n",
      "Epoch [50/80], Training Loss: 3.71, Validation Loss: 3.73, Training Accuracy: 0.14, Validation Accuracy: 0.13, Training MAE: 12.38, Validation MAE: 12.00\n",
      "Epoch [51/80], Training Loss: 3.70, Validation Loss: 3.71, Training Accuracy: 0.14, Validation Accuracy: 0.13, Training MAE: 12.35, Validation MAE: 11.46\n",
      "Best model saved at epoch 51 with validation accuracy: 11.46\n",
      "Epoch [52/80], Training Loss: 3.70, Validation Loss: 3.70, Training Accuracy: 0.14, Validation Accuracy: 0.14, Training MAE: 12.24, Validation MAE: 12.04\n",
      "Epoch [53/80], Training Loss: 3.69, Validation Loss: 3.73, Training Accuracy: 0.14, Validation Accuracy: 0.13, Training MAE: 12.16, Validation MAE: 12.87\n",
      "Epoch [54/80], Training Loss: 3.69, Validation Loss: 3.72, Training Accuracy: 0.14, Validation Accuracy: 0.13, Training MAE: 12.12, Validation MAE: 12.94\n",
      "Epoch [55/80], Training Loss: 3.68, Validation Loss: 3.71, Training Accuracy: 0.14, Validation Accuracy: 0.13, Training MAE: 12.03, Validation MAE: 12.10\n",
      "Epoch [56/80], Training Loss: 3.67, Validation Loss: 3.68, Training Accuracy: 0.14, Validation Accuracy: 0.14, Training MAE: 11.98, Validation MAE: 11.27\n",
      "Best model saved at epoch 56 with validation accuracy: 11.27\n",
      "Epoch [57/80], Training Loss: 3.67, Validation Loss: 3.67, Training Accuracy: 0.14, Validation Accuracy: 0.13, Training MAE: 11.94, Validation MAE: 11.64\n",
      "Epoch [58/80], Training Loss: 3.67, Validation Loss: 3.68, Training Accuracy: 0.14, Validation Accuracy: 0.13, Training MAE: 11.85, Validation MAE: 11.49\n",
      "Epoch [59/80], Training Loss: 3.66, Validation Loss: 3.68, Training Accuracy: 0.14, Validation Accuracy: 0.13, Training MAE: 11.75, Validation MAE: 11.63\n",
      "Epoch [60/80], Training Loss: 3.65, Validation Loss: 3.69, Training Accuracy: 0.14, Validation Accuracy: 0.13, Training MAE: 11.71, Validation MAE: 12.06\n",
      "Epoch [61/80], Training Loss: 3.65, Validation Loss: 3.65, Training Accuracy: 0.14, Validation Accuracy: 0.13, Training MAE: 11.68, Validation MAE: 11.12\n",
      "Best model saved at epoch 61 with validation accuracy: 11.12\n",
      "Epoch [62/80], Training Loss: 3.64, Validation Loss: 3.65, Training Accuracy: 0.14, Validation Accuracy: 0.14, Training MAE: 11.57, Validation MAE: 11.80\n",
      "Epoch [63/80], Training Loss: 3.64, Validation Loss: 3.65, Training Accuracy: 0.14, Validation Accuracy: 0.13, Training MAE: 11.57, Validation MAE: 11.48\n",
      "Epoch [64/80], Training Loss: 3.64, Validation Loss: 3.66, Training Accuracy: 0.14, Validation Accuracy: 0.13, Training MAE: 11.49, Validation MAE: 11.52\n",
      "Epoch [65/80], Training Loss: 3.63, Validation Loss: 3.66, Training Accuracy: 0.14, Validation Accuracy: 0.14, Training MAE: 11.38, Validation MAE: 11.85\n",
      "Epoch [66/80], Training Loss: 3.62, Validation Loss: 3.61, Training Accuracy: 0.14, Validation Accuracy: 0.14, Training MAE: 11.29, Validation MAE: 10.63\n",
      "Best model saved at epoch 66 with validation accuracy: 10.63\n",
      "Epoch [67/80], Training Loss: 3.62, Validation Loss: 3.70, Training Accuracy: 0.14, Validation Accuracy: 0.13, Training MAE: 11.27, Validation MAE: 10.96\n",
      "Epoch [68/80], Training Loss: 3.61, Validation Loss: 3.62, Training Accuracy: 0.14, Validation Accuracy: 0.14, Training MAE: 11.20, Validation MAE: 10.84\n",
      "Epoch [69/80], Training Loss: 3.61, Validation Loss: 3.61, Training Accuracy: 0.14, Validation Accuracy: 0.14, Training MAE: 11.16, Validation MAE: 11.14\n",
      "Epoch [70/80], Training Loss: 3.60, Validation Loss: 3.66, Training Accuracy: 0.14, Validation Accuracy: 0.14, Training MAE: 11.08, Validation MAE: 11.62\n",
      "Epoch [71/80], Training Loss: 3.60, Validation Loss: 3.64, Training Accuracy: 0.14, Validation Accuracy: 0.14, Training MAE: 10.99, Validation MAE: 11.53\n",
      "Epoch [72/80], Training Loss: 3.59, Validation Loss: 3.61, Training Accuracy: 0.14, Validation Accuracy: 0.14, Training MAE: 10.92, Validation MAE: 10.25\n",
      "Best model saved at epoch 72 with validation accuracy: 10.25\n",
      "Epoch [73/80], Training Loss: 3.58, Validation Loss: 3.59, Training Accuracy: 0.14, Validation Accuracy: 0.14, Training MAE: 10.85, Validation MAE: 10.30\n",
      "Epoch [74/80], Training Loss: 3.58, Validation Loss: 3.60, Training Accuracy: 0.14, Validation Accuracy: 0.14, Training MAE: 10.81, Validation MAE: 10.32\n",
      "Epoch [75/80], Training Loss: 3.58, Validation Loss: 3.57, Training Accuracy: 0.14, Validation Accuracy: 0.14, Training MAE: 10.74, Validation MAE: 10.55\n",
      "Epoch [76/80], Training Loss: 3.57, Validation Loss: 3.61, Training Accuracy: 0.14, Validation Accuracy: 0.14, Training MAE: 10.68, Validation MAE: 10.89\n",
      "Epoch [77/80], Training Loss: 3.57, Validation Loss: 3.58, Training Accuracy: 0.14, Validation Accuracy: 0.14, Training MAE: 10.71, Validation MAE: 10.79\n",
      "Epoch [78/80], Training Loss: 3.56, Validation Loss: 3.56, Training Accuracy: 0.14, Validation Accuracy: 0.14, Training MAE: 10.59, Validation MAE: 10.22\n",
      "Best model saved at epoch 78 with validation accuracy: 10.22\n",
      "Epoch [79/80], Training Loss: 3.56, Validation Loss: 3.56, Training Accuracy: 0.14, Validation Accuracy: 0.14, Training MAE: 10.51, Validation MAE: 10.49\n",
      "Epoch [80/80], Training Loss: 3.55, Validation Loss: 3.63, Training Accuracy: 0.14, Validation Accuracy: 0.13, Training MAE: 10.48, Validation MAE: 10.27\n",
      "Training time:  102.5604 minutes\n"
     ]
    }
   ],
   "source": [
    "# train model \n",
    "history = train(model, optimizer, loss_fn, train_loader, val_loader, NR_EPOCHS, writer, device, './Project/classes/normal/normal_model')\n",
    "writer.close()"
   ]
  },
  {
   "cell_type": "markdown",
   "metadata": {},
   "source": [
    "## Depthwise Separable Convolution Model"
   ]
  },
  {
   "cell_type": "markdown",
   "metadata": {},
   "source": [
    "### Create Model"
   ]
  },
  {
   "cell_type": "code",
   "execution_count": 12,
   "metadata": {},
   "outputs": [],
   "source": [
    "# SeparableConv2d class, depthwise convolution followed by pointwise convolution \n",
    "class SeparableConv2d(nn.Module): \n",
    "    def __init__(self, in_channels, out_channels, kernel_size, **kwargs):\n",
    "        super(SeparableConv2d, self).__init__()\n",
    "        self.depthwise = nn.Conv2d(in_channels, in_channels, kernel_size=kernel_size, groups=in_channels, **kwargs)\n",
    "        self.pointwise = nn.Conv2d(in_channels, out_channels, kernel_size=1)\n",
    "\n",
    "    def forward(self, x):\n",
    "        x = self.depthwise(x)\n",
    "        x = self.pointwise(x)\n",
    "        return x\n",
    "\n",
    "class DepthwiseCNNNet(nn.Module):\n",
    "    def __init__(self, num_classes=116):\n",
    "        super(DepthwiseCNNNet, self).__init__()\n",
    "        self.features = nn.Sequential(\n",
    "            SeparableConv2d(3, 96, kernel_size=7, padding=2),\n",
    "            nn.ReLU(),\n",
    "            nn.MaxPool2d(kernel_size=2, stride=2),\n",
    "            nn.BatchNorm2d(96),\n",
    "\n",
    "            SeparableConv2d(96, 256, kernel_size=5, padding=2),\n",
    "            nn.ReLU(),\n",
    "            nn.MaxPool2d(kernel_size=2, stride=2),\n",
    "            nn.BatchNorm2d(256),\n",
    "\n",
    "            SeparableConv2d(256, 384, kernel_size=3, padding=1),\n",
    "            nn.ReLU(),\n",
    "            nn.MaxPool2d(kernel_size=2, stride=2),\n",
    "            nn.BatchNorm2d(384),\n",
    "        )\n",
    "        self.avgpool = nn.AdaptiveAvgPool2d((1, 1))\n",
    "        self.classifier = nn.Sequential(\n",
    "            nn.Linear(384, 512),\n",
    "            nn.ReLU(),\n",
    "            nn.Dropout(0.25),\n",
    "            nn.Linear(512, 512),\n",
    "            nn.ReLU(),\n",
    "            nn.Dropout(0.25),\n",
    "            nn.Linear(512, num_classes)\n",
    "        )\n",
    "\n",
    "    def forward(self, x):\n",
    "        x = self.features(x)\n",
    "        x = self.avgpool(x)\n",
    "        x = torch.flatten(x, 1)\n",
    "        x = self.classifier(x)\n",
    "        return x"
   ]
  },
  {
   "cell_type": "code",
   "execution_count": 13,
   "metadata": {
    "collapsed": true,
    "jupyter": {
     "outputs_hidden": true
    },
    "scrolled": true
   },
   "outputs": [
    {
     "name": "stdout",
     "output_type": "stream",
     "text": [
      "DepthwiseCNNNet(\n",
      "  (features): Sequential(\n",
      "    (0): SeparableConv2d(\n",
      "      (depthwise): Conv2d(3, 3, kernel_size=(7, 7), stride=(1, 1), padding=(2, 2), groups=3)\n",
      "      (pointwise): Conv2d(3, 96, kernel_size=(1, 1), stride=(1, 1))\n",
      "    )\n",
      "    (1): ReLU()\n",
      "    (2): MaxPool2d(kernel_size=2, stride=2, padding=0, dilation=1, ceil_mode=False)\n",
      "    (3): BatchNorm2d(96, eps=1e-05, momentum=0.1, affine=True, track_running_stats=True)\n",
      "    (4): SeparableConv2d(\n",
      "      (depthwise): Conv2d(96, 96, kernel_size=(5, 5), stride=(1, 1), padding=(2, 2), groups=96)\n",
      "      (pointwise): Conv2d(96, 256, kernel_size=(1, 1), stride=(1, 1))\n",
      "    )\n",
      "    (5): ReLU()\n",
      "    (6): MaxPool2d(kernel_size=2, stride=2, padding=0, dilation=1, ceil_mode=False)\n",
      "    (7): BatchNorm2d(256, eps=1e-05, momentum=0.1, affine=True, track_running_stats=True)\n",
      "    (8): SeparableConv2d(\n",
      "      (depthwise): Conv2d(256, 256, kernel_size=(3, 3), stride=(1, 1), padding=(1, 1), groups=256)\n",
      "      (pointwise): Conv2d(256, 384, kernel_size=(1, 1), stride=(1, 1))\n",
      "    )\n",
      "    (9): ReLU()\n",
      "    (10): MaxPool2d(kernel_size=2, stride=2, padding=0, dilation=1, ceil_mode=False)\n",
      "    (11): BatchNorm2d(384, eps=1e-05, momentum=0.1, affine=True, track_running_stats=True)\n",
      "  )\n",
      "  (avgpool): AdaptiveAvgPool2d(output_size=(1, 1))\n",
      "  (classifier): Sequential(\n",
      "    (0): Linear(in_features=384, out_features=512, bias=True)\n",
      "    (1): ReLU()\n",
      "    (2): Dropout(p=0.25, inplace=False)\n",
      "    (3): Linear(in_features=512, out_features=512, bias=True)\n",
      "    (4): ReLU()\n",
      "    (5): Dropout(p=0.25, inplace=False)\n",
      "    (6): Linear(in_features=512, out_features=116, bias=True)\n",
      "  )\n",
      ")\n",
      "----------------------------------------------------------------\n",
      "        Layer (type)               Output Shape         Param #\n",
      "================================================================\n",
      "            Conv2d-1          [-1, 3, 198, 198]             150\n",
      "            Conv2d-2         [-1, 96, 198, 198]             384\n",
      "   SeparableConv2d-3         [-1, 96, 198, 198]               0\n",
      "              ReLU-4         [-1, 96, 198, 198]               0\n",
      "         MaxPool2d-5           [-1, 96, 99, 99]               0\n",
      "       BatchNorm2d-6           [-1, 96, 99, 99]             192\n",
      "            Conv2d-7           [-1, 96, 99, 99]           2,496\n",
      "            Conv2d-8          [-1, 256, 99, 99]          24,832\n",
      "   SeparableConv2d-9          [-1, 256, 99, 99]               0\n",
      "             ReLU-10          [-1, 256, 99, 99]               0\n",
      "        MaxPool2d-11          [-1, 256, 49, 49]               0\n",
      "      BatchNorm2d-12          [-1, 256, 49, 49]             512\n",
      "           Conv2d-13          [-1, 256, 49, 49]           2,560\n",
      "           Conv2d-14          [-1, 384, 49, 49]          98,688\n",
      "  SeparableConv2d-15          [-1, 384, 49, 49]               0\n",
      "             ReLU-16          [-1, 384, 49, 49]               0\n",
      "        MaxPool2d-17          [-1, 384, 24, 24]               0\n",
      "      BatchNorm2d-18          [-1, 384, 24, 24]             768\n",
      "AdaptiveAvgPool2d-19            [-1, 384, 1, 1]               0\n",
      "           Linear-20                  [-1, 512]         197,120\n",
      "             ReLU-21                  [-1, 512]               0\n",
      "          Dropout-22                  [-1, 512]               0\n",
      "           Linear-23                  [-1, 512]         262,656\n",
      "             ReLU-24                  [-1, 512]               0\n",
      "          Dropout-25                  [-1, 512]               0\n",
      "           Linear-26                  [-1, 116]          59,508\n",
      "================================================================\n",
      "Total params: 649,866\n",
      "Trainable params: 649,866\n",
      "Non-trainable params: 0\n",
      "----------------------------------------------------------------\n",
      "Input size (MB): 0.46\n",
      "Forward/backward pass size (MB): 204.58\n",
      "Params size (MB): 2.48\n",
      "Estimated Total Size (MB): 207.51\n",
      "----------------------------------------------------------------\n",
      "Output shape: torch.Size([1, 116])\n"
     ]
    }
   ],
   "source": [
    "# instantiate model\n",
    "depthwise_model = DepthwiseCNNNet(NUM_CLASSES).to(device)\n",
    "\n",
    "# model summary\n",
    "print(depthwise_model)\n",
    "\n",
    "from torchsummary import summary\n",
    "summary(depthwise_model.to(device),(3,200,200))\n",
    "# sample input\n",
    "sample_input = torch.randn(1, 3, 200, 200).to(device)\n",
    "output = depthwise_model(sample_input)\n",
    "print(f\"Output shape: {output.shape}\")"
   ]
  },
  {
   "cell_type": "code",
   "execution_count": 14,
   "metadata": {},
   "outputs": [],
   "source": [
    "writer_depth = SummaryWriter('./Project/normal/runs/depthwise', comment='Depthwise_Regression_Model')\n",
    "writer_depth.add_graph(depthwise_model, sample_input)"
   ]
  },
  {
   "cell_type": "markdown",
   "metadata": {},
   "source": [
    "### Train"
   ]
  },
  {
   "cell_type": "code",
   "execution_count": 15,
   "metadata": {},
   "outputs": [],
   "source": [
    "depthwise_optimizer = torch.optim.SGD(depthwise_model.parameters(), lr=0.0001, momentum=0.9)"
   ]
  },
  {
   "cell_type": "code",
   "execution_count": 16,
   "metadata": {
    "scrolled": true
   },
   "outputs": [
    {
     "name": "stdout",
     "output_type": "stream",
     "text": [
      "Epoch [1/80], Training Loss: 4.74, Validation Loss: 4.73, Training Accuracy: 0.03, Validation Accuracy: 0.05, Training MAE: 29.00, Validation MAE: 28.64\n",
      "Best model saved at epoch 1 with validation accuracy: 28.64\n",
      "Epoch [2/80], Training Loss: 4.71, Validation Loss: 4.69, Training Accuracy: 0.08, Validation Accuracy: 0.09, Training MAE: 28.69, Validation MAE: 28.28\n",
      "Best model saved at epoch 2 with validation accuracy: 28.28\n",
      "Epoch [3/80], Training Loss: 4.67, Validation Loss: 4.65, Training Accuracy: 0.10, Validation Accuracy: 0.10, Training MAE: 28.31, Validation MAE: 27.83\n",
      "Best model saved at epoch 3 with validation accuracy: 27.83\n",
      "Epoch [4/80], Training Loss: 4.62, Validation Loss: 4.59, Training Accuracy: 0.11, Validation Accuracy: 0.10, Training MAE: 27.77, Validation MAE: 27.15\n",
      "Best model saved at epoch 4 with validation accuracy: 27.15\n",
      "Epoch [5/80], Training Loss: 4.55, Validation Loss: 4.51, Training Accuracy: 0.11, Validation Accuracy: 0.10, Training MAE: 26.91, Validation MAE: 26.00\n",
      "Best model saved at epoch 5 with validation accuracy: 26.00\n",
      "Epoch [6/80], Training Loss: 4.46, Validation Loss: 4.43, Training Accuracy: 0.11, Validation Accuracy: 0.10, Training MAE: 25.50, Validation MAE: 24.23\n",
      "Best model saved at epoch 6 with validation accuracy: 24.23\n",
      "Epoch [7/80], Training Loss: 4.39, Validation Loss: 4.37, Training Accuracy: 0.11, Validation Accuracy: 0.10, Training MAE: 23.71, Validation MAE: 22.60\n",
      "Best model saved at epoch 7 with validation accuracy: 22.60\n",
      "Epoch [8/80], Training Loss: 4.33, Validation Loss: 4.31, Training Accuracy: 0.11, Validation Accuracy: 0.10, Training MAE: 22.28, Validation MAE: 21.25\n",
      "Best model saved at epoch 8 with validation accuracy: 21.25\n",
      "Epoch [9/80], Training Loss: 4.28, Validation Loss: 4.27, Training Accuracy: 0.11, Validation Accuracy: 0.10, Training MAE: 21.23, Validation MAE: 20.51\n",
      "Best model saved at epoch 9 with validation accuracy: 20.51\n",
      "Epoch [10/80], Training Loss: 4.25, Validation Loss: 4.23, Training Accuracy: 0.11, Validation Accuracy: 0.10, Training MAE: 20.37, Validation MAE: 19.66\n",
      "Best model saved at epoch 10 with validation accuracy: 19.66\n",
      "Epoch [11/80], Training Loss: 4.21, Validation Loss: 4.20, Training Accuracy: 0.11, Validation Accuracy: 0.10, Training MAE: 19.55, Validation MAE: 18.94\n",
      "Best model saved at epoch 11 with validation accuracy: 18.94\n",
      "Epoch [12/80], Training Loss: 4.18, Validation Loss: 4.17, Training Accuracy: 0.11, Validation Accuracy: 0.10, Training MAE: 18.88, Validation MAE: 18.29\n",
      "Best model saved at epoch 12 with validation accuracy: 18.29\n",
      "Epoch [13/80], Training Loss: 4.16, Validation Loss: 4.15, Training Accuracy: 0.11, Validation Accuracy: 0.10, Training MAE: 18.32, Validation MAE: 17.72\n",
      "Best model saved at epoch 13 with validation accuracy: 17.72\n",
      "Epoch [14/80], Training Loss: 4.14, Validation Loss: 4.13, Training Accuracy: 0.11, Validation Accuracy: 0.10, Training MAE: 17.96, Validation MAE: 17.46\n",
      "Best model saved at epoch 14 with validation accuracy: 17.46\n",
      "Epoch [15/80], Training Loss: 4.12, Validation Loss: 4.11, Training Accuracy: 0.11, Validation Accuracy: 0.10, Training MAE: 17.55, Validation MAE: 17.12\n",
      "Best model saved at epoch 15 with validation accuracy: 17.12\n",
      "Epoch [16/80], Training Loss: 4.10, Validation Loss: 4.10, Training Accuracy: 0.11, Validation Accuracy: 0.10, Training MAE: 17.21, Validation MAE: 16.70\n",
      "Best model saved at epoch 16 with validation accuracy: 16.70\n",
      "Epoch [17/80], Training Loss: 4.09, Validation Loss: 4.08, Training Accuracy: 0.11, Validation Accuracy: 0.10, Training MAE: 16.94, Validation MAE: 16.54\n",
      "Best model saved at epoch 17 with validation accuracy: 16.54\n",
      "Epoch [18/80], Training Loss: 4.08, Validation Loss: 4.07, Training Accuracy: 0.11, Validation Accuracy: 0.10, Training MAE: 16.76, Validation MAE: 16.28\n",
      "Best model saved at epoch 18 with validation accuracy: 16.28\n",
      "Epoch [19/80], Training Loss: 4.07, Validation Loss: 4.06, Training Accuracy: 0.11, Validation Accuracy: 0.10, Training MAE: 16.53, Validation MAE: 16.24\n",
      "Best model saved at epoch 19 with validation accuracy: 16.24\n",
      "Epoch [20/80], Training Loss: 4.06, Validation Loss: 4.06, Training Accuracy: 0.11, Validation Accuracy: 0.10, Training MAE: 16.35, Validation MAE: 15.89\n",
      "Best model saved at epoch 20 with validation accuracy: 15.89\n",
      "Epoch [21/80], Training Loss: 4.05, Validation Loss: 4.05, Training Accuracy: 0.11, Validation Accuracy: 0.10, Training MAE: 16.23, Validation MAE: 15.76\n",
      "Best model saved at epoch 21 with validation accuracy: 15.76\n",
      "Epoch [22/80], Training Loss: 4.04, Validation Loss: 4.04, Training Accuracy: 0.11, Validation Accuracy: 0.10, Training MAE: 16.11, Validation MAE: 15.67\n",
      "Best model saved at epoch 22 with validation accuracy: 15.67\n",
      "Epoch [23/80], Training Loss: 4.04, Validation Loss: 4.03, Training Accuracy: 0.11, Validation Accuracy: 0.11, Training MAE: 15.98, Validation MAE: 15.58\n",
      "Best model saved at epoch 23 with validation accuracy: 15.58\n",
      "Epoch [24/80], Training Loss: 4.03, Validation Loss: 4.02, Training Accuracy: 0.11, Validation Accuracy: 0.11, Training MAE: 15.87, Validation MAE: 15.49\n",
      "Best model saved at epoch 24 with validation accuracy: 15.49\n",
      "Epoch [25/80], Training Loss: 4.02, Validation Loss: 4.02, Training Accuracy: 0.11, Validation Accuracy: 0.11, Training MAE: 15.80, Validation MAE: 15.42\n",
      "Best model saved at epoch 25 with validation accuracy: 15.42\n",
      "Epoch [26/80], Training Loss: 4.02, Validation Loss: 4.01, Training Accuracy: 0.11, Validation Accuracy: 0.11, Training MAE: 15.73, Validation MAE: 15.26\n",
      "Best model saved at epoch 26 with validation accuracy: 15.26\n",
      "Epoch [27/80], Training Loss: 4.01, Validation Loss: 4.00, Training Accuracy: 0.11, Validation Accuracy: 0.11, Training MAE: 15.66, Validation MAE: 15.26\n",
      "Best model saved at epoch 27 with validation accuracy: 15.26\n",
      "Epoch [28/80], Training Loss: 4.01, Validation Loss: 4.00, Training Accuracy: 0.11, Validation Accuracy: 0.11, Training MAE: 15.62, Validation MAE: 15.06\n",
      "Best model saved at epoch 28 with validation accuracy: 15.06\n",
      "Epoch [29/80], Training Loss: 4.00, Validation Loss: 4.00, Training Accuracy: 0.11, Validation Accuracy: 0.11, Training MAE: 15.50, Validation MAE: 15.08\n",
      "Epoch [30/80], Training Loss: 3.99, Validation Loss: 3.99, Training Accuracy: 0.11, Validation Accuracy: 0.11, Training MAE: 15.46, Validation MAE: 15.08\n",
      "Epoch [31/80], Training Loss: 3.99, Validation Loss: 3.99, Training Accuracy: 0.11, Validation Accuracy: 0.11, Training MAE: 15.39, Validation MAE: 15.04\n",
      "Best model saved at epoch 31 with validation accuracy: 15.04\n",
      "Epoch [32/80], Training Loss: 3.99, Validation Loss: 3.98, Training Accuracy: 0.11, Validation Accuracy: 0.11, Training MAE: 15.36, Validation MAE: 14.91\n",
      "Best model saved at epoch 32 with validation accuracy: 14.91\n",
      "Epoch [33/80], Training Loss: 3.98, Validation Loss: 3.98, Training Accuracy: 0.11, Validation Accuracy: 0.11, Training MAE: 15.31, Validation MAE: 15.01\n",
      "Epoch [34/80], Training Loss: 3.98, Validation Loss: 3.97, Training Accuracy: 0.11, Validation Accuracy: 0.11, Training MAE: 15.26, Validation MAE: 14.93\n",
      "Epoch [35/80], Training Loss: 3.97, Validation Loss: 3.97, Training Accuracy: 0.12, Validation Accuracy: 0.11, Training MAE: 15.24, Validation MAE: 14.79\n",
      "Best model saved at epoch 35 with validation accuracy: 14.79\n",
      "Epoch [36/80], Training Loss: 3.97, Validation Loss: 3.97, Training Accuracy: 0.12, Validation Accuracy: 0.11, Training MAE: 15.17, Validation MAE: 14.81\n",
      "Epoch [37/80], Training Loss: 3.97, Validation Loss: 3.96, Training Accuracy: 0.12, Validation Accuracy: 0.11, Training MAE: 15.13, Validation MAE: 14.89\n",
      "Epoch [38/80], Training Loss: 3.96, Validation Loss: 3.96, Training Accuracy: 0.12, Validation Accuracy: 0.11, Training MAE: 15.11, Validation MAE: 14.74\n",
      "Best model saved at epoch 38 with validation accuracy: 14.74\n",
      "Epoch [39/80], Training Loss: 3.96, Validation Loss: 3.95, Training Accuracy: 0.12, Validation Accuracy: 0.11, Training MAE: 15.07, Validation MAE: 14.67\n",
      "Best model saved at epoch 39 with validation accuracy: 14.67\n",
      "Epoch [40/80], Training Loss: 3.95, Validation Loss: 3.95, Training Accuracy: 0.12, Validation Accuracy: 0.11, Training MAE: 15.03, Validation MAE: 14.71\n",
      "Epoch [41/80], Training Loss: 3.95, Validation Loss: 3.95, Training Accuracy: 0.12, Validation Accuracy: 0.11, Training MAE: 14.96, Validation MAE: 14.75\n",
      "Epoch [42/80], Training Loss: 3.94, Validation Loss: 3.94, Training Accuracy: 0.12, Validation Accuracy: 0.11, Training MAE: 14.92, Validation MAE: 14.51\n",
      "Best model saved at epoch 42 with validation accuracy: 14.51\n",
      "Epoch [43/80], Training Loss: 3.94, Validation Loss: 3.93, Training Accuracy: 0.12, Validation Accuracy: 0.11, Training MAE: 14.89, Validation MAE: 14.48\n",
      "Best model saved at epoch 43 with validation accuracy: 14.48\n",
      "Epoch [44/80], Training Loss: 3.93, Validation Loss: 3.93, Training Accuracy: 0.12, Validation Accuracy: 0.11, Training MAE: 14.86, Validation MAE: 14.40\n",
      "Best model saved at epoch 44 with validation accuracy: 14.40\n",
      "Epoch [45/80], Training Loss: 3.93, Validation Loss: 3.92, Training Accuracy: 0.12, Validation Accuracy: 0.11, Training MAE: 14.78, Validation MAE: 14.45\n",
      "Epoch [46/80], Training Loss: 3.92, Validation Loss: 3.92, Training Accuracy: 0.12, Validation Accuracy: 0.11, Training MAE: 14.75, Validation MAE: 14.30\n",
      "Best model saved at epoch 46 with validation accuracy: 14.30\n",
      "Epoch [47/80], Training Loss: 3.92, Validation Loss: 3.91, Training Accuracy: 0.12, Validation Accuracy: 0.11, Training MAE: 14.72, Validation MAE: 14.40\n",
      "Epoch [48/80], Training Loss: 3.91, Validation Loss: 3.91, Training Accuracy: 0.12, Validation Accuracy: 0.11, Training MAE: 14.63, Validation MAE: 14.21\n",
      "Best model saved at epoch 48 with validation accuracy: 14.21\n",
      "Epoch [49/80], Training Loss: 3.90, Validation Loss: 3.90, Training Accuracy: 0.12, Validation Accuracy: 0.12, Training MAE: 14.57, Validation MAE: 14.34\n",
      "Epoch [50/80], Training Loss: 3.90, Validation Loss: 3.90, Training Accuracy: 0.12, Validation Accuracy: 0.12, Training MAE: 14.53, Validation MAE: 14.16\n",
      "Best model saved at epoch 50 with validation accuracy: 14.16\n",
      "Epoch [51/80], Training Loss: 3.89, Validation Loss: 3.89, Training Accuracy: 0.12, Validation Accuracy: 0.11, Training MAE: 14.46, Validation MAE: 13.99\n",
      "Best model saved at epoch 51 with validation accuracy: 13.99\n",
      "Epoch [52/80], Training Loss: 3.89, Validation Loss: 3.89, Training Accuracy: 0.12, Validation Accuracy: 0.12, Training MAE: 14.45, Validation MAE: 13.93\n",
      "Best model saved at epoch 52 with validation accuracy: 13.93\n",
      "Epoch [53/80], Training Loss: 3.88, Validation Loss: 3.88, Training Accuracy: 0.12, Validation Accuracy: 0.12, Training MAE: 14.37, Validation MAE: 14.01\n",
      "Epoch [54/80], Training Loss: 3.88, Validation Loss: 3.87, Training Accuracy: 0.12, Validation Accuracy: 0.12, Training MAE: 14.35, Validation MAE: 13.77\n",
      "Best model saved at epoch 54 with validation accuracy: 13.77\n",
      "Epoch [55/80], Training Loss: 3.87, Validation Loss: 3.87, Training Accuracy: 0.12, Validation Accuracy: 0.12, Training MAE: 14.26, Validation MAE: 13.89\n",
      "Epoch [56/80], Training Loss: 3.86, Validation Loss: 3.87, Training Accuracy: 0.12, Validation Accuracy: 0.12, Training MAE: 14.21, Validation MAE: 13.76\n",
      "Best model saved at epoch 56 with validation accuracy: 13.76\n",
      "Epoch [57/80], Training Loss: 3.86, Validation Loss: 3.86, Training Accuracy: 0.12, Validation Accuracy: 0.12, Training MAE: 14.16, Validation MAE: 13.79\n",
      "Epoch [58/80], Training Loss: 3.86, Validation Loss: 3.86, Training Accuracy: 0.12, Validation Accuracy: 0.12, Training MAE: 14.10, Validation MAE: 13.59\n",
      "Best model saved at epoch 58 with validation accuracy: 13.59\n",
      "Epoch [59/80], Training Loss: 3.85, Validation Loss: 3.85, Training Accuracy: 0.12, Validation Accuracy: 0.12, Training MAE: 14.08, Validation MAE: 13.50\n",
      "Best model saved at epoch 59 with validation accuracy: 13.50\n",
      "Epoch [60/80], Training Loss: 3.85, Validation Loss: 3.84, Training Accuracy: 0.12, Validation Accuracy: 0.12, Training MAE: 14.03, Validation MAE: 13.66\n",
      "Epoch [61/80], Training Loss: 3.84, Validation Loss: 3.84, Training Accuracy: 0.13, Validation Accuracy: 0.12, Training MAE: 13.98, Validation MAE: 13.70\n",
      "Epoch [62/80], Training Loss: 3.83, Validation Loss: 3.84, Training Accuracy: 0.13, Validation Accuracy: 0.12, Training MAE: 13.90, Validation MAE: 13.46\n",
      "Best model saved at epoch 62 with validation accuracy: 13.46\n",
      "Epoch [63/80], Training Loss: 3.83, Validation Loss: 3.84, Training Accuracy: 0.13, Validation Accuracy: 0.12, Training MAE: 13.85, Validation MAE: 13.47\n",
      "Epoch [64/80], Training Loss: 3.83, Validation Loss: 3.83, Training Accuracy: 0.13, Validation Accuracy: 0.12, Training MAE: 13.81, Validation MAE: 13.37\n",
      "Best model saved at epoch 64 with validation accuracy: 13.37\n",
      "Epoch [65/80], Training Loss: 3.82, Validation Loss: 3.83, Training Accuracy: 0.13, Validation Accuracy: 0.12, Training MAE: 13.78, Validation MAE: 13.31\n",
      "Best model saved at epoch 65 with validation accuracy: 13.31\n",
      "Epoch [66/80], Training Loss: 3.82, Validation Loss: 3.83, Training Accuracy: 0.13, Validation Accuracy: 0.12, Training MAE: 13.76, Validation MAE: 14.00\n",
      "Epoch [67/80], Training Loss: 3.81, Validation Loss: 3.83, Training Accuracy: 0.13, Validation Accuracy: 0.12, Training MAE: 13.66, Validation MAE: 12.93\n",
      "Best model saved at epoch 67 with validation accuracy: 12.93\n",
      "Epoch [68/80], Training Loss: 3.81, Validation Loss: 3.82, Training Accuracy: 0.13, Validation Accuracy: 0.12, Training MAE: 13.63, Validation MAE: 13.53\n",
      "Epoch [69/80], Training Loss: 3.81, Validation Loss: 3.81, Training Accuracy: 0.13, Validation Accuracy: 0.12, Training MAE: 13.59, Validation MAE: 13.24\n",
      "Epoch [70/80], Training Loss: 3.80, Validation Loss: 3.81, Training Accuracy: 0.13, Validation Accuracy: 0.12, Training MAE: 13.55, Validation MAE: 13.01\n",
      "Epoch [71/80], Training Loss: 3.80, Validation Loss: 3.80, Training Accuracy: 0.13, Validation Accuracy: 0.12, Training MAE: 13.51, Validation MAE: 13.01\n",
      "Epoch [72/80], Training Loss: 3.80, Validation Loss: 3.80, Training Accuracy: 0.13, Validation Accuracy: 0.12, Training MAE: 13.47, Validation MAE: 13.17\n",
      "Epoch [73/80], Training Loss: 3.79, Validation Loss: 3.81, Training Accuracy: 0.13, Validation Accuracy: 0.12, Training MAE: 13.44, Validation MAE: 12.73\n",
      "Best model saved at epoch 73 with validation accuracy: 12.73\n",
      "Epoch [74/80], Training Loss: 3.79, Validation Loss: 3.80, Training Accuracy: 0.13, Validation Accuracy: 0.12, Training MAE: 13.36, Validation MAE: 13.58\n",
      "Epoch [75/80], Training Loss: 3.78, Validation Loss: 3.79, Training Accuracy: 0.13, Validation Accuracy: 0.12, Training MAE: 13.34, Validation MAE: 12.99\n",
      "Epoch [76/80], Training Loss: 3.78, Validation Loss: 3.79, Training Accuracy: 0.13, Validation Accuracy: 0.13, Training MAE: 13.26, Validation MAE: 13.29\n",
      "Epoch [77/80], Training Loss: 3.77, Validation Loss: 3.79, Training Accuracy: 0.13, Validation Accuracy: 0.13, Training MAE: 13.23, Validation MAE: 13.06\n",
      "Epoch [78/80], Training Loss: 3.77, Validation Loss: 3.78, Training Accuracy: 0.13, Validation Accuracy: 0.13, Training MAE: 13.23, Validation MAE: 12.83\n",
      "Epoch [79/80], Training Loss: 3.77, Validation Loss: 3.78, Training Accuracy: 0.13, Validation Accuracy: 0.13, Training MAE: 13.18, Validation MAE: 12.47\n",
      "Best model saved at epoch 79 with validation accuracy: 12.47\n",
      "Epoch [80/80], Training Loss: 3.77, Validation Loss: 3.78, Training Accuracy: 0.13, Validation Accuracy: 0.13, Training MAE: 13.14, Validation MAE: 12.64\n",
      "Training time:  71.62505 minutes\n"
     ]
    }
   ],
   "source": [
    "history_depth = train(depthwise_model, depthwise_optimizer, loss_fn, train_loader, val_loader, NR_EPOCHS, writer_depth, device, './Project/classes/normal/depthwise_model')\n",
    "writer_depth.close()"
   ]
  },
  {
   "cell_type": "markdown",
   "metadata": {},
   "source": [
    "## Training Histories"
   ]
  },
  {
   "cell_type": "code",
   "execution_count": 17,
   "metadata": {},
   "outputs": [],
   "source": [
    "def plot_history(history, path_name):\n",
    "    # loss\n",
    "    loss_train = history['loss']\n",
    "    loss_val = history['val_loss']\n",
    "    epochs = range(NR_EPOCHS)\n",
    "    plt.plot(epochs, loss_train, 'g', label='Training loss')\n",
    "    plt.plot(epochs, loss_val, 'b', label='Validation loss')\n",
    "    plt.title('Training and validation loss')\n",
    "    plt.xlabel('Epochs')\n",
    "    plt.ylabel('Loss')\n",
    "    plt.legend()\n",
    "    plt.savefig(path_name + '_loss.png', bbox_inches='tight')\n",
    "    plt.show()\n",
    "\n",
    "     # MAE\n",
    "    accuracy_train = history['mae']\n",
    "    accuracy_val = history['val_mae']\n",
    "    epochs = range(NR_EPOCHS)\n",
    "    plt.plot(epochs, accuracy_train, 'g', label='Training MAE')\n",
    "    plt.plot(epochs, accuracy_val, 'b', label='Validation MAE')\n",
    "    plt.title('Training and validation MAE')\n",
    "    plt.xlabel('Epochs')\n",
    "    plt.ylabel('MAE')\n",
    "    plt.legend()\n",
    "    plt.savefig(path_name + '_mae.png', bbox_inches='tight')\n",
    "    plt.show()\n",
    "    "
   ]
  },
  {
   "cell_type": "markdown",
   "metadata": {},
   "source": [
    "### History of normal model"
   ]
  },
  {
   "cell_type": "code",
   "execution_count": 18,
   "metadata": {},
   "outputs": [
    {
     "data": {
      "image/png": "[encoded data removed]",
      "text/plain": [
       "<Figure size 640x480 with 1 Axes>"
      ]
     },
     "metadata": {},
     "output_type": "display_data"
    },
    {
     "data": {
      "image/png": "[encoded data removed]",
      "text/plain": [
       "<Figure size 640x480 with 1 Axes>"
      ]
     },
     "metadata": {},
     "output_type": "display_data"
    }
   ],
   "source": [
    "plot_history(history, './Project/classes/normal/normal_model')"
   ]
  },
  {
   "cell_type": "markdown",
   "metadata": {},
   "source": [
    "### History of depthwise model"
   ]
  },
  {
   "cell_type": "code",
   "execution_count": 19,
   "metadata": {},
   "outputs": [
    {
     "data": {
      "image/png": "[encoded data removed]",
      "text/plain": [
       "<Figure size 640x480 with 1 Axes>"
      ]
     },
     "metadata": {},
     "output_type": "display_data"
    },
    {
     "data": {
      "image/png": "[encoded data removed]",
      "text/plain": [
       "<Figure size 640x480 with 1 Axes>"
      ]
     },
     "metadata": {},
     "output_type": "display_data"
    }
   ],
   "source": [
    "plot_history(history_depth, './Project/classes/depthwise/depthwise_model')"
   ]
  },
  {
   "cell_type": "markdown",
   "metadata": {},
   "source": [
    "## Test models"
   ]
  },
  {
   "cell_type": "code",
   "execution_count": 20,
   "metadata": {},
   "outputs": [],
   "source": [
    "def test(model, test_loader, loss_fn ,name):\n",
    "    test_loss = 0\n",
    "    test_correct = 0\n",
    "    test_total = 0\n",
    "    total_test_mae = 0\n",
    "    \n",
    "    # create cuda events for timetracking\n",
    "    start = torch.cuda.Event(enable_timing=True)\n",
    "    end = torch.cuda.Event(enable_timing=True)\n",
    "\n",
    "    start.record()\n",
    "    with torch.no_grad():\n",
    "        for inputs, labels in test_loader:\n",
    "            # shift labels from 1-116 to 0-115 for loss\n",
    "            labels_model = labels - 1\n",
    "            inputs, labels_model = inputs.to(device), labels_model.to(device)\n",
    "            labels = labels.to(device)\n",
    "            outputs = model(inputs)\n",
    "            loss = loss_fn(outputs, labels_model)\n",
    "\n",
    "            test_loss += loss.item()\n",
    "            _, predicted = outputs.max(1)\n",
    "            predicted = predicted + 1\n",
    "            test_total += labels.size(0)\n",
    "            test_correct += predicted.eq(labels).sum().item()\n",
    "\n",
    "            probabilities = F.softmax(outputs, dim=1)\n",
    "            expected_age = torch.sum(probabilities * age_classes, dim=1) + 1\n",
    "            total_test_mae += torch.abs(expected_age - labels.float()).sum().item()   \n",
    "\n",
    "    end.record()\n",
    "    torch.cuda.synchronize()\n",
    "    test_loss = test_loss / len(test_loader)\n",
    "    test_accuracy = test_correct / test_total\n",
    "    test_mae = total_test_mae / test_total\n",
    "\n",
    "    print(f'Model: {name},  Test Loss: {test_loss:.2f}, Test Accuracy: {test_accuracy:.2f}, Test MAE: {test_mae:.2f}')\n",
    "    print(f'Time:  {round(start.elapsed_time(end), 1) / 1000} seconds')"
   ]
  },
  {
   "cell_type": "markdown",
   "metadata": {},
   "source": [
    "### Benchmarks"
   ]
  },
  {
   "cell_type": "code",
   "execution_count": 21,
   "metadata": {},
   "outputs": [
    {
     "name": "stdout",
     "output_type": "stream",
     "text": [
      "-----------------------------------------------------------------------\n",
      "Model: Normal CNN,  Test Loss: 3.59, Test Accuracy: 0.15, Test MAE: 10.55\n",
      "Time:  7.7463 seconds\n",
      "Model: Depthwise CNN,  Test Loss: 3.77, Test Accuracy: 0.14, Test MAE: 12.99\n",
      "Time:  4.2656 seconds\n"
     ]
    }
   ],
   "source": [
    "# load models\n",
    "model_normal = CNNNet(NUM_CLASSES)\n",
    "model_normal.load_state_dict(torch.load('./Project/classes/normal/normal_model'))\n",
    "\n",
    "depthwise_model = DepthwiseCNNNet(NUM_CLASSES)\n",
    "depthwise_model.load_state_dict(torch.load('./Project/classes/normal/depthwise_model'))\n",
    "\n",
    "test(model_normal.to(device), test_loader, loss_fn, 'Normal CNN')\n",
    "print(\"-----------------------------------------------------------------------\")\n",
    "test(depthwise_model.to(device), test_loader, loss_fn, 'Depthwise CNN')"
   ]
  }
 ],
 "metadata": {
  "kaggle": {
   "accelerator": "gpu",
   "dataSources": [
    {
     "datasetId": 44109,
     "sourceId": 78156,
     "sourceType": "datasetVersion"
    }
   ],
   "dockerImageVersionId": 30302,
   "isGpuEnabled": true,
   "isInternetEnabled": true,
   "language": "python",
   "sourceType": "notebook"
  },
  "kernelspec": {
   "display_name": "Python 3 (ipykernel)",
   "language": "python",
   "name": "python3"
  },
  "language_info": {
   "codemirror_mode": {
    "name": "ipython",
    "version": 3
   },
   "file_extension": ".py",
   "mimetype": "text/x-python",
   "name": "python",
   "nbconvert_exporter": "python",
   "pygments_lexer": "ipython3",
   "version": "3.12.6"
  }
 },
 "nbformat": 4,
 "nbformat_minor": 4
}
