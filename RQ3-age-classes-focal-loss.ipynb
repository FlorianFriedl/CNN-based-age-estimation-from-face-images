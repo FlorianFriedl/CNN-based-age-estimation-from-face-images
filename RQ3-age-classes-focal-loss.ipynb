{
 "cells": [
  {
   "cell_type": "markdown",
   "metadata": {
    "papermill": {
     "duration": 0.013601,
     "end_time": "2022-10-12T18:43:55.53102",
     "exception": false,
     "start_time": "2022-10-12T18:43:55.517419",
     "status": "completed"
    },
    "tags": []
   },
   "source": [
    "# Age Estimation using CNN Age Class and Focal loss"
   ]
  },
  {
   "cell_type": "code",
   "execution_count": 1,
   "metadata": {
    "id": "Ow9CX6i9bF7s",
    "papermill": {
     "duration": 6.262315,
     "end_time": "2022-10-12T18:44:01.805562",
     "exception": false,
     "start_time": "2022-10-12T18:43:55.543247",
     "status": "completed"
    },
    "tags": []
   },
   "outputs": [],
   "source": [
    "import numpy as np\n",
    "import matplotlib.pyplot as plt\n",
    "from glob import glob\n",
    "\n",
    "import math\n",
    "import torch\n",
    "import torch.nn as nn\n",
    "import torch.nn.functional as F\n",
    "import torchvision\n",
    "from torchvision import transforms, datasets\n",
    "from torch.utils.tensorboard import SummaryWriter\n",
    "from torch.utils.data import Dataset, DataLoader, random_split\n",
    "from collections import Counter\n",
    "\n",
    "import warnings\n",
    "warnings.filterwarnings(\"ignore\", category=FutureWarning)\n",
    "\n",
    "import pandas as pd\n",
    "import os\n",
    "import matplotlib.pyplot as plt\n",
    "%matplotlib inline\n",
    "\n",
    "from PIL import Image\n",
    "import shutil\n",
    "\n",
    "import copy\n",
    "\n",
    "from pathlib import Path\n",
    "from datetime import datetime\n",
    "\n",
    "from torch.utils.tensorboard import SummaryWriter"
   ]
  },
  {
   "cell_type": "markdown",
   "metadata": {
    "papermill": {
     "duration": 0.008384,
     "end_time": "2022-10-12T18:44:01.822491",
     "exception": false,
     "start_time": "2022-10-12T18:44:01.814107",
     "status": "completed"
    },
    "tags": []
   },
   "source": [
    "## Age estimation in age groups"
   ]
  },
  {
   "cell_type": "markdown",
   "metadata": {
    "papermill": {
     "duration": 0.007726,
     "end_time": "2022-10-12T18:44:01.838198",
     "exception": false,
     "start_time": "2022-10-12T18:44:01.830472",
     "status": "completed"
    },
    "tags": []
   },
   "source": [
    "### Set image size and variables "
   ]
  },
  {
   "cell_type": "code",
   "execution_count": 2,
   "metadata": {
    "id": "Cq39lS9tcKIC",
    "papermill": {
     "duration": 0.015277,
     "end_time": "2022-10-12T18:44:01.862109",
     "exception": false,
     "start_time": "2022-10-12T18:44:01.846832",
     "status": "completed"
    },
    "tags": []
   },
   "outputs": [],
   "source": [
    "IMAGE_SIZE = [200,200] # images are cropped to 200 x 200 \n",
    "BASE_DIR = './UTKFace/'\n",
    "NR_EPOCHS = 80\n",
    "BATCH_SIZE = 30\n",
    "NUM_CLASSES = 116 # range 0 to 116"
   ]
  },
  {
   "cell_type": "markdown",
   "metadata": {
    "papermill": {
     "duration": 0.008407,
     "end_time": "2022-10-12T18:44:02.586292",
     "exception": false,
     "start_time": "2022-10-12T18:44:02.577885",
     "status": "completed"
    },
    "tags": []
   },
   "source": [
    "### Split Dataset into validation and test set  "
   ]
  },
  {
   "cell_type": "code",
   "execution_count": 3,
   "metadata": {
    "papermill": {
     "duration": 0.0293,
     "end_time": "2022-10-12T18:44:02.624072",
     "exception": false,
     "start_time": "2022-10-12T18:44:02.594772",
     "status": "completed"
    },
    "tags": []
   },
   "outputs": [],
   "source": [
    "class UTKFaceDataset(Dataset):\n",
    "    def __init__(self, root_dir, transform=None):\n",
    "        self.root_dir = root_dir\n",
    "        self.transform = transform\n",
    "        self.images = [file for file in os.listdir(root_dir) if file.endswith('.jpg') or file.endswith('.png')]\n",
    "\n",
    "    def __len__(self):\n",
    "        return len(self.images)\n",
    "\n",
    "    def __getitem__(self, idx):\n",
    "        img_name = os.path.join(self.root_dir, self.images[idx])\n",
    "        image = Image.open(img_name)\n",
    "        \n",
    "        age = int(self.images[idx].split('_')[0])\n",
    "        \n",
    "        if self.transform:\n",
    "            image = self.transform(image)\n",
    "        \n",
    "        return image, age\n",
    "\n",
    "# transform\n",
    "transform = transforms.Compose([\n",
    "    transforms.Resize(IMAGE_SIZE),\n",
    "    transforms.ToTensor(),\n",
    "    transforms.Normalize(mean=[0.485, 0.456, 0.406], std=[0.229, 0.224, 0.225])\n",
    "])\n",
    "\n",
    "# laod dataset\n",
    "full_dataset = UTKFaceDataset(root_dir=BASE_DIR, transform=transform)\n",
    "\n",
    "# split dataset accordingly \n",
    "total_size = len(full_dataset)\n",
    "train_size = int(0.7 * total_size)\n",
    "val_size = int(0.15 * total_size)\n",
    "test_size = total_size - train_size - val_size\n",
    "\n",
    "# fixed seed for same split across models\n",
    "generator = torch.Generator().manual_seed(116)\n",
    "\n",
    "train_dataset, val_dataset, test_dataset = random_split(\n",
    "    full_dataset, [train_size, val_size, test_size], generator=generator\n",
    ")"
   ]
  },
  {
   "cell_type": "code",
   "execution_count": 4,
   "metadata": {
    "papermill": {
     "duration": 44.536659,
     "end_time": "2022-10-12T18:44:47.169938",
     "exception": false,
     "start_time": "2022-10-12T18:44:02.633279",
     "status": "completed"
    },
    "tags": []
   },
   "outputs": [
    {
     "name": "stdout",
     "output_type": "stream",
     "text": [
      "Total dataset size: 23708\n",
      "Train set size: 16595\n",
      "Validation set size: 3556\n",
      "Test set size: 3557\n"
     ]
    }
   ],
   "source": [
    "# create DataLoaders\n",
    "train_loader = DataLoader(train_dataset, batch_size=BATCH_SIZE, shuffle=True)\n",
    "val_loader = DataLoader(val_dataset, batch_size=BATCH_SIZE, shuffle=False)\n",
    "test_loader = DataLoader(test_dataset, batch_size=BATCH_SIZE, shuffle=False)\n",
    "\n",
    "# print size information\n",
    "print(f\"Total dataset size: {total_size}\")\n",
    "print(f\"Train set size: {len(train_dataset)}\")\n",
    "print(f\"Validation set size: {len(val_dataset)}\")\n",
    "print(f\"Test set size: {len(test_dataset)}\")"
   ]
  },
  {
   "cell_type": "markdown",
   "metadata": {},
   "source": [
    "### Set cuda if aviable"
   ]
  },
  {
   "cell_type": "code",
   "execution_count": 5,
   "metadata": {},
   "outputs": [
    {
     "name": "stdout",
     "output_type": "stream",
     "text": [
      "Using device: cuda\n"
     ]
    }
   ],
   "source": [
    "# Set CUDA_LAUNCH_BLOCKING for synchronous CUDA operations\n",
    "# os.environ['CUDA_LAUNCH_BLOCKING'] = '1'\n",
    "\n",
    "# Check CUDA availability and set device\n",
    "device = torch.device('cuda' if torch.cuda.is_available() else 'cpu')\n",
    "print(f\"Using device: {device}\")"
   ]
  },
  {
   "cell_type": "markdown",
   "metadata": {},
   "source": [
    "## Base Model"
   ]
  },
  {
   "cell_type": "markdown",
   "metadata": {},
   "source": [
    "### Create Model"
   ]
  },
  {
   "cell_type": "code",
   "execution_count": 6,
   "metadata": {},
   "outputs": [],
   "source": [
    "class CNNNet(nn.Module):\n",
    "    def __init__(self, num_classes=116):\n",
    "        super(CNNNet, self).__init__()\n",
    "        self.features = nn.Sequential(\n",
    "            nn.Conv2d(3, 96, kernel_size=7, padding=2),\n",
    "            nn.ReLU(),\n",
    "            nn.MaxPool2d(kernel_size=2, stride=2),\n",
    "            nn.BatchNorm2d(96),\n",
    "\n",
    "            nn.Conv2d(96, 256, kernel_size=5, padding=2),\n",
    "            nn.ReLU(),\n",
    "            nn.MaxPool2d(kernel_size=2, stride=2),\n",
    "            nn.BatchNorm2d(256),\n",
    "\n",
    "            nn.Conv2d(256, 384, kernel_size=3, padding=1),\n",
    "            nn.ReLU(),\n",
    "            nn.MaxPool2d(kernel_size=2, stride=2),\n",
    "            nn.BatchNorm2d(384),\n",
    "        )\n",
    "        self.avgpool = nn.AdaptiveAvgPool2d((1,1))\n",
    "        self.classifier = nn.Sequential(\n",
    "            nn.Linear(384, 512),\n",
    "            nn.ReLU(),\n",
    "            nn.Dropout(0.25),\n",
    "            nn.Linear(512, 512),\n",
    "            nn.ReLU(),\n",
    "            nn.Dropout(0.25),\n",
    "            nn.Linear(512, num_classes)\n",
    "        )\n",
    "    def forward(self, x):\n",
    "        x = self.features(x)\n",
    "        x = self.avgpool(x)\n",
    "        x = torch.flatten(x, 1)\n",
    "        x = self.classifier(x)\n",
    "        return x"
   ]
  },
  {
   "cell_type": "code",
   "execution_count": 7,
   "metadata": {},
   "outputs": [
    {
     "name": "stdout",
     "output_type": "stream",
     "text": [
      "CNNNet(\n",
      "  (features): Sequential(\n",
      "    (0): Conv2d(3, 96, kernel_size=(7, 7), stride=(1, 1), padding=(2, 2))\n",
      "    (1): ReLU()\n",
      "    (2): MaxPool2d(kernel_size=2, stride=2, padding=0, dilation=1, ceil_mode=False)\n",
      "    (3): BatchNorm2d(96, eps=1e-05, momentum=0.1, affine=True, track_running_stats=True)\n",
      "    (4): Conv2d(96, 256, kernel_size=(5, 5), stride=(1, 1), padding=(2, 2))\n",
      "    (5): ReLU()\n",
      "    (6): MaxPool2d(kernel_size=2, stride=2, padding=0, dilation=1, ceil_mode=False)\n",
      "    (7): BatchNorm2d(256, eps=1e-05, momentum=0.1, affine=True, track_running_stats=True)\n",
      "    (8): Conv2d(256, 384, kernel_size=(3, 3), stride=(1, 1), padding=(1, 1))\n",
      "    (9): ReLU()\n",
      "    (10): MaxPool2d(kernel_size=2, stride=2, padding=0, dilation=1, ceil_mode=False)\n",
      "    (11): BatchNorm2d(384, eps=1e-05, momentum=0.1, affine=True, track_running_stats=True)\n",
      "  )\n",
      "  (avgpool): AdaptiveAvgPool2d(output_size=(1, 1))\n",
      "  (classifier): Sequential(\n",
      "    (0): Linear(in_features=384, out_features=512, bias=True)\n",
      "    (1): ReLU()\n",
      "    (2): Dropout(p=0.25, inplace=False)\n",
      "    (3): Linear(in_features=512, out_features=512, bias=True)\n",
      "    (4): ReLU()\n",
      "    (5): Dropout(p=0.25, inplace=False)\n",
      "    (6): Linear(in_features=512, out_features=116, bias=True)\n",
      "  )\n",
      ")\n",
      "----------------------------------------------------------------\n",
      "        Layer (type)               Output Shape         Param #\n",
      "================================================================\n",
      "            Conv2d-1         [-1, 96, 198, 198]          14,208\n",
      "              ReLU-2         [-1, 96, 198, 198]               0\n",
      "         MaxPool2d-3           [-1, 96, 99, 99]               0\n",
      "       BatchNorm2d-4           [-1, 96, 99, 99]             192\n",
      "            Conv2d-5          [-1, 256, 99, 99]         614,656\n",
      "              ReLU-6          [-1, 256, 99, 99]               0\n",
      "         MaxPool2d-7          [-1, 256, 49, 49]               0\n",
      "       BatchNorm2d-8          [-1, 256, 49, 49]             512\n",
      "            Conv2d-9          [-1, 384, 49, 49]         885,120\n",
      "             ReLU-10          [-1, 384, 49, 49]               0\n",
      "        MaxPool2d-11          [-1, 384, 24, 24]               0\n",
      "      BatchNorm2d-12          [-1, 384, 24, 24]             768\n",
      "AdaptiveAvgPool2d-13            [-1, 384, 1, 1]               0\n",
      "           Linear-14                  [-1, 512]         197,120\n",
      "             ReLU-15                  [-1, 512]               0\n",
      "          Dropout-16                  [-1, 512]               0\n",
      "           Linear-17                  [-1, 512]         262,656\n",
      "             ReLU-18                  [-1, 512]               0\n",
      "          Dropout-19                  [-1, 512]               0\n",
      "           Linear-20                  [-1, 116]          59,508\n",
      "================================================================\n",
      "Total params: 2,034,740\n",
      "Trainable params: 2,034,740\n",
      "Non-trainable params: 0\n",
      "----------------------------------------------------------------\n",
      "Input size (MB): 0.46\n",
      "Forward/backward pass size (MB): 136.92\n",
      "Params size (MB): 7.76\n",
      "Estimated Total Size (MB): 145.14\n",
      "----------------------------------------------------------------\n",
      "Output shape: torch.Size([1, 116])\n"
     ]
    }
   ],
   "source": [
    "# Instantiate the model\n",
    "model = CNNNet(NUM_CLASSES).to(device)\n",
    "\n",
    "# Print model summary\n",
    "print(model)\n",
    "\n",
    "from torchsummary import summary\n",
    "summary(model.to(device),(3,200,200))\n",
    "# Test the model with a sample input\n",
    "sample_input = torch.randn(1, 3, 200, 200).to(device)\n",
    "output = model(sample_input)\n",
    "print(f\"Output shape: {output.shape}\")"
   ]
  },
  {
   "cell_type": "code",
   "execution_count": 10,
   "metadata": {},
   "outputs": [],
   "source": [
    "class FocalLoss(nn.Module):\n",
    "    def __init__(self, gamma=2.0, alpha=1):\n",
    "        super(FocalLoss, self).__init__()\n",
    "        self.gamma = gamma\n",
    "        self.alpha = alpha\n",
    "\n",
    "    def forward(self, inputs, targets):\n",
    "        \n",
    "        log_prob = F.log_softmax(inputs, dim=-1)\n",
    "        prob = torch.exp(log_prob) \n",
    "    \n",
    "        targets_one_hot = F.one_hot(targets, num_classes=inputs.shape[-1])\n",
    "        pt = torch.sum(prob * targets_one_hot, dim=-1)\n",
    "    \n",
    "        focal_loss = - self.alpha * (1 - pt) ** self.gamma * torch.sum(log_prob * targets_one_hot, dim=-1)\n",
    "        \n",
    "        return focal_loss.sum()"
   ]
  },
  {
   "cell_type": "code",
   "execution_count": 9,
   "metadata": {},
   "outputs": [],
   "source": [
    "writer = SummaryWriter('./Project/class_imbalance/runs/focal_loss_normal', comment='Normal_age_class_focal_loss')\n",
    "writer.add_graph(model, sample_input)"
   ]
  },
  {
   "cell_type": "code",
   "execution_count": 11,
   "metadata": {},
   "outputs": [],
   "source": [
    "optimizer = torch.optim.SGD(model.parameters(), lr=0.0001, momentum=0.9)\n",
    "loss_fn = FocalLoss(gamma=2)\n",
    "loss_fn = loss_fn.to(device)\n",
    "\n",
    "# define age_classes tensor\n",
    "age_classes = torch.tensor([i for i in range(0, NUM_CLASSES)]).to(device)"
   ]
  },
  {
   "cell_type": "markdown",
   "metadata": {},
   "source": [
    "### Train model"
   ]
  },
  {
   "cell_type": "code",
   "execution_count": 11,
   "metadata": {},
   "outputs": [],
   "source": [
    "def train(model, optimizer, loss_fn, train_loader, val_loader, epochs, summary_writer, device, save_path):\n",
    "    \n",
    "    # create history for graphs\n",
    "    history = {\n",
    "        'loss': [],\n",
    "        'val_loss': [],\n",
    "        'accuracy': [],\n",
    "        'val_accuracy': [],\n",
    "        'mae': [],\n",
    "        'val_mae': []\n",
    "    }\n",
    "    # create cuda events for timetracking\n",
    "    start = torch.cuda.Event(enable_timing=True)\n",
    "    end = torch.cuda.Event(enable_timing=True)\n",
    "    \n",
    "    # init variables for saving\n",
    "    best_val_mae = float('Inf') \n",
    "    best_model_wts = copy.deepcopy(model.state_dict()) \n",
    "    \n",
    "    start.record()\n",
    "    for epoch in range(epochs):\n",
    "        training_loss = 0.0\n",
    "        valid_loss = 0.0\n",
    "        num_train = 0\n",
    "        num_train_correct = 0\n",
    "        total_train_mae = 0.0\n",
    "        total_val_mae = 0.0\n",
    "        \n",
    "        model.train()\n",
    "        for batch in train_loader:\n",
    "            optimizer.zero_grad()\n",
    "            inputs, targets = batch\n",
    "            # shift labels from 1-116 to 0-115 for loss\n",
    "            targets_model = targets - 1\n",
    "            inputs, targets_model = inputs.to(device), targets_model.to(device)\n",
    "            targets = targets.to(device)\n",
    "            outputs = model(inputs)\n",
    "            \n",
    "            loss = loss_fn(outputs, targets_model)\n",
    "            loss.backward()\n",
    "            optimizer.step()\n",
    "            training_loss += loss.item()\n",
    "            _, predicted = outputs.max(1)\n",
    "            predicted = predicted + 1\n",
    "            num_train += targets.size(0)\n",
    "            num_train_correct += predicted.eq(targets).sum().item()\n",
    "\n",
    "            probabilities = F.softmax(outputs, dim=1)\n",
    "            expected_age = torch.sum(probabilities * age_classes, dim=1) + 1\n",
    "            total_train_mae += torch.abs(expected_age - targets.float()).sum().item()\n",
    "                  \n",
    "        training_loss /= len(train_loader.dataset)\n",
    "        train_accuracy = num_train_correct / num_train\n",
    "        train_mae = total_train_mae / num_train\n",
    "\n",
    "        if epoch+1 == NR_EPOCHS:\n",
    "            end.record()\n",
    "            torch.cuda.synchronize()\n",
    "        \n",
    "        model.eval()\n",
    "        num_val = 0\n",
    "        num_val_correct = 0\n",
    "        with torch.no_grad():\n",
    "            for batch in val_loader:\n",
    "                inputs, targets = batch\n",
    "                # shift labels from 1-116 to 0-115 for loss\n",
    "                targets_model = targets - 1\n",
    "                inputs, targets_model = inputs.to(device), targets_model.to(device)\n",
    "                targets = targets.to(device)\n",
    "                outputs = model(inputs)\n",
    "                \n",
    "                loss = loss_fn(outputs, targets_model)\n",
    "                valid_loss += loss.item()\n",
    "                _, predicted = outputs.max(1)\n",
    "                predicted = predicted + 1\n",
    "                num_val += targets.size(0)\n",
    "                num_val_correct += predicted.eq(targets).sum().item() \n",
    "\n",
    "                probabilities = F.softmax(outputs, dim=1)\n",
    "                expected_age = torch.sum(probabilities * age_classes, dim=1) + 1\n",
    "                total_val_mae += torch.abs(expected_age - targets.float()).sum().item()\n",
    "        \n",
    "        valid_loss /= len(val_loader.dataset)\n",
    "        val_accuracy = num_val_correct / num_val\n",
    "        val_mae = total_val_mae / num_val\n",
    "\n",
    "        summary_writer.add_scalar('Train Loss', training_loss, epoch+1)\n",
    "        summary_writer.add_scalar('Val Loss', valid_loss, epoch+1)\n",
    "        summary_writer.add_scalar('Accuracy', train_accuracy, epoch+1)\n",
    "        summary_writer.add_scalar('Validation Accuracy', val_accuracy, epoch+1)\n",
    "        summary_writer.add_scalar('Train MAE', train_mae, epoch+1)\n",
    "        summary_writer.add_scalar('Val MAE', val_mae, epoch+1)\n",
    "    \n",
    "        history['loss'].append(training_loss)\n",
    "        history['val_loss'].append(valid_loss)\n",
    "        history['accuracy'].append(train_accuracy)\n",
    "        history['val_accuracy'].append(val_accuracy)\n",
    "        history['mae'].append(train_mae)\n",
    "        history['val_mae'].append(val_mae)\n",
    "\n",
    "        print(f'Epoch [{epoch+1}/{NR_EPOCHS}], Training Loss: {training_loss:.2f}, Validation Loss: {valid_loss:.2f}, '\n",
    "              f'Training Accuracy: {train_accuracy:.2f}, Validation Accuracy: {val_accuracy:.2f}, Training MAE: {train_mae:.2f}, Validation MAE: {val_mae:.2f}')\n",
    "        \n",
    "        if val_mae < best_val_mae:\n",
    "            best_val_mae = val_mae\n",
    "            best_model_wts = copy.deepcopy(model.state_dict())\n",
    "            torch.save(best_model_wts, save_path)\n",
    "            print(f\"Best model saved at epoch {epoch+1} with validation accuracy: {best_val_mae:.2f}\")\n",
    "\n",
    "    print(f'Training time:  {round(start.elapsed_time(end), 1) / 60000} minutes')    \n",
    "    return history"
   ]
  },
  {
   "cell_type": "code",
   "execution_count": 12,
   "metadata": {},
   "outputs": [
    {
     "name": "stdout",
     "output_type": "stream",
     "text": [
      "Epoch [1/80], Training Loss: 4.03, Validation Loss: 3.81, Training Accuracy: 0.11, Validation Accuracy: 0.11, Training MAE: 18.39, Validation MAE: 14.68\n",
      "Best model saved at epoch 1 with validation accuracy: 14.68\n",
      "Epoch [2/80], Training Loss: 3.74, Validation Loss: 3.71, Training Accuracy: 0.12, Validation Accuracy: 0.12, Training MAE: 14.41, Validation MAE: 13.21\n",
      "Best model saved at epoch 2 with validation accuracy: 13.21\n",
      "Epoch [3/80], Training Loss: 3.64, Validation Loss: 3.57, Training Accuracy: 0.12, Validation Accuracy: 0.13, Training MAE: 13.55, Validation MAE: 12.18\n",
      "Best model saved at epoch 3 with validation accuracy: 12.18\n",
      "Epoch [4/80], Training Loss: 3.54, Validation Loss: 3.55, Training Accuracy: 0.13, Validation Accuracy: 0.13, Training MAE: 12.55, Validation MAE: 11.73\n",
      "Best model saved at epoch 4 with validation accuracy: 11.73\n",
      "Epoch [5/80], Training Loss: 3.47, Validation Loss: 3.46, Training Accuracy: 0.13, Validation Accuracy: 0.13, Training MAE: 11.72, Validation MAE: 10.87\n",
      "Best model saved at epoch 5 with validation accuracy: 10.87\n",
      "Epoch [6/80], Training Loss: 3.40, Validation Loss: 3.36, Training Accuracy: 0.14, Validation Accuracy: 0.14, Training MAE: 10.85, Validation MAE: 10.41\n",
      "Best model saved at epoch 6 with validation accuracy: 10.41\n",
      "Epoch [7/80], Training Loss: 3.35, Validation Loss: 3.45, Training Accuracy: 0.14, Validation Accuracy: 0.13, Training MAE: 10.33, Validation MAE: 10.21\n",
      "Best model saved at epoch 7 with validation accuracy: 10.21\n",
      "Epoch [8/80], Training Loss: 3.30, Validation Loss: 3.34, Training Accuracy: 0.14, Validation Accuracy: 0.13, Training MAE: 9.79, Validation MAE: 9.46\n",
      "Best model saved at epoch 8 with validation accuracy: 9.46\n",
      "Epoch [9/80], Training Loss: 3.28, Validation Loss: 3.25, Training Accuracy: 0.14, Validation Accuracy: 0.14, Training MAE: 9.60, Validation MAE: 9.24\n",
      "Best model saved at epoch 9 with validation accuracy: 9.24\n",
      "Epoch [10/80], Training Loss: 3.23, Validation Loss: 3.21, Training Accuracy: 0.15, Validation Accuracy: 0.14, Training MAE: 9.17, Validation MAE: 8.72\n",
      "Best model saved at epoch 10 with validation accuracy: 8.72\n",
      "Epoch [11/80], Training Loss: 3.20, Validation Loss: 3.19, Training Accuracy: 0.15, Validation Accuracy: 0.14, Training MAE: 8.96, Validation MAE: 8.69\n",
      "Best model saved at epoch 11 with validation accuracy: 8.69\n",
      "Epoch [12/80], Training Loss: 3.17, Validation Loss: 3.18, Training Accuracy: 0.15, Validation Accuracy: 0.14, Training MAE: 8.74, Validation MAE: 8.52\n",
      "Best model saved at epoch 12 with validation accuracy: 8.52\n",
      "Epoch [13/80], Training Loss: 3.14, Validation Loss: 3.15, Training Accuracy: 0.15, Validation Accuracy: 0.14, Training MAE: 8.53, Validation MAE: 7.96\n",
      "Best model saved at epoch 13 with validation accuracy: 7.96\n",
      "Epoch [14/80], Training Loss: 3.11, Validation Loss: 3.13, Training Accuracy: 0.15, Validation Accuracy: 0.15, Training MAE: 8.35, Validation MAE: 8.07\n",
      "Epoch [15/80], Training Loss: 3.08, Validation Loss: 3.08, Training Accuracy: 0.15, Validation Accuracy: 0.15, Training MAE: 8.11, Validation MAE: 7.90\n",
      "Best model saved at epoch 15 with validation accuracy: 7.90\n",
      "Epoch [16/80], Training Loss: 3.06, Validation Loss: 3.09, Training Accuracy: 0.16, Validation Accuracy: 0.14, Training MAE: 8.02, Validation MAE: 7.77\n",
      "Best model saved at epoch 16 with validation accuracy: 7.77\n",
      "Epoch [17/80], Training Loss: 3.03, Validation Loss: 3.07, Training Accuracy: 0.16, Validation Accuracy: 0.15, Training MAE: 7.83, Validation MAE: 7.60\n",
      "Best model saved at epoch 17 with validation accuracy: 7.60\n",
      "Epoch [18/80], Training Loss: 3.00, Validation Loss: 3.05, Training Accuracy: 0.16, Validation Accuracy: 0.15, Training MAE: 7.63, Validation MAE: 7.32\n",
      "Best model saved at epoch 18 with validation accuracy: 7.32\n",
      "Epoch [19/80], Training Loss: 2.98, Validation Loss: 3.05, Training Accuracy: 0.16, Validation Accuracy: 0.14, Training MAE: 7.51, Validation MAE: 7.26\n",
      "Best model saved at epoch 19 with validation accuracy: 7.26\n",
      "Epoch [20/80], Training Loss: 2.95, Validation Loss: 3.01, Training Accuracy: 0.16, Validation Accuracy: 0.15, Training MAE: 7.32, Validation MAE: 7.08\n",
      "Best model saved at epoch 20 with validation accuracy: 7.08\n",
      "Epoch [21/80], Training Loss: 2.92, Validation Loss: 2.98, Training Accuracy: 0.17, Validation Accuracy: 0.15, Training MAE: 7.24, Validation MAE: 6.86\n",
      "Best model saved at epoch 21 with validation accuracy: 6.86\n",
      "Epoch [22/80], Training Loss: 2.90, Validation Loss: 2.97, Training Accuracy: 0.17, Validation Accuracy: 0.15, Training MAE: 7.06, Validation MAE: 6.77\n",
      "Best model saved at epoch 22 with validation accuracy: 6.77\n",
      "Epoch [23/80], Training Loss: 2.87, Validation Loss: 2.97, Training Accuracy: 0.17, Validation Accuracy: 0.15, Training MAE: 6.83, Validation MAE: 6.90\n",
      "Epoch [24/80], Training Loss: 2.85, Validation Loss: 2.96, Training Accuracy: 0.17, Validation Accuracy: 0.16, Training MAE: 6.76, Validation MAE: 7.00\n",
      "Epoch [25/80], Training Loss: 2.82, Validation Loss: 2.96, Training Accuracy: 0.18, Validation Accuracy: 0.15, Training MAE: 6.58, Validation MAE: 6.82\n",
      "Epoch [26/80], Training Loss: 2.80, Validation Loss: 3.02, Training Accuracy: 0.18, Validation Accuracy: 0.15, Training MAE: 6.49, Validation MAE: 7.20\n",
      "Epoch [27/80], Training Loss: 2.78, Validation Loss: 2.94, Training Accuracy: 0.18, Validation Accuracy: 0.16, Training MAE: 6.37, Validation MAE: 6.96\n",
      "Epoch [28/80], Training Loss: 2.75, Validation Loss: 2.89, Training Accuracy: 0.18, Validation Accuracy: 0.15, Training MAE: 6.20, Validation MAE: 6.49\n",
      "Best model saved at epoch 28 with validation accuracy: 6.49\n",
      "Epoch [29/80], Training Loss: 2.73, Validation Loss: 2.90, Training Accuracy: 0.18, Validation Accuracy: 0.16, Training MAE: 6.14, Validation MAE: 6.46\n",
      "Best model saved at epoch 29 with validation accuracy: 6.46\n",
      "Epoch [30/80], Training Loss: 2.71, Validation Loss: 2.87, Training Accuracy: 0.19, Validation Accuracy: 0.16, Training MAE: 6.02, Validation MAE: 6.15\n",
      "Best model saved at epoch 30 with validation accuracy: 6.15\n",
      "Epoch [31/80], Training Loss: 2.68, Validation Loss: 2.99, Training Accuracy: 0.19, Validation Accuracy: 0.16, Training MAE: 5.88, Validation MAE: 6.91\n",
      "Epoch [32/80], Training Loss: 2.66, Validation Loss: 2.85, Training Accuracy: 0.19, Validation Accuracy: 0.16, Training MAE: 5.79, Validation MAE: 6.28\n",
      "Epoch [33/80], Training Loss: 2.63, Validation Loss: 2.90, Training Accuracy: 0.19, Validation Accuracy: 0.15, Training MAE: 5.61, Validation MAE: 6.91\n",
      "Epoch [34/80], Training Loss: 2.60, Validation Loss: 2.98, Training Accuracy: 0.20, Validation Accuracy: 0.16, Training MAE: 5.56, Validation MAE: 6.57\n",
      "Epoch [35/80], Training Loss: 2.58, Validation Loss: 2.85, Training Accuracy: 0.20, Validation Accuracy: 0.16, Training MAE: 5.43, Validation MAE: 6.12\n",
      "Best model saved at epoch 35 with validation accuracy: 6.12\n",
      "Epoch [36/80], Training Loss: 2.56, Validation Loss: 2.88, Training Accuracy: 0.20, Validation Accuracy: 0.16, Training MAE: 5.36, Validation MAE: 6.34\n",
      "Epoch [37/80], Training Loss: 2.52, Validation Loss: 2.86, Training Accuracy: 0.21, Validation Accuracy: 0.16, Training MAE: 5.16, Validation MAE: 6.08\n",
      "Best model saved at epoch 37 with validation accuracy: 6.08\n",
      "Epoch [38/80], Training Loss: 2.50, Validation Loss: 3.07, Training Accuracy: 0.21, Validation Accuracy: 0.15, Training MAE: 5.11, Validation MAE: 7.72\n",
      "Epoch [39/80], Training Loss: 2.47, Validation Loss: 2.93, Training Accuracy: 0.21, Validation Accuracy: 0.15, Training MAE: 4.95, Validation MAE: 6.22\n",
      "Epoch [40/80], Training Loss: 2.44, Validation Loss: 2.91, Training Accuracy: 0.21, Validation Accuracy: 0.16, Training MAE: 4.86, Validation MAE: 6.53\n",
      "Epoch [41/80], Training Loss: 2.43, Validation Loss: 3.01, Training Accuracy: 0.21, Validation Accuracy: 0.14, Training MAE: 4.89, Validation MAE: 6.41\n",
      "Epoch [42/80], Training Loss: 2.38, Validation Loss: 2.90, Training Accuracy: 0.22, Validation Accuracy: 0.16, Training MAE: 4.63, Validation MAE: 6.20\n",
      "Epoch [43/80], Training Loss: 2.36, Validation Loss: 2.93, Training Accuracy: 0.22, Validation Accuracy: 0.16, Training MAE: 4.59, Validation MAE: 6.02\n",
      "Best model saved at epoch 43 with validation accuracy: 6.02\n",
      "Epoch [44/80], Training Loss: 2.32, Validation Loss: 2.93, Training Accuracy: 0.23, Validation Accuracy: 0.15, Training MAE: 4.44, Validation MAE: 6.09\n",
      "Epoch [45/80], Training Loss: 2.29, Validation Loss: 3.00, Training Accuracy: 0.23, Validation Accuracy: 0.15, Training MAE: 4.37, Validation MAE: 6.22\n",
      "Epoch [46/80], Training Loss: 2.26, Validation Loss: 3.00, Training Accuracy: 0.24, Validation Accuracy: 0.16, Training MAE: 4.31, Validation MAE: 6.15\n",
      "Epoch [47/80], Training Loss: 2.23, Validation Loss: 2.96, Training Accuracy: 0.25, Validation Accuracy: 0.15, Training MAE: 4.20, Validation MAE: 6.17\n",
      "Epoch [48/80], Training Loss: 2.20, Validation Loss: 2.98, Training Accuracy: 0.25, Validation Accuracy: 0.17, Training MAE: 4.13, Validation MAE: 6.09\n",
      "Epoch [49/80], Training Loss: 2.16, Validation Loss: 2.98, Training Accuracy: 0.26, Validation Accuracy: 0.16, Training MAE: 3.99, Validation MAE: 6.03\n",
      "Epoch [50/80], Training Loss: 2.12, Validation Loss: 3.19, Training Accuracy: 0.26, Validation Accuracy: 0.14, Training MAE: 3.90, Validation MAE: 6.35\n",
      "Epoch [51/80], Training Loss: 2.09, Validation Loss: 3.08, Training Accuracy: 0.27, Validation Accuracy: 0.16, Training MAE: 3.83, Validation MAE: 6.14\n",
      "Epoch [52/80], Training Loss: 2.06, Validation Loss: 3.15, Training Accuracy: 0.27, Validation Accuracy: 0.14, Training MAE: 3.77, Validation MAE: 6.44\n",
      "Epoch [53/80], Training Loss: 2.03, Validation Loss: 3.13, Training Accuracy: 0.28, Validation Accuracy: 0.15, Training MAE: 3.73, Validation MAE: 6.03\n",
      "Epoch [54/80], Training Loss: 1.99, Validation Loss: 3.24, Training Accuracy: 0.29, Validation Accuracy: 0.14, Training MAE: 3.68, Validation MAE: 6.39\n",
      "Epoch [55/80], Training Loss: 1.96, Validation Loss: 3.32, Training Accuracy: 0.29, Validation Accuracy: 0.13, Training MAE: 3.63, Validation MAE: 6.73\n",
      "Epoch [56/80], Training Loss: 1.91, Validation Loss: 3.19, Training Accuracy: 0.31, Validation Accuracy: 0.15, Training MAE: 3.54, Validation MAE: 6.47\n",
      "Epoch [57/80], Training Loss: 1.88, Validation Loss: 3.34, Training Accuracy: 0.31, Validation Accuracy: 0.14, Training MAE: 3.50, Validation MAE: 6.46\n",
      "Epoch [58/80], Training Loss: 1.82, Validation Loss: 3.64, Training Accuracy: 0.33, Validation Accuracy: 0.11, Training MAE: 3.40, Validation MAE: 6.96\n",
      "Epoch [59/80], Training Loss: 1.79, Validation Loss: 3.41, Training Accuracy: 0.33, Validation Accuracy: 0.14, Training MAE: 3.37, Validation MAE: 6.56\n",
      "Epoch [60/80], Training Loss: 1.75, Validation Loss: 3.59, Training Accuracy: 0.34, Validation Accuracy: 0.14, Training MAE: 3.28, Validation MAE: 6.64\n",
      "Epoch [61/80], Training Loss: 1.71, Validation Loss: 3.37, Training Accuracy: 0.35, Validation Accuracy: 0.15, Training MAE: 3.25, Validation MAE: 6.16\n",
      "Epoch [62/80], Training Loss: 1.63, Validation Loss: 3.67, Training Accuracy: 0.37, Validation Accuracy: 0.15, Training MAE: 3.12, Validation MAE: 6.21\n",
      "Epoch [63/80], Training Loss: 1.60, Validation Loss: 5.05, Training Accuracy: 0.38, Validation Accuracy: 0.09, Training MAE: 3.12, Validation MAE: 11.01\n",
      "Epoch [64/80], Training Loss: 1.55, Validation Loss: 3.53, Training Accuracy: 0.40, Validation Accuracy: 0.12, Training MAE: 3.13, Validation MAE: 6.25\n",
      "Epoch [65/80], Training Loss: 1.52, Validation Loss: 3.81, Training Accuracy: 0.41, Validation Accuracy: 0.13, Training MAE: 3.14, Validation MAE: 6.94\n",
      "Epoch [66/80], Training Loss: 1.45, Validation Loss: 3.92, Training Accuracy: 0.42, Validation Accuracy: 0.12, Training MAE: 3.08, Validation MAE: 6.51\n",
      "Epoch [67/80], Training Loss: 1.41, Validation Loss: 3.84, Training Accuracy: 0.44, Validation Accuracy: 0.13, Training MAE: 3.08, Validation MAE: 6.27\n",
      "Epoch [68/80], Training Loss: 1.31, Validation Loss: 4.43, Training Accuracy: 0.47, Validation Accuracy: 0.11, Training MAE: 2.86, Validation MAE: 7.81\n",
      "Epoch [69/80], Training Loss: 1.27, Validation Loss: 4.00, Training Accuracy: 0.48, Validation Accuracy: 0.13, Training MAE: 2.90, Validation MAE: 6.44\n",
      "Epoch [70/80], Training Loss: 1.19, Validation Loss: 3.81, Training Accuracy: 0.50, Validation Accuracy: 0.14, Training MAE: 2.81, Validation MAE: 6.30\n",
      "Epoch [71/80], Training Loss: 1.13, Validation Loss: 3.99, Training Accuracy: 0.52, Validation Accuracy: 0.14, Training MAE: 2.79, Validation MAE: 7.01\n",
      "Epoch [72/80], Training Loss: 1.10, Validation Loss: 4.10, Training Accuracy: 0.53, Validation Accuracy: 0.14, Training MAE: 2.77, Validation MAE: 6.39\n",
      "Epoch [73/80], Training Loss: 1.00, Validation Loss: 4.69, Training Accuracy: 0.56, Validation Accuracy: 0.11, Training MAE: 2.66, Validation MAE: 8.01\n",
      "Epoch [74/80], Training Loss: 0.91, Validation Loss: 4.69, Training Accuracy: 0.59, Validation Accuracy: 0.12, Training MAE: 2.48, Validation MAE: 6.94\n",
      "Epoch [75/80], Training Loss: 0.89, Validation Loss: 4.65, Training Accuracy: 0.60, Validation Accuracy: 0.12, Training MAE: 2.55, Validation MAE: 6.70\n",
      "Epoch [76/80], Training Loss: 0.85, Validation Loss: 4.69, Training Accuracy: 0.61, Validation Accuracy: 0.11, Training MAE: 2.56, Validation MAE: 6.55\n",
      "Epoch [77/80], Training Loss: 0.78, Validation Loss: 4.68, Training Accuracy: 0.64, Validation Accuracy: 0.13, Training MAE: 2.42, Validation MAE: 7.62\n",
      "Epoch [78/80], Training Loss: 0.75, Validation Loss: 4.63, Training Accuracy: 0.64, Validation Accuracy: 0.13, Training MAE: 2.45, Validation MAE: 6.65\n",
      "Epoch [79/80], Training Loss: 0.68, Validation Loss: 4.82, Training Accuracy: 0.67, Validation Accuracy: 0.14, Training MAE: 2.40, Validation MAE: 6.51\n",
      "Epoch [80/80], Training Loss: 0.65, Validation Loss: 4.63, Training Accuracy: 0.68, Validation Accuracy: 0.12, Training MAE: 2.33, Validation MAE: 6.34\n",
      "Training time:  96.23346666666667 minutes\n"
     ]
    }
   ],
   "source": [
    "# train model \n",
    "history = train(model, optimizer, loss_fn, train_loader, val_loader, NR_EPOCHS, writer, device, './Project/class_imbalance/focal_loss/normal_age_classes')\n",
    "writer.close()"
   ]
  },
  {
   "cell_type": "markdown",
   "metadata": {},
   "source": [
    "## Training Histories"
   ]
  },
  {
   "cell_type": "code",
   "execution_count": 13,
   "metadata": {},
   "outputs": [],
   "source": [
    "def plot_history(history, path_name):\n",
    "    # loss\n",
    "    loss_train = history['loss']\n",
    "    loss_val = history['val_loss']\n",
    "    epochs = range(NR_EPOCHS)\n",
    "    plt.plot(epochs, loss_train, 'g', label='Training loss')\n",
    "    plt.plot(epochs, loss_val, 'b', label='Validation loss')\n",
    "    plt.title('Training and validation loss')\n",
    "    plt.xlabel('Epochs')\n",
    "    plt.ylabel('Loss')\n",
    "    plt.legend()\n",
    "    plt.show()\n",
    "    plt.savefig(path_name + '_loss.png', bbox_inches='tight')\n",
    "\n",
    "    # accuracy\n",
    "    accuracy_train = history['accuracy']\n",
    "    accuracy_val = history['val_accuracy']\n",
    "    epochs = range(NR_EPOCHS)\n",
    "    plt.plot(epochs, accuracy_train, 'g', label='Training accuracy')\n",
    "    plt.plot(epochs, accuracy_val, 'b', label='Validation accuracy')\n",
    "    plt.title('Training and validation accuracy')\n",
    "    plt.xlabel('Epochs')\n",
    "    plt.ylabel('Accuracy')\n",
    "    plt.legend()\n",
    "    plt.savefig(path_name + '_accuracy.png', bbox_inches='tight')\n",
    "    plt.show()\n",
    "\n",
    "     # MAE\n",
    "    accuracy_train = history['mae']\n",
    "    accuracy_val = history['val_mae']\n",
    "    epochs = range(NR_EPOCHS)\n",
    "    plt.plot(epochs, accuracy_train, 'g', label='Training MAE')\n",
    "    plt.plot(epochs, accuracy_val, 'b', label='Validation MAE')\n",
    "    plt.title('Training and validation MAE')\n",
    "    plt.xlabel('Epochs')\n",
    "    plt.ylabel('Accuracy')\n",
    "    plt.legend()\n",
    "    plt.savefig(path_name + '_mae.png', bbox_inches='tight')\n",
    "    plt.show()\n",
    "    "
   ]
  },
  {
   "cell_type": "markdown",
   "metadata": {},
   "source": [
    "### History of normal model"
   ]
  },
  {
   "cell_type": "code",
   "execution_count": 14,
   "metadata": {},
   "outputs": [
    {
     "data": {
      "image/png": "[encoded data removed]",
      "text/plain": [
       "<Figure size 640x480 with 1 Axes>"
      ]
     },
     "metadata": {},
     "output_type": "display_data"
    },
    {
     "data": {
      "image/png": "[encoded data removed]",
      "text/plain": [
       "<Figure size 640x480 with 1 Axes>"
      ]
     },
     "metadata": {},
     "output_type": "display_data"
    },
    {
     "data": {
      "image/png": "[encoded data removed]",
      "text/plain": [
       "<Figure size 640x480 with 1 Axes>"
      ]
     },
     "metadata": {},
     "output_type": "display_data"
    }
   ],
   "source": [
    "plot_history(history,'./Project/class_imbalance/focal_loss/normal_age_classes')"
   ]
  },
  {
   "cell_type": "markdown",
   "metadata": {},
   "source": [
    "## Test models"
   ]
  },
  {
   "cell_type": "code",
   "execution_count": 8,
   "metadata": {},
   "outputs": [],
   "source": [
    "def test(model, test_loader, loss_fn ,name):\n",
    "    test_loss = 0\n",
    "    test_correct = 0\n",
    "    test_total = 0\n",
    "    total_test_mae = 0\n",
    "    \n",
    "    # create cuda events for timetracking\n",
    "    start = torch.cuda.Event(enable_timing=True)\n",
    "    end = torch.cuda.Event(enable_timing=True)\n",
    "\n",
    "    start.record()\n",
    "    with torch.no_grad():\n",
    "        for inputs, labels in test_loader:\n",
    "            # shift labels from 1-116 to 0-115 for loss\n",
    "            labels_model = labels - 1\n",
    "            inputs, labels_model = inputs.to(device), labels_model.to(device)\n",
    "            labels = labels.to(device)\n",
    "            outputs = model(inputs)\n",
    "            loss = loss_fn(outputs, labels_model)\n",
    "\n",
    "            test_loss += loss.item()\n",
    "            _, predicted = outputs.max(1)\n",
    "            predicted = predicted + 1\n",
    "            test_total += labels.size(0)\n",
    "            test_correct += predicted.eq(labels).sum().item()\n",
    "\n",
    "            probabilities = F.softmax(outputs, dim=1)\n",
    "            expected_age = torch.sum(probabilities * age_classes, dim=1) + 1\n",
    "            total_test_mae += torch.abs(expected_age - labels.float()).sum().item()   \n",
    "\n",
    "    end.record()\n",
    "    torch.cuda.synchronize()\n",
    "    test_loss = test_loss / test_total\n",
    "    test_accuracy = test_correct / test_total\n",
    "    test_mae = total_test_mae / test_total\n",
    "\n",
    "    print(f'Model: {name},  Test Loss: {test_loss:.2f}, Test Accuracy: {test_accuracy:.2f}, Test MAE: {test_mae:.2f}')\n",
    "    print(f'Time:  {round(start.elapsed_time(end), 1) / 1000} seconds')"
   ]
  },
  {
   "cell_type": "code",
   "execution_count": 12,
   "metadata": {},
   "outputs": [
    {
     "name": "stdout",
     "output_type": "stream",
     "text": [
      "Model: Normal CNN,  Test Loss: 3.09, Test Accuracy: 0.15, Test MAE: 6.73\n",
      "Time:  8.351899999999999 seconds\n"
     ]
    }
   ],
   "source": [
    "# load models\n",
    "model_normal = CNNNet(NUM_CLASSES)\n",
    "model_normal.load_state_dict(torch.load('./Project/class_imbalance/focal_loss/normal_age_classes'))\n",
    "\n",
    "test(model_normal.to(device), test_loader, loss_fn, 'Normal CNN')"
   ]
  }
 ],
 "metadata": {
  "kaggle": {
   "accelerator": "gpu",
   "dataSources": [
    {
     "datasetId": 44109,
     "sourceId": 78156,
     "sourceType": "datasetVersion"
    }
   ],
   "dockerImageVersionId": 30302,
   "isGpuEnabled": true,
   "isInternetEnabled": true,
   "language": "python",
   "sourceType": "notebook"
  },
  "kernelspec": {
   "display_name": "Python 3 (ipykernel)",
   "language": "python",
   "name": "python3"
  },
  "language_info": {
   "codemirror_mode": {
    "name": "ipython",
    "version": 3
   },
   "file_extension": ".py",
   "mimetype": "text/x-python",
   "name": "python",
   "nbconvert_exporter": "python",
   "pygments_lexer": "ipython3",
   "version": "3.12.6"
  }
 },
 "nbformat": 4,
 "nbformat_minor": 4
}
