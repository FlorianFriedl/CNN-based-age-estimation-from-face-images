{
 "cells": [
  {
   "cell_type": "markdown",
   "metadata": {
    "papermill": {
     "duration": 0.013601,
     "end_time": "2022-10-12T18:43:55.53102",
     "exception": false,
     "start_time": "2022-10-12T18:43:55.517419",
     "status": "completed"
    },
    "tags": []
   },
   "source": [
    "# Age Estimation using CNN Regression"
   ]
  },
  {
   "cell_type": "code",
   "execution_count": 1,
   "metadata": {
    "id": "Ow9CX6i9bF7s",
    "papermill": {
     "duration": 6.262315,
     "end_time": "2022-10-12T18:44:01.805562",
     "exception": false,
     "start_time": "2022-10-12T18:43:55.543247",
     "status": "completed"
    },
    "tags": []
   },
   "outputs": [],
   "source": [
    "import numpy as np\n",
    "import matplotlib.pyplot as plt\n",
    "from glob import glob\n",
    "\n",
    "import math\n",
    "import torch\n",
    "import torch.nn as nn\n",
    "import torch.nn.functional as F\n",
    "import torchvision\n",
    "from torchvision import transforms, datasets\n",
    "from torch.utils.tensorboard import SummaryWriter\n",
    "from torch.utils.data import Dataset, DataLoader, random_split\n",
    "from collections import Counter\n",
    "\n",
    "import warnings\n",
    "warnings.filterwarnings(\"ignore\", category=FutureWarning)\n",
    "\n",
    "import pandas as pd\n",
    "import os\n",
    "import matplotlib.pyplot as plt\n",
    "%matplotlib inline\n",
    "\n",
    "from PIL import Image\n",
    "import shutil\n",
    "\n",
    "import copy\n",
    "\n",
    "from pathlib import Path\n",
    "from datetime import datetime\n",
    "\n",
    "from torch.utils.tensorboard import SummaryWriter"
   ]
  },
  {
   "cell_type": "markdown",
   "metadata": {
    "papermill": {
     "duration": 0.008384,
     "end_time": "2022-10-12T18:44:01.822491",
     "exception": false,
     "start_time": "2022-10-12T18:44:01.814107",
     "status": "completed"
    },
    "tags": []
   },
   "source": [
    "## Age estimation in age groups"
   ]
  },
  {
   "cell_type": "markdown",
   "metadata": {
    "papermill": {
     "duration": 0.007726,
     "end_time": "2022-10-12T18:44:01.838198",
     "exception": false,
     "start_time": "2022-10-12T18:44:01.830472",
     "status": "completed"
    },
    "tags": []
   },
   "source": [
    "### Set image size and variables "
   ]
  },
  {
   "cell_type": "code",
   "execution_count": 2,
   "metadata": {
    "id": "Cq39lS9tcKIC",
    "papermill": {
     "duration": 0.015277,
     "end_time": "2022-10-12T18:44:01.862109",
     "exception": false,
     "start_time": "2022-10-12T18:44:01.846832",
     "status": "completed"
    },
    "tags": []
   },
   "outputs": [],
   "source": [
    "IMAGE_SIZE = [200,200]\n",
    "BASE_DIR = './UTKFace/'\n",
    "NR_EPOCHS = 80\n",
    "BATCH_SIZE = 30"
   ]
  },
  {
   "cell_type": "markdown",
   "metadata": {
    "papermill": {
     "duration": 0.008407,
     "end_time": "2022-10-12T18:44:02.586292",
     "exception": false,
     "start_time": "2022-10-12T18:44:02.577885",
     "status": "completed"
    },
    "tags": []
   },
   "source": [
    "### Split Dataset into validation and test set  "
   ]
  },
  {
   "cell_type": "code",
   "execution_count": 3,
   "metadata": {
    "papermill": {
     "duration": 0.0293,
     "end_time": "2022-10-12T18:44:02.624072",
     "exception": false,
     "start_time": "2022-10-12T18:44:02.594772",
     "status": "completed"
    },
    "tags": []
   },
   "outputs": [],
   "source": [
    "class UTKFaceDataset(Dataset):\n",
    "    def __init__(self, root_dir, transform=None):\n",
    "        self.root_dir = root_dir\n",
    "        self.transform = transform\n",
    "        self.images = [file for file in os.listdir(root_dir) if file.endswith('.jpg') or file.endswith('.png')]\n",
    "\n",
    "    def __len__(self):\n",
    "        return len(self.images)\n",
    "\n",
    "    def __getitem__(self, idx):\n",
    "        img_name = os.path.join(self.root_dir, self.images[idx])\n",
    "        image = Image.open(img_name)\n",
    "        \n",
    "        age = int(self.images[idx].split('_')[0])\n",
    "        \n",
    "        if self.transform:\n",
    "            image = self.transform(image)\n",
    "        \n",
    "        return image, age\n",
    "\n",
    "# transform\n",
    "transform = transforms.Compose([\n",
    "    transforms.Resize(IMAGE_SIZE),\n",
    "    transforms.ToTensor(),\n",
    "    transforms.Normalize(mean=[0.485, 0.456, 0.406], std=[0.229, 0.224, 0.225])\n",
    "])\n",
    "\n",
    "# laod dataset\n",
    "full_dataset = UTKFaceDataset(root_dir=BASE_DIR, transform=transform)\n",
    "\n",
    "# split dataset accordingly \n",
    "total_size = len(full_dataset)\n",
    "train_size = int(0.7 * total_size)\n",
    "val_size = int(0.15 * total_size)\n",
    "test_size = total_size - train_size - val_size\n",
    "\n",
    "# fixed seed for same split across models\n",
    "generator = torch.Generator().manual_seed(116)\n",
    "\n",
    "train_dataset, val_dataset, test_dataset = random_split(\n",
    "    full_dataset, [train_size, val_size, test_size], generator=generator\n",
    ")"
   ]
  },
  {
   "cell_type": "code",
   "execution_count": 13,
   "metadata": {
    "papermill": {
     "duration": 44.536659,
     "end_time": "2022-10-12T18:44:47.169938",
     "exception": false,
     "start_time": "2022-10-12T18:44:02.633279",
     "status": "completed"
    },
    "tags": []
   },
   "outputs": [
    {
     "name": "stdout",
     "output_type": "stream",
     "text": [
      "Total dataset size: 23708\n",
      "Train set size: 16595\n",
      "Validation set size: 3556\n",
      "Test set size: 3557\n"
     ]
    }
   ],
   "source": [
    "# create DataLoaders\n",
    "train_loader = DataLoader(train_dataset, batch_size=BATCH_SIZE, shuffle=True)\n",
    "val_loader = DataLoader(val_dataset, batch_size=BATCH_SIZE, shuffle=False)\n",
    "test_loader = DataLoader(test_dataset, batch_size=BATCH_SIZE, shuffle=False)\n",
    "\n",
    "print(f\"Total dataset size: {total_size}\")\n",
    "print(f\"Train set size: {len(train_dataset)}\")\n",
    "print(f\"Validation set size: {len(val_dataset)}\")\n",
    "print(f\"Test set size: {len(test_dataset)}\")"
   ]
  },
  {
   "cell_type": "markdown",
   "metadata": {},
   "source": [
    "### Set cuda if aviable"
   ]
  },
  {
   "cell_type": "code",
   "execution_count": 4,
   "metadata": {},
   "outputs": [
    {
     "name": "stdout",
     "output_type": "stream",
     "text": [
      "Using device: cuda\n"
     ]
    }
   ],
   "source": [
    "# check CUDA availability\n",
    "device = torch.device('cuda' if torch.cuda.is_available() else 'cpu')\n",
    "print(f\"Using device: {device}\")"
   ]
  },
  {
   "cell_type": "markdown",
   "metadata": {},
   "source": [
    "## Base Model"
   ]
  },
  {
   "cell_type": "markdown",
   "metadata": {},
   "source": [
    "### Create Model"
   ]
  },
  {
   "cell_type": "code",
   "execution_count": 5,
   "metadata": {},
   "outputs": [],
   "source": [
    "class CNNNet(nn.Module):\n",
    "    def __init__(self):\n",
    "        super(CNNNet, self).__init__()\n",
    "        self.features = nn.Sequential(\n",
    "            nn.Conv2d(3, 96, kernel_size=7, padding=3),\n",
    "            nn.ReLU(),\n",
    "            nn.MaxPool2d(kernel_size=1, stride=2),\n",
    "            nn.BatchNorm2d(96),\n",
    "\n",
    "            nn.Conv2d(96, 256, kernel_size=5, padding=2),\n",
    "            nn.ReLU(),\n",
    "            nn.MaxPool2d(kernel_size=1, stride=2),\n",
    "            nn.BatchNorm2d(256),\n",
    "\n",
    "            nn.Conv2d(256, 384, kernel_size=3, padding=1),\n",
    "            nn.ReLU(),\n",
    "            nn.MaxPool2d(kernel_size=1, stride=2),\n",
    "            nn.BatchNorm2d(384),\n",
    "        )\n",
    "        self.avgpool = nn.AdaptiveAvgPool2d((1,1))\n",
    "        self.regressor = nn.Sequential(\n",
    "            nn.Linear(384, 512),\n",
    "            nn.ReLU(),\n",
    "            nn.Dropout(0.25),\n",
    "            nn.Linear(512, 512),\n",
    "            nn.ReLU(),\n",
    "            nn.Dropout(0.25),\n",
    "            nn.Linear(512, 1)   \n",
    "        )\n",
    "    def forward(self, x):    \n",
    "        x = self.features(x)\n",
    "        x = self.avgpool(x) \n",
    "        x = torch.flatten(x, 1)\n",
    "        x = self.regressor(x)\n",
    "        return x.squeeze(dim=1)"
   ]
  },
  {
   "cell_type": "code",
   "execution_count": 6,
   "metadata": {},
   "outputs": [
    {
     "name": "stdout",
     "output_type": "stream",
     "text": [
      "CNNNet(\n",
      "  (features): Sequential(\n",
      "    (0): Conv2d(3, 96, kernel_size=(7, 7), stride=(1, 1), padding=(3, 3))\n",
      "    (1): ReLU()\n",
      "    (2): MaxPool2d(kernel_size=1, stride=2, padding=0, dilation=1, ceil_mode=False)\n",
      "    (3): BatchNorm2d(96, eps=1e-05, momentum=0.1, affine=True, track_running_stats=True)\n",
      "    (4): Conv2d(96, 256, kernel_size=(5, 5), stride=(1, 1), padding=(2, 2))\n",
      "    (5): ReLU()\n",
      "    (6): MaxPool2d(kernel_size=1, stride=2, padding=0, dilation=1, ceil_mode=False)\n",
      "    (7): BatchNorm2d(256, eps=1e-05, momentum=0.1, affine=True, track_running_stats=True)\n",
      "    (8): Conv2d(256, 384, kernel_size=(3, 3), stride=(1, 1), padding=(1, 1))\n",
      "    (9): ReLU()\n",
      "    (10): MaxPool2d(kernel_size=1, stride=2, padding=0, dilation=1, ceil_mode=False)\n",
      "    (11): BatchNorm2d(384, eps=1e-05, momentum=0.1, affine=True, track_running_stats=True)\n",
      "  )\n",
      "  (avgpool): AdaptiveAvgPool2d(output_size=(1, 1))\n",
      "  (regressor): Sequential(\n",
      "    (0): Linear(in_features=384, out_features=512, bias=True)\n",
      "    (1): ReLU()\n",
      "    (2): Dropout(p=0.25, inplace=False)\n",
      "    (3): Linear(in_features=512, out_features=512, bias=True)\n",
      "    (4): ReLU()\n",
      "    (5): Dropout(p=0.25, inplace=False)\n",
      "    (6): Linear(in_features=512, out_features=1, bias=True)\n",
      "  )\n",
      ")\n",
      "----------------------------------------------------------------\n",
      "        Layer (type)               Output Shape         Param #\n",
      "================================================================\n",
      "            Conv2d-1         [-1, 96, 200, 200]          14,208\n",
      "              ReLU-2         [-1, 96, 200, 200]               0\n",
      "         MaxPool2d-3         [-1, 96, 100, 100]               0\n",
      "       BatchNorm2d-4         [-1, 96, 100, 100]             192\n",
      "            Conv2d-5        [-1, 256, 100, 100]         614,656\n",
      "              ReLU-6        [-1, 256, 100, 100]               0\n",
      "         MaxPool2d-7          [-1, 256, 50, 50]               0\n",
      "       BatchNorm2d-8          [-1, 256, 50, 50]             512\n",
      "            Conv2d-9          [-1, 384, 50, 50]         885,120\n",
      "             ReLU-10          [-1, 384, 50, 50]               0\n",
      "        MaxPool2d-11          [-1, 384, 25, 25]               0\n",
      "      BatchNorm2d-12          [-1, 384, 25, 25]             768\n",
      "AdaptiveAvgPool2d-13            [-1, 384, 1, 1]               0\n",
      "           Linear-14                  [-1, 512]         197,120\n",
      "             ReLU-15                  [-1, 512]               0\n",
      "          Dropout-16                  [-1, 512]               0\n",
      "           Linear-17                  [-1, 512]         262,656\n",
      "             ReLU-18                  [-1, 512]               0\n",
      "          Dropout-19                  [-1, 512]               0\n",
      "           Linear-20                    [-1, 1]             513\n",
      "================================================================\n",
      "Total params: 1,975,745\n",
      "Trainable params: 1,975,745\n",
      "Non-trainable params: 0\n",
      "----------------------------------------------------------------\n",
      "Input size (MB): 0.46\n",
      "Forward/backward pass size (MB): 140.41\n",
      "Params size (MB): 7.54\n",
      "Estimated Total Size (MB): 148.40\n",
      "----------------------------------------------------------------\n",
      "Output shape: torch.Size([1])\n"
     ]
    }
   ],
   "source": [
    "# instantiate model\n",
    "model = CNNNet().to(device)\n",
    "\n",
    "print(model)\n",
    "\n",
    "from torchsummary import summary\n",
    "summary(model.to(device),(3,200,200))\n",
    "# sample input\n",
    "sample_input = torch.randn(1, 3, 200, 200).to(device)\n",
    "output = model(sample_input)\n",
    "print(f\"Output shape: {output.shape}\")"
   ]
  },
  {
   "cell_type": "code",
   "execution_count": 8,
   "metadata": {},
   "outputs": [],
   "source": [
    "writer = SummaryWriter('./Project/regression/runs/normal', comment='Normal_Regression_Model')\n",
    "writer.add_graph(model, sample_input)"
   ]
  },
  {
   "cell_type": "code",
   "execution_count": 7,
   "metadata": {},
   "outputs": [],
   "source": [
    "optimizer = torch.optim.SGD(model.parameters(), lr=0.0001, momentum=0.9)\n",
    "loss_fn = torch.nn.MSELoss(reduction='mean')\n",
    "loss_fn = loss_fn.to(device)"
   ]
  },
  {
   "cell_type": "markdown",
   "metadata": {},
   "source": [
    "### Train model"
   ]
  },
  {
   "cell_type": "code",
   "execution_count": 10,
   "metadata": {},
   "outputs": [],
   "source": [
    "def train(model, optimizer, loss_fn, train_loader, val_loader, epochs, summary_writer, device, save_path):\n",
    "    \n",
    "    # create history for graphs\n",
    "    history = {\n",
    "        'train_mae': [],\n",
    "        'val_mae': [],\n",
    "        'train_loss': [],\n",
    "        'val_loss': []\n",
    "    }\n",
    "\n",
    "    # create cuda events for timetracking\n",
    "    start = torch.cuda.Event(enable_timing=True)\n",
    "    end = torch.cuda.Event(enable_timing=True)\n",
    "    \n",
    "    # init variables for saving\n",
    "    best_val_mae = float('Inf')\n",
    "    best_model_wts = copy.deepcopy(model.state_dict()) \n",
    "\n",
    "    start.record()\n",
    "    for epoch in range(epochs):\n",
    "        train_loss = 0.0\n",
    "        val_loss = 0.0\n",
    "        num_train = 0\n",
    "        train_mae_sum = 0.0\n",
    "           \n",
    "        model.train()\n",
    "        for batch in train_loader:\n",
    "            optimizer.zero_grad()\n",
    "            inputs, targets = batch\n",
    "            inputs, targets = inputs.to(device), targets.to(device)\n",
    "            targets = targets.float().view(-1)\n",
    "\n",
    "            inputs = torch.nan_to_num(inputs)\n",
    "            outputs = model(inputs)\n",
    "            \n",
    "            loss = loss_fn(outputs, targets)\n",
    "            loss.backward()\n",
    "            optimizer.step()\n",
    "            \n",
    "            train_loss += loss.item() * inputs.size(0)\n",
    "            num_train += targets.size(0)\n",
    "            abs_error_train = torch.abs(outputs - targets)\n",
    "            train_mae_sum += abs_error_train.sum().item()\n",
    "\n",
    "                \n",
    "        train_loss /= num_train\n",
    "        train_mae = train_mae_sum / num_train\n",
    "\n",
    "        if epoch+1 == NR_EPOCHS:\n",
    "            end.record()\n",
    "            torch.cuda.synchronize()\n",
    "        \n",
    "        model.eval()\n",
    "        num_val = 0\n",
    "        val_mae_sum = 0.0\n",
    "        \n",
    "        with torch.no_grad():\n",
    "            for batch in val_loader:\n",
    "                inputs, targets = batch\n",
    "                inputs, targets = inputs.to(device), targets.to(device)\n",
    "                targets = targets.float().view(-1)\n",
    "                outputs = model(inputs)\n",
    "                \n",
    "                loss = loss_fn(outputs, targets)\n",
    "                val_loss += loss.item() * inputs.size(0)\n",
    "                num_val += targets.size(0)\n",
    "                \n",
    "                abs_error_val = torch.abs(outputs - targets)\n",
    "                val_mae_sum += abs_error_val.sum().item()\n",
    "        \n",
    "        val_loss /= num_val\n",
    "        val_mae = val_mae_sum / num_val\n",
    "\n",
    "        summary_writer.add_scalar('Train Loss', train_loss, epoch+1)\n",
    "        summary_writer.add_scalar('Val Loss', val_loss, epoch+1)\n",
    "        summary_writer.add_scalar('Train MAE', train_mae, epoch+1)\n",
    "        summary_writer.add_scalar('Val MAE', val_mae, epoch+1)\n",
    "        \n",
    "        history['train_loss'].append(train_loss)\n",
    "        history['val_loss'].append(val_loss)\n",
    "        history['train_mae'].append(train_mae)\n",
    "        history['val_mae'].append(val_mae)\n",
    "        \n",
    "        print(f'Epoch: [{epoch+1}/{NR_EPOCHS}], Training Loss: {train_loss:.2f}, Validation Loss: {val_loss:.2f}, '\n",
    "              f'Training MAE: {train_mae:.2f}, Validation MAE: {val_mae:.2f}')\n",
    "        \n",
    "        # save best model if MAE improves\n",
    "        if val_mae < best_val_mae:\n",
    "            best_val_mae = val_mae\n",
    "            best_model_wts = copy.deepcopy(model.state_dict())\n",
    "            torch.save(best_model_wts, save_path)\n",
    "            print(f\"Best model saved at epoch {epoch+1} with validation MAE: {best_val_mae:.2f}\")\n",
    "            \n",
    "    print(f'Training time:  {round(start.elapsed_time(end) / 60000, 1)} minutes')\n",
    "    return history\n"
   ]
  },
  {
   "cell_type": "markdown",
   "metadata": {},
   "source": [
    "### Train model "
   ]
  },
  {
   "cell_type": "code",
   "execution_count": 11,
   "metadata": {},
   "outputs": [
    {
     "name": "stdout",
     "output_type": "stream",
     "text": [
      "Epoch: [1/80], Training Loss: 443.89, Validation Loss: 377.72, Training MAE: 16.02, Validation MAE: 14.50\n",
      "Best model saved at epoch 1 with validation MAE: 14.50\n",
      "Epoch: [2/80], Training Loss: 368.35, Validation Loss: 359.28, Training MAE: 14.75, Validation MAE: 15.28\n",
      "Epoch: [3/80], Training Loss: 325.13, Validation Loss: 304.87, Training MAE: 13.88, Validation MAE: 13.68\n",
      "Best model saved at epoch 3 with validation MAE: 13.68\n",
      "Epoch: [4/80], Training Loss: 291.37, Validation Loss: 286.04, Training MAE: 13.02, Validation MAE: 12.41\n",
      "Best model saved at epoch 4 with validation MAE: 12.41\n",
      "Epoch: [5/80], Training Loss: 254.28, Validation Loss: 252.94, Training MAE: 12.06, Validation MAE: 11.71\n",
      "Best model saved at epoch 5 with validation MAE: 11.71\n",
      "Epoch: [6/80], Training Loss: 220.94, Validation Loss: 316.67, Training MAE: 11.15, Validation MAE: 12.76\n",
      "Epoch: [7/80], Training Loss: 193.48, Validation Loss: 170.64, Training MAE: 10.24, Validation MAE: 9.90\n",
      "Best model saved at epoch 7 with validation MAE: 9.90\n",
      "Epoch: [8/80], Training Loss: 169.08, Validation Loss: 136.69, Training MAE: 9.59, Validation MAE: 8.40\n",
      "Best model saved at epoch 8 with validation MAE: 8.40\n",
      "Epoch: [9/80], Training Loss: 154.72, Validation Loss: 137.17, Training MAE: 9.13, Validation MAE: 8.38\n",
      "Best model saved at epoch 9 with validation MAE: 8.38\n",
      "Epoch: [10/80], Training Loss: 144.48, Validation Loss: 158.41, Training MAE: 8.75, Validation MAE: 9.39\n",
      "Epoch: [11/80], Training Loss: 136.17, Validation Loss: 129.72, Training MAE: 8.55, Validation MAE: 8.52\n",
      "Epoch: [12/80], Training Loss: 127.22, Validation Loss: 114.01, Training MAE: 8.24, Validation MAE: 7.56\n",
      "Best model saved at epoch 12 with validation MAE: 7.56\n",
      "Epoch: [13/80], Training Loss: 119.14, Validation Loss: 117.32, Training MAE: 7.98, Validation MAE: 7.67\n",
      "Epoch: [14/80], Training Loss: 115.13, Validation Loss: 117.23, Training MAE: 7.84, Validation MAE: 7.66\n",
      "Epoch: [15/80], Training Loss: 105.82, Validation Loss: 108.44, Training MAE: 7.52, Validation MAE: 7.66\n",
      "Epoch: [16/80], Training Loss: 106.80, Validation Loss: 108.78, Training MAE: 7.53, Validation MAE: 7.96\n",
      "Epoch: [17/80], Training Loss: 100.54, Validation Loss: 99.07, Training MAE: 7.30, Validation MAE: 7.29\n",
      "Best model saved at epoch 17 with validation MAE: 7.29\n",
      "Epoch: [18/80], Training Loss: 99.03, Validation Loss: 125.40, Training MAE: 7.25, Validation MAE: 7.75\n",
      "Epoch: [19/80], Training Loss: 92.59, Validation Loss: 99.49, Training MAE: 7.06, Validation MAE: 7.10\n",
      "Best model saved at epoch 19 with validation MAE: 7.10\n",
      "Epoch: [20/80], Training Loss: 89.08, Validation Loss: 121.60, Training MAE: 6.84, Validation MAE: 7.63\n",
      "Epoch: [21/80], Training Loss: 86.68, Validation Loss: 117.83, Training MAE: 6.79, Validation MAE: 8.09\n",
      "Epoch: [22/80], Training Loss: 80.95, Validation Loss: 94.46, Training MAE: 6.60, Validation MAE: 7.08\n",
      "Best model saved at epoch 22 with validation MAE: 7.08\n",
      "Epoch: [23/80], Training Loss: 79.59, Validation Loss: 121.59, Training MAE: 6.52, Validation MAE: 7.60\n",
      "Epoch: [24/80], Training Loss: 74.87, Validation Loss: 97.79, Training MAE: 6.35, Validation MAE: 6.97\n",
      "Best model saved at epoch 24 with validation MAE: 6.97\n",
      "Epoch: [25/80], Training Loss: 76.77, Validation Loss: 114.54, Training MAE: 6.40, Validation MAE: 7.89\n",
      "Epoch: [26/80], Training Loss: 64.89, Validation Loss: 98.02, Training MAE: 5.91, Validation MAE: 6.91\n",
      "Best model saved at epoch 26 with validation MAE: 6.91\n",
      "Epoch: [27/80], Training Loss: 61.21, Validation Loss: 92.46, Training MAE: 5.76, Validation MAE: 6.91\n",
      "Epoch: [28/80], Training Loss: 59.29, Validation Loss: 89.55, Training MAE: 5.67, Validation MAE: 6.88\n",
      "Best model saved at epoch 28 with validation MAE: 6.88\n",
      "Epoch: [29/80], Training Loss: 62.52, Validation Loss: 90.19, Training MAE: 5.79, Validation MAE: 6.67\n",
      "Best model saved at epoch 29 with validation MAE: 6.67\n",
      "Epoch: [30/80], Training Loss: 55.13, Validation Loss: 88.84, Training MAE: 5.51, Validation MAE: 6.68\n",
      "Epoch: [31/80], Training Loss: 51.48, Validation Loss: 95.49, Training MAE: 5.32, Validation MAE: 6.80\n",
      "Epoch: [32/80], Training Loss: 44.50, Validation Loss: 91.80, Training MAE: 4.94, Validation MAE: 6.71\n",
      "Epoch: [33/80], Training Loss: 48.69, Validation Loss: 90.19, Training MAE: 5.16, Validation MAE: 6.72\n",
      "Epoch: [34/80], Training Loss: 48.06, Validation Loss: 84.20, Training MAE: 5.09, Validation MAE: 6.55\n",
      "Best model saved at epoch 34 with validation MAE: 6.55\n",
      "Epoch: [35/80], Training Loss: 52.07, Validation Loss: 94.53, Training MAE: 5.30, Validation MAE: 6.75\n",
      "Epoch: [36/80], Training Loss: 41.77, Validation Loss: 85.23, Training MAE: 4.80, Validation MAE: 6.51\n",
      "Best model saved at epoch 36 with validation MAE: 6.51\n",
      "Epoch: [37/80], Training Loss: 37.74, Validation Loss: 91.17, Training MAE: 4.58, Validation MAE: 6.76\n",
      "Epoch: [38/80], Training Loss: 35.40, Validation Loss: 109.26, Training MAE: 4.42, Validation MAE: 7.39\n",
      "Epoch: [39/80], Training Loss: 37.24, Validation Loss: 87.26, Training MAE: 4.54, Validation MAE: 6.57\n",
      "Epoch: [40/80], Training Loss: 33.98, Validation Loss: 86.77, Training MAE: 4.34, Validation MAE: 6.55\n",
      "Epoch: [41/80], Training Loss: 31.65, Validation Loss: 97.63, Training MAE: 4.17, Validation MAE: 6.81\n",
      "Epoch: [42/80], Training Loss: 31.43, Validation Loss: 91.96, Training MAE: 4.16, Validation MAE: 6.85\n",
      "Epoch: [43/80], Training Loss: 29.24, Validation Loss: 89.41, Training MAE: 4.04, Validation MAE: 6.60\n",
      "Epoch: [44/80], Training Loss: 29.03, Validation Loss: 86.08, Training MAE: 4.04, Validation MAE: 6.54\n",
      "Epoch: [45/80], Training Loss: 28.45, Validation Loss: 86.17, Training MAE: 3.96, Validation MAE: 6.48\n",
      "Best model saved at epoch 45 with validation MAE: 6.48\n",
      "Epoch: [46/80], Training Loss: 23.61, Validation Loss: 88.92, Training MAE: 3.64, Validation MAE: 6.60\n",
      "Epoch: [47/80], Training Loss: 25.54, Validation Loss: 87.62, Training MAE: 3.76, Validation MAE: 6.57\n",
      "Epoch: [48/80], Training Loss: 23.28, Validation Loss: 86.13, Training MAE: 3.62, Validation MAE: 6.52\n",
      "Epoch: [49/80], Training Loss: 23.67, Validation Loss: 92.98, Training MAE: 3.63, Validation MAE: 6.84\n",
      "Epoch: [50/80], Training Loss: 22.42, Validation Loss: 86.18, Training MAE: 3.54, Validation MAE: 6.59\n",
      "Epoch: [51/80], Training Loss: 22.64, Validation Loss: 92.84, Training MAE: 3.56, Validation MAE: 6.94\n",
      "Epoch: [52/80], Training Loss: 23.37, Validation Loss: 89.76, Training MAE: 3.62, Validation MAE: 6.59\n",
      "Epoch: [53/80], Training Loss: 19.45, Validation Loss: 88.39, Training MAE: 3.28, Validation MAE: 6.67\n",
      "Epoch: [54/80], Training Loss: 20.40, Validation Loss: 105.84, Training MAE: 3.36, Validation MAE: 7.08\n",
      "Epoch: [55/80], Training Loss: 22.34, Validation Loss: 81.91, Training MAE: 3.53, Validation MAE: 6.47\n",
      "Best model saved at epoch 55 with validation MAE: 6.47\n",
      "Epoch: [56/80], Training Loss: 19.08, Validation Loss: 87.57, Training MAE: 3.27, Validation MAE: 6.54\n",
      "Epoch: [57/80], Training Loss: 18.88, Validation Loss: 98.08, Training MAE: 3.25, Validation MAE: 7.08\n",
      "Epoch: [58/80], Training Loss: 17.75, Validation Loss: 92.89, Training MAE: 3.15, Validation MAE: 6.91\n",
      "Epoch: [59/80], Training Loss: 17.31, Validation Loss: 89.95, Training MAE: 3.10, Validation MAE: 6.60\n",
      "Epoch: [60/80], Training Loss: 16.43, Validation Loss: 85.77, Training MAE: 3.03, Validation MAE: 6.58\n",
      "Epoch: [61/80], Training Loss: 15.97, Validation Loss: 86.18, Training MAE: 2.98, Validation MAE: 6.56\n",
      "Epoch: [62/80], Training Loss: 14.61, Validation Loss: 89.20, Training MAE: 2.87, Validation MAE: 6.78\n",
      "Epoch: [63/80], Training Loss: 15.77, Validation Loss: 82.74, Training MAE: 2.94, Validation MAE: 6.44\n",
      "Best model saved at epoch 63 with validation MAE: 6.44\n",
      "Epoch: [64/80], Training Loss: 14.85, Validation Loss: 86.86, Training MAE: 2.86, Validation MAE: 6.52\n",
      "Epoch: [65/80], Training Loss: 16.31, Validation Loss: 89.28, Training MAE: 3.00, Validation MAE: 6.59\n",
      "Epoch: [66/80], Training Loss: 14.82, Validation Loss: 91.60, Training MAE: 2.88, Validation MAE: 6.67\n",
      "Epoch: [67/80], Training Loss: 16.52, Validation Loss: 88.72, Training MAE: 2.99, Validation MAE: 6.71\n",
      "Epoch: [68/80], Training Loss: 13.58, Validation Loss: 92.56, Training MAE: 2.76, Validation MAE: 6.77\n",
      "Epoch: [69/80], Training Loss: 13.87, Validation Loss: 88.37, Training MAE: 2.77, Validation MAE: 6.75\n",
      "Epoch: [70/80], Training Loss: 13.26, Validation Loss: 99.81, Training MAE: 2.71, Validation MAE: 7.36\n",
      "Epoch: [71/80], Training Loss: 16.06, Validation Loss: 97.31, Training MAE: 2.92, Validation MAE: 7.02\n",
      "Epoch: [72/80], Training Loss: 12.97, Validation Loss: 82.60, Training MAE: 2.67, Validation MAE: 6.38\n",
      "Best model saved at epoch 72 with validation MAE: 6.38\n",
      "Epoch: [73/80], Training Loss: 11.90, Validation Loss: 86.78, Training MAE: 2.57, Validation MAE: 6.54\n",
      "Epoch: [74/80], Training Loss: 11.82, Validation Loss: 85.00, Training MAE: 2.55, Validation MAE: 6.48\n",
      "Epoch: [75/80], Training Loss: 11.35, Validation Loss: 86.04, Training MAE: 2.51, Validation MAE: 6.58\n",
      "Epoch: [76/80], Training Loss: 11.63, Validation Loss: 87.28, Training MAE: 2.52, Validation MAE: 6.64\n",
      "Epoch: [77/80], Training Loss: 10.96, Validation Loss: 84.71, Training MAE: 2.46, Validation MAE: 6.52\n",
      "Epoch: [78/80], Training Loss: 11.10, Validation Loss: 86.07, Training MAE: 2.48, Validation MAE: 6.52\n",
      "Epoch: [79/80], Training Loss: 10.99, Validation Loss: 86.34, Training MAE: 2.47, Validation MAE: 6.59\n",
      "Epoch: [80/80], Training Loss: 11.19, Validation Loss: 84.70, Training MAE: 2.49, Validation MAE: 6.52\n",
      "Training time:  100.6 minutes\n"
     ]
    }
   ],
   "source": [
    "history = train(model, optimizer, loss_fn, train_loader, val_loader, NR_EPOCHS, writer, device, './Project/regression/normal/regression_normal_model')\n",
    "writer.close()"
   ]
  },
  {
   "cell_type": "markdown",
   "metadata": {},
   "source": [
    "## Depthwise Separable Convolution Model"
   ]
  },
  {
   "cell_type": "markdown",
   "metadata": {},
   "source": [
    "### Create Model"
   ]
  },
  {
   "cell_type": "code",
   "execution_count": 8,
   "metadata": {},
   "outputs": [],
   "source": [
    "# SeparableConv2d class, depthwise convolution followed by pointwise convolution \n",
    "class SeparableConv2d(nn.Module): \n",
    "    def __init__(self, in_channels, out_channels, kernel_size, **kwargs):\n",
    "        super(SeparableConv2d, self).__init__()\n",
    "        self.depthwise = nn.Conv2d(in_channels, in_channels, kernel_size=kernel_size, groups=in_channels, **kwargs)\n",
    "        self.pointwise = nn.Conv2d(in_channels, out_channels, kernel_size=1)\n",
    "\n",
    "    def forward(self, x):\n",
    "        x = self.depthwise(x)\n",
    "        x = self.pointwise(x)\n",
    "        return x\n",
    "\n",
    "class DepthwiseCNNNet(nn.Module):\n",
    "    def __init__(self):\n",
    "        super(DepthwiseCNNNet, self).__init__()\n",
    "        self.features = nn.Sequential(\n",
    "            SeparableConv2d(3, 96, kernel_size=7, padding=2),\n",
    "            nn.ReLU(),\n",
    "            nn.MaxPool2d(kernel_size=1, stride=2),\n",
    "            nn.BatchNorm2d(96),\n",
    "\n",
    "            SeparableConv2d(96, 256, kernel_size=5, padding=2),\n",
    "            nn.ReLU(),\n",
    "            nn.MaxPool2d(kernel_size=1, stride=2),\n",
    "            nn.BatchNorm2d(256),\n",
    "\n",
    "            SeparableConv2d(256, 384, kernel_size=3, padding=1),\n",
    "            nn.ReLU(),\n",
    "            nn.MaxPool2d(kernel_size=1, stride=2),\n",
    "            nn.BatchNorm2d(384),\n",
    "        )\n",
    "        self.avgpool = nn.AdaptiveAvgPool2d((1, 1))\n",
    "        self.regressor = nn.Sequential(\n",
    "            nn.Linear(384, 512),\n",
    "            nn.ReLU(),\n",
    "            nn.Dropout(0.25),\n",
    "            nn.Linear(512, 512),\n",
    "            nn.ReLU(),\n",
    "            nn.Dropout(0.25),\n",
    "            nn.Linear(512, 1)\n",
    "        )\n",
    "\n",
    "    def forward(self, x):\n",
    "        x = self.features(x)\n",
    "        x = self.avgpool(x)\n",
    "        x = torch.flatten(x, 1)\n",
    "        x = self.regressor(x)\n",
    "        return x.squeeze(dim=1)"
   ]
  },
  {
   "cell_type": "code",
   "execution_count": 9,
   "metadata": {},
   "outputs": [
    {
     "name": "stdout",
     "output_type": "stream",
     "text": [
      "DepthwiseCNNNet(\n",
      "  (features): Sequential(\n",
      "    (0): SeparableConv2d(\n",
      "      (depthwise): Conv2d(3, 3, kernel_size=(7, 7), stride=(1, 1), padding=(2, 2), groups=3)\n",
      "      (pointwise): Conv2d(3, 96, kernel_size=(1, 1), stride=(1, 1))\n",
      "    )\n",
      "    (1): ReLU()\n",
      "    (2): MaxPool2d(kernel_size=1, stride=2, padding=0, dilation=1, ceil_mode=False)\n",
      "    (3): BatchNorm2d(96, eps=1e-05, momentum=0.1, affine=True, track_running_stats=True)\n",
      "    (4): SeparableConv2d(\n",
      "      (depthwise): Conv2d(96, 96, kernel_size=(5, 5), stride=(1, 1), padding=(2, 2), groups=96)\n",
      "      (pointwise): Conv2d(96, 256, kernel_size=(1, 1), stride=(1, 1))\n",
      "    )\n",
      "    (5): ReLU()\n",
      "    (6): MaxPool2d(kernel_size=1, stride=2, padding=0, dilation=1, ceil_mode=False)\n",
      "    (7): BatchNorm2d(256, eps=1e-05, momentum=0.1, affine=True, track_running_stats=True)\n",
      "    (8): SeparableConv2d(\n",
      "      (depthwise): Conv2d(256, 256, kernel_size=(3, 3), stride=(1, 1), padding=(1, 1), groups=256)\n",
      "      (pointwise): Conv2d(256, 384, kernel_size=(1, 1), stride=(1, 1))\n",
      "    )\n",
      "    (9): ReLU()\n",
      "    (10): MaxPool2d(kernel_size=1, stride=2, padding=0, dilation=1, ceil_mode=False)\n",
      "    (11): BatchNorm2d(384, eps=1e-05, momentum=0.1, affine=True, track_running_stats=True)\n",
      "  )\n",
      "  (avgpool): AdaptiveAvgPool2d(output_size=(1, 1))\n",
      "  (regressor): Sequential(\n",
      "    (0): Linear(in_features=384, out_features=512, bias=True)\n",
      "    (1): ReLU()\n",
      "    (2): Dropout(p=0.25, inplace=False)\n",
      "    (3): Linear(in_features=512, out_features=512, bias=True)\n",
      "    (4): ReLU()\n",
      "    (5): Dropout(p=0.25, inplace=False)\n",
      "    (6): Linear(in_features=512, out_features=1, bias=True)\n",
      "  )\n",
      ")\n",
      "----------------------------------------------------------------\n",
      "        Layer (type)               Output Shape         Param #\n",
      "================================================================\n",
      "            Conv2d-1          [-1, 3, 198, 198]             150\n",
      "            Conv2d-2         [-1, 96, 198, 198]             384\n",
      "   SeparableConv2d-3         [-1, 96, 198, 198]               0\n",
      "              ReLU-4         [-1, 96, 198, 198]               0\n",
      "         MaxPool2d-5           [-1, 96, 99, 99]               0\n",
      "       BatchNorm2d-6           [-1, 96, 99, 99]             192\n",
      "            Conv2d-7           [-1, 96, 99, 99]           2,496\n",
      "            Conv2d-8          [-1, 256, 99, 99]          24,832\n",
      "   SeparableConv2d-9          [-1, 256, 99, 99]               0\n",
      "             ReLU-10          [-1, 256, 99, 99]               0\n",
      "        MaxPool2d-11          [-1, 256, 50, 50]               0\n",
      "      BatchNorm2d-12          [-1, 256, 50, 50]             512\n",
      "           Conv2d-13          [-1, 256, 50, 50]           2,560\n",
      "           Conv2d-14          [-1, 384, 50, 50]          98,688\n",
      "  SeparableConv2d-15          [-1, 384, 50, 50]               0\n",
      "             ReLU-16          [-1, 384, 50, 50]               0\n",
      "        MaxPool2d-17          [-1, 384, 25, 25]               0\n",
      "      BatchNorm2d-18          [-1, 384, 25, 25]             768\n",
      "AdaptiveAvgPool2d-19            [-1, 384, 1, 1]               0\n",
      "           Linear-20                  [-1, 512]         197,120\n",
      "             ReLU-21                  [-1, 512]               0\n",
      "          Dropout-22                  [-1, 512]               0\n",
      "           Linear-23                  [-1, 512]         262,656\n",
      "             ReLU-24                  [-1, 512]               0\n",
      "          Dropout-25                  [-1, 512]               0\n",
      "           Linear-26                    [-1, 1]             513\n",
      "================================================================\n",
      "Total params: 590,871\n",
      "Trainable params: 590,871\n",
      "Non-trainable params: 0\n",
      "----------------------------------------------------------------\n",
      "Input size (MB): 0.46\n",
      "Forward/backward pass size (MB): 206.31\n",
      "Params size (MB): 2.25\n",
      "Estimated Total Size (MB): 209.02\n",
      "----------------------------------------------------------------\n",
      "Output shape: torch.Size([1])\n"
     ]
    }
   ],
   "source": [
    "# instantiate model\n",
    "depthwise_model = DepthwiseCNNNet().to(device)\n",
    "\n",
    "# model summary\n",
    "print(depthwise_model)\n",
    "\n",
    "from torchsummary import summary\n",
    "summary(depthwise_model.to(device),(3,200,200))\n",
    "# sample input\n",
    "sample_input = torch.randn(1, 3, 200, 200).to(device)\n",
    "output = depthwise_model(sample_input)\n",
    "print(f\"Output shape: {output.shape}\")"
   ]
  },
  {
   "cell_type": "code",
   "execution_count": 14,
   "metadata": {},
   "outputs": [],
   "source": [
    "writer_depth = SummaryWriter('./Project/regression/runs/depthwise', comment='Depthwise_Regression_Model')\n",
    "writer_depth.add_graph(depthwise_model, sample_input)"
   ]
  },
  {
   "cell_type": "markdown",
   "metadata": {},
   "source": [
    "### Train"
   ]
  },
  {
   "cell_type": "code",
   "execution_count": 10,
   "metadata": {},
   "outputs": [],
   "source": [
    "depthwise_optimizer = torch.optim.SGD(depthwise_model.parameters(), lr=0.0001, momentum=0.9)"
   ]
  },
  {
   "cell_type": "code",
   "execution_count": 16,
   "metadata": {},
   "outputs": [
    {
     "name": "stdout",
     "output_type": "stream",
     "text": [
      "Epoch: [1/80], Training Loss: 454.64, Validation Loss: 347.00, Training MAE: 16.15, Validation MAE: 14.05\n",
      "Best model saved at epoch 1 with validation MAE: 14.05\n",
      "Epoch: [2/80], Training Loss: 371.68, Validation Loss: 396.33, Training MAE: 14.73, Validation MAE: 16.25\n",
      "Epoch: [3/80], Training Loss: 314.39, Validation Loss: 306.22, Training MAE: 13.55, Validation MAE: 13.06\n",
      "Best model saved at epoch 3 with validation MAE: 13.06\n",
      "Epoch: [4/80], Training Loss: 212.64, Validation Loss: 160.60, Training MAE: 10.99, Validation MAE: 9.30\n",
      "Best model saved at epoch 4 with validation MAE: 9.30\n",
      "Epoch: [5/80], Training Loss: 173.54, Validation Loss: 142.39, Training MAE: 9.74, Validation MAE: 8.78\n",
      "Best model saved at epoch 5 with validation MAE: 8.78\n",
      "Epoch: [6/80], Training Loss: 159.55, Validation Loss: 142.45, Training MAE: 9.28, Validation MAE: 8.89\n",
      "Epoch: [7/80], Training Loss: 145.87, Validation Loss: 133.48, Training MAE: 8.83, Validation MAE: 8.79\n",
      "Epoch: [8/80], Training Loss: 142.78, Validation Loss: 122.29, Training MAE: 8.71, Validation MAE: 8.21\n",
      "Best model saved at epoch 8 with validation MAE: 8.21\n",
      "Epoch: [9/80], Training Loss: 134.61, Validation Loss: 126.07, Training MAE: 8.48, Validation MAE: 8.09\n",
      "Best model saved at epoch 9 with validation MAE: 8.09\n",
      "Epoch: [10/80], Training Loss: 124.47, Validation Loss: 122.72, Training MAE: 8.13, Validation MAE: 8.08\n",
      "Best model saved at epoch 10 with validation MAE: 8.08\n",
      "Epoch: [11/80], Training Loss: 120.46, Validation Loss: 133.11, Training MAE: 7.96, Validation MAE: 8.92\n",
      "Epoch: [12/80], Training Loss: 123.08, Validation Loss: 116.82, Training MAE: 8.07, Validation MAE: 7.62\n",
      "Best model saved at epoch 12 with validation MAE: 7.62\n",
      "Epoch: [13/80], Training Loss: 111.34, Validation Loss: 106.83, Training MAE: 7.65, Validation MAE: 7.47\n",
      "Best model saved at epoch 13 with validation MAE: 7.47\n",
      "Epoch: [14/80], Training Loss: 111.30, Validation Loss: 108.35, Training MAE: 7.68, Validation MAE: 7.50\n",
      "Epoch: [15/80], Training Loss: 108.08, Validation Loss: 141.49, Training MAE: 7.54, Validation MAE: 8.11\n",
      "Epoch: [16/80], Training Loss: 106.38, Validation Loss: 121.94, Training MAE: 7.52, Validation MAE: 7.78\n",
      "Epoch: [17/80], Training Loss: 101.08, Validation Loss: 132.71, Training MAE: 7.30, Validation MAE: 7.98\n",
      "Epoch: [18/80], Training Loss: 101.73, Validation Loss: 98.84, Training MAE: 7.32, Validation MAE: 7.20\n",
      "Best model saved at epoch 18 with validation MAE: 7.20\n",
      "Epoch: [19/80], Training Loss: 94.90, Validation Loss: 97.12, Training MAE: 7.10, Validation MAE: 7.20\n",
      "Best model saved at epoch 19 with validation MAE: 7.20\n",
      "Epoch: [20/80], Training Loss: 97.54, Validation Loss: 113.59, Training MAE: 7.19, Validation MAE: 7.99\n",
      "Epoch: [21/80], Training Loss: 91.30, Validation Loss: 104.71, Training MAE: 6.98, Validation MAE: 7.30\n",
      "Epoch: [22/80], Training Loss: 85.83, Validation Loss: 104.15, Training MAE: 6.79, Validation MAE: 7.31\n",
      "Epoch: [23/80], Training Loss: 80.74, Validation Loss: 99.08, Training MAE: 6.56, Validation MAE: 7.30\n",
      "Epoch: [24/80], Training Loss: 79.06, Validation Loss: 95.30, Training MAE: 6.50, Validation MAE: 6.94\n",
      "Best model saved at epoch 24 with validation MAE: 6.94\n",
      "Epoch: [25/80], Training Loss: 77.15, Validation Loss: 98.65, Training MAE: 6.42, Validation MAE: 7.05\n",
      "Epoch: [26/80], Training Loss: 75.15, Validation Loss: 131.21, Training MAE: 6.34, Validation MAE: 7.89\n",
      "Epoch: [27/80], Training Loss: 70.15, Validation Loss: 103.43, Training MAE: 6.13, Validation MAE: 7.11\n",
      "Epoch: [28/80], Training Loss: 69.09, Validation Loss: 108.89, Training MAE: 6.08, Validation MAE: 7.20\n",
      "Epoch: [29/80], Training Loss: 65.43, Validation Loss: 106.77, Training MAE: 5.94, Validation MAE: 7.55\n",
      "Epoch: [30/80], Training Loss: 68.54, Validation Loss: 99.12, Training MAE: 6.05, Validation MAE: 7.07\n",
      "Epoch: [31/80], Training Loss: 63.48, Validation Loss: 91.00, Training MAE: 5.82, Validation MAE: 6.86\n",
      "Best model saved at epoch 31 with validation MAE: 6.86\n",
      "Epoch: [32/80], Training Loss: 57.64, Validation Loss: 109.01, Training MAE: 5.57, Validation MAE: 7.12\n",
      "Epoch: [33/80], Training Loss: 58.30, Validation Loss: 93.48, Training MAE: 5.63, Validation MAE: 6.90\n",
      "Epoch: [34/80], Training Loss: 55.94, Validation Loss: 128.72, Training MAE: 5.51, Validation MAE: 8.29\n",
      "Epoch: [35/80], Training Loss: 57.83, Validation Loss: 111.30, Training MAE: 5.56, Validation MAE: 7.75\n",
      "Epoch: [36/80], Training Loss: 53.28, Validation Loss: 90.34, Training MAE: 5.39, Validation MAE: 6.77\n",
      "Best model saved at epoch 36 with validation MAE: 6.77\n",
      "Epoch: [37/80], Training Loss: 52.30, Validation Loss: 157.70, Training MAE: 5.32, Validation MAE: 9.21\n",
      "Epoch: [38/80], Training Loss: 50.05, Validation Loss: 98.16, Training MAE: 5.23, Validation MAE: 7.16\n",
      "Epoch: [39/80], Training Loss: 51.75, Validation Loss: 119.77, Training MAE: 5.29, Validation MAE: 7.63\n",
      "Epoch: [40/80], Training Loss: 45.70, Validation Loss: 113.11, Training MAE: 4.98, Validation MAE: 7.27\n",
      "Epoch: [41/80], Training Loss: 45.30, Validation Loss: 100.86, Training MAE: 4.96, Validation MAE: 7.03\n",
      "Epoch: [42/80], Training Loss: 44.50, Validation Loss: 94.46, Training MAE: 4.94, Validation MAE: 6.90\n",
      "Epoch: [43/80], Training Loss: 49.72, Validation Loss: 114.67, Training MAE: 5.16, Validation MAE: 7.88\n",
      "Epoch: [44/80], Training Loss: 47.29, Validation Loss: 86.77, Training MAE: 5.07, Validation MAE: 6.70\n",
      "Best model saved at epoch 44 with validation MAE: 6.70\n",
      "Epoch: [45/80], Training Loss: 40.84, Validation Loss: 106.11, Training MAE: 4.75, Validation MAE: 7.05\n",
      "Epoch: [46/80], Training Loss: 37.49, Validation Loss: 94.05, Training MAE: 4.54, Validation MAE: 6.81\n",
      "Epoch: [47/80], Training Loss: 37.72, Validation Loss: 92.01, Training MAE: 4.56, Validation MAE: 6.93\n",
      "Epoch: [48/80], Training Loss: 36.92, Validation Loss: 86.87, Training MAE: 4.53, Validation MAE: 6.61\n",
      "Best model saved at epoch 48 with validation MAE: 6.61\n",
      "Epoch: [49/80], Training Loss: 35.63, Validation Loss: 107.29, Training MAE: 4.42, Validation MAE: 7.54\n",
      "Epoch: [50/80], Training Loss: 33.68, Validation Loss: 108.83, Training MAE: 4.31, Validation MAE: 7.69\n",
      "Epoch: [51/80], Training Loss: 29.58, Validation Loss: 87.16, Training MAE: 4.07, Validation MAE: 6.64\n",
      "Epoch: [52/80], Training Loss: 32.67, Validation Loss: 95.68, Training MAE: 4.23, Validation MAE: 6.84\n",
      "Epoch: [53/80], Training Loss: 35.32, Validation Loss: 98.76, Training MAE: 4.43, Validation MAE: 6.98\n",
      "Epoch: [54/80], Training Loss: 30.22, Validation Loss: 112.60, Training MAE: 4.11, Validation MAE: 7.75\n",
      "Epoch: [55/80], Training Loss: 29.74, Validation Loss: 89.97, Training MAE: 4.05, Validation MAE: 6.78\n",
      "Epoch: [56/80], Training Loss: 28.91, Validation Loss: 96.32, Training MAE: 4.00, Validation MAE: 7.08\n",
      "Epoch: [57/80], Training Loss: 27.53, Validation Loss: 89.40, Training MAE: 3.94, Validation MAE: 6.87\n",
      "Epoch: [58/80], Training Loss: 25.72, Validation Loss: 96.95, Training MAE: 3.79, Validation MAE: 6.84\n",
      "Epoch: [59/80], Training Loss: 25.90, Validation Loss: 101.80, Training MAE: 3.79, Validation MAE: 7.29\n",
      "Epoch: [60/80], Training Loss: 23.44, Validation Loss: 98.98, Training MAE: 3.65, Validation MAE: 6.84\n",
      "Epoch: [61/80], Training Loss: 24.96, Validation Loss: 88.44, Training MAE: 3.73, Validation MAE: 6.71\n",
      "Epoch: [62/80], Training Loss: 24.33, Validation Loss: 98.22, Training MAE: 3.69, Validation MAE: 7.06\n",
      "Epoch: [63/80], Training Loss: 23.46, Validation Loss: 89.56, Training MAE: 3.63, Validation MAE: 6.67\n",
      "Epoch: [64/80], Training Loss: 24.51, Validation Loss: 87.74, Training MAE: 3.70, Validation MAE: 6.72\n",
      "Epoch: [65/80], Training Loss: 21.61, Validation Loss: 88.73, Training MAE: 3.49, Validation MAE: 6.77\n",
      "Epoch: [66/80], Training Loss: 20.27, Validation Loss: 91.89, Training MAE: 3.37, Validation MAE: 6.73\n",
      "Epoch: [67/80], Training Loss: 21.24, Validation Loss: 87.38, Training MAE: 3.44, Validation MAE: 6.66\n",
      "Epoch: [68/80], Training Loss: 19.46, Validation Loss: 89.35, Training MAE: 3.31, Validation MAE: 6.81\n",
      "Epoch: [69/80], Training Loss: 19.11, Validation Loss: 99.00, Training MAE: 3.28, Validation MAE: 7.30\n",
      "Epoch: [70/80], Training Loss: 19.00, Validation Loss: 88.83, Training MAE: 3.28, Validation MAE: 6.61\n",
      "Epoch: [71/80], Training Loss: 18.73, Validation Loss: 86.49, Training MAE: 3.25, Validation MAE: 6.60\n",
      "Best model saved at epoch 71 with validation MAE: 6.60\n",
      "Epoch: [72/80], Training Loss: 20.23, Validation Loss: 90.71, Training MAE: 3.35, Validation MAE: 6.81\n",
      "Epoch: [73/80], Training Loss: 23.47, Validation Loss: 98.61, Training MAE: 3.57, Validation MAE: 6.95\n",
      "Epoch: [74/80], Training Loss: 26.71, Validation Loss: 88.22, Training MAE: 3.80, Validation MAE: 6.72\n",
      "Epoch: [75/80], Training Loss: 23.39, Validation Loss: 94.39, Training MAE: 3.57, Validation MAE: 6.88\n",
      "Epoch: [76/80], Training Loss: 22.43, Validation Loss: 93.48, Training MAE: 3.50, Validation MAE: 6.84\n",
      "Epoch: [77/80], Training Loss: 20.37, Validation Loss: 89.78, Training MAE: 3.35, Validation MAE: 6.67\n",
      "Epoch: [78/80], Training Loss: 18.81, Validation Loss: 89.67, Training MAE: 3.23, Validation MAE: 6.64\n",
      "Epoch: [79/80], Training Loss: 18.60, Validation Loss: 85.67, Training MAE: 3.22, Validation MAE: 6.61\n",
      "Epoch: [80/80], Training Loss: 17.39, Validation Loss: 88.36, Training MAE: 3.10, Validation MAE: 6.66\n",
      "Training time:  67.9 minutes\n"
     ]
    }
   ],
   "source": [
    "history_depth = train(depthwise_model, depthwise_optimizer, loss_fn, train_loader, val_loader, NR_EPOCHS, writer_depth, device, './Project/regression/depthwise/regression_depthwise_model')\n",
    "writer_depth.close()"
   ]
  },
  {
   "cell_type": "markdown",
   "metadata": {},
   "source": [
    "## Training Histories"
   ]
  },
  {
   "cell_type": "code",
   "execution_count": 17,
   "metadata": {},
   "outputs": [],
   "source": [
    "def plot_history(history, path_name):\n",
    "    # loss\n",
    "    loss_train = history['train_loss']\n",
    "    loss_val = history['val_loss']\n",
    "    epochs = range(NR_EPOCHS)\n",
    "    plt.plot(epochs, loss_train, 'g', label='Training loss')\n",
    "    plt.plot(epochs, loss_val, 'b', label='Validation loss')\n",
    "    plt.title('Training and validation loss')\n",
    "    plt.xlabel('Epochs')\n",
    "    plt.ylabel('Loss')\n",
    "    plt.legend()\n",
    "    plt.show()\n",
    "    plt.savefig(path_name + '_loss.png', bbox_inches='tight')\n",
    "\n",
    "    # mae\n",
    "    train_mae = history['train_mae']\n",
    "    val_mae = history['val_mae']\n",
    "    epochs = range(NR_EPOCHS)\n",
    "    plt.plot(epochs, train_mae, 'g', label='Training MAE')\n",
    "    plt.plot(epochs, val_mae, 'b', label='Validation MAE')\n",
    "    plt.title('Training and validation mean absolute error')\n",
    "    plt.xlabel('Epochs')\n",
    "    plt.ylabel('MAE')\n",
    "    plt.legend()\n",
    "    plt.show()\n",
    "    plt.savefig(path_name + '_accuracy.png', bbox_inches='tight')\n"
   ]
  },
  {
   "cell_type": "code",
   "execution_count": 18,
   "metadata": {},
   "outputs": [
    {
     "data": {
      "image/png": "[encoded data removed]",
      "text/plain": [
       "<Figure size 640x480 with 1 Axes>"
      ]
     },
     "metadata": {},
     "output_type": "display_data"
    },
    {
     "data": {
      "image/png": "[encoded data removed]",
      "text/plain": [
       "<Figure size 640x480 with 1 Axes>"
      ]
     },
     "metadata": {},
     "output_type": "display_data"
    },
    {
     "data": {
      "text/plain": [
       "<Figure size 640x480 with 0 Axes>"
      ]
     },
     "metadata": {},
     "output_type": "display_data"
    }
   ],
   "source": [
    "plot_history(history, './Project/regression/normal/normal_regression_model')"
   ]
  },
  {
   "cell_type": "code",
   "execution_count": 19,
   "metadata": {},
   "outputs": [
    {
     "data": {
      "image/png": "[encoded data removed]",
      "text/plain": [
       "<Figure size 640x480 with 1 Axes>"
      ]
     },
     "metadata": {},
     "output_type": "display_data"
    },
    {
     "data": {
      "image/png": "[encoded data removed]",
      "text/plain": [
       "<Figure size 640x480 with 1 Axes>"
      ]
     },
     "metadata": {},
     "output_type": "display_data"
    },
    {
     "data": {
      "text/plain": [
       "<Figure size 640x480 with 0 Axes>"
      ]
     },
     "metadata": {},
     "output_type": "display_data"
    }
   ],
   "source": [
    "plot_history(history_depth, './Project/regression/depthwise/depthwise_regression_model')"
   ]
  },
  {
   "cell_type": "markdown",
   "metadata": {},
   "source": [
    "### Test Model"
   ]
  },
  {
   "cell_type": "code",
   "execution_count": 11,
   "metadata": {},
   "outputs": [],
   "source": [
    "def test(model, test_loader, loss_fn ,name):\n",
    "    test_loss = 0\n",
    "    test_mae_sum = 0\n",
    "    test_total = 0\n",
    "    total_absolute_test_errors = torch.zeros(3)\n",
    "\n",
    "    # create cuda events for timetracking\n",
    "    start = torch.cuda.Event(enable_timing=True)\n",
    "    end = torch.cuda.Event(enable_timing=True)\n",
    "\n",
    "    start.record()\n",
    "    with torch.no_grad():\n",
    "        for inputs, labels in test_loader:\n",
    "            inputs, labels = inputs.to(device), labels.to(device)\n",
    "            labels = labels.float().view(-1)\n",
    "            outputs = model(inputs)\n",
    "            loss = loss_fn(outputs, labels)\n",
    "\n",
    "            test_loss += loss.item() * inputs.size(0)\n",
    "            test_total += labels.size(0)\n",
    "            abs_error_test = torch.abs(outputs - labels)\n",
    "            test_mae_sum += abs_error_test.sum().item()\n",
    "\n",
    "            total_absolute_test_errors[0] += (abs_error_test <= 1).sum().item()\n",
    "            total_absolute_test_errors[1] += (abs_error_test <= 5).sum().item()\n",
    "            total_absolute_test_errors[2] += (abs_error_test <= 10).sum().item()\n",
    "\n",
    "    end.record()\n",
    "    torch.cuda.synchronize()\n",
    "    test_loss /= test_total\n",
    "    test_mae = test_mae_sum / test_total\n",
    "    within_years = total_absolute_test_errors / test_total\n",
    "\n",
    "    print(f'Model: {name},  Test Loss: {test_loss:.2f}, Test MAE: {test_mae:.2f}')\n",
    "    print(f'Within 1 year: {within_years[0]:.2%}')\n",
    "    print(f'Within 5 years: {within_years[1]:.2%}')\n",
    "    print(f'Within 10 years: {within_years[2]:.2%}')\n",
    "    print(f'Time:  {round(start.elapsed_time(end), 1) / 1000} seconds')"
   ]
  },
  {
   "cell_type": "code",
   "execution_count": 14,
   "metadata": {},
   "outputs": [
    {
     "name": "stdout",
     "output_type": "stream",
     "text": [
      "Model: Normal CNN,  Test Loss: 90.82, Test MAE: 6.64\n",
      "Within 1 year: 14.84%\n",
      "Within 5 years: 53.42%\n",
      "Within 10 years: 77.73%\n",
      "Time:  8.316799999999999 seconds\n",
      "\n",
      "Model: Depthwise CNN,  Test Loss: 100.37, Test MAE: 7.07\n",
      "Within 1 year: 12.85%\n",
      "Within 5 years: 51.31%\n",
      "Within 10 years: 75.40%\n",
      "Time:  4.3038 seconds\n"
     ]
    }
   ],
   "source": [
    "# load models\n",
    "model_normal = CNNNet()\n",
    "model_normal.load_state_dict(torch.load('./Project/regression/normal/regression_normal_model'))\n",
    "\n",
    "depthwise_model = DepthwiseCNNNet()\n",
    "depthwise_model.load_state_dict(torch.load('./Project/regression/depthwise/regression_depthwise_model'))\n",
    "\n",
    "test(model_normal.to(device), test_loader, loss_fn, 'Normal CNN')\n",
    "print()\n",
    "test(depthwise_model.to(device), test_loader, loss_fn, 'Depthwise CNN')"
   ]
  }
 ],
 "metadata": {
  "kaggle": {
   "accelerator": "gpu",
   "dataSources": [
    {
     "datasetId": 44109,
     "sourceId": 78156,
     "sourceType": "datasetVersion"
    }
   ],
   "dockerImageVersionId": 30302,
   "isGpuEnabled": true,
   "isInternetEnabled": true,
   "language": "python",
   "sourceType": "notebook"
  },
  "kernelspec": {
   "display_name": "Python 3 (ipykernel)",
   "language": "python",
   "name": "python3"
  },
  "language_info": {
   "codemirror_mode": {
    "name": "ipython",
    "version": 3
   },
   "file_extension": ".py",
   "mimetype": "text/x-python",
   "name": "python",
   "nbconvert_exporter": "python",
   "pygments_lexer": "ipython3",
   "version": "3.12.6"
  }
 },
 "nbformat": 4,
 "nbformat_minor": 4
}
