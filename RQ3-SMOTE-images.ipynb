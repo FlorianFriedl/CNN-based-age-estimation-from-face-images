{
 "cells": [
  {
   "cell_type": "markdown",
   "metadata": {
    "papermill": {
     "duration": 0.013601,
     "end_time": "2022-10-12T18:43:55.53102",
     "exception": false,
     "start_time": "2022-10-12T18:43:55.517419",
     "status": "completed"
    },
    "tags": []
   },
   "source": [
    "# Age Estimation using CNN Age Classes"
   ]
  },
  {
   "cell_type": "code",
   "execution_count": 2,
   "metadata": {
    "id": "Ow9CX6i9bF7s",
    "papermill": {
     "duration": 6.262315,
     "end_time": "2022-10-12T18:44:01.805562",
     "exception": false,
     "start_time": "2022-10-12T18:43:55.543247",
     "status": "completed"
    },
    "tags": []
   },
   "outputs": [],
   "source": [
    "import numpy as np\n",
    "import matplotlib.pyplot as plt\n",
    "from glob import glob\n",
    "\n",
    "import math\n",
    "import torch\n",
    "import torch.nn as nn\n",
    "import torch.nn.functional as F\n",
    "import torchvision\n",
    "from torchvision import transforms, datasets\n",
    "from torch.utils.tensorboard import SummaryWriter\n",
    "from torch.utils.data import Dataset, DataLoader, random_split\n",
    "from collections import Counter\n",
    "\n",
    "import warnings\n",
    "warnings.filterwarnings(\"ignore\", category=FutureWarning)\n",
    "\n",
    "import pandas as pd\n",
    "import os\n",
    "import matplotlib.pyplot as plt\n",
    "%matplotlib inline\n",
    "\n",
    "from PIL import Image\n",
    "import shutil\n",
    "\n",
    "import copy\n",
    "\n",
    "from pathlib import Path\n",
    "from datetime import datetime\n",
    "\n",
    "from torch.utils.tensorboard import SummaryWriter\n",
    "from imblearn.over_sampling import SMOTE\n",
    "from sklearn.preprocessing import StandardScaler\n",
    "from imblearn.over_sampling import SMOTE\n",
    "from torchvision import transforms\n",
    "import matplotlib.pyplot as plt\n",
    "from sklearn.metrics import confusion_matrix, classification_report\n",
    "\n",
    "import gc"
   ]
  },
  {
   "cell_type": "markdown",
   "metadata": {
    "papermill": {
     "duration": 0.008384,
     "end_time": "2022-10-12T18:44:01.822491",
     "exception": false,
     "start_time": "2022-10-12T18:44:01.814107",
     "status": "completed"
    },
    "tags": []
   },
   "source": [
    "## Age estimation in age groups"
   ]
  },
  {
   "cell_type": "markdown",
   "metadata": {
    "papermill": {
     "duration": 0.007726,
     "end_time": "2022-10-12T18:44:01.838198",
     "exception": false,
     "start_time": "2022-10-12T18:44:01.830472",
     "status": "completed"
    },
    "tags": []
   },
   "source": [
    "### Set image size and variables "
   ]
  },
  {
   "cell_type": "code",
   "execution_count": 3,
   "metadata": {
    "id": "Cq39lS9tcKIC",
    "papermill": {
     "duration": 0.015277,
     "end_time": "2022-10-12T18:44:01.862109",
     "exception": false,
     "start_time": "2022-10-12T18:44:01.846832",
     "status": "completed"
    },
    "tags": []
   },
   "outputs": [],
   "source": [
    "IMAGE_SIZE = [56,56] \n",
    "BASE_DIR = './UTKFace/'\n",
    "OUTPUT_DIR = './UTKFaceSmote/'\n",
    "NR_EPOCHS = 80\n",
    "BATCH_SIZE = 30\n",
    "NUM_CLASSES = 116 "
   ]
  },
  {
   "cell_type": "code",
   "execution_count": 4,
   "metadata": {},
   "outputs": [
    {
     "name": "stdout",
     "output_type": "stream",
     "text": [
      "Using device: cuda\n"
     ]
    }
   ],
   "source": [
    "# check CUDA availability\n",
    "device = torch.device('cuda' if torch.cuda.is_available() else 'cpu')\n",
    "print(f\"Using device: {device}\")"
   ]
  },
  {
   "cell_type": "markdown",
   "metadata": {},
   "source": [
    "### Split Dataset into validation and test set \n",
    "### SMOTE "
   ]
  },
  {
   "cell_type": "code",
   "execution_count": 5,
   "metadata": {},
   "outputs": [
    {
     "name": "stdout",
     "output_type": "stream",
     "text": [
      "Original class distribution: Counter({26: 1519, 1: 800, 28: 644, 35: 626, 24: 586, 25: 511, 30: 506, 32: 460, 27: 426, 29: 398, 40: 366, 36: 335, 2: 324, 45: 307, 23: 298, 34: 284, 22: 269, 50: 266, 54: 247, 31: 246, 21: 244, 38: 228, 3: 220, 60: 216, 4: 207, 37: 203, 20: 198, 39: 192, 8: 189, 42: 188, 58: 187, 18: 184, 16: 182, 55: 178, 65: 176, 53: 167, 56: 163, 52: 150, 5: 141, 9: 124, 75: 123, 49: 117, 15: 117, 43: 116, 47: 114, 14: 112, 17: 111, 61: 110, 48: 109, 85: 105, 33: 103, 70: 102, 7: 102, 46: 102, 10: 102, 51: 98, 6: 93, 80: 93, 62: 91, 12: 89, 41: 86, 72: 73, 67: 69, 68: 69, 63: 68, 44: 68, 19: 65, 57: 61, 59: 61, 90: 59, 13: 58, 66: 54, 78: 52, 76: 45, 73: 41, 11: 40, 69: 39, 64: 29, 74: 27, 88: 26, 86: 26, 82: 26, 89: 23, 71: 22, 77: 20, 84: 18, 79: 16, 83: 12, 81: 11, 96: 10, 87: 8, 92: 8, 100: 7, 110: 5, 95: 5, 93: 4, 116: 4, 105: 4, 99: 4, 91: 2, 101: 2, 115: 2, 111: 1, 103: 1})\n",
      "\n",
      "Valid classes (> 5 samples): [22, 27, 53, 85, 2, 26, 32, 66, 73, 37, 45, 28, 3, 21, 65, 24, 30, 49, 52, 61, 6, 43, 78, 8, 35, 1, 58, 70, 60, 25, 38, 14, 76, 39, 75, 33, 29, 90, 67, 31, 63, 51, 40, 36, 34, 4, 62, 17, 47, 54, 42, 44, 5, 20, 7, 41, 55, 16, 12, 23, 77, 72, 57, 50, 80, 56, 68, 11, 48, 88, 18, 19, 46, 9, 15, 100, 86, 71, 89, 82, 59, 64, 69, 10, 13, 84, 79, 87, 74, 81, 83, 92, 96]\n",
      "\n",
      "Invalid classes (<= 5 samples): [110, 93, 116, 95, 91, 111, 101, 103, 105, 99, 115]\n",
      "All images saved to ./UTKFaceSmote/\n",
      "\n",
      "Final class distribution after saving and loading:\n",
      "Counter({74: 1519, 75: 1519, 80: 1519, 48: 1519, 49: 1519, 40: 1519, 44: 1519, 78: 1519, 60: 1519, 72: 1519, 7: 1519, 2: 1519, 92: 1519, 18: 1519, 17: 1519, 100: 1519, 41: 1519, 88: 1519, 36: 1519, 70: 1519, 24: 1519, 32: 1519, 52: 1519, 51: 1519, 33: 1519, 73: 1519, 69: 1519, 90: 1519, 21: 1519, 8: 1519, 50: 1519, 68: 1519, 37: 1519, 59: 1519, 63: 1519, 81: 1519, 82: 1519, 42: 1519, 45: 1519, 26: 1519, 34: 1519, 22: 1519, 30: 1519, 84: 1519, 61: 1519, 65: 1519, 57: 1519, 86: 1519, 79: 1519, 87: 1519, 15: 1519, 85: 1519, 62: 1519, 77: 1519, 71: 1519, 13: 1519, 1: 1519, 25: 1519, 4: 1519, 12: 1519, 96: 1519, 27: 1519, 28: 1519, 46: 1519, 66: 1519, 11: 1519, 53: 1519, 3: 1519, 9: 1519, 67: 1519, 58: 1519, 31: 1519, 29: 1519, 14: 1519, 64: 1519, 56: 1519, 83: 1519, 16: 1519, 23: 1519, 35: 1519, 38: 1519, 43: 1519, 76: 1519, 39: 1519, 19: 1519, 5: 1519, 6: 1519, 47: 1519, 20: 1519, 89: 1519, 55: 1519, 10: 1519, 54: 1519, 95: 5, 110: 5, 105: 4, 93: 4, 116: 4, 99: 4, 101: 2, 115: 2, 91: 2, 103: 1, 111: 1})\n"
     ]
    }
   ],
   "source": [
    "class UTKFaceDataset(Dataset):\n",
    "    def __init__(self, root_dir, transform=None):\n",
    "        self.root_dir = root_dir\n",
    "        self.transform = transform\n",
    "        self.images = [file for file in os.listdir(root_dir) if file.endswith('.jpg') or file.endswith('.png')]\n",
    "\n",
    "    def __len__(self):\n",
    "        return len(self.images)\n",
    "\n",
    "    def __getitem__(self, idx):\n",
    "        img_name = os.path.join(self.root_dir, self.images[idx])\n",
    "        image = Image.open(img_name)\n",
    "        \n",
    "        age = int(self.images[idx].split('_')[0])\n",
    "        \n",
    "        if self.transform:\n",
    "            image = self.transform(image)\n",
    "        \n",
    "        return image, age\n",
    "\n",
    "# convert images\n",
    "transform = transforms.Compose([\n",
    "    transforms.Resize((56, 56)),\n",
    "    transforms.ToTensor(),\n",
    "])\n",
    "\n",
    "full_dataset = UTKFaceDataset(root_dir=BASE_DIR, transform=transform)\n",
    "\n",
    "# split dataset \n",
    "total_size = len(full_dataset)\n",
    "train_size = int(0.7 * total_size)\n",
    "val_size = int(0.15 * total_size)\n",
    "test_size = total_size - train_size - val_size\n",
    "\n",
    "# fixed seed for same split across models\n",
    "generator = torch.Generator().manual_seed(116)\n",
    "\n",
    "smote_dataset, val_dataset, test_dataset = random_split(\n",
    "    full_dataset, [train_size, val_size, test_size], generator=generator\n",
    ")\n",
    "\n",
    "val_loader = DataLoader(val_dataset, batch_size=BATCH_SIZE, shuffle=False)\n",
    "test_loader = DataLoader(test_dataset, batch_size=BATCH_SIZE, shuffle=False)\n",
    "\n",
    "# extract images and labels for SMOTE\n",
    "images = []\n",
    "labels = []\n",
    "for img, label in smote_dataset:\n",
    "    images.append(img.numpy())\n",
    "    labels.append(label)\n",
    "\n",
    "images = np.array(images)\n",
    "labels = np.array(labels)\n",
    "\n",
    "class_counts = Counter(labels)\n",
    "print(\"Original class distribution:\", class_counts)\n",
    "\n",
    "\n",
    "valid_classes = [classes for classes, count in class_counts.items() if count > 5]\n",
    "invalid_classes = [classes for classes, count in class_counts.items() if count <= 5]\n",
    "print(\"\\nValid classes (> 5 samples):\", valid_classes)\n",
    "print(\"\\nInvalid classes (<= 5 samples):\", invalid_classes)\n",
    "invalid_indices = np.isin(labels, invalid_classes)\n",
    "valid_indices = np.isin(labels, valid_classes)\n",
    "val_images = images[valid_indices]\n",
    "val_labels = labels[valid_indices]\n",
    "inv_images  = images[invalid_indices]\n",
    "inv_labels = labels[invalid_indices]\n",
    "\n",
    "n_samples = val_images.shape[0]\n",
    "images_flattened = val_images.reshape(n_samples, -1)\n",
    "\n",
    "smote = SMOTE(random_state=42)\n",
    "images_resampled, labels_resampled = smote.fit_resample(images_flattened, val_labels)\n",
    "\n",
    "smote_images = images_resampled.reshape(-1, *val_images.shape[1:])  \n",
    "\n",
    "# save smote samples\n",
    "for i, (img, label) in enumerate(zip(smote_images, labels_resampled)):\n",
    "    img = (img * 255).astype(np.uint8)  \n",
    "    img = Image.fromarray(img.transpose(1, 2, 0))\n",
    "    img.save(os.path.join(OUTPUT_DIR, f'{label}_age_{i}_smote.jpg'))\n",
    "\n",
    "for i, (img, label) in enumerate(zip(inv_images, inv_labels)):\n",
    "    img = (img * 255).astype(np.uint8)  \n",
    "    img = Image.fromarray(img.transpose(1, 2, 0))  \n",
    "    img.save(os.path.join(OUTPUT_DIR, f'{label}_age_{i}_original.jpg'))\n",
    "\n",
    "print(f\"All images saved to {OUTPUT_DIR}\")\n",
    "\n",
    "# load SMOTE dataset\n",
    "smote_dataset = UTKFaceDataset(root_dir=OUTPUT_DIR, transform=transform)\n",
    "\n",
    "saved_labels = []\n",
    "for _, label in smote_dataset:\n",
    "    saved_labels.append(label)\n",
    "\n",
    "final_class_distribution = Counter(saved_labels)\n",
    "print(\"\\nFinal class distribution after saving and loading:\")\n",
    "print(final_class_distribution)\n",
    "\n",
    "# create DataLoaders\n",
    "train_loader = DataLoader(smote_dataset, batch_size=BATCH_SIZE, shuffle=True)"
   ]
  },
  {
   "cell_type": "markdown",
   "metadata": {},
   "source": [
    "### Create Model"
   ]
  },
  {
   "cell_type": "code",
   "execution_count": 6,
   "metadata": {},
   "outputs": [],
   "source": [
    "class CNNNet(nn.Module):\n",
    "    def __init__(self, NUM_CLASSES=116):\n",
    "        super(CNNNet, self).__init__()\n",
    "        self.features = nn.Sequential(\n",
    "            nn.Conv2d(3, 96, kernel_size=7, padding=2),\n",
    "            nn.ReLU(),\n",
    "            nn.MaxPool2d(kernel_size=2, stride=2),\n",
    "            nn.BatchNorm2d(96),\n",
    "\n",
    "            nn.Conv2d(96, 256, kernel_size=5, padding=2),\n",
    "            nn.ReLU(),\n",
    "            nn.MaxPool2d(kernel_size=2, stride=2),\n",
    "            nn.BatchNorm2d(256),\n",
    "\n",
    "            nn.Conv2d(256, 384, kernel_size=3, padding=1),\n",
    "            nn.ReLU(),\n",
    "            nn.MaxPool2d(kernel_size=2, stride=2),\n",
    "            nn.BatchNorm2d(384),\n",
    "        )\n",
    "        self.avgpool = nn.AdaptiveAvgPool2d((1,1))\n",
    "        self.classifier = nn.Sequential(\n",
    "            nn.Linear(384, 512),\n",
    "            nn.ReLU(),\n",
    "            nn.Dropout(0.25),\n",
    "            nn.Linear(512, 512),\n",
    "            nn.ReLU(),\n",
    "            nn.Dropout(0.25),\n",
    "            nn.Linear(512, NUM_CLASSES)\n",
    "        )\n",
    "    def forward(self, x):\n",
    "        x = self.features(x)\n",
    "        x = self.avgpool(x)\n",
    "        x = torch.flatten(x, 1)\n",
    "        x = self.classifier(x)\n",
    "        return x"
   ]
  },
  {
   "cell_type": "code",
   "execution_count": 7,
   "metadata": {},
   "outputs": [
    {
     "name": "stdout",
     "output_type": "stream",
     "text": [
      "CNNNet(\n",
      "  (features): Sequential(\n",
      "    (0): Conv2d(3, 96, kernel_size=(7, 7), stride=(1, 1), padding=(2, 2))\n",
      "    (1): ReLU()\n",
      "    (2): MaxPool2d(kernel_size=2, stride=2, padding=0, dilation=1, ceil_mode=False)\n",
      "    (3): BatchNorm2d(96, eps=1e-05, momentum=0.1, affine=True, track_running_stats=True)\n",
      "    (4): Conv2d(96, 256, kernel_size=(5, 5), stride=(1, 1), padding=(2, 2))\n",
      "    (5): ReLU()\n",
      "    (6): MaxPool2d(kernel_size=2, stride=2, padding=0, dilation=1, ceil_mode=False)\n",
      "    (7): BatchNorm2d(256, eps=1e-05, momentum=0.1, affine=True, track_running_stats=True)\n",
      "    (8): Conv2d(256, 384, kernel_size=(3, 3), stride=(1, 1), padding=(1, 1))\n",
      "    (9): ReLU()\n",
      "    (10): MaxPool2d(kernel_size=2, stride=2, padding=0, dilation=1, ceil_mode=False)\n",
      "    (11): BatchNorm2d(384, eps=1e-05, momentum=0.1, affine=True, track_running_stats=True)\n",
      "  )\n",
      "  (avgpool): AdaptiveAvgPool2d(output_size=(1, 1))\n",
      "  (classifier): Sequential(\n",
      "    (0): Linear(in_features=384, out_features=512, bias=True)\n",
      "    (1): ReLU()\n",
      "    (2): Dropout(p=0.25, inplace=False)\n",
      "    (3): Linear(in_features=512, out_features=512, bias=True)\n",
      "    (4): ReLU()\n",
      "    (5): Dropout(p=0.25, inplace=False)\n",
      "    (6): Linear(in_features=512, out_features=116, bias=True)\n",
      "  )\n",
      ")\n",
      "----------------------------------------------------------------\n",
      "        Layer (type)               Output Shape         Param #\n",
      "================================================================\n",
      "            Conv2d-1           [-1, 96, 54, 54]          14,208\n",
      "              ReLU-2           [-1, 96, 54, 54]               0\n",
      "         MaxPool2d-3           [-1, 96, 27, 27]               0\n",
      "       BatchNorm2d-4           [-1, 96, 27, 27]             192\n",
      "            Conv2d-5          [-1, 256, 27, 27]         614,656\n",
      "              ReLU-6          [-1, 256, 27, 27]               0\n",
      "         MaxPool2d-7          [-1, 256, 13, 13]               0\n",
      "       BatchNorm2d-8          [-1, 256, 13, 13]             512\n",
      "            Conv2d-9          [-1, 384, 13, 13]         885,120\n",
      "             ReLU-10          [-1, 384, 13, 13]               0\n",
      "        MaxPool2d-11            [-1, 384, 6, 6]               0\n",
      "      BatchNorm2d-12            [-1, 384, 6, 6]             768\n",
      "AdaptiveAvgPool2d-13            [-1, 384, 1, 1]               0\n",
      "           Linear-14                  [-1, 512]         197,120\n",
      "             ReLU-15                  [-1, 512]               0\n",
      "          Dropout-16                  [-1, 512]               0\n",
      "           Linear-17                  [-1, 512]         262,656\n",
      "             ReLU-18                  [-1, 512]               0\n",
      "          Dropout-19                  [-1, 512]               0\n",
      "           Linear-20                  [-1, 116]          59,508\n",
      "================================================================\n",
      "Total params: 2,034,740\n",
      "Trainable params: 2,034,740\n",
      "Non-trainable params: 0\n",
      "----------------------------------------------------------------\n",
      "Input size (MB): 0.04\n",
      "Forward/backward pass size (MB): 10.08\n",
      "Params size (MB): 7.76\n",
      "Estimated Total Size (MB): 17.87\n",
      "----------------------------------------------------------------\n",
      "Output shape: torch.Size([1, 116])\n"
     ]
    }
   ],
   "source": [
    "# instantiate model\n",
    "model = CNNNet(NUM_CLASSES).to(device)\n",
    "\n",
    "# model summary\n",
    "print(model)\n",
    "\n",
    "from torchsummary import summary\n",
    "summary(model.to(device),(3,56,56))\n",
    "# sample input\n",
    "sample_input = torch.randn(1, 3, 56, 56).to(device)\n",
    "output = model(sample_input)\n",
    "print(f\"Output shape: {output.shape}\")"
   ]
  },
  {
   "cell_type": "code",
   "execution_count": 8,
   "metadata": {},
   "outputs": [],
   "source": [
    "writer = SummaryWriter('./Project/class_imbalance/runs/smote_image', comment='Smote_Class_Model_Image')"
   ]
  },
  {
   "cell_type": "code",
   "execution_count": 9,
   "metadata": {},
   "outputs": [],
   "source": [
    "optimizer = torch.optim.SGD(model.parameters(), lr=0.001)\n",
    "loss_fn = torch.nn.CrossEntropyLoss()\n",
    "loss_fn = loss_fn.to(device)\n",
    "\n",
    "# age_classes tensor\n",
    "age_classes = torch.tensor([i for i in range(1, NUM_CLASSES + 1)]).to(device)"
   ]
  },
  {
   "cell_type": "markdown",
   "metadata": {},
   "source": [
    "### Train model"
   ]
  },
  {
   "cell_type": "code",
   "execution_count": 10,
   "metadata": {},
   "outputs": [],
   "source": [
    "def train(model, optimizer, loss_fn, train_loader, val_loader, epochs, summary_writer, device, save_path):\n",
    "    \n",
    "    # create history for graphs\n",
    "    history = {\n",
    "        'loss': [],\n",
    "        'val_loss': [],\n",
    "        'accuracy': [],\n",
    "        'val_accuracy': [],\n",
    "        'mae': [],\n",
    "        'val_mae': []\n",
    "    }\n",
    "    # create cuda events for timetracking\n",
    "    start = torch.cuda.Event(enable_timing=True)\n",
    "    end = torch.cuda.Event(enable_timing=True)\n",
    "    \n",
    "    # init variables for saving\n",
    "    best_val_mae = float('Inf') \n",
    "    best_model_wts = copy.deepcopy(model.state_dict()) \n",
    "    \n",
    "    start.record()\n",
    "    for epoch in range(epochs):\n",
    "        training_loss = 0.0\n",
    "        valid_loss = 0.0\n",
    "        num_train = 0\n",
    "        num_train_correct = 0\n",
    "        total_train_mae = 0.0\n",
    "        total_val_mae = 0.0\n",
    "        \n",
    "        model.train()\n",
    "        for batch in train_loader:\n",
    "            optimizer.zero_grad()\n",
    "            inputs, targets = batch\n",
    "            # shift labels from 1-116 to 0-115 for loss\n",
    "            targets_model = targets - 1\n",
    "            inputs, targets_model = inputs.to(device), targets_model.to(device)\n",
    "            targets = targets.to(device)\n",
    "            outputs = model(inputs)\n",
    "            \n",
    "            loss = loss_fn(outputs, targets_model)\n",
    "            loss.backward()\n",
    "            optimizer.step()\n",
    "            training_loss += loss.item()\n",
    "            _, predicted = outputs.max(1)\n",
    "            predicted = predicted + 1\n",
    "            num_train += targets.size(0)\n",
    "            num_train_correct += predicted.eq(targets).sum().item()\n",
    "\n",
    "            probabilities = F.softmax(outputs, dim=1)\n",
    "            expected_age = torch.sum(probabilities * age_classes, dim=1) + 1\n",
    "            total_train_mae += torch.abs(expected_age - targets.float()).sum().item()\n",
    "                  \n",
    "        training_loss /= len(train_loader)\n",
    "        train_accuracy = num_train_correct / num_train\n",
    "        train_mae = total_train_mae / num_train\n",
    "\n",
    "        if epoch+1 == NR_EPOCHS:\n",
    "            end.record()\n",
    "            torch.cuda.synchronize()\n",
    "        \n",
    "        model.eval()\n",
    "        num_val = 0\n",
    "        num_val_correct = 0\n",
    "        with torch.no_grad():\n",
    "            for batch in val_loader:\n",
    "                inputs, targets = batch\n",
    "                # shift labels from 1-116 to 0-115 for loss\n",
    "                targets_model = targets - 1\n",
    "                inputs, targets_model = inputs.to(device), targets_model.to(device)\n",
    "                targets = targets.to(device)\n",
    "                outputs = model(inputs)\n",
    "                \n",
    "                loss = loss_fn(outputs, targets_model)\n",
    "                valid_loss += loss.item()\n",
    "                _, predicted = outputs.max(1)\n",
    "                predicted = predicted + 1\n",
    "                num_val += targets.size(0)\n",
    "                num_val_correct += predicted.eq(targets).sum().item() \n",
    "\n",
    "                probabilities = F.softmax(outputs, dim=1)\n",
    "                expected_age = torch.sum(probabilities * age_classes, dim=1) + 1\n",
    "                total_val_mae += torch.abs(expected_age - targets.float()).sum().item()\n",
    "        \n",
    "        valid_loss /= len(val_loader)\n",
    "        val_accuracy = num_val_correct / num_val\n",
    "        val_mae = total_val_mae / num_val\n",
    "\n",
    "        summary_writer.add_scalar('Train Loss', training_loss, epoch+1)\n",
    "        summary_writer.add_scalar('Val Loss', valid_loss, epoch+1)\n",
    "        summary_writer.add_scalar('Accuracy', train_accuracy, epoch+1)\n",
    "        summary_writer.add_scalar('Validation Accuracy', val_accuracy, epoch+1)\n",
    "        summary_writer.add_scalar('Train MAE', train_mae, epoch+1)\n",
    "        summary_writer.add_scalar('Val MAE', val_mae, epoch+1)\n",
    "    \n",
    "        history['loss'].append(training_loss)\n",
    "        history['val_loss'].append(valid_loss)\n",
    "        history['accuracy'].append(train_accuracy)\n",
    "        history['val_accuracy'].append(val_accuracy)\n",
    "        history['mae'].append(train_mae)\n",
    "        history['val_mae'].append(val_mae)\n",
    "\n",
    "        print(f'Epoch [{epoch+1}/{NR_EPOCHS}], Training Loss: {training_loss:.2f}, Validation Loss: {valid_loss:.2f}, '\n",
    "              f'Training Accuracy: {train_accuracy:.2f}, Validation Accuracy: {val_accuracy:.2f}, Training MAE: {train_mae:.2f}, Validation MAE: {val_mae:.2f}')\n",
    "        \n",
    "        if val_mae < best_val_mae:\n",
    "            best_val_mae = val_mae\n",
    "            best_model_wts = copy.deepcopy(model.state_dict())\n",
    "            torch.save(best_model_wts, save_path)\n",
    "            print(f\"Best model saved at epoch {epoch+1} with validation MAE: {best_val_mae:.2f}\")\n",
    "\n",
    "    print(f'Training time:  {round(start.elapsed_time(end), 1) / 60000} minutes')    \n",
    "    return history"
   ]
  },
  {
   "cell_type": "code",
   "execution_count": 11,
   "metadata": {},
   "outputs": [
    {
     "name": "stdout",
     "output_type": "stream",
     "text": [
      "Epoch [1/80], Training Loss: 4.70, Validation Loss: 4.51, Training Accuracy: 0.02, Validation Accuracy: 0.07, Training MAE: 24.40, Validation MAE: 23.54\n",
      "Best model saved at epoch 1 with validation MAE: 23.54\n",
      "Epoch [2/80], Training Loss: 4.54, Validation Loss: 4.28, Training Accuracy: 0.03, Validation Accuracy: 0.08, Training MAE: 22.73, Validation MAE: 17.97\n",
      "Best model saved at epoch 2 with validation MAE: 17.97\n",
      "Epoch [3/80], Training Loss: 4.37, Validation Loss: 4.22, Training Accuracy: 0.04, Validation Accuracy: 0.08, Training MAE: 21.04, Validation MAE: 17.80\n",
      "Best model saved at epoch 3 with validation MAE: 17.80\n",
      "Epoch [4/80], Training Loss: 4.18, Validation Loss: 4.01, Training Accuracy: 0.05, Validation Accuracy: 0.07, Training MAE: 17.35, Validation MAE: 12.11\n",
      "Best model saved at epoch 4 with validation MAE: 12.11\n",
      "Epoch [5/80], Training Loss: 3.94, Validation Loss: 4.89, Training Accuracy: 0.06, Validation Accuracy: 0.04, Training MAE: 13.39, Validation MAE: 28.06\n",
      "Epoch [6/80], Training Loss: 3.76, Validation Loss: 4.12, Training Accuracy: 0.08, Validation Accuracy: 0.05, Training MAE: 11.18, Validation MAE: 12.14\n",
      "Epoch [7/80], Training Loss: 3.62, Validation Loss: 3.91, Training Accuracy: 0.09, Validation Accuracy: 0.07, Training MAE: 9.90, Validation MAE: 10.66\n",
      "Best model saved at epoch 7 with validation MAE: 10.66\n",
      "Epoch [8/80], Training Loss: 3.50, Validation Loss: 3.62, Training Accuracy: 0.11, Validation Accuracy: 0.09, Training MAE: 9.00, Validation MAE: 8.47\n",
      "Best model saved at epoch 8 with validation MAE: 8.47\n",
      "Epoch [9/80], Training Loss: 3.39, Validation Loss: 3.86, Training Accuracy: 0.12, Validation Accuracy: 0.08, Training MAE: 8.24, Validation MAE: 11.05\n",
      "Epoch [10/80], Training Loss: 3.28, Validation Loss: 3.52, Training Accuracy: 0.14, Validation Accuracy: 0.10, Training MAE: 7.67, Validation MAE: 8.84\n",
      "Epoch [11/80], Training Loss: 3.18, Validation Loss: 3.51, Training Accuracy: 0.16, Validation Accuracy: 0.10, Training MAE: 7.16, Validation MAE: 7.75\n",
      "Best model saved at epoch 11 with validation MAE: 7.75\n",
      "Epoch [12/80], Training Loss: 3.07, Validation Loss: 3.58, Training Accuracy: 0.18, Validation Accuracy: 0.11, Training MAE: 6.68, Validation MAE: 7.90\n",
      "Epoch [13/80], Training Loss: 2.97, Validation Loss: 3.54, Training Accuracy: 0.20, Validation Accuracy: 0.10, Training MAE: 6.30, Validation MAE: 7.43\n",
      "Best model saved at epoch 13 with validation MAE: 7.43\n",
      "Epoch [14/80], Training Loss: 2.87, Validation Loss: 3.55, Training Accuracy: 0.22, Validation Accuracy: 0.10, Training MAE: 5.96, Validation MAE: 7.34\n",
      "Best model saved at epoch 14 with validation MAE: 7.34\n",
      "Epoch [15/80], Training Loss: 2.77, Validation Loss: 3.71, Training Accuracy: 0.24, Validation Accuracy: 0.09, Training MAE: 5.65, Validation MAE: 8.42\n",
      "Epoch [16/80], Training Loss: 2.68, Validation Loss: 3.63, Training Accuracy: 0.26, Validation Accuracy: 0.10, Training MAE: 5.39, Validation MAE: 7.55\n",
      "Epoch [17/80], Training Loss: 2.59, Validation Loss: 3.39, Training Accuracy: 0.28, Validation Accuracy: 0.11, Training MAE: 5.16, Validation MAE: 6.68\n",
      "Best model saved at epoch 17 with validation MAE: 6.68\n",
      "Epoch [18/80], Training Loss: 2.50, Validation Loss: 3.90, Training Accuracy: 0.30, Validation Accuracy: 0.08, Training MAE: 4.95, Validation MAE: 8.46\n",
      "Epoch [19/80], Training Loss: 2.40, Validation Loss: 3.81, Training Accuracy: 0.33, Validation Accuracy: 0.09, Training MAE: 4.72, Validation MAE: 8.53\n",
      "Epoch [20/80], Training Loss: 2.32, Validation Loss: 3.63, Training Accuracy: 0.35, Validation Accuracy: 0.10, Training MAE: 4.55, Validation MAE: 7.22\n",
      "Epoch [21/80], Training Loss: 2.23, Validation Loss: 3.57, Training Accuracy: 0.37, Validation Accuracy: 0.10, Training MAE: 4.35, Validation MAE: 7.35\n",
      "Epoch [22/80], Training Loss: 2.14, Validation Loss: 3.65, Training Accuracy: 0.39, Validation Accuracy: 0.09, Training MAE: 4.14, Validation MAE: 7.34\n",
      "Epoch [23/80], Training Loss: 2.06, Validation Loss: 3.56, Training Accuracy: 0.41, Validation Accuracy: 0.11, Training MAE: 4.00, Validation MAE: 6.84\n",
      "Epoch [24/80], Training Loss: 1.98, Validation Loss: 3.71, Training Accuracy: 0.44, Validation Accuracy: 0.09, Training MAE: 3.84, Validation MAE: 6.87\n",
      "Epoch [25/80], Training Loss: 1.89, Validation Loss: 3.70, Training Accuracy: 0.46, Validation Accuracy: 0.10, Training MAE: 3.68, Validation MAE: 6.67\n",
      "Best model saved at epoch 25 with validation MAE: 6.67\n",
      "Epoch [26/80], Training Loss: 1.81, Validation Loss: 3.87, Training Accuracy: 0.48, Validation Accuracy: 0.09, Training MAE: 3.57, Validation MAE: 7.22\n",
      "Epoch [27/80], Training Loss: 1.72, Validation Loss: 3.80, Training Accuracy: 0.50, Validation Accuracy: 0.10, Training MAE: 3.44, Validation MAE: 6.82\n",
      "Epoch [28/80], Training Loss: 1.63, Validation Loss: 3.86, Training Accuracy: 0.53, Validation Accuracy: 0.11, Training MAE: 3.30, Validation MAE: 7.42\n",
      "Epoch [29/80], Training Loss: 1.54, Validation Loss: 4.26, Training Accuracy: 0.55, Validation Accuracy: 0.09, Training MAE: 3.19, Validation MAE: 7.72\n",
      "Epoch [30/80], Training Loss: 1.46, Validation Loss: 4.11, Training Accuracy: 0.58, Validation Accuracy: 0.09, Training MAE: 3.06, Validation MAE: 7.24\n",
      "Epoch [31/80], Training Loss: 1.37, Validation Loss: 4.34, Training Accuracy: 0.60, Validation Accuracy: 0.08, Training MAE: 2.94, Validation MAE: 7.29\n",
      "Epoch [32/80], Training Loss: 1.29, Validation Loss: 4.18, Training Accuracy: 0.62, Validation Accuracy: 0.09, Training MAE: 2.82, Validation MAE: 7.02\n",
      "Epoch [33/80], Training Loss: 1.21, Validation Loss: 4.03, Training Accuracy: 0.65, Validation Accuracy: 0.10, Training MAE: 2.73, Validation MAE: 6.59\n",
      "Best model saved at epoch 33 with validation MAE: 6.59\n",
      "Epoch [34/80], Training Loss: 1.13, Validation Loss: 4.78, Training Accuracy: 0.67, Validation Accuracy: 0.08, Training MAE: 2.61, Validation MAE: 7.29\n",
      "Epoch [35/80], Training Loss: 1.05, Validation Loss: 4.21, Training Accuracy: 0.69, Validation Accuracy: 0.10, Training MAE: 2.51, Validation MAE: 6.82\n",
      "Epoch [36/80], Training Loss: 0.98, Validation Loss: 4.47, Training Accuracy: 0.71, Validation Accuracy: 0.09, Training MAE: 2.43, Validation MAE: 6.62\n",
      "Epoch [37/80], Training Loss: 0.91, Validation Loss: 4.51, Training Accuracy: 0.73, Validation Accuracy: 0.10, Training MAE: 2.35, Validation MAE: 6.69\n",
      "Epoch [38/80], Training Loss: 0.85, Validation Loss: 4.74, Training Accuracy: 0.75, Validation Accuracy: 0.12, Training MAE: 2.25, Validation MAE: 6.69\n",
      "Epoch [39/80], Training Loss: 0.79, Validation Loss: 4.91, Training Accuracy: 0.77, Validation Accuracy: 0.08, Training MAE: 2.18, Validation MAE: 7.21\n",
      "Epoch [40/80], Training Loss: 0.73, Validation Loss: 4.88, Training Accuracy: 0.79, Validation Accuracy: 0.11, Training MAE: 2.13, Validation MAE: 7.12\n",
      "Epoch [41/80], Training Loss: 0.67, Validation Loss: 5.00, Training Accuracy: 0.81, Validation Accuracy: 0.11, Training MAE: 2.05, Validation MAE: 6.76\n",
      "Epoch [42/80], Training Loss: 0.62, Validation Loss: 4.96, Training Accuracy: 0.82, Validation Accuracy: 0.11, Training MAE: 1.97, Validation MAE: 6.97\n",
      "Epoch [43/80], Training Loss: 0.57, Validation Loss: 4.99, Training Accuracy: 0.84, Validation Accuracy: 0.12, Training MAE: 1.93, Validation MAE: 6.59\n",
      "Epoch [44/80], Training Loss: 0.53, Validation Loss: 5.32, Training Accuracy: 0.85, Validation Accuracy: 0.10, Training MAE: 1.87, Validation MAE: 7.22\n",
      "Epoch [45/80], Training Loss: 0.48, Validation Loss: 5.56, Training Accuracy: 0.86, Validation Accuracy: 0.10, Training MAE: 1.83, Validation MAE: 6.92\n",
      "Epoch [46/80], Training Loss: 0.44, Validation Loss: 5.59, Training Accuracy: 0.88, Validation Accuracy: 0.11, Training MAE: 1.76, Validation MAE: 6.86\n",
      "Epoch [47/80], Training Loss: 0.40, Validation Loss: 5.66, Training Accuracy: 0.89, Validation Accuracy: 0.11, Training MAE: 1.73, Validation MAE: 6.85\n",
      "Epoch [48/80], Training Loss: 0.37, Validation Loss: 5.67, Training Accuracy: 0.90, Validation Accuracy: 0.11, Training MAE: 1.70, Validation MAE: 7.11\n",
      "Epoch [49/80], Training Loss: 0.34, Validation Loss: 5.88, Training Accuracy: 0.91, Validation Accuracy: 0.12, Training MAE: 1.65, Validation MAE: 6.79\n",
      "Epoch [50/80], Training Loss: 0.31, Validation Loss: 5.89, Training Accuracy: 0.92, Validation Accuracy: 0.11, Training MAE: 1.61, Validation MAE: 6.91\n",
      "Epoch [51/80], Training Loss: 0.28, Validation Loss: 6.73, Training Accuracy: 0.92, Validation Accuracy: 0.11, Training MAE: 1.58, Validation MAE: 7.40\n",
      "Epoch [52/80], Training Loss: 0.26, Validation Loss: 6.53, Training Accuracy: 0.93, Validation Accuracy: 0.10, Training MAE: 1.55, Validation MAE: 7.15\n",
      "Epoch [53/80], Training Loss: 0.23, Validation Loss: 6.50, Training Accuracy: 0.94, Validation Accuracy: 0.12, Training MAE: 1.51, Validation MAE: 6.79\n",
      "Epoch [54/80], Training Loss: 0.21, Validation Loss: 6.43, Training Accuracy: 0.94, Validation Accuracy: 0.11, Training MAE: 1.48, Validation MAE: 7.09\n",
      "Epoch [55/80], Training Loss: 0.20, Validation Loss: 6.43, Training Accuracy: 0.95, Validation Accuracy: 0.11, Training MAE: 1.46, Validation MAE: 7.15\n",
      "Epoch [56/80], Training Loss: 0.18, Validation Loss: 6.58, Training Accuracy: 0.95, Validation Accuracy: 0.12, Training MAE: 1.45, Validation MAE: 7.15\n",
      "Epoch [57/80], Training Loss: 0.17, Validation Loss: 7.05, Training Accuracy: 0.96, Validation Accuracy: 0.11, Training MAE: 1.42, Validation MAE: 7.27\n",
      "Epoch [58/80], Training Loss: 0.16, Validation Loss: 7.03, Training Accuracy: 0.96, Validation Accuracy: 0.13, Training MAE: 1.38, Validation MAE: 6.85\n",
      "Epoch [59/80], Training Loss: 0.15, Validation Loss: 7.13, Training Accuracy: 0.96, Validation Accuracy: 0.11, Training MAE: 1.38, Validation MAE: 7.04\n",
      "Epoch [60/80], Training Loss: 0.14, Validation Loss: 6.79, Training Accuracy: 0.97, Validation Accuracy: 0.12, Training MAE: 1.35, Validation MAE: 6.87\n",
      "Epoch [61/80], Training Loss: 0.13, Validation Loss: 7.17, Training Accuracy: 0.97, Validation Accuracy: 0.11, Training MAE: 1.33, Validation MAE: 6.99\n",
      "Epoch [62/80], Training Loss: 0.12, Validation Loss: 7.24, Training Accuracy: 0.97, Validation Accuracy: 0.13, Training MAE: 1.31, Validation MAE: 7.02\n",
      "Epoch [63/80], Training Loss: 0.11, Validation Loss: 8.00, Training Accuracy: 0.97, Validation Accuracy: 0.12, Training MAE: 1.30, Validation MAE: 7.65\n",
      "Epoch [64/80], Training Loss: 0.10, Validation Loss: 7.54, Training Accuracy: 0.98, Validation Accuracy: 0.11, Training MAE: 1.28, Validation MAE: 7.09\n",
      "Epoch [65/80], Training Loss: 0.10, Validation Loss: 7.42, Training Accuracy: 0.98, Validation Accuracy: 0.12, Training MAE: 1.28, Validation MAE: 7.20\n",
      "Epoch [66/80], Training Loss: 0.10, Validation Loss: 7.55, Training Accuracy: 0.98, Validation Accuracy: 0.11, Training MAE: 1.26, Validation MAE: 7.16\n",
      "Epoch [67/80], Training Loss: 0.09, Validation Loss: 7.54, Training Accuracy: 0.98, Validation Accuracy: 0.11, Training MAE: 1.25, Validation MAE: 7.15\n",
      "Epoch [68/80], Training Loss: 0.08, Validation Loss: 7.67, Training Accuracy: 0.98, Validation Accuracy: 0.11, Training MAE: 1.23, Validation MAE: 7.01\n",
      "Epoch [69/80], Training Loss: 0.08, Validation Loss: 7.50, Training Accuracy: 0.98, Validation Accuracy: 0.12, Training MAE: 1.24, Validation MAE: 7.11\n",
      "Epoch [70/80], Training Loss: 0.08, Validation Loss: 8.03, Training Accuracy: 0.98, Validation Accuracy: 0.11, Training MAE: 1.21, Validation MAE: 7.40\n",
      "Epoch [71/80], Training Loss: 0.07, Validation Loss: 7.68, Training Accuracy: 0.98, Validation Accuracy: 0.12, Training MAE: 1.21, Validation MAE: 7.12\n",
      "Epoch [72/80], Training Loss: 0.07, Validation Loss: 7.81, Training Accuracy: 0.98, Validation Accuracy: 0.12, Training MAE: 1.22, Validation MAE: 7.04\n",
      "Epoch [73/80], Training Loss: 0.07, Validation Loss: 7.98, Training Accuracy: 0.99, Validation Accuracy: 0.12, Training MAE: 1.19, Validation MAE: 7.19\n",
      "Epoch [74/80], Training Loss: 0.06, Validation Loss: 8.06, Training Accuracy: 0.99, Validation Accuracy: 0.11, Training MAE: 1.19, Validation MAE: 7.25\n",
      "Epoch [75/80], Training Loss: 0.06, Validation Loss: 8.18, Training Accuracy: 0.99, Validation Accuracy: 0.11, Training MAE: 1.19, Validation MAE: 7.28\n",
      "Epoch [76/80], Training Loss: 0.06, Validation Loss: 8.28, Training Accuracy: 0.99, Validation Accuracy: 0.12, Training MAE: 1.17, Validation MAE: 7.12\n",
      "Epoch [77/80], Training Loss: 0.06, Validation Loss: 8.21, Training Accuracy: 0.99, Validation Accuracy: 0.12, Training MAE: 1.18, Validation MAE: 7.15\n",
      "Epoch [78/80], Training Loss: 0.06, Validation Loss: 8.52, Training Accuracy: 0.99, Validation Accuracy: 0.12, Training MAE: 1.17, Validation MAE: 7.22\n",
      "Epoch [79/80], Training Loss: 0.06, Validation Loss: 8.21, Training Accuracy: 0.99, Validation Accuracy: 0.12, Training MAE: 1.17, Validation MAE: 7.10\n",
      "Epoch [80/80], Training Loss: 0.05, Validation Loss: 8.51, Training Accuracy: 0.99, Validation Accuracy: 0.12, Training MAE: 1.15, Validation MAE: 7.57\n",
      "Training time:  86.857975 minutes\n"
     ]
    }
   ],
   "source": [
    "history = train(model, optimizer, loss_fn, train_loader, val_loader, NR_EPOCHS, writer, device, './Project/class_imbalance/smote/smote_model_image_test_split')\n",
    "writer.close()"
   ]
  },
  {
   "cell_type": "markdown",
   "metadata": {},
   "source": [
    "## Training Histories"
   ]
  },
  {
   "cell_type": "code",
   "execution_count": 12,
   "metadata": {},
   "outputs": [],
   "source": [
    "def plot_history(history, path_name):\n",
    "    # loss\n",
    "    loss_train = history['loss']\n",
    "    loss_val = history['val_loss']\n",
    "    epochs = range(NR_EPOCHS)\n",
    "    plt.plot(epochs, loss_train, 'g', label='Training loss')\n",
    "    plt.plot(epochs, loss_val, 'b', label='Validation loss')\n",
    "    plt.title('Training and validation loss')\n",
    "    plt.xlabel('Epochs')\n",
    "    plt.ylabel('Loss')\n",
    "    plt.legend()\n",
    "    plt.savefig(path_name + '_loss.png', bbox_inches='tight')\n",
    "    plt.show()\n",
    "    \n",
    "\n",
    "    # mae\n",
    "    accuracy_train = history['mae']\n",
    "    accuracy_val = history['val_mae']\n",
    "    epochs = range(NR_EPOCHS)\n",
    "    plt.plot(epochs, accuracy_train, 'g', label='Training MAE')\n",
    "    plt.plot(epochs, accuracy_val, 'b', label='Validation MAE')\n",
    "    plt.title('Training and validation MAE')\n",
    "    plt.xlabel('Epochs')\n",
    "    plt.ylabel('Accuracy')\n",
    "    plt.legend()\n",
    "    plt.savefig(path_name + '_mae.png', bbox_inches='tight')\n",
    "    plt.show()\n",
    "    "
   ]
  },
  {
   "cell_type": "markdown",
   "metadata": {},
   "source": [
    "### History of normal model"
   ]
  },
  {
   "cell_type": "code",
   "execution_count": 13,
   "metadata": {},
   "outputs": [
    {
     "data": {
      "image/png": "[encoded data removed]",
      "text/plain": [
       "<Figure size 640x480 with 1 Axes>"
      ]
     },
     "metadata": {},
     "output_type": "display_data"
    },
    {
     "data": {
      "image/png": "[encoded data removed]",
      "text/plain": [
       "<Figure size 640x480 with 1 Axes>"
      ]
     },
     "metadata": {},
     "output_type": "display_data"
    }
   ],
   "source": [
    "plot_history(history, './Project/class_imbalance/smote/smote_images_test_split')"
   ]
  },
  {
   "cell_type": "markdown",
   "metadata": {},
   "source": [
    "## Test models"
   ]
  },
  {
   "cell_type": "code",
   "execution_count": 14,
   "metadata": {},
   "outputs": [],
   "source": [
    "def test(model, test_loader, loss_fn ,name):\n",
    "    test_loss = 0\n",
    "    test_correct = 0\n",
    "    test_total = 0\n",
    "    total_test_mae = 0\n",
    "    \n",
    "    # create cuda events for timetracking\n",
    "    start = torch.cuda.Event(enable_timing=True)\n",
    "    end = torch.cuda.Event(enable_timing=True)\n",
    "\n",
    "    start.record()\n",
    "    with torch.no_grad():\n",
    "        for inputs, labels in test_loader:\n",
    "            # shift labels from 1-116 to 0-115 for loss\n",
    "            labels_model = labels - 1\n",
    "            inputs, labels_model = inputs.to(device), labels_model.to(device)\n",
    "            labels = labels.to(device)\n",
    "            outputs = model(inputs)\n",
    "            loss = loss_fn(outputs, labels_model)\n",
    "\n",
    "            test_loss += loss.item()\n",
    "            _, predicted = outputs.max(1)\n",
    "            predicted = predicted + 1\n",
    "            test_total += labels.size(0)\n",
    "            test_correct += predicted.eq(labels).sum().item()\n",
    "\n",
    "            probabilities = F.softmax(outputs, dim=1)\n",
    "            expected_age = torch.sum(probabilities * age_classes, dim=1) + 1\n",
    "            total_test_mae += torch.abs(expected_age - labels.float()).sum().item()   \n",
    "\n",
    "    end.record()\n",
    "    torch.cuda.synchronize()\n",
    "    test_loss = test_loss / len(test_loader)\n",
    "    test_accuracy = test_correct / test_total\n",
    "    test_mae = total_test_mae / test_total\n",
    "\n",
    "    print(f'Model: {name},  Test Loss: {test_loss:.2f}, Test Accuracy: {test_accuracy:.2f}, Test MAE: {test_mae:.2f}')\n",
    "    print(f'Time:  {round(start.elapsed_time(end), 1) / 1000} seconds')"
   ]
  },
  {
   "cell_type": "code",
   "execution_count": 15,
   "metadata": {},
   "outputs": [],
   "source": [
    "### Benchmarks"
   ]
  },
  {
   "cell_type": "code",
   "execution_count": 16,
   "metadata": {},
   "outputs": [
    {
     "name": "stdout",
     "output_type": "stream",
     "text": [
      "Model: SMOTE images model,  Test Loss: 4.72, Test Accuracy: 0.09, Test MAE: 10.21\n",
      "Time:  2.8798000000000004 seconds\n"
     ]
    }
   ],
   "source": [
    "# load models\n",
    "model_normal = CNNNet(NUM_CLASSES)\n",
    "model_normal.load_state_dict(torch.load('./Project/class_imbalance/smote/smote_model_image_test_split'))\n",
    "\n",
    "test(model_normal.to(device), test_loader, loss_fn, 'SMOTE images model')"
   ]
  }
 ],
 "metadata": {
  "kaggle": {
   "accelerator": "gpu",
   "dataSources": [
    {
     "datasetId": 44109,
     "sourceId": 78156,
     "sourceType": "datasetVersion"
    }
   ],
   "dockerImageVersionId": 30302,
   "isGpuEnabled": true,
   "isInternetEnabled": true,
   "language": "python",
   "sourceType": "notebook"
  },
  "kernelspec": {
   "display_name": "Python 3 (ipykernel)",
   "language": "python",
   "name": "python3"
  },
  "language_info": {
   "codemirror_mode": {
    "name": "ipython",
    "version": 3
   },
   "file_extension": ".py",
   "mimetype": "text/x-python",
   "name": "python",
   "nbconvert_exporter": "python",
   "pygments_lexer": "ipython3",
   "version": "3.12.6"
  }
 },
 "nbformat": 4,
 "nbformat_minor": 4
}
